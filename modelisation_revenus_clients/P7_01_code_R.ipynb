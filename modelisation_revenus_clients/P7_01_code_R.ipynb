{
 "cells": [
  {
   "cell_type": "markdown",
   "metadata": {},
   "source": [
    "# PROJET 7 : Effectuez une prédiction de revenu / CODE en R "
   ]
  },
  {
   "cell_type": "markdown",
   "metadata": {},
   "source": [
    "## Import des données"
   ]
  },
  {
   "cell_type": "code",
   "execution_count": 1,
   "metadata": {},
   "outputs": [
    {
     "name": "stderr",
     "output_type": "stream",
     "text": [
      "Registered S3 methods overwritten by 'ggplot2':\n",
      "  method         from \n",
      "  [.quosures     rlang\n",
      "  c.quosures     rlang\n",
      "  print.quosures rlang\n",
      "Registered S3 method overwritten by 'rvest':\n",
      "  method            from\n",
      "  read_xml.response xml2\n",
      "-- Attaching packages --------------------------------------- tidyverse 1.2.1 --\n",
      "v tibble  2.1.1       v dplyr   0.8.0.1\n",
      "v readr   1.3.1       v stringr 1.4.0  \n",
      "v purrr   0.3.2       v forcats 0.4.0  \n",
      "-- Conflicts ------------------------------------------ tidyverse_conflicts() --\n",
      "x dplyr::filter() masks stats::filter()\n",
      "x dplyr::lag()    masks stats::lag()\n",
      "\n",
      "Attaching package: 'reshape2'\n",
      "\n",
      "The following object is masked from 'package:tidyr':\n",
      "\n",
      "    smiths\n",
      "\n",
      "\n",
      "Attaching package: 'zoo'\n",
      "\n",
      "The following objects are masked from 'package:base':\n",
      "\n",
      "    as.Date, as.Date.numeric\n",
      "\n"
     ]
    }
   ],
   "source": [
    "#import librairies\n",
    "\n",
    "library(ggplot2)\n",
    "options(repr.plot.width=6, repr.plot.height=4)\n",
    "\n",
    "library(tidyr)\n",
    "library(tidyverse)\n",
    "library(dplyr)\n",
    "library(zoo)\n",
    "library(ineq)"
   ]
  },
  {
   "cell_type": "code",
   "execution_count": 2,
   "metadata": {},
   "outputs": [],
   "source": [
    "#import data World Income Distribution\n",
    "data_0 <- read.table(\"data-projet7.csv\", sep=\",\", header=TRUE, dec = ',')\n",
    "\n",
    "#import des indices de Gini, World Bank\n",
    "indices_gini <- read.table(\"indices_gini.csv\", sep=\",\", header=TRUE, skip = 4)\n",
    "\n",
    "#import des populations par pays, World Bank\n",
    "population <- read.table(\"population.csv\", sep=\",\", header=TRUE, skip = 4)"
   ]
  },
  {
   "cell_type": "markdown",
   "metadata": {},
   "source": [
    "### Nettoyage et traitement des données"
   ]
  },
  {
   "cell_type": "code",
   "execution_count": 3,
   "metadata": {},
   "outputs": [
    {
     "data": {
      "text/html": [
       "<table>\n",
       "<thead><tr><th></th><th scope=col>country</th><th scope=col>year_survey</th><th scope=col>nb_quantiles</th><th scope=col>gdpppp</th><th scope=col>1</th><th scope=col>2</th><th scope=col>3</th><th scope=col>4</th><th scope=col>5</th><th scope=col>6</th><th scope=col>...</th><th scope=col>91</th><th scope=col>92</th><th scope=col>93</th><th scope=col>94</th><th scope=col>95</th><th scope=col>96</th><th scope=col>97</th><th scope=col>98</th><th scope=col>99</th><th scope=col>100</th></tr></thead>\n",
       "<tbody>\n",
       "\t<tr><th scope=row>1</th><td>ALB      </td><td>2008     </td><td>100      </td><td> 7297    </td><td> 728.8980</td><td> 916.6623</td><td>1010.9160</td><td>1086.9078</td><td>1132.6997</td><td>1171.1412</td><td>...      </td><td> 4965.685</td><td> 5144.883</td><td> 5348.793</td><td> 5619.445</td><td> 5860.917</td><td> 6231.100</td><td> 6822.318</td><td> 7775.891</td><td> 9351.751</td><td>17754.324</td></tr>\n",
       "\t<tr><th scope=row>101</th><td>ARG      </td><td>2008     </td><td>100      </td><td>13220    </td><td> 254.0894</td><td> 470.5015</td><td> 623.4542</td><td> 734.9746</td><td> 832.3185</td><td> 918.4080</td><td>...      </td><td>12110.668</td><td>12821.353</td><td>13450.862</td><td>14296.399</td><td>15406.059</td><td>16618.873</td><td>18226.730</td><td>20528.305</td><td>24444.950</td><td>43669.242</td></tr>\n",
       "\t<tr><th scope=row>201</th><td>ARM      </td><td>2008     </td><td>100      </td><td> 5611    </td><td> 366.6178</td><td> 535.3273</td><td> 611.6456</td><td> 658.3394</td><td> 690.8471</td><td> 721.9100</td><td>...      </td><td> 2653.580</td><td> 2738.507</td><td> 2832.991</td><td> 2932.561</td><td> 3062.856</td><td> 3229.554</td><td> 3466.665</td><td> 3758.602</td><td> 4320.290</td><td> 6566.159</td></tr>\n",
       "\t<tr><th scope=row>301</th><td>AUT      </td><td>2008     </td><td>100      </td><td>36193    </td><td>2958.0764</td><td>4893.4673</td><td>5459.6490</td><td>5923.5854</td><td>6380.2780</td><td>6779.2646</td><td>...      </td><td>27365.670</td><td>28057.947</td><td>29231.506</td><td>30725.930</td><td>32304.807</td><td>33914.105</td><td>36080.902</td><td>39450.555</td><td>44950.312</td><td>72216.680</td></tr>\n",
       "\t<tr><th scope=row>401</th><td>AZE      </td><td>2008     </td><td>100      </td><td> 8101    </td><td> 397.5398</td><td> 597.7732</td><td> 705.4700</td><td> 785.5261</td><td> 841.7524</td><td> 889.2646</td><td>...      </td><td> 4126.079</td><td> 4296.922</td><td> 4450.074</td><td> 4641.496</td><td> 4917.442</td><td> 5283.547</td><td> 5802.638</td><td> 6366.059</td><td> 7459.711</td><td>12023.727</td></tr>\n",
       "\t<tr><th scope=row>501</th><td>BEL      </td><td>2008     </td><td>100      </td><td>33561    </td><td>2421.9417</td><td>3812.5588</td><td>4534.7540</td><td>5019.0020</td><td>5442.7627</td><td>5789.4575</td><td>...      </td><td>24380.990</td><td>25058.873</td><td>25735.262</td><td>26490.363</td><td>27972.418</td><td>29376.928</td><td>31054.926</td><td>34044.560</td><td>39844.758</td><td>83104.470</td></tr>\n",
       "</tbody>\n",
       "</table>\n"
      ],
      "text/latex": [
       "\\begin{tabular}{r|llllllllllllllllllllllllllllllllllllllllllllllllllllllllllllllllllllllllllllllllllllllllllllllllllllllll}\n",
       "  & country & year\\_survey & nb\\_quantiles & gdpppp & 1 & 2 & 3 & 4 & 5 & 6 & ... & 91 & 92 & 93 & 94 & 95 & 96 & 97 & 98 & 99 & 100\\\\\n",
       "\\hline\n",
       "\t1 & ALB       & 2008      & 100       &  7297     &  728.8980 &  916.6623 & 1010.9160 & 1086.9078 & 1132.6997 & 1171.1412 & ...       &  4965.685 &  5144.883 &  5348.793 &  5619.445 &  5860.917 &  6231.100 &  6822.318 &  7775.891 &  9351.751 & 17754.324\\\\\n",
       "\t101 & ARG       & 2008      & 100       & 13220     &  254.0894 &  470.5015 &  623.4542 &  734.9746 &  832.3185 &  918.4080 & ...       & 12110.668 & 12821.353 & 13450.862 & 14296.399 & 15406.059 & 16618.873 & 18226.730 & 20528.305 & 24444.950 & 43669.242\\\\\n",
       "\t201 & ARM       & 2008      & 100       &  5611     &  366.6178 &  535.3273 &  611.6456 &  658.3394 &  690.8471 &  721.9100 & ...       &  2653.580 &  2738.507 &  2832.991 &  2932.561 &  3062.856 &  3229.554 &  3466.665 &  3758.602 &  4320.290 &  6566.159\\\\\n",
       "\t301 & AUT       & 2008      & 100       & 36193     & 2958.0764 & 4893.4673 & 5459.6490 & 5923.5854 & 6380.2780 & 6779.2646 & ...       & 27365.670 & 28057.947 & 29231.506 & 30725.930 & 32304.807 & 33914.105 & 36080.902 & 39450.555 & 44950.312 & 72216.680\\\\\n",
       "\t401 & AZE       & 2008      & 100       &  8101     &  397.5398 &  597.7732 &  705.4700 &  785.5261 &  841.7524 &  889.2646 & ...       &  4126.079 &  4296.922 &  4450.074 &  4641.496 &  4917.442 &  5283.547 &  5802.638 &  6366.059 &  7459.711 & 12023.727\\\\\n",
       "\t501 & BEL       & 2008      & 100       & 33561     & 2421.9417 & 3812.5588 & 4534.7540 & 5019.0020 & 5442.7627 & 5789.4575 & ...       & 24380.990 & 25058.873 & 25735.262 & 26490.363 & 27972.418 & 29376.928 & 31054.926 & 34044.560 & 39844.758 & 83104.470\\\\\n",
       "\\end{tabular}\n"
      ],
      "text/markdown": [
       "\n",
       "| <!--/--> | country | year_survey | nb_quantiles | gdpppp | 1 | 2 | 3 | 4 | 5 | 6 | ... | 91 | 92 | 93 | 94 | 95 | 96 | 97 | 98 | 99 | 100 |\n",
       "|---|---|---|---|---|---|---|---|---|---|---|---|---|---|---|---|---|---|---|---|---|---|\n",
       "| 1 | ALB       | 2008      | 100       |  7297     |  728.8980 |  916.6623 | 1010.9160 | 1086.9078 | 1132.6997 | 1171.1412 | ...       |  4965.685 |  5144.883 |  5348.793 |  5619.445 |  5860.917 |  6231.100 |  6822.318 |  7775.891 |  9351.751 | 17754.324 |\n",
       "| 101 | ARG       | 2008      | 100       | 13220     |  254.0894 |  470.5015 |  623.4542 |  734.9746 |  832.3185 |  918.4080 | ...       | 12110.668 | 12821.353 | 13450.862 | 14296.399 | 15406.059 | 16618.873 | 18226.730 | 20528.305 | 24444.950 | 43669.242 |\n",
       "| 201 | ARM       | 2008      | 100       |  5611     |  366.6178 |  535.3273 |  611.6456 |  658.3394 |  690.8471 |  721.9100 | ...       |  2653.580 |  2738.507 |  2832.991 |  2932.561 |  3062.856 |  3229.554 |  3466.665 |  3758.602 |  4320.290 |  6566.159 |\n",
       "| 301 | AUT       | 2008      | 100       | 36193     | 2958.0764 | 4893.4673 | 5459.6490 | 5923.5854 | 6380.2780 | 6779.2646 | ...       | 27365.670 | 28057.947 | 29231.506 | 30725.930 | 32304.807 | 33914.105 | 36080.902 | 39450.555 | 44950.312 | 72216.680 |\n",
       "| 401 | AZE       | 2008      | 100       |  8101     |  397.5398 |  597.7732 |  705.4700 |  785.5261 |  841.7524 |  889.2646 | ...       |  4126.079 |  4296.922 |  4450.074 |  4641.496 |  4917.442 |  5283.547 |  5802.638 |  6366.059 |  7459.711 | 12023.727 |\n",
       "| 501 | BEL       | 2008      | 100       | 33561     | 2421.9417 | 3812.5588 | 4534.7540 | 5019.0020 | 5442.7627 | 5789.4575 | ...       | 24380.990 | 25058.873 | 25735.262 | 26490.363 | 27972.418 | 29376.928 | 31054.926 | 34044.560 | 39844.758 | 83104.470 |\n",
       "\n"
      ],
      "text/plain": [
       "    country year_survey nb_quantiles gdpppp 1         2         3        \n",
       "1   ALB     2008        100           7297   728.8980  916.6623 1010.9160\n",
       "101 ARG     2008        100          13220   254.0894  470.5015  623.4542\n",
       "201 ARM     2008        100           5611   366.6178  535.3273  611.6456\n",
       "301 AUT     2008        100          36193  2958.0764 4893.4673 5459.6490\n",
       "401 AZE     2008        100           8101   397.5398  597.7732  705.4700\n",
       "501 BEL     2008        100          33561  2421.9417 3812.5588 4534.7540\n",
       "    4         5         6         ... 91        92        93        94       \n",
       "1   1086.9078 1132.6997 1171.1412 ...  4965.685  5144.883  5348.793  5619.445\n",
       "101  734.9746  832.3185  918.4080 ... 12110.668 12821.353 13450.862 14296.399\n",
       "201  658.3394  690.8471  721.9100 ...  2653.580  2738.507  2832.991  2932.561\n",
       "301 5923.5854 6380.2780 6779.2646 ... 27365.670 28057.947 29231.506 30725.930\n",
       "401  785.5261  841.7524  889.2646 ...  4126.079  4296.922  4450.074  4641.496\n",
       "501 5019.0020 5442.7627 5789.4575 ... 24380.990 25058.873 25735.262 26490.363\n",
       "    95        96        97        98        99        100      \n",
       "1    5860.917  6231.100  6822.318  7775.891  9351.751 17754.324\n",
       "101 15406.059 16618.873 18226.730 20528.305 24444.950 43669.242\n",
       "201  3062.856  3229.554  3466.665  3758.602  4320.290  6566.159\n",
       "301 32304.807 33914.105 36080.902 39450.555 44950.312 72216.680\n",
       "401  4917.442  5283.547  5802.638  6366.059  7459.711 12023.727\n",
       "501 27972.418 29376.928 31054.926 34044.560 39844.758 83104.470"
      ]
     },
     "metadata": {},
     "output_type": "display_data"
    }
   ],
   "source": [
    "#on reshape le df data pour avoir une ligne par pays et les quantiles en colonnes\n",
    "data = merge(select(data_0, country, year_survey, nb_quantiles, gdpppp),\n",
    "              dcast(data_0, country ~ quantile, value.var=\"income\"),\n",
    "              by.x=\"country\", by.y=\"country\")\n",
    "data = data[!duplicated(data), ]\n",
    "head(data)"
   ]
  },
  {
   "cell_type": "code",
   "execution_count": 4,
   "metadata": {},
   "outputs": [
    {
     "data": {
      "text/plain": [
       "    country       year_survey      quantile      nb_quantiles\n",
       " ALB    :  100   Min.   :2004   Min.   :  1.0   Min.   :100  \n",
       " ARG    :  100   1st Qu.:2008   1st Qu.: 25.5   1st Qu.:100  \n",
       " ARM    :  100   Median :2008   Median : 51.0   Median :100  \n",
       " AUT    :  100   Mean   :2008   Mean   : 50.5   Mean   :100  \n",
       " AZE    :  100   3rd Qu.:2008   3rd Qu.: 75.5   3rd Qu.:100  \n",
       " BEL    :  100   Max.   :2011   Max.   :100.0   Max.   :100  \n",
       " (Other):10999                                               \n",
       "     income              gdpppp       \n",
       " Min.   :    16.72   Min.   :    303  \n",
       " 1st Qu.:   900.69   1st Qu.:   2576  \n",
       " Median :  2403.24   Median :   7560  \n",
       " Mean   :  6069.22   Mean   :  50221  \n",
       " 3rd Qu.:  7515.42   3rd Qu.:  18773  \n",
       " Max.   :176928.55   Max.   :4300332  \n",
       "                     NA's   :200      "
      ]
     },
     "metadata": {},
     "output_type": "display_data"
    }
   ],
   "source": [
    "#on regarde le summary des données pour repérer les valeurs manquantes ou aberrantes\n",
    "summary(data_0)"
   ]
  },
  {
   "cell_type": "code",
   "execution_count": 5,
   "metadata": {},
   "outputs": [
    {
     "data": {
      "text/html": [
       "<table>\n",
       "<thead><tr><th></th><th scope=col>country</th><th scope=col>year_survey</th><th scope=col>nb_quantiles</th><th scope=col>gdpppp</th><th scope=col>1</th><th scope=col>2</th><th scope=col>3</th><th scope=col>4</th><th scope=col>5</th><th scope=col>6</th><th scope=col>...</th><th scope=col>91</th><th scope=col>92</th><th scope=col>93</th><th scope=col>94</th><th scope=col>95</th><th scope=col>96</th><th scope=col>97</th><th scope=col>98</th><th scope=col>99</th><th scope=col>100</th></tr></thead>\n",
       "<tbody>\n",
       "\t<tr><th scope=row>6201</th><td>LTU      </td><td>2008     </td><td>100      </td><td>17571    </td><td>566.3453 </td><td>1147.0587</td><td>1490.8408</td><td>1746.5715</td><td>1842.9542</td><td>1925.8641</td><td>...      </td><td>11553.607</td><td>12073.023</td><td>12520.692</td><td>13091.254</td><td>13752.734</td><td>14597.036</td><td>15659.008</td><td>17883.877</td><td>22551.170</td><td>38836.530</td></tr>\n",
       "\t<tr><th scope=row>9000</th><td>PSE      </td><td>2009     </td><td>100      </td><td>   NA    </td><td>195.2899 </td><td> 264.3653</td><td> 301.4467</td><td> 329.8339</td><td> 348.7649</td><td> 366.7108</td><td>...      </td><td> 2078.602</td><td> 2170.692</td><td> 2267.392</td><td> 2409.633</td><td> 2568.689</td><td> 2763.885</td><td> 3077.833</td><td> 3449.222</td><td> 4165.997</td><td> 6343.876</td></tr>\n",
       "\t<tr><th scope=row>11300</th><td>XKX      </td><td>2008     </td><td>100      </td><td>   NA    </td><td>437.8937 </td><td> 508.1713</td><td> 591.8282</td><td> 668.0000</td><td> 730.4022</td><td> 763.9098</td><td>...      </td><td> 3919.950</td><td> 4119.839</td><td> 4319.009</td><td> 4500.839</td><td> 4749.424</td><td> 5155.365</td><td> 5689.529</td><td> 6233.739</td><td> 7366.677</td><td> 7609.576</td></tr>\n",
       "</tbody>\n",
       "</table>\n"
      ],
      "text/latex": [
       "\\begin{tabular}{r|llllllllllllllllllllllllllllllllllllllllllllllllllllllllllllllllllllllllllllllllllllllllllllllllllllllll}\n",
       "  & country & year\\_survey & nb\\_quantiles & gdpppp & 1 & 2 & 3 & 4 & 5 & 6 & ... & 91 & 92 & 93 & 94 & 95 & 96 & 97 & 98 & 99 & 100\\\\\n",
       "\\hline\n",
       "\t6201 & LTU       & 2008      & 100       & 17571     & 566.3453  & 1147.0587 & 1490.8408 & 1746.5715 & 1842.9542 & 1925.8641 & ...       & 11553.607 & 12073.023 & 12520.692 & 13091.254 & 13752.734 & 14597.036 & 15659.008 & 17883.877 & 22551.170 & 38836.530\\\\\n",
       "\t9000 & PSE       & 2009      & 100       &    NA     & 195.2899  &  264.3653 &  301.4467 &  329.8339 &  348.7649 &  366.7108 & ...       &  2078.602 &  2170.692 &  2267.392 &  2409.633 &  2568.689 &  2763.885 &  3077.833 &  3449.222 &  4165.997 &  6343.876\\\\\n",
       "\t11300 & XKX       & 2008      & 100       &    NA     & 437.8937  &  508.1713 &  591.8282 &  668.0000 &  730.4022 &  763.9098 & ...       &  3919.950 &  4119.839 &  4319.009 &  4500.839 &  4749.424 &  5155.365 &  5689.529 &  6233.739 &  7366.677 &  7609.576\\\\\n",
       "\\end{tabular}\n"
      ],
      "text/markdown": [
       "\n",
       "| <!--/--> | country | year_survey | nb_quantiles | gdpppp | 1 | 2 | 3 | 4 | 5 | 6 | ... | 91 | 92 | 93 | 94 | 95 | 96 | 97 | 98 | 99 | 100 |\n",
       "|---|---|---|---|---|---|---|---|---|---|---|---|---|---|---|---|---|---|---|---|---|---|\n",
       "| 6201 | LTU       | 2008      | 100       | 17571     | 566.3453  | 1147.0587 | 1490.8408 | 1746.5715 | 1842.9542 | 1925.8641 | ...       | 11553.607 | 12073.023 | 12520.692 | 13091.254 | 13752.734 | 14597.036 | 15659.008 | 17883.877 | 22551.170 | 38836.530 |\n",
       "| 9000 | PSE       | 2009      | 100       |    NA     | 195.2899  |  264.3653 |  301.4467 |  329.8339 |  348.7649 |  366.7108 | ...       |  2078.602 |  2170.692 |  2267.392 |  2409.633 |  2568.689 |  2763.885 |  3077.833 |  3449.222 |  4165.997 |  6343.876 |\n",
       "| 11300 | XKX       | 2008      | 100       |    NA     | 437.8937  |  508.1713 |  591.8282 |  668.0000 |  730.4022 |  763.9098 | ...       |  3919.950 |  4119.839 |  4319.009 |  4500.839 |  4749.424 |  5155.365 |  5689.529 |  6233.739 |  7366.677 |  7609.576 |\n",
       "\n"
      ],
      "text/plain": [
       "      country year_survey nb_quantiles gdpppp 1        2         3        \n",
       "6201  LTU     2008        100          17571  566.3453 1147.0587 1490.8408\n",
       "9000  PSE     2009        100             NA  195.2899  264.3653  301.4467\n",
       "11300 XKX     2008        100             NA  437.8937  508.1713  591.8282\n",
       "      4         5         6         ... 91        92        93        94       \n",
       "6201  1746.5715 1842.9542 1925.8641 ... 11553.607 12073.023 12520.692 13091.254\n",
       "9000   329.8339  348.7649  366.7108 ...  2078.602  2170.692  2267.392  2409.633\n",
       "11300  668.0000  730.4022  763.9098 ...  3919.950  4119.839  4319.009  4500.839\n",
       "      95        96        97        98        99        100      \n",
       "6201  13752.734 14597.036 15659.008 17883.877 22551.170 38836.530\n",
       "9000   2568.689  2763.885  3077.833  3449.222  4165.997  6343.876\n",
       "11300  4749.424  5155.365  5689.529  6233.739  7366.677  7609.576"
      ]
     },
     "metadata": {},
     "output_type": "display_data"
    }
   ],
   "source": [
    "#on repère les valeurs manquantes\n",
    "data[rowSums(is.na(data)) > 0,]"
   ]
  },
  {
   "cell_type": "code",
   "execution_count": 6,
   "metadata": {},
   "outputs": [],
   "source": [
    "#on ajoute manuellement les valeurs gdp ppp pour la palestine et le kosovo. Sources : World Bank \n",
    "#XKX : 3255 (2008)\n",
    "#PSE : 1858 (2008)\n",
    "\n",
    "data[data$country == 'PSE', 'gdpppp'] <- 1858\n",
    "data[data$country == 'PSE', 'year_survey'] <- 2008\n",
    "data[data$country == 'XKX', 'gdpppp'] <- 3255"
   ]
  },
  {
   "cell_type": "code",
   "execution_count": 7,
   "metadata": {},
   "outputs": [
    {
     "data": {
      "text/html": [
       "45"
      ],
      "text/latex": [
       "45"
      ],
      "text/markdown": [
       "45"
      ],
      "text/plain": [
       "[1] 45"
      ]
     },
     "metadata": {},
     "output_type": "display_data"
    }
   ],
   "source": [
    "# recherche valeur manquante pour LTU\n",
    "which(is.na(data[rowSums(is.na(data)) > 0,])) #on repère la colonne où se trouve le NA"
   ]
  },
  {
   "cell_type": "code",
   "execution_count": 8,
   "metadata": {},
   "outputs": [
    {
     "data": {
      "text/html": [
       "<table>\n",
       "<thead><tr><th></th><th scope=col>40</th><th scope=col>41</th><th scope=col>42</th></tr></thead>\n",
       "<tbody>\n",
       "\t<tr><th scope=row>6201</th><td>4868.451</td><td>NA      </td><td>4895.831</td></tr>\n",
       "</tbody>\n",
       "</table>\n"
      ],
      "text/latex": [
       "\\begin{tabular}{r|lll}\n",
       "  & 40 & 41 & 42\\\\\n",
       "\\hline\n",
       "\t6201 & 4868.451 & NA       & 4895.831\\\\\n",
       "\\end{tabular}\n"
      ],
      "text/markdown": [
       "\n",
       "| <!--/--> | 40 | 41 | 42 |\n",
       "|---|---|---|---|\n",
       "| 6201 | 4868.451 | NA       | 4895.831 |\n",
       "\n"
      ],
      "text/plain": [
       "     40       41 42      \n",
       "6201 4868.451 NA 4895.831"
      ]
     },
     "metadata": {},
     "output_type": "display_data"
    }
   ],
   "source": [
    "#affichage du NA\n",
    "data[data$country == 'LTU', 44:46]"
   ]
  },
  {
   "cell_type": "markdown",
   "metadata": {},
   "source": [
    "- Pour imputer la valeur du quantile manquant, on se base sur les autres pays en calculant la distance moyenne du 41ème quantile entre le 40ème et le 42ème quantile :"
   ]
  },
  {
   "cell_type": "code",
   "execution_count": 9,
   "metadata": {},
   "outputs": [
    {
     "data": {
      "text/html": [
       "<table>\n",
       "<thead><tr><th></th><th scope=col>40</th><th scope=col>41</th><th scope=col>42</th></tr></thead>\n",
       "<tbody>\n",
       "\t<tr><th scope=row>6201</th><td>4868.451</td><td>4881.698</td><td>4895.831</td></tr>\n",
       "</tbody>\n",
       "</table>\n"
      ],
      "text/latex": [
       "\\begin{tabular}{r|lll}\n",
       "  & 40 & 41 & 42\\\\\n",
       "\\hline\n",
       "\t6201 & 4868.451 & 4881.698 & 4895.831\\\\\n",
       "\\end{tabular}\n"
      ],
      "text/markdown": [
       "\n",
       "| <!--/--> | 40 | 41 | 42 |\n",
       "|---|---|---|---|\n",
       "| 6201 | 4868.451 | 4881.698 | 4895.831 |\n",
       "\n"
      ],
      "text/plain": [
       "     40       41       42      \n",
       "6201 4868.451 4881.698 4895.831"
      ]
     },
     "metadata": {},
     "output_type": "display_data"
    }
   ],
   "source": [
    "df1 <- data[data$country != 'LTU',44:46]\n",
    "a <- df1['41'] - df1['40'] # écart entre le 40ème quantile et le 41ème\n",
    "b <- df1['42'] - df1['40'] # écart entre le 40ème quantile et le 42ème\n",
    "c <- a/b\n",
    "dist_quant <- mean(c[,1]) #distance moyenne du 41ème quantile\n",
    "\n",
    "#on applique ce rapport pour LTU\n",
    "data[data$country == 'LTU', 45] <- data[data$country == 'LTU', 44] +\n",
    "                                ((data[data$country == 'LTU', 46] - data[data$country == 'LTU', 44]) * dist_quant)\n",
    "data[data$country == 'LTU', 44:46]"
   ]
  },
  {
   "cell_type": "code",
   "execution_count": 10,
   "metadata": {},
   "outputs": [
    {
     "data": {
      "text/html": [
       "<ol class=list-inline>\n",
       "\t<li>FALSE</li>\n",
       "\t<li>FALSE</li>\n",
       "\t<li>FALSE</li>\n",
       "\t<li>FALSE</li>\n",
       "\t<li>FALSE</li>\n",
       "\t<li>FALSE</li>\n",
       "\t<li>FALSE</li>\n",
       "\t<li>FALSE</li>\n",
       "\t<li>FALSE</li>\n",
       "\t<li>FALSE</li>\n",
       "\t<li>FALSE</li>\n",
       "\t<li>FALSE</li>\n",
       "\t<li>FALSE</li>\n",
       "\t<li>FALSE</li>\n",
       "\t<li>FALSE</li>\n",
       "\t<li>FALSE</li>\n",
       "\t<li>FALSE</li>\n",
       "\t<li>FALSE</li>\n",
       "\t<li>FALSE</li>\n",
       "\t<li>FALSE</li>\n",
       "\t<li>FALSE</li>\n",
       "\t<li>FALSE</li>\n",
       "\t<li>FALSE</li>\n",
       "\t<li>FALSE</li>\n",
       "\t<li>FALSE</li>\n",
       "\t<li>FALSE</li>\n",
       "\t<li>FALSE</li>\n",
       "\t<li>FALSE</li>\n",
       "\t<li>FALSE</li>\n",
       "\t<li>FALSE</li>\n",
       "\t<li>FALSE</li>\n",
       "\t<li>FALSE</li>\n",
       "\t<li>FALSE</li>\n",
       "\t<li>FALSE</li>\n",
       "\t<li>FALSE</li>\n",
       "\t<li>FALSE</li>\n",
       "\t<li>FALSE</li>\n",
       "\t<li>FALSE</li>\n",
       "\t<li>FALSE</li>\n",
       "\t<li>FALSE</li>\n",
       "\t<li>FALSE</li>\n",
       "\t<li>FALSE</li>\n",
       "\t<li>FALSE</li>\n",
       "\t<li>FALSE</li>\n",
       "\t<li>FALSE</li>\n",
       "\t<li>FALSE</li>\n",
       "\t<li>FALSE</li>\n",
       "\t<li>FALSE</li>\n",
       "\t<li>FALSE</li>\n",
       "\t<li>FALSE</li>\n",
       "\t<li>FALSE</li>\n",
       "\t<li>FALSE</li>\n",
       "\t<li>FALSE</li>\n",
       "\t<li>FALSE</li>\n",
       "\t<li>FALSE</li>\n",
       "\t<li>FALSE</li>\n",
       "\t<li>FALSE</li>\n",
       "\t<li>FALSE</li>\n",
       "\t<li>FALSE</li>\n",
       "\t<li>FALSE</li>\n",
       "\t<li>FALSE</li>\n",
       "\t<li>FALSE</li>\n",
       "\t<li>FALSE</li>\n",
       "\t<li>FALSE</li>\n",
       "\t<li>FALSE</li>\n",
       "\t<li>FALSE</li>\n",
       "\t<li>FALSE</li>\n",
       "\t<li>FALSE</li>\n",
       "\t<li>FALSE</li>\n",
       "\t<li>FALSE</li>\n",
       "\t<li>FALSE</li>\n",
       "\t<li>FALSE</li>\n",
       "\t<li>FALSE</li>\n",
       "\t<li>FALSE</li>\n",
       "\t<li>FALSE</li>\n",
       "\t<li>FALSE</li>\n",
       "\t<li>FALSE</li>\n",
       "\t<li>FALSE</li>\n",
       "\t<li>FALSE</li>\n",
       "\t<li>FALSE</li>\n",
       "\t<li>FALSE</li>\n",
       "\t<li>FALSE</li>\n",
       "\t<li>FALSE</li>\n",
       "\t<li>FALSE</li>\n",
       "\t<li>FALSE</li>\n",
       "\t<li>FALSE</li>\n",
       "\t<li>FALSE</li>\n",
       "\t<li>FALSE</li>\n",
       "\t<li>FALSE</li>\n",
       "\t<li>FALSE</li>\n",
       "\t<li>FALSE</li>\n",
       "\t<li>FALSE</li>\n",
       "\t<li>FALSE</li>\n",
       "\t<li>FALSE</li>\n",
       "\t<li>FALSE</li>\n",
       "\t<li>FALSE</li>\n",
       "\t<li>FALSE</li>\n",
       "\t<li>FALSE</li>\n",
       "\t<li>FALSE</li>\n",
       "\t<li>FALSE</li>\n",
       "\t<li>FALSE</li>\n",
       "\t<li>FALSE</li>\n",
       "\t<li>FALSE</li>\n",
       "\t<li>FALSE</li>\n",
       "\t<li>FALSE</li>\n",
       "\t<li>FALSE</li>\n",
       "\t<li>FALSE</li>\n",
       "\t<li>FALSE</li>\n",
       "\t<li>FALSE</li>\n",
       "\t<li>FALSE</li>\n",
       "\t<li>FALSE</li>\n",
       "\t<li>FALSE</li>\n",
       "\t<li>FALSE</li>\n",
       "\t<li>FALSE</li>\n",
       "\t<li>FALSE</li>\n",
       "\t<li>FALSE</li>\n",
       "</ol>\n"
      ],
      "text/latex": [
       "\\begin{enumerate*}\n",
       "\\item FALSE\n",
       "\\item FALSE\n",
       "\\item FALSE\n",
       "\\item FALSE\n",
       "\\item FALSE\n",
       "\\item FALSE\n",
       "\\item FALSE\n",
       "\\item FALSE\n",
       "\\item FALSE\n",
       "\\item FALSE\n",
       "\\item FALSE\n",
       "\\item FALSE\n",
       "\\item FALSE\n",
       "\\item FALSE\n",
       "\\item FALSE\n",
       "\\item FALSE\n",
       "\\item FALSE\n",
       "\\item FALSE\n",
       "\\item FALSE\n",
       "\\item FALSE\n",
       "\\item FALSE\n",
       "\\item FALSE\n",
       "\\item FALSE\n",
       "\\item FALSE\n",
       "\\item FALSE\n",
       "\\item FALSE\n",
       "\\item FALSE\n",
       "\\item FALSE\n",
       "\\item FALSE\n",
       "\\item FALSE\n",
       "\\item FALSE\n",
       "\\item FALSE\n",
       "\\item FALSE\n",
       "\\item FALSE\n",
       "\\item FALSE\n",
       "\\item FALSE\n",
       "\\item FALSE\n",
       "\\item FALSE\n",
       "\\item FALSE\n",
       "\\item FALSE\n",
       "\\item FALSE\n",
       "\\item FALSE\n",
       "\\item FALSE\n",
       "\\item FALSE\n",
       "\\item FALSE\n",
       "\\item FALSE\n",
       "\\item FALSE\n",
       "\\item FALSE\n",
       "\\item FALSE\n",
       "\\item FALSE\n",
       "\\item FALSE\n",
       "\\item FALSE\n",
       "\\item FALSE\n",
       "\\item FALSE\n",
       "\\item FALSE\n",
       "\\item FALSE\n",
       "\\item FALSE\n",
       "\\item FALSE\n",
       "\\item FALSE\n",
       "\\item FALSE\n",
       "\\item FALSE\n",
       "\\item FALSE\n",
       "\\item FALSE\n",
       "\\item FALSE\n",
       "\\item FALSE\n",
       "\\item FALSE\n",
       "\\item FALSE\n",
       "\\item FALSE\n",
       "\\item FALSE\n",
       "\\item FALSE\n",
       "\\item FALSE\n",
       "\\item FALSE\n",
       "\\item FALSE\n",
       "\\item FALSE\n",
       "\\item FALSE\n",
       "\\item FALSE\n",
       "\\item FALSE\n",
       "\\item FALSE\n",
       "\\item FALSE\n",
       "\\item FALSE\n",
       "\\item FALSE\n",
       "\\item FALSE\n",
       "\\item FALSE\n",
       "\\item FALSE\n",
       "\\item FALSE\n",
       "\\item FALSE\n",
       "\\item FALSE\n",
       "\\item FALSE\n",
       "\\item FALSE\n",
       "\\item FALSE\n",
       "\\item FALSE\n",
       "\\item FALSE\n",
       "\\item FALSE\n",
       "\\item FALSE\n",
       "\\item FALSE\n",
       "\\item FALSE\n",
       "\\item FALSE\n",
       "\\item FALSE\n",
       "\\item FALSE\n",
       "\\item FALSE\n",
       "\\item FALSE\n",
       "\\item FALSE\n",
       "\\item FALSE\n",
       "\\item FALSE\n",
       "\\item FALSE\n",
       "\\item FALSE\n",
       "\\item FALSE\n",
       "\\item FALSE\n",
       "\\item FALSE\n",
       "\\item FALSE\n",
       "\\item FALSE\n",
       "\\item FALSE\n",
       "\\item FALSE\n",
       "\\item FALSE\n",
       "\\item FALSE\n",
       "\\item FALSE\n",
       "\\end{enumerate*}\n"
      ],
      "text/markdown": [
       "1. FALSE\n",
       "2. FALSE\n",
       "3. FALSE\n",
       "4. FALSE\n",
       "5. FALSE\n",
       "6. FALSE\n",
       "7. FALSE\n",
       "8. FALSE\n",
       "9. FALSE\n",
       "10. FALSE\n",
       "11. FALSE\n",
       "12. FALSE\n",
       "13. FALSE\n",
       "14. FALSE\n",
       "15. FALSE\n",
       "16. FALSE\n",
       "17. FALSE\n",
       "18. FALSE\n",
       "19. FALSE\n",
       "20. FALSE\n",
       "21. FALSE\n",
       "22. FALSE\n",
       "23. FALSE\n",
       "24. FALSE\n",
       "25. FALSE\n",
       "26. FALSE\n",
       "27. FALSE\n",
       "28. FALSE\n",
       "29. FALSE\n",
       "30. FALSE\n",
       "31. FALSE\n",
       "32. FALSE\n",
       "33. FALSE\n",
       "34. FALSE\n",
       "35. FALSE\n",
       "36. FALSE\n",
       "37. FALSE\n",
       "38. FALSE\n",
       "39. FALSE\n",
       "40. FALSE\n",
       "41. FALSE\n",
       "42. FALSE\n",
       "43. FALSE\n",
       "44. FALSE\n",
       "45. FALSE\n",
       "46. FALSE\n",
       "47. FALSE\n",
       "48. FALSE\n",
       "49. FALSE\n",
       "50. FALSE\n",
       "51. FALSE\n",
       "52. FALSE\n",
       "53. FALSE\n",
       "54. FALSE\n",
       "55. FALSE\n",
       "56. FALSE\n",
       "57. FALSE\n",
       "58. FALSE\n",
       "59. FALSE\n",
       "60. FALSE\n",
       "61. FALSE\n",
       "62. FALSE\n",
       "63. FALSE\n",
       "64. FALSE\n",
       "65. FALSE\n",
       "66. FALSE\n",
       "67. FALSE\n",
       "68. FALSE\n",
       "69. FALSE\n",
       "70. FALSE\n",
       "71. FALSE\n",
       "72. FALSE\n",
       "73. FALSE\n",
       "74. FALSE\n",
       "75. FALSE\n",
       "76. FALSE\n",
       "77. FALSE\n",
       "78. FALSE\n",
       "79. FALSE\n",
       "80. FALSE\n",
       "81. FALSE\n",
       "82. FALSE\n",
       "83. FALSE\n",
       "84. FALSE\n",
       "85. FALSE\n",
       "86. FALSE\n",
       "87. FALSE\n",
       "88. FALSE\n",
       "89. FALSE\n",
       "90. FALSE\n",
       "91. FALSE\n",
       "92. FALSE\n",
       "93. FALSE\n",
       "94. FALSE\n",
       "95. FALSE\n",
       "96. FALSE\n",
       "97. FALSE\n",
       "98. FALSE\n",
       "99. FALSE\n",
       "100. FALSE\n",
       "101. FALSE\n",
       "102. FALSE\n",
       "103. FALSE\n",
       "104. FALSE\n",
       "105. FALSE\n",
       "106. FALSE\n",
       "107. FALSE\n",
       "108. FALSE\n",
       "109. FALSE\n",
       "110. FALSE\n",
       "111. FALSE\n",
       "112. FALSE\n",
       "113. FALSE\n",
       "114. FALSE\n",
       "115. FALSE\n",
       "116. FALSE\n",
       "\n",
       "\n"
      ],
      "text/plain": [
       "  [1] FALSE FALSE FALSE FALSE FALSE FALSE FALSE FALSE FALSE FALSE FALSE FALSE\n",
       " [13] FALSE FALSE FALSE FALSE FALSE FALSE FALSE FALSE FALSE FALSE FALSE FALSE\n",
       " [25] FALSE FALSE FALSE FALSE FALSE FALSE FALSE FALSE FALSE FALSE FALSE FALSE\n",
       " [37] FALSE FALSE FALSE FALSE FALSE FALSE FALSE FALSE FALSE FALSE FALSE FALSE\n",
       " [49] FALSE FALSE FALSE FALSE FALSE FALSE FALSE FALSE FALSE FALSE FALSE FALSE\n",
       " [61] FALSE FALSE FALSE FALSE FALSE FALSE FALSE FALSE FALSE FALSE FALSE FALSE\n",
       " [73] FALSE FALSE FALSE FALSE FALSE FALSE FALSE FALSE FALSE FALSE FALSE FALSE\n",
       " [85] FALSE FALSE FALSE FALSE FALSE FALSE FALSE FALSE FALSE FALSE FALSE FALSE\n",
       " [97] FALSE FALSE FALSE FALSE FALSE FALSE FALSE FALSE FALSE FALSE FALSE FALSE\n",
       "[109] FALSE FALSE FALSE FALSE FALSE FALSE FALSE FALSE"
      ]
     },
     "metadata": {},
     "output_type": "display_data"
    }
   ],
   "source": [
    "#verification doublons\n",
    "duplicated(data)\n",
    "#il n'y a pas de pays en double"
   ]
  },
  {
   "cell_type": "code",
   "execution_count": 11,
   "metadata": {},
   "outputs": [
    {
     "data": {
      "text/html": [
       "<table>\n",
       "<thead><tr><th></th><th scope=col>country</th><th scope=col>year_survey</th><th scope=col>nb_quantiles</th><th scope=col>gdpppp</th><th scope=col>1</th><th scope=col>2</th><th scope=col>3</th><th scope=col>4</th><th scope=col>5</th><th scope=col>6</th><th scope=col>...</th><th scope=col>91</th><th scope=col>92</th><th scope=col>93</th><th scope=col>94</th><th scope=col>95</th><th scope=col>96</th><th scope=col>97</th><th scope=col>98</th><th scope=col>99</th><th scope=col>100</th></tr></thead>\n",
       "<tbody>\n",
       "\t<tr><th scope=row>3301</th><td>FJI       </td><td>2008      </td><td>100       </td><td>4300332   </td><td> 308.1733 </td><td> 384.3323 </td><td> 436.5926 </td><td> 486.8144 </td><td> 520.1972 </td><td> 556.573  </td><td>...       </td><td> 3941.235 </td><td> 4182.607 </td><td> 4409.872 </td><td> 4695.861 </td><td> 5062.31  </td><td> 5481.082 </td><td> 6205.614 </td><td> 7265.126 </td><td>  9553.192</td><td> 22161.59 </td></tr>\n",
       "\t<tr><th scope=row>6300</th><td>LUX       </td><td>2008      </td><td>100       </td><td>  73127   </td><td>5780.8374 </td><td>7315.2686 </td><td>7891.2456 </td><td>8312.0310 </td><td>8945.6380 </td><td>9524.440  </td><td>...       </td><td>42178.290 </td><td>43667.960 </td><td>46151.125 </td><td>48686.797 </td><td>51153.31  </td><td>53724.630 </td><td>58382.312 </td><td>65280.220 </td><td> 77673.370</td><td>114823.68 </td></tr>\n",
       "\t<tr><th scope=row>8100</th><td>NOR       </td><td>2008      </td><td>100       </td><td>  49070   </td><td>3520.2615 </td><td>5978.4146 </td><td>7153.7964 </td><td>8225.6890 </td><td>9013.9210 </td><td>9700.204  </td><td>...       </td><td>35163.880 </td><td>36132.990 </td><td>37272.633 </td><td>38402.668 </td><td>39994.40  </td><td>41779.010 </td><td>44359.490 </td><td>48223.797 </td><td> 55106.970</td><td>120354.22 </td></tr>\n",
       "\t<tr><th scope=row>11000</th><td>USA       </td><td>2008      </td><td>100       </td><td>  43261   </td><td> 663.4761 </td><td>1698.0868 </td><td>2439.7354 </td><td>3054.2478 </td><td>3627.5483 </td><td>4101.936  </td><td>...       </td><td>50866.360 </td><td>53313.960 </td><td>56233.740 </td><td>59764.703 </td><td>64053.35  </td><td>69926.370 </td><td>77634.820 </td><td>88482.840 </td><td>106765.260</td><td>176928.55 </td></tr>\n",
       "\t<tr><th scope=row>4601</th><td>IRL       </td><td>2008      </td><td>100       </td><td>  39268   </td><td>2819.1350 </td><td>4758.8110 </td><td>5422.5990 </td><td>5861.0750 </td><td>6226.1323 </td><td>6452.138  </td><td>...       </td><td>29818.186 </td><td>30804.588 </td><td>31831.572 </td><td>32864.824 </td><td>34140.41  </td><td>36361.387 </td><td>39196.190 </td><td>44047.258 </td><td> 52114.543</td><td> 96758.68 </td></tr>\n",
       "\t<tr><th scope=row>8000</th><td>NLD       </td><td>2008      </td><td>100       </td><td>  38065   </td><td>2558.8208 </td><td>4940.7476 </td><td>5605.4570 </td><td>6155.4727 </td><td>6663.1978 </td><td>6987.211  </td><td>...       </td><td>29142.080 </td><td>30064.287 </td><td>31020.140 </td><td>32206.814 </td><td>33726.95  </td><td>35854.310 </td><td>38490.785 </td><td>43026.030 </td><td> 52226.574</td><td> 97551.00 </td></tr>\n",
       "</tbody>\n",
       "</table>\n"
      ],
      "text/latex": [
       "\\begin{tabular}{r|llllllllllllllllllllllllllllllllllllllllllllllllllllllllllllllllllllllllllllllllllllllllllllllllllllllll}\n",
       "  & country & year\\_survey & nb\\_quantiles & gdpppp & 1 & 2 & 3 & 4 & 5 & 6 & ... & 91 & 92 & 93 & 94 & 95 & 96 & 97 & 98 & 99 & 100\\\\\n",
       "\\hline\n",
       "\t3301 & FJI        & 2008       & 100        & 4300332    &  308.1733  &  384.3323  &  436.5926  &  486.8144  &  520.1972  &  556.573   & ...        &  3941.235  &  4182.607  &  4409.872  &  4695.861  &  5062.31   &  5481.082  &  6205.614  &  7265.126  &   9553.192 &  22161.59 \\\\\n",
       "\t6300 & LUX        & 2008       & 100        &   73127    & 5780.8374  & 7315.2686  & 7891.2456  & 8312.0310  & 8945.6380  & 9524.440   & ...        & 42178.290  & 43667.960  & 46151.125  & 48686.797  & 51153.31   & 53724.630  & 58382.312  & 65280.220  &  77673.370 & 114823.68 \\\\\n",
       "\t8100 & NOR        & 2008       & 100        &   49070    & 3520.2615  & 5978.4146  & 7153.7964  & 8225.6890  & 9013.9210  & 9700.204   & ...        & 35163.880  & 36132.990  & 37272.633  & 38402.668  & 39994.40   & 41779.010  & 44359.490  & 48223.797  &  55106.970 & 120354.22 \\\\\n",
       "\t11000 & USA        & 2008       & 100        &   43261    &  663.4761  & 1698.0868  & 2439.7354  & 3054.2478  & 3627.5483  & 4101.936   & ...        & 50866.360  & 53313.960  & 56233.740  & 59764.703  & 64053.35   & 69926.370  & 77634.820  & 88482.840  & 106765.260 & 176928.55 \\\\\n",
       "\t4601 & IRL        & 2008       & 100        &   39268    & 2819.1350  & 4758.8110  & 5422.5990  & 5861.0750  & 6226.1323  & 6452.138   & ...        & 29818.186  & 30804.588  & 31831.572  & 32864.824  & 34140.41   & 36361.387  & 39196.190  & 44047.258  &  52114.543 &  96758.68 \\\\\n",
       "\t8000 & NLD        & 2008       & 100        &   38065    & 2558.8208  & 4940.7476  & 5605.4570  & 6155.4727  & 6663.1978  & 6987.211   & ...        & 29142.080  & 30064.287  & 31020.140  & 32206.814  & 33726.95   & 35854.310  & 38490.785  & 43026.030  &  52226.574 &  97551.00 \\\\\n",
       "\\end{tabular}\n"
      ],
      "text/markdown": [
       "\n",
       "| <!--/--> | country | year_survey | nb_quantiles | gdpppp | 1 | 2 | 3 | 4 | 5 | 6 | ... | 91 | 92 | 93 | 94 | 95 | 96 | 97 | 98 | 99 | 100 |\n",
       "|---|---|---|---|---|---|---|---|---|---|---|---|---|---|---|---|---|---|---|---|---|---|\n",
       "| 3301 | FJI        | 2008       | 100        | 4300332    |  308.1733  |  384.3323  |  436.5926  |  486.8144  |  520.1972  |  556.573   | ...        |  3941.235  |  4182.607  |  4409.872  |  4695.861  |  5062.31   |  5481.082  |  6205.614  |  7265.126  |   9553.192 |  22161.59  |\n",
       "| 6300 | LUX        | 2008       | 100        |   73127    | 5780.8374  | 7315.2686  | 7891.2456  | 8312.0310  | 8945.6380  | 9524.440   | ...        | 42178.290  | 43667.960  | 46151.125  | 48686.797  | 51153.31   | 53724.630  | 58382.312  | 65280.220  |  77673.370 | 114823.68  |\n",
       "| 8100 | NOR        | 2008       | 100        |   49070    | 3520.2615  | 5978.4146  | 7153.7964  | 8225.6890  | 9013.9210  | 9700.204   | ...        | 35163.880  | 36132.990  | 37272.633  | 38402.668  | 39994.40   | 41779.010  | 44359.490  | 48223.797  |  55106.970 | 120354.22  |\n",
       "| 11000 | USA        | 2008       | 100        |   43261    |  663.4761  | 1698.0868  | 2439.7354  | 3054.2478  | 3627.5483  | 4101.936   | ...        | 50866.360  | 53313.960  | 56233.740  | 59764.703  | 64053.35   | 69926.370  | 77634.820  | 88482.840  | 106765.260 | 176928.55  |\n",
       "| 4601 | IRL        | 2008       | 100        |   39268    | 2819.1350  | 4758.8110  | 5422.5990  | 5861.0750  | 6226.1323  | 6452.138   | ...        | 29818.186  | 30804.588  | 31831.572  | 32864.824  | 34140.41   | 36361.387  | 39196.190  | 44047.258  |  52114.543 |  96758.68  |\n",
       "| 8000 | NLD        | 2008       | 100        |   38065    | 2558.8208  | 4940.7476  | 5605.4570  | 6155.4727  | 6663.1978  | 6987.211   | ...        | 29142.080  | 30064.287  | 31020.140  | 32206.814  | 33726.95   | 35854.310  | 38490.785  | 43026.030  |  52226.574 |  97551.00  |\n",
       "\n"
      ],
      "text/plain": [
       "      country year_survey nb_quantiles gdpppp  1         2         3        \n",
       "3301  FJI     2008        100          4300332  308.1733  384.3323  436.5926\n",
       "6300  LUX     2008        100            73127 5780.8374 7315.2686 7891.2456\n",
       "8100  NOR     2008        100            49070 3520.2615 5978.4146 7153.7964\n",
       "11000 USA     2008        100            43261  663.4761 1698.0868 2439.7354\n",
       "4601  IRL     2008        100            39268 2819.1350 4758.8110 5422.5990\n",
       "8000  NLD     2008        100            38065 2558.8208 4940.7476 5605.4570\n",
       "      4         5         6        ... 91        92        93        94       \n",
       "3301   486.8144  520.1972  556.573 ...  3941.235  4182.607  4409.872  4695.861\n",
       "6300  8312.0310 8945.6380 9524.440 ... 42178.290 43667.960 46151.125 48686.797\n",
       "8100  8225.6890 9013.9210 9700.204 ... 35163.880 36132.990 37272.633 38402.668\n",
       "11000 3054.2478 3627.5483 4101.936 ... 50866.360 53313.960 56233.740 59764.703\n",
       "4601  5861.0750 6226.1323 6452.138 ... 29818.186 30804.588 31831.572 32864.824\n",
       "8000  6155.4727 6663.1978 6987.211 ... 29142.080 30064.287 31020.140 32206.814\n",
       "      95       96        97        98        99         100      \n",
       "3301   5062.31  5481.082  6205.614  7265.126   9553.192  22161.59\n",
       "6300  51153.31 53724.630 58382.312 65280.220  77673.370 114823.68\n",
       "8100  39994.40 41779.010 44359.490 48223.797  55106.970 120354.22\n",
       "11000 64053.35 69926.370 77634.820 88482.840 106765.260 176928.55\n",
       "4601  34140.41 36361.387 39196.190 44047.258  52114.543  96758.68\n",
       "8000  33726.95 35854.310 38490.785 43026.030  52226.574  97551.00"
      ]
     },
     "metadata": {},
     "output_type": "display_data"
    }
   ],
   "source": [
    "#valeurs aberrantes\n",
    "\n",
    "#affichage des plus grandes valeurs de gdpppp\n",
    "head(data[order(-data$gdpppp),])"
   ]
  },
  {
   "cell_type": "code",
   "execution_count": 12,
   "metadata": {},
   "outputs": [],
   "source": [
    "#on corrige la valeur anormale de gdpppp pour FJI (4168, source World Bank)\n",
    "data[data$country == 'FJI', 'gdpppp'] = 4168"
   ]
  },
  {
   "cell_type": "code",
   "execution_count": 13,
   "metadata": {},
   "outputs": [
    {
     "data": {
      "text/html": [
       "<table>\n",
       "<thead><tr><th></th><th scope=col>country</th><th scope=col>year_survey</th><th scope=col>nb_quantiles</th><th scope=col>gdpppp</th><th scope=col>1</th><th scope=col>2</th><th scope=col>3</th><th scope=col>4</th><th scope=col>5</th><th scope=col>6</th><th scope=col>...</th><th scope=col>91</th><th scope=col>92</th><th scope=col>93</th><th scope=col>94</th><th scope=col>95</th><th scope=col>96</th><th scope=col>97</th><th scope=col>98</th><th scope=col>99</th><th scope=col>100</th></tr></thead>\n",
       "<tbody>\n",
       "\t<tr><th scope=row>11000</th><td>USA      </td><td>2008     </td><td>100      </td><td>43261    </td><td> 663.4761</td><td>1698.087 </td><td>2439.735 </td><td> 3054.248</td><td> 3627.548</td><td> 4101.936</td><td>...      </td><td>50866.36 </td><td>53313.96 </td><td>56233.74 </td><td>59764.70 </td><td>64053.35 </td><td>69926.37 </td><td>77634.82 </td><td>88482.84 </td><td>106765.26</td><td>176928.5 </td></tr>\n",
       "\t<tr><th scope=row>4901</th><td>ISL      </td><td>2008     </td><td>100      </td><td>36527    </td><td>5191.9683</td><td>8185.872 </td><td>9188.146 </td><td>10159.227</td><td>10884.475</td><td>11404.939</td><td>...      </td><td>42450.73 </td><td>44106.19 </td><td>46007.63 </td><td>48177.18 </td><td>50764.23 </td><td>54079.08 </td><td>58772.38 </td><td>67783.48 </td><td> 84655.52</td><td>160645.3 </td></tr>\n",
       "\t<tr><th scope=row>3501</th><td>GBR      </td><td>2008     </td><td>100      </td><td>34048    </td><td>1416.5803</td><td>3946.322 </td><td>4897.456 </td><td> 5660.992</td><td> 6283.235</td><td> 6774.140</td><td>...      </td><td>37948.42 </td><td>39533.49 </td><td>41402.75 </td><td>43545.33 </td><td>45760.52 </td><td>48890.82 </td><td>52429.48 </td><td>56776.50 </td><td> 68247.45</td><td>141565.2 </td></tr>\n",
       "\t<tr><th scope=row>1501</th><td>CAN      </td><td>2008     </td><td>100      </td><td>35895    </td><td> 122.4248</td><td>1692.514 </td><td>2715.054 </td><td> 3541.338</td><td> 4237.815</td><td> 4862.758</td><td>...      </td><td>42305.15 </td><td>43975.58 </td><td>45619.87 </td><td>47541.62 </td><td>50099.02 </td><td>53247.78 </td><td>57365.30 </td><td>62962.47 </td><td> 73659.53</td><td>133454.8 </td></tr>\n",
       "\t<tr><th scope=row>3401</th><td>FRA      </td><td>2008     </td><td>100      </td><td>30357    </td><td>2958.3040</td><td>4412.675 </td><td>4939.635 </td><td> 5422.917</td><td> 5906.538</td><td> 6263.426</td><td>...      </td><td>31220.95 </td><td>32203.81 </td><td>33657.95 </td><td>35429.94 </td><td>37264.07 </td><td>39873.51 </td><td>43693.04 </td><td>49489.58 </td><td> 60758.61</td><td>122775.2 </td></tr>\n",
       "\t<tr><th scope=row>8100</th><td>NOR      </td><td>2008     </td><td>100      </td><td>49070    </td><td>3520.2615</td><td>5978.415 </td><td>7153.796 </td><td> 8225.689</td><td> 9013.921</td><td> 9700.204</td><td>...      </td><td>35163.88 </td><td>36132.99 </td><td>37272.63 </td><td>38402.67 </td><td>39994.40 </td><td>41779.01 </td><td>44359.49 </td><td>48223.80 </td><td> 55106.97</td><td>120354.2 </td></tr>\n",
       "</tbody>\n",
       "</table>\n"
      ],
      "text/latex": [
       "\\begin{tabular}{r|llllllllllllllllllllllllllllllllllllllllllllllllllllllllllllllllllllllllllllllllllllllllllllllllllllllll}\n",
       "  & country & year\\_survey & nb\\_quantiles & gdpppp & 1 & 2 & 3 & 4 & 5 & 6 & ... & 91 & 92 & 93 & 94 & 95 & 96 & 97 & 98 & 99 & 100\\\\\n",
       "\\hline\n",
       "\t11000 & USA       & 2008      & 100       & 43261     &  663.4761 & 1698.087  & 2439.735  &  3054.248 &  3627.548 &  4101.936 & ...       & 50866.36  & 53313.96  & 56233.74  & 59764.70  & 64053.35  & 69926.37  & 77634.82  & 88482.84  & 106765.26 & 176928.5 \\\\\n",
       "\t4901 & ISL       & 2008      & 100       & 36527     & 5191.9683 & 8185.872  & 9188.146  & 10159.227 & 10884.475 & 11404.939 & ...       & 42450.73  & 44106.19  & 46007.63  & 48177.18  & 50764.23  & 54079.08  & 58772.38  & 67783.48  &  84655.52 & 160645.3 \\\\\n",
       "\t3501 & GBR       & 2008      & 100       & 34048     & 1416.5803 & 3946.322  & 4897.456  &  5660.992 &  6283.235 &  6774.140 & ...       & 37948.42  & 39533.49  & 41402.75  & 43545.33  & 45760.52  & 48890.82  & 52429.48  & 56776.50  &  68247.45 & 141565.2 \\\\\n",
       "\t1501 & CAN       & 2008      & 100       & 35895     &  122.4248 & 1692.514  & 2715.054  &  3541.338 &  4237.815 &  4862.758 & ...       & 42305.15  & 43975.58  & 45619.87  & 47541.62  & 50099.02  & 53247.78  & 57365.30  & 62962.47  &  73659.53 & 133454.8 \\\\\n",
       "\t3401 & FRA       & 2008      & 100       & 30357     & 2958.3040 & 4412.675  & 4939.635  &  5422.917 &  5906.538 &  6263.426 & ...       & 31220.95  & 32203.81  & 33657.95  & 35429.94  & 37264.07  & 39873.51  & 43693.04  & 49489.58  &  60758.61 & 122775.2 \\\\\n",
       "\t8100 & NOR       & 2008      & 100       & 49070     & 3520.2615 & 5978.415  & 7153.796  &  8225.689 &  9013.921 &  9700.204 & ...       & 35163.88  & 36132.99  & 37272.63  & 38402.67  & 39994.40  & 41779.01  & 44359.49  & 48223.80  &  55106.97 & 120354.2 \\\\\n",
       "\\end{tabular}\n"
      ],
      "text/markdown": [
       "\n",
       "| <!--/--> | country | year_survey | nb_quantiles | gdpppp | 1 | 2 | 3 | 4 | 5 | 6 | ... | 91 | 92 | 93 | 94 | 95 | 96 | 97 | 98 | 99 | 100 |\n",
       "|---|---|---|---|---|---|---|---|---|---|---|---|---|---|---|---|---|---|---|---|---|---|\n",
       "| 11000 | USA       | 2008      | 100       | 43261     |  663.4761 | 1698.087  | 2439.735  |  3054.248 |  3627.548 |  4101.936 | ...       | 50866.36  | 53313.96  | 56233.74  | 59764.70  | 64053.35  | 69926.37  | 77634.82  | 88482.84  | 106765.26 | 176928.5  |\n",
       "| 4901 | ISL       | 2008      | 100       | 36527     | 5191.9683 | 8185.872  | 9188.146  | 10159.227 | 10884.475 | 11404.939 | ...       | 42450.73  | 44106.19  | 46007.63  | 48177.18  | 50764.23  | 54079.08  | 58772.38  | 67783.48  |  84655.52 | 160645.3  |\n",
       "| 3501 | GBR       | 2008      | 100       | 34048     | 1416.5803 | 3946.322  | 4897.456  |  5660.992 |  6283.235 |  6774.140 | ...       | 37948.42  | 39533.49  | 41402.75  | 43545.33  | 45760.52  | 48890.82  | 52429.48  | 56776.50  |  68247.45 | 141565.2  |\n",
       "| 1501 | CAN       | 2008      | 100       | 35895     |  122.4248 | 1692.514  | 2715.054  |  3541.338 |  4237.815 |  4862.758 | ...       | 42305.15  | 43975.58  | 45619.87  | 47541.62  | 50099.02  | 53247.78  | 57365.30  | 62962.47  |  73659.53 | 133454.8  |\n",
       "| 3401 | FRA       | 2008      | 100       | 30357     | 2958.3040 | 4412.675  | 4939.635  |  5422.917 |  5906.538 |  6263.426 | ...       | 31220.95  | 32203.81  | 33657.95  | 35429.94  | 37264.07  | 39873.51  | 43693.04  | 49489.58  |  60758.61 | 122775.2  |\n",
       "| 8100 | NOR       | 2008      | 100       | 49070     | 3520.2615 | 5978.415  | 7153.796  |  8225.689 |  9013.921 |  9700.204 | ...       | 35163.88  | 36132.99  | 37272.63  | 38402.67  | 39994.40  | 41779.01  | 44359.49  | 48223.80  |  55106.97 | 120354.2  |\n",
       "\n"
      ],
      "text/plain": [
       "      country year_survey nb_quantiles gdpppp 1         2        3       \n",
       "11000 USA     2008        100          43261   663.4761 1698.087 2439.735\n",
       "4901  ISL     2008        100          36527  5191.9683 8185.872 9188.146\n",
       "3501  GBR     2008        100          34048  1416.5803 3946.322 4897.456\n",
       "1501  CAN     2008        100          35895   122.4248 1692.514 2715.054\n",
       "3401  FRA     2008        100          30357  2958.3040 4412.675 4939.635\n",
       "8100  NOR     2008        100          49070  3520.2615 5978.415 7153.796\n",
       "      4         5         6         ... 91       92       93       94      \n",
       "11000  3054.248  3627.548  4101.936 ... 50866.36 53313.96 56233.74 59764.70\n",
       "4901  10159.227 10884.475 11404.939 ... 42450.73 44106.19 46007.63 48177.18\n",
       "3501   5660.992  6283.235  6774.140 ... 37948.42 39533.49 41402.75 43545.33\n",
       "1501   3541.338  4237.815  4862.758 ... 42305.15 43975.58 45619.87 47541.62\n",
       "3401   5422.917  5906.538  6263.426 ... 31220.95 32203.81 33657.95 35429.94\n",
       "8100   8225.689  9013.921  9700.204 ... 35163.88 36132.99 37272.63 38402.67\n",
       "      95       96       97       98       99        100     \n",
       "11000 64053.35 69926.37 77634.82 88482.84 106765.26 176928.5\n",
       "4901  50764.23 54079.08 58772.38 67783.48  84655.52 160645.3\n",
       "3501  45760.52 48890.82 52429.48 56776.50  68247.45 141565.2\n",
       "1501  50099.02 53247.78 57365.30 62962.47  73659.53 133454.8\n",
       "3401  37264.07 39873.51 43693.04 49489.58  60758.61 122775.2\n",
       "8100  39994.40 41779.01 44359.49 48223.80  55106.97 120354.2"
      ]
     },
     "metadata": {},
     "output_type": "display_data"
    }
   ],
   "source": [
    "#income\n",
    "head(data[order(-data['100']),])"
   ]
  },
  {
   "cell_type": "markdown",
   "metadata": {},
   "source": [
    "#### Ajout des données de population"
   ]
  },
  {
   "cell_type": "code",
   "execution_count": 14,
   "metadata": {},
   "outputs": [],
   "source": [
    "#ajout données population 2008\n",
    "names(population)[names(population) == \"Country.Code\"] <- \"country\" #on renomme la colonne pays\n",
    "\n",
    "#on merge le df data avec la colonne population 2008\n",
    "data <- merge(x = data, y = select(population, country, X2008), by = \"country\", all.x = TRUE)\n",
    "\n",
    "#on recupère la valeur de la pop mondiale en 2008\n",
    "pop_tot_2008 <- population[population$country == 'WLD', 'X2008']"
   ]
  },
  {
   "cell_type": "code",
   "execution_count": 15,
   "metadata": {},
   "outputs": [
    {
     "data": {
      "text/html": [
       "<table>\n",
       "<thead><tr><th></th><th scope=col>country</th><th scope=col>year_survey</th><th scope=col>nb_quantiles</th><th scope=col>gdpppp</th><th scope=col>1</th><th scope=col>2</th><th scope=col>3</th><th scope=col>4</th><th scope=col>5</th><th scope=col>6</th><th scope=col>...</th><th scope=col>92</th><th scope=col>93</th><th scope=col>94</th><th scope=col>95</th><th scope=col>96</th><th scope=col>97</th><th scope=col>98</th><th scope=col>99</th><th scope=col>100</th><th scope=col>X2008</th></tr></thead>\n",
       "<tbody>\n",
       "\t<tr><th scope=row>106</th><td>TWN     </td><td>2008    </td><td>100     </td><td>25342   </td><td>3477.18 </td><td>4740.264</td><td>5331.301</td><td>5761.658</td><td>6093.202</td><td>6406.441</td><td>...     </td><td>30165.46</td><td>31731.54</td><td>33315.65</td><td>35418.75</td><td>38123.46</td><td>41663.79</td><td>46650.58</td><td>54016.99</td><td>83540.05</td><td>NA      </td></tr>\n",
       "</tbody>\n",
       "</table>\n"
      ],
      "text/latex": [
       "\\begin{tabular}{r|lllllllllllllllllllllllllllllllllllllllllllllllllllllllllllllllllllllllllllllllllllllllllllllllllllllllll}\n",
       "  & country & year\\_survey & nb\\_quantiles & gdpppp & 1 & 2 & 3 & 4 & 5 & 6 & ... & 92 & 93 & 94 & 95 & 96 & 97 & 98 & 99 & 100 & X2008\\\\\n",
       "\\hline\n",
       "\t106 & TWN      & 2008     & 100      & 25342    & 3477.18  & 4740.264 & 5331.301 & 5761.658 & 6093.202 & 6406.441 & ...      & 30165.46 & 31731.54 & 33315.65 & 35418.75 & 38123.46 & 41663.79 & 46650.58 & 54016.99 & 83540.05 & NA      \\\\\n",
       "\\end{tabular}\n"
      ],
      "text/markdown": [
       "\n",
       "| <!--/--> | country | year_survey | nb_quantiles | gdpppp | 1 | 2 | 3 | 4 | 5 | 6 | ... | 92 | 93 | 94 | 95 | 96 | 97 | 98 | 99 | 100 | X2008 |\n",
       "|---|---|---|---|---|---|---|---|---|---|---|---|---|---|---|---|---|---|---|---|---|---|\n",
       "| 106 | TWN      | 2008     | 100      | 25342    | 3477.18  | 4740.264 | 5331.301 | 5761.658 | 6093.202 | 6406.441 | ...      | 30165.46 | 31731.54 | 33315.65 | 35418.75 | 38123.46 | 41663.79 | 46650.58 | 54016.99 | 83540.05 | NA       |\n",
       "\n"
      ],
      "text/plain": [
       "    country year_survey nb_quantiles gdpppp 1       2        3        4       \n",
       "106 TWN     2008        100          25342  3477.18 4740.264 5331.301 5761.658\n",
       "    5        6        ... 92       93       94       95       96       97      \n",
       "106 6093.202 6406.441 ... 30165.46 31731.54 33315.65 35418.75 38123.46 41663.79\n",
       "    98       99       100      X2008\n",
       "106 46650.58 54016.99 83540.05 NA   "
      ]
     },
     "metadata": {},
     "output_type": "display_data"
    }
   ],
   "source": [
    "#recherche valeurs manquantes après ajout population\n",
    "data[rowSums(is.na(data)) > 0,]"
   ]
  },
  {
   "cell_type": "code",
   "execution_count": 16,
   "metadata": {},
   "outputs": [],
   "source": [
    "#on rajoute manuellement la population 2008 pour TWN (source : countryeonomy.com)\n",
    "data[data$country == 'TWN', 'X2008'] <- 23037000\n",
    "\n",
    "#on renomme la colonne population\n",
    "names(data)[names(data) == \"X2008\"] <- \"pop_2008\""
   ]
  },
  {
   "cell_type": "markdown",
   "metadata": {},
   "source": [
    "#### Ajout données Gini"
   ]
  },
  {
   "cell_type": "code",
   "execution_count": 17,
   "metadata": {},
   "outputs": [
    {
     "data": {
      "text/html": [
       "<table>\n",
       "<thead><tr><th></th><th scope=col>country</th><th scope=col>year_survey</th><th scope=col>nb_quantiles</th><th scope=col>gdpppp</th><th scope=col>1</th><th scope=col>2</th><th scope=col>3</th><th scope=col>4</th><th scope=col>5</th><th scope=col>6</th><th scope=col>...</th><th scope=col>93</th><th scope=col>94</th><th scope=col>95</th><th scope=col>96</th><th scope=col>97</th><th scope=col>98</th><th scope=col>99</th><th scope=col>100</th><th scope=col>pop_2008</th><th scope=col>last_gini</th></tr></thead>\n",
       "<tbody>\n",
       "\t<tr><th scope=row>58</th><td>KHM      </td><td>2008     </td><td>100      </td><td> 1802    </td><td> 345.875 </td><td> 437.7456</td><td> 481.9244</td><td> 514.4737</td><td> 540.4199</td><td> 567.5325</td><td>...      </td><td> 2833.12 </td><td> 2989.611</td><td> 3181.452</td><td> 3425.024</td><td> 3699.999</td><td> 4184.605</td><td> 4790.812</td><td> 7375.561</td><td>13883834 </td><td>NA       </td></tr>\n",
       "\t<tr><th scope=row>106</th><td>TWN      </td><td>2008     </td><td>100      </td><td>25342    </td><td>3477.180 </td><td>4740.2637</td><td>5331.3013</td><td>5761.6577</td><td>6093.2017</td><td>6406.4414</td><td>...      </td><td>31731.54 </td><td>33315.652</td><td>35418.754</td><td>38123.460</td><td>41663.790</td><td>46650.582</td><td>54016.992</td><td>83540.055</td><td>23037000 </td><td>NA       </td></tr>\n",
       "</tbody>\n",
       "</table>\n"
      ],
      "text/latex": [
       "\\begin{tabular}{r|llllllllllllllllllllllllllllllllllllllllllllllllllllllllllllllllllllllllllllllllllllllllllllllllllllllllll}\n",
       "  & country & year\\_survey & nb\\_quantiles & gdpppp & 1 & 2 & 3 & 4 & 5 & 6 & ... & 93 & 94 & 95 & 96 & 97 & 98 & 99 & 100 & pop\\_2008 & last\\_gini\\\\\n",
       "\\hline\n",
       "\t58 & KHM       & 2008      & 100       &  1802     &  345.875  &  437.7456 &  481.9244 &  514.4737 &  540.4199 &  567.5325 & ...       &  2833.12  &  2989.611 &  3181.452 &  3425.024 &  3699.999 &  4184.605 &  4790.812 &  7375.561 & 13883834  & NA       \\\\\n",
       "\t106 & TWN       & 2008      & 100       & 25342     & 3477.180  & 4740.2637 & 5331.3013 & 5761.6577 & 6093.2017 & 6406.4414 & ...       & 31731.54  & 33315.652 & 35418.754 & 38123.460 & 41663.790 & 46650.582 & 54016.992 & 83540.055 & 23037000  & NA       \\\\\n",
       "\\end{tabular}\n"
      ],
      "text/markdown": [
       "\n",
       "| <!--/--> | country | year_survey | nb_quantiles | gdpppp | 1 | 2 | 3 | 4 | 5 | 6 | ... | 93 | 94 | 95 | 96 | 97 | 98 | 99 | 100 | pop_2008 | last_gini |\n",
       "|---|---|---|---|---|---|---|---|---|---|---|---|---|---|---|---|---|---|---|---|---|---|\n",
       "| 58 | KHM       | 2008      | 100       |  1802     |  345.875  |  437.7456 |  481.9244 |  514.4737 |  540.4199 |  567.5325 | ...       |  2833.12  |  2989.611 |  3181.452 |  3425.024 |  3699.999 |  4184.605 |  4790.812 |  7375.561 | 13883834  | NA        |\n",
       "| 106 | TWN       | 2008      | 100       | 25342     | 3477.180  | 4740.2637 | 5331.3013 | 5761.6577 | 6093.2017 | 6406.4414 | ...       | 31731.54  | 33315.652 | 35418.754 | 38123.460 | 41663.790 | 46650.582 | 54016.992 | 83540.055 | 23037000  | NA        |\n",
       "\n"
      ],
      "text/plain": [
       "    country year_survey nb_quantiles gdpppp 1        2         3        \n",
       "58  KHM     2008        100           1802   345.875  437.7456  481.9244\n",
       "106 TWN     2008        100          25342  3477.180 4740.2637 5331.3013\n",
       "    4         5         6         ... 93       94        95        96       \n",
       "58   514.4737  540.4199  567.5325 ...  2833.12  2989.611  3181.452  3425.024\n",
       "106 5761.6577 6093.2017 6406.4414 ... 31731.54 33315.652 35418.754 38123.460\n",
       "    97        98        99        100       pop_2008 last_gini\n",
       "58   3699.999  4184.605  4790.812  7375.561 13883834 NA       \n",
       "106 41663.790 46650.582 54016.992 83540.055 23037000 NA       "
      ]
     },
     "metadata": {},
     "output_type": "display_data"
    }
   ],
   "source": [
    "#ajout indices gini\n",
    "\n",
    "#on renomme la colonne pays du df indices_gini\n",
    "names(indices_gini)[names(indices_gini) == \"Country.Code\"] <- \"country\"\n",
    "\n",
    "#on crée une colonne avec la dernière valeur non nulle de l'indice Gini pour chaque pays\n",
    "df_last_gini <- data.frame(t(apply(select(indices_gini, (1:63)), 1, na.locf)))\n",
    "df_last_gini <- select(df_last_gini, country, X2018)\n",
    "names(df_last_gini)[names(df_last_gini) == \"X2018\"] <- \"last_gini\" #remplacement nom colonne\n",
    "df_last_gini[df_last_gini == \"SI.POV.GINI\"]<- NA #on remplace les valeurs non numériques (pas de valeurs pour ces pays)\n",
    "df_last_gini$last_gini <- as.numeric(as.character(df_last_gini$last_gini)) #on transforme la colonne en colonne numeric\n",
    "\n",
    "#on merge le df principal avec le df_last_gini\n",
    "data <- merge(x = data, y = df_last_gini, by = \"country\", all.x = TRUE)\n",
    "data$country <- as.character(data$country)\n",
    "#on repère les valeurs d'indice gini manquantes\n",
    "data[rowSums(is.na(data)) > 0,]"
   ]
  },
  {
   "cell_type": "code",
   "execution_count": 18,
   "metadata": {},
   "outputs": [
    {
     "data": {
      "text/html": [
       "<table>\n",
       "<thead><tr><th scope=col>country</th><th scope=col>year_survey</th><th scope=col>nb_quantiles</th><th scope=col>gdpppp</th><th scope=col>1</th><th scope=col>2</th><th scope=col>3</th><th scope=col>4</th><th scope=col>5</th><th scope=col>6</th><th scope=col>...</th><th scope=col>93</th><th scope=col>94</th><th scope=col>95</th><th scope=col>96</th><th scope=col>97</th><th scope=col>98</th><th scope=col>99</th><th scope=col>100</th><th scope=col>pop_2008</th><th scope=col>last_gini</th></tr></thead>\n",
       "<tbody>\n",
       "\t<tr><td>ALB      </td><td>2008     </td><td>100      </td><td> 7297    </td><td> 728.8980</td><td> 916.6623</td><td>1010.9160</td><td>1086.9078</td><td>1132.6997</td><td>1171.1412</td><td>...      </td><td> 5348.793</td><td> 5619.445</td><td> 5860.917</td><td> 6231.100</td><td> 6822.318</td><td> 7775.891</td><td> 9351.751</td><td>17754.324</td><td> 2947314 </td><td>33.2     </td></tr>\n",
       "\t<tr><td>ARG      </td><td>2008     </td><td>100      </td><td>13220    </td><td> 254.0894</td><td> 470.5015</td><td> 623.4542</td><td> 734.9746</td><td> 832.3185</td><td> 918.4080</td><td>...      </td><td>13450.862</td><td>14296.399</td><td>15406.059</td><td>16618.873</td><td>18226.730</td><td>20528.305</td><td>24444.950</td><td>43669.242</td><td>40080160 </td><td>41.4     </td></tr>\n",
       "\t<tr><td>ARM      </td><td>2008     </td><td>100      </td><td> 5611    </td><td> 366.6178</td><td> 535.3273</td><td> 611.6456</td><td> 658.3394</td><td> 690.8471</td><td> 721.9100</td><td>...      </td><td> 2832.991</td><td> 2932.561</td><td> 3062.856</td><td> 3229.554</td><td> 3466.665</td><td> 3758.602</td><td> 4320.290</td><td> 6566.159</td><td> 2907618 </td><td>34.4     </td></tr>\n",
       "\t<tr><td>AUT      </td><td>2008     </td><td>100      </td><td>36193    </td><td>2958.0764</td><td>4893.4673</td><td>5459.6490</td><td>5923.5854</td><td>6380.2780</td><td>6779.2646</td><td>...      </td><td>29231.506</td><td>30725.930</td><td>32304.807</td><td>33914.105</td><td>36080.902</td><td>39450.555</td><td>44950.312</td><td>72216.680</td><td> 8321496 </td><td>29.7     </td></tr>\n",
       "\t<tr><td>AZE      </td><td>2008     </td><td>100      </td><td> 8101    </td><td> 397.5398</td><td> 597.7732</td><td> 705.4700</td><td> 785.5261</td><td> 841.7524</td><td> 889.2646</td><td>...      </td><td> 4450.074</td><td> 4641.496</td><td> 4917.442</td><td> 5283.547</td><td> 5802.638</td><td> 6366.059</td><td> 7459.711</td><td>12023.727</td><td> 8763400 </td><td>26.6     </td></tr>\n",
       "\t<tr><td>BEL      </td><td>2008     </td><td>100      </td><td>33561    </td><td>2421.9417</td><td>3812.5588</td><td>4534.7540</td><td>5019.0020</td><td>5442.7627</td><td>5789.4575</td><td>...      </td><td>25735.262</td><td>26490.363</td><td>27972.418</td><td>29376.928</td><td>31054.926</td><td>34044.560</td><td>39844.758</td><td>83104.470</td><td>10709973 </td><td>27.4     </td></tr>\n",
       "</tbody>\n",
       "</table>\n"
      ],
      "text/latex": [
       "\\begin{tabular}{r|llllllllllllllllllllllllllllllllllllllllllllllllllllllllllllllllllllllllllllllllllllllllllllllllllllllllll}\n",
       " country & year\\_survey & nb\\_quantiles & gdpppp & 1 & 2 & 3 & 4 & 5 & 6 & ... & 93 & 94 & 95 & 96 & 97 & 98 & 99 & 100 & pop\\_2008 & last\\_gini\\\\\n",
       "\\hline\n",
       "\t ALB       & 2008      & 100       &  7297     &  728.8980 &  916.6623 & 1010.9160 & 1086.9078 & 1132.6997 & 1171.1412 & ...       &  5348.793 &  5619.445 &  5860.917 &  6231.100 &  6822.318 &  7775.891 &  9351.751 & 17754.324 &  2947314  & 33.2     \\\\\n",
       "\t ARG       & 2008      & 100       & 13220     &  254.0894 &  470.5015 &  623.4542 &  734.9746 &  832.3185 &  918.4080 & ...       & 13450.862 & 14296.399 & 15406.059 & 16618.873 & 18226.730 & 20528.305 & 24444.950 & 43669.242 & 40080160  & 41.4     \\\\\n",
       "\t ARM       & 2008      & 100       &  5611     &  366.6178 &  535.3273 &  611.6456 &  658.3394 &  690.8471 &  721.9100 & ...       &  2832.991 &  2932.561 &  3062.856 &  3229.554 &  3466.665 &  3758.602 &  4320.290 &  6566.159 &  2907618  & 34.4     \\\\\n",
       "\t AUT       & 2008      & 100       & 36193     & 2958.0764 & 4893.4673 & 5459.6490 & 5923.5854 & 6380.2780 & 6779.2646 & ...       & 29231.506 & 30725.930 & 32304.807 & 33914.105 & 36080.902 & 39450.555 & 44950.312 & 72216.680 &  8321496  & 29.7     \\\\\n",
       "\t AZE       & 2008      & 100       &  8101     &  397.5398 &  597.7732 &  705.4700 &  785.5261 &  841.7524 &  889.2646 & ...       &  4450.074 &  4641.496 &  4917.442 &  5283.547 &  5802.638 &  6366.059 &  7459.711 & 12023.727 &  8763400  & 26.6     \\\\\n",
       "\t BEL       & 2008      & 100       & 33561     & 2421.9417 & 3812.5588 & 4534.7540 & 5019.0020 & 5442.7627 & 5789.4575 & ...       & 25735.262 & 26490.363 & 27972.418 & 29376.928 & 31054.926 & 34044.560 & 39844.758 & 83104.470 & 10709973  & 27.4     \\\\\n",
       "\\end{tabular}\n"
      ],
      "text/markdown": [
       "\n",
       "| country | year_survey | nb_quantiles | gdpppp | 1 | 2 | 3 | 4 | 5 | 6 | ... | 93 | 94 | 95 | 96 | 97 | 98 | 99 | 100 | pop_2008 | last_gini |\n",
       "|---|---|---|---|---|---|---|---|---|---|---|---|---|---|---|---|---|---|---|---|---|\n",
       "| ALB       | 2008      | 100       |  7297     |  728.8980 |  916.6623 | 1010.9160 | 1086.9078 | 1132.6997 | 1171.1412 | ...       |  5348.793 |  5619.445 |  5860.917 |  6231.100 |  6822.318 |  7775.891 |  9351.751 | 17754.324 |  2947314  | 33.2      |\n",
       "| ARG       | 2008      | 100       | 13220     |  254.0894 |  470.5015 |  623.4542 |  734.9746 |  832.3185 |  918.4080 | ...       | 13450.862 | 14296.399 | 15406.059 | 16618.873 | 18226.730 | 20528.305 | 24444.950 | 43669.242 | 40080160  | 41.4      |\n",
       "| ARM       | 2008      | 100       |  5611     |  366.6178 |  535.3273 |  611.6456 |  658.3394 |  690.8471 |  721.9100 | ...       |  2832.991 |  2932.561 |  3062.856 |  3229.554 |  3466.665 |  3758.602 |  4320.290 |  6566.159 |  2907618  | 34.4      |\n",
       "| AUT       | 2008      | 100       | 36193     | 2958.0764 | 4893.4673 | 5459.6490 | 5923.5854 | 6380.2780 | 6779.2646 | ...       | 29231.506 | 30725.930 | 32304.807 | 33914.105 | 36080.902 | 39450.555 | 44950.312 | 72216.680 |  8321496  | 29.7      |\n",
       "| AZE       | 2008      | 100       |  8101     |  397.5398 |  597.7732 |  705.4700 |  785.5261 |  841.7524 |  889.2646 | ...       |  4450.074 |  4641.496 |  4917.442 |  5283.547 |  5802.638 |  6366.059 |  7459.711 | 12023.727 |  8763400  | 26.6      |\n",
       "| BEL       | 2008      | 100       | 33561     | 2421.9417 | 3812.5588 | 4534.7540 | 5019.0020 | 5442.7627 | 5789.4575 | ...       | 25735.262 | 26490.363 | 27972.418 | 29376.928 | 31054.926 | 34044.560 | 39844.758 | 83104.470 | 10709973  | 27.4      |\n",
       "\n"
      ],
      "text/plain": [
       "  country year_survey nb_quantiles gdpppp 1         2         3        \n",
       "1 ALB     2008        100           7297   728.8980  916.6623 1010.9160\n",
       "2 ARG     2008        100          13220   254.0894  470.5015  623.4542\n",
       "3 ARM     2008        100           5611   366.6178  535.3273  611.6456\n",
       "4 AUT     2008        100          36193  2958.0764 4893.4673 5459.6490\n",
       "5 AZE     2008        100           8101   397.5398  597.7732  705.4700\n",
       "6 BEL     2008        100          33561  2421.9417 3812.5588 4534.7540\n",
       "  4         5         6         ... 93        94        95        96       \n",
       "1 1086.9078 1132.6997 1171.1412 ...  5348.793  5619.445  5860.917  6231.100\n",
       "2  734.9746  832.3185  918.4080 ... 13450.862 14296.399 15406.059 16618.873\n",
       "3  658.3394  690.8471  721.9100 ...  2832.991  2932.561  3062.856  3229.554\n",
       "4 5923.5854 6380.2780 6779.2646 ... 29231.506 30725.930 32304.807 33914.105\n",
       "5  785.5261  841.7524  889.2646 ...  4450.074  4641.496  4917.442  5283.547\n",
       "6 5019.0020 5442.7627 5789.4575 ... 25735.262 26490.363 27972.418 29376.928\n",
       "  97        98        99        100       pop_2008 last_gini\n",
       "1  6822.318  7775.891  9351.751 17754.324  2947314 33.2     \n",
       "2 18226.730 20528.305 24444.950 43669.242 40080160 41.4     \n",
       "3  3466.665  3758.602  4320.290  6566.159  2907618 34.4     \n",
       "4 36080.902 39450.555 44950.312 72216.680  8321496 29.7     \n",
       "5  5802.638  6366.059  7459.711 12023.727  8763400 26.6     \n",
       "6 31054.926 34044.560 39844.758 83104.470 10709973 27.4     "
      ]
     },
     "metadata": {},
     "output_type": "display_data"
    }
   ],
   "source": [
    "#on calcule manuellement les indices de Gini pour KHM et TWN à partir des quantiles de revenu\n",
    "\n",
    "#on crée un df contenant uniquement les quantiles pour chaque pays\n",
    "df_quantiles <- subset(data, select = -c(year_survey, nb_quantiles, gdpppp, pop_2008, last_gini) ) #on selectionne les pays et les quantiles dans le df initial\n",
    "\n",
    "#on calcule manuellement les indices de gini (fonction Gini de la librarie 'ineq')\n",
    "#KHM\n",
    "khm <- df_quantiles[df_quantiles$country == 'KHM']\n",
    "khm_gini <- round(Gini(t(khm)) * 100, 1)\n",
    "\n",
    "#TWN\n",
    "twn <- df_quantiles[df_quantiles['country'] == 'TWN',]\n",
    "twn <-subset(twn, select=-c(country))\n",
    "twn_gini <- round(Gini(twn) * 100, 1)\n",
    "\n",
    "#on remplace les valeurs dans le df data\n",
    "data[data$country == 'KHM', 'last_gini'] <- khm_gini\n",
    "data[data$country == 'TWN', 'last_gini'] <- twn_gini\n",
    "\n",
    "head(data)"
   ]
  },
  {
   "cell_type": "markdown",
   "metadata": {},
   "source": [
    "## MISSION 1"
   ]
  },
  {
   "cell_type": "markdown",
   "metadata": {},
   "source": [
    "### Années utilisées : "
   ]
  },
  {
   "cell_type": "code",
   "execution_count": 19,
   "metadata": {},
   "outputs": [
    {
     "data": {
      "image/png": "[encoded data removed]",
      "text/plain": [
       "plot without title"
      ]
     },
     "metadata": {},
     "output_type": "display_data"
    }
   ],
   "source": [
    "plot_annees <- ggplot(data, aes(x = year_survey)) + \n",
    "  geom_bar(fill=\"lightblue\") +\n",
    "  ggtitle(\"Années utilisées pour les données de quantiles de revenus\")\n",
    "plot_annees"
   ]
  },
  {
   "cell_type": "markdown",
   "metadata": {},
   "source": [
    "- La majorité des données pour les quantiles de revenus datent de 2008. Les années utilisées vont de 2004 à 2011.\n",
    "\n",
    "- Les indices de Gini utilisés sont pour chaque pays celui de la dernière année où l'indice est disponible ( d'après les données de la Banque Mondiale.\n",
    "\n",
    "- Les données de population sont les valeurs de l'année 2008, pour être cohérentes avec la majorité des données de quantiles de revenus."
   ]
  },
  {
   "cell_type": "markdown",
   "metadata": {},
   "source": [
    "### Nombre de pays présents : "
   ]
  },
  {
   "cell_type": "code",
   "execution_count": 20,
   "metadata": {},
   "outputs": [
    {
     "data": {
      "text/html": [
       "<table>\n",
       "<thead><tr><th scope=col>n</th></tr></thead>\n",
       "<tbody>\n",
       "\t<tr><td>116</td></tr>\n",
       "</tbody>\n",
       "</table>\n"
      ],
      "text/latex": [
       "\\begin{tabular}{r|l}\n",
       " n\\\\\n",
       "\\hline\n",
       "\t 116\\\\\n",
       "\\end{tabular}\n"
      ],
      "text/markdown": [
       "\n",
       "| n |\n",
       "|---|\n",
       "| 116 |\n",
       "\n"
      ],
      "text/plain": [
       "  n  \n",
       "1 116"
      ]
     },
     "metadata": {},
     "output_type": "display_data"
    }
   ],
   "source": [
    "count(data)"
   ]
  },
  {
   "cell_type": "markdown",
   "metadata": {},
   "source": [
    "- L'échantillon contient 116 pays."
   ]
  },
  {
   "cell_type": "markdown",
   "metadata": {},
   "source": [
    "### Population couverte par l'analyse (en termes de pourcentage de la population mondiale) :"
   ]
  },
  {
   "cell_type": "code",
   "execution_count": 21,
   "metadata": {},
   "outputs": [
    {
     "name": "stdout",
     "output_type": "stream",
     "text": [
      "[1] \"Population couverte par l'échantillon :  91.81 % de la population mondiale.\"\n"
     ]
    }
   ],
   "source": [
    "#on calcule la somme des populations des pays de l'échantillon\n",
    "pop_echantillon <- sum(data$pop_2008)\n",
    "\n",
    "#on rapporte cette valeur à la population mondiale (celle de 2008)\n",
    "pop_couverte <- pop_echantillon / pop_tot_2008\n",
    "\n",
    "print(paste('Population couverte par l\\'échantillon : ', round(pop_couverte * 100, 2), '% de la population mondiale.'))"
   ]
  },
  {
   "cell_type": "markdown",
   "metadata": {},
   "source": [
    "### Quantiles de la World Income Distribution : de quels quantiles s'agit-il ?"
   ]
  },
  {
   "cell_type": "markdown",
   "metadata": {},
   "source": [
    "- Il s'agit ici de centiles : la population de chaque pays est divisée en 100 centiles de revenu de taille égale"
   ]
  },
  {
   "cell_type": "markdown",
   "metadata": {},
   "source": [
    "### Échantillonner une population en utilisant des quantiles est-il selon vous une bonne méthode ? Pourquoi ?\n"
   ]
  },
  {
   "cell_type": "markdown",
   "metadata": {},
   "source": [
    "- Oui, l'analyse des quantiles est une bonne méthode puisqu'elle permet d'étudier des classes de revenu de tailles égale. Cela permet donc d'analyser la répartition des revenus, et de pouvoir faire des comparaisons entre différents pays ayant un nombre d'habitants différent."
   ]
  },
  {
   "cell_type": "markdown",
   "metadata": {},
   "source": [
    "### $PPP :"
   ]
  },
  {
   "cell_type": "markdown",
   "metadata": {},
   "source": [
    "- La parité de pouvoir d'achat (purchasing power parity)  permet de mesurer combien une monnaie permet d’acheter de biens et services en fonction du niveau des prix dans le pays considéré. Cette mesure se base sur un panier de biens universel, et permet de comparer les revenus entre les habitants de pays différents."
   ]
  },
  {
   "cell_type": "markdown",
   "metadata": {},
   "source": [
    "## MISSION 2"
   ]
  },
  {
   "cell_type": "code",
   "execution_count": 22,
   "metadata": {},
   "outputs": [
    {
     "data": {
      "text/html": [
       "<table>\n",
       "<thead><tr><th></th><th scope=col>Country.Name</th><th scope=col>country</th><th scope=col>Indicator.Name</th><th scope=col>Indicator.Code</th><th scope=col>X1960</th><th scope=col>X1961</th><th scope=col>X1962</th><th scope=col>X1963</th><th scope=col>X1964</th><th scope=col>X1965</th><th scope=col>...</th><th scope=col>X2012</th><th scope=col>X2013</th><th scope=col>X2014</th><th scope=col>X2015</th><th scope=col>X2016</th><th scope=col>X2017</th><th scope=col>X2018</th><th scope=col>X2019</th><th scope=col>X</th><th scope=col>nbre_na</th></tr></thead>\n",
       "<tbody>\n",
       "\t<tr><th scope=row>28</th><td>Brazil                          </td><td>BRA                             </td><td>GINI index (World Bank estimate)</td><td>SI.POV.GINI                     </td><td>NA                              </td><td>NA                              </td><td>NA                              </td><td>NA                              </td><td>NA                              </td><td>NA                              </td><td>...                             </td><td>53.5                            </td><td>52.8                            </td><td>52.1                            </td><td>51.9                            </td><td>53.3                            </td><td>53.3                            </td><td>53.9                            </td><td>NA                              </td><td>NA                              </td><td> 7                              </td></tr>\n",
       "\t<tr><th scope=row>47</th><td>Costa Rica                      </td><td>CRI                             </td><td>GINI index (World Bank estimate)</td><td>SI.POV.GINI                     </td><td>NA                              </td><td>NA                              </td><td>NA                              </td><td>NA                              </td><td>NA                              </td><td>NA                              </td><td>...                             </td><td>48.6                            </td><td>49.3                            </td><td>48.6                            </td><td>48.4                            </td><td>48.7                            </td><td>48.3                            </td><td>48.0                            </td><td>NA                              </td><td>NA                              </td><td> 9                              </td></tr>\n",
       "\t<tr><th scope=row>8</th><td>Argentina                       </td><td>ARG                             </td><td>GINI index (World Bank estimate)</td><td>SI.POV.GINI                     </td><td>NA                              </td><td>NA                              </td><td>NA                              </td><td>NA                              </td><td>NA                              </td><td>NA                              </td><td>...                             </td><td>41.4                            </td><td>41.0                            </td><td>41.7                            </td><td>  NA                            </td><td>42.0                            </td><td>41.2                            </td><td>41.4                            </td><td>NA                              </td><td>NA                              </td><td>11                              </td></tr>\n",
       "\t<tr><th scope=row>96</th><td>Honduras                        </td><td>HND                             </td><td>GINI index (World Bank estimate)</td><td>SI.POV.GINI                     </td><td>NA                              </td><td>NA                              </td><td>NA                              </td><td>NA                              </td><td>NA                              </td><td>NA                              </td><td>...                             </td><td>56.1                            </td><td>52.6                            </td><td>50.4                            </td><td>49.6                            </td><td>51.1                            </td><td>50.5                            </td><td>52.1                            </td><td>NA                              </td><td>NA                              </td><td>12                              </td></tr>\n",
       "\t<tr><th scope=row>105</th><td>Indonesia                       </td><td>IDN                             </td><td>GINI index (World Bank estimate)</td><td>SI.POV.GINI                     </td><td>NA                              </td><td>NA                              </td><td>NA                              </td><td>NA                              </td><td>NA                              </td><td>NA                              </td><td>...                             </td><td>41.1                            </td><td>41.5                            </td><td>40.8                            </td><td>41.0                            </td><td>39.9                            </td><td>39.4                            </td><td>39.0                            </td><td>NA                              </td><td>NA                              </td><td>15                              </td></tr>\n",
       "\t<tr><th scope=row>184</th><td>Panama                          </td><td>PAN                             </td><td>GINI index (World Bank estimate)</td><td>SI.POV.GINI                     </td><td>NA                              </td><td>NA                              </td><td>NA                              </td><td>NA                              </td><td>NA                              </td><td>NA                              </td><td>...                             </td><td>51.7                            </td><td>51.5                            </td><td>50.5                            </td><td>50.8                            </td><td>50.4                            </td><td>49.9                            </td><td>49.2                            </td><td>NA                              </td><td>NA                              </td><td>16                              </td></tr>\n",
       "\t<tr><th scope=row>58</th><td>Dominican Republic              </td><td>DOM                             </td><td>GINI index (World Bank estimate)</td><td>SI.POV.GINI                     </td><td>NA                              </td><td>NA                              </td><td>NA                              </td><td>NA                              </td><td>NA                              </td><td>NA                              </td><td>...                             </td><td>46.1                            </td><td>47.7                            </td><td>44.3                            </td><td>45.2                            </td><td>45.7                            </td><td>42.2                            </td><td>43.7                            </td><td>NA                              </td><td>NA                              </td><td>17                              </td></tr>\n",
       "\t<tr><th scope=row>201</th><td>Russian Federation              </td><td>RUS                             </td><td>GINI index (World Bank estimate)</td><td>SI.POV.GINI                     </td><td>NA                              </td><td>NA                              </td><td>NA                              </td><td>NA                              </td><td>NA                              </td><td>NA                              </td><td>...                             </td><td>40.7                            </td><td>40.9                            </td><td>39.9                            </td><td>37.7                            </td><td>36.8                            </td><td>37.2                            </td><td>37.5                            </td><td>NA                              </td><td>NA                              </td><td>17                              </td></tr>\n",
       "\t<tr><th scope=row>210</th><td>El Salvador                     </td><td>SLV                             </td><td>GINI index (World Bank estimate)</td><td>SI.POV.GINI                     </td><td>NA                              </td><td>NA                              </td><td>NA                              </td><td>NA                              </td><td>NA                              </td><td>NA                              </td><td>...                             </td><td>41.8                            </td><td>43.4                            </td><td>41.6                            </td><td>40.6                            </td><td>40.0                            </td><td>38.0                            </td><td>38.6                            </td><td>NA                              </td><td>NA                              </td><td>17                              </td></tr>\n",
       "\t<tr><th scope=row>232</th><td>Thailand                        </td><td>THA                             </td><td>GINI index (World Bank estimate)</td><td>SI.POV.GINI                     </td><td>NA                              </td><td>NA                              </td><td>NA                              </td><td>NA                              </td><td>NA                              </td><td>NA                              </td><td>...                             </td><td>39.3                            </td><td>37.8                            </td><td>37.0                            </td><td>36.0                            </td><td>36.9                            </td><td>36.5                            </td><td>36.4                            </td><td>NA                              </td><td>NA                              </td><td>17                              </td></tr>\n",
       "\t<tr><th scope=row>249</th><td>Uruguay                         </td><td>URY                             </td><td>GINI index (World Bank estimate)</td><td>SI.POV.GINI                     </td><td>NA                              </td><td>NA                              </td><td>NA                              </td><td>NA                              </td><td>NA                              </td><td>NA                              </td><td>...                             </td><td>39.9                            </td><td>40.4                            </td><td>40.1                            </td><td>40.1                            </td><td>39.7                            </td><td>39.5                            </td><td>39.7                            </td><td>NA                              </td><td>NA                              </td><td>17                              </td></tr>\n",
       "\t<tr><th scope=row>81</th><td>Georgia                         </td><td>GEO                             </td><td>GINI index (World Bank estimate)</td><td>SI.POV.GINI                     </td><td>NA                              </td><td>NA                              </td><td>NA                              </td><td>NA                              </td><td>NA                              </td><td>NA                              </td><td>...                             </td><td>39.0                            </td><td>38.6                            </td><td>37.6                            </td><td>36.5                            </td><td>36.6                            </td><td>37.9                            </td><td>36.4                            </td><td>NA                              </td><td>NA                              </td><td>18                              </td></tr>\n",
       "\t<tr><th scope=row>115</th><td>Italy                           </td><td>ITA                             </td><td>GINI index (World Bank estimate)</td><td>SI.POV.GINI                     </td><td>NA                              </td><td>NA                              </td><td>NA                              </td><td>NA                              </td><td>NA                              </td><td>NA                              </td><td>...                             </td><td>35.2                            </td><td>34.9                            </td><td>34.7                            </td><td>35.4                            </td><td>35.2                            </td><td>35.9                            </td><td>  NA                            </td><td>NA                              </td><td>NA                              </td><td>18                              </td></tr>\n",
       "\t<tr><th scope=row>149</th><td>Moldova                         </td><td>MDA                             </td><td>GINI index (World Bank estimate)</td><td>SI.POV.GINI                     </td><td>NA                              </td><td>NA                              </td><td>NA                              </td><td>NA                              </td><td>NA                              </td><td>NA                              </td><td>...                             </td><td>29.2                            </td><td>28.5                            </td><td>26.8                            </td><td>27.0                            </td><td>26.3                            </td><td>25.9                            </td><td>25.7                            </td><td>NA                              </td><td>NA                              </td><td>19                              </td></tr>\n",
       "\t<tr><th scope=row>185</th><td>Peru                            </td><td>PER                             </td><td>GINI index (World Bank estimate)</td><td>SI.POV.GINI                     </td><td>NA                              </td><td>NA                              </td><td>NA                              </td><td>NA                              </td><td>NA                              </td><td>NA                              </td><td>...                             </td><td>44.4                            </td><td>43.9                            </td><td>43.2                            </td><td>43.4                            </td><td>43.6                            </td><td>43.3                            </td><td>42.8                            </td><td>NA                              </td><td>NA                              </td><td>19                              </td></tr>\n",
       "\t<tr><th scope=row>194</th><td>Paraguay                        </td><td>PRY                             </td><td>GINI index (World Bank estimate)</td><td>SI.POV.GINI                     </td><td>NA                              </td><td>NA                              </td><td>NA                              </td><td>NA                              </td><td>NA                              </td><td>NA                              </td><td>...                             </td><td>47.6                            </td><td>47.9                            </td><td>50.7                            </td><td>47.6                            </td><td>47.9                            </td><td>48.8                            </td><td>46.2                            </td><td>NA                              </td><td>NA                              </td><td>19                              </td></tr>\n",
       "\t<tr><th scope=row>16</th><td>Belgium                         </td><td>BEL                             </td><td>GINI index (World Bank estimate)</td><td>SI.POV.GINI                     </td><td>NA                              </td><td>NA                              </td><td>NA                              </td><td>NA                              </td><td>NA                              </td><td>NA                              </td><td>...                             </td><td>27.5                            </td><td>27.7                            </td><td>28.1                            </td><td>27.7                            </td><td>27.6                            </td><td>27.4                            </td><td>  NA                            </td><td>NA                              </td><td>NA                              </td><td>20                              </td></tr>\n",
       "\t<tr><th scope=row>24</th><td>Belarus                         </td><td>BLR                             </td><td>GINI index (World Bank estimate)</td><td>SI.POV.GINI                     </td><td>NA                              </td><td>NA                              </td><td>NA                              </td><td>NA                              </td><td>NA                              </td><td>NA                              </td><td>...                             </td><td>26.5                            </td><td>26.6                            </td><td>27.2                            </td><td>25.6                            </td><td>25.3                            </td><td>25.4                            </td><td>25.2                            </td><td>NA                              </td><td>NA                              </td><td>20                              </td></tr>\n",
       "\t<tr><th scope=row>189</th><td>Poland                          </td><td>POL                             </td><td>GINI index (World Bank estimate)</td><td>SI.POV.GINI                     </td><td>NA                              </td><td>NA                              </td><td>NA                              </td><td>NA                              </td><td>NA                              </td><td>NA                              </td><td>...                             </td><td>33.0                            </td><td>33.1                            </td><td>32.8                            </td><td>31.8                            </td><td>31.2                            </td><td>29.7                            </td><td>  NA                            </td><td>NA                              </td><td>NA                              </td><td>20                              </td></tr>\n",
       "\t<tr><th scope=row>247</th><td>Ukraine                         </td><td>UKR                             </td><td>GINI index (World Bank estimate)</td><td>SI.POV.GINI                     </td><td>NA                              </td><td>NA                              </td><td>NA                              </td><td>NA                              </td><td>NA                              </td><td>NA                              </td><td>...                             </td><td>24.7                            </td><td>24.6                            </td><td>24.0                            </td><td>25.5                            </td><td>25.0                            </td><td>26.0                            </td><td>26.1                            </td><td>NA                              </td><td>NA                              </td><td>20                              </td></tr>\n",
       "\t<tr><th scope=row>13</th><td>Austria                         </td><td>AUT                             </td><td>GINI index (World Bank estimate)</td><td>SI.POV.GINI                     </td><td>NA                              </td><td>NA                              </td><td>NA                              </td><td>NA                              </td><td>NA                              </td><td>NA                              </td><td>...                             </td><td>30.5                            </td><td>30.8                            </td><td>30.5                            </td><td>30.5                            </td><td>30.8                            </td><td>29.7                            </td><td>  NA                            </td><td>NA                              </td><td>NA                              </td><td>21                              </td></tr>\n",
       "\t<tr><th scope=row>27</th><td>Bolivia                         </td><td>BOL                             </td><td>GINI index (World Bank estimate)</td><td>SI.POV.GINI                     </td><td>NA                              </td><td>NA                              </td><td>NA                              </td><td>NA                              </td><td>NA                              </td><td>NA                              </td><td>...                             </td><td>46.6                            </td><td>47.6                            </td><td>47.8                            </td><td>46.7                            </td><td>44.6                            </td><td>44.0                            </td><td>42.2                            </td><td>NA                              </td><td>NA                              </td><td>21                              </td></tr>\n",
       "\t<tr><th scope=row>44</th><td>Colombia                        </td><td>COL                             </td><td>GINI index (World Bank estimate)</td><td>SI.POV.GINI                     </td><td>NA                              </td><td>NA                              </td><td>NA                              </td><td>NA                              </td><td>NA                              </td><td>NA                              </td><td>...                             </td><td>52.7                            </td><td>52.8                            </td><td>52.7                            </td><td>51.1                            </td><td>50.8                            </td><td>49.7                            </td><td>50.4                            </td><td>NA                              </td><td>NA                              </td><td>21                              </td></tr>\n",
       "\t<tr><th scope=row>69</th><td>Spain                           </td><td>ESP                             </td><td>GINI index (World Bank estimate)</td><td>SI.POV.GINI                     </td><td>NA                              </td><td>NA                              </td><td>NA                              </td><td>NA                              </td><td>NA                              </td><td>NA                              </td><td>...                             </td><td>35.4                            </td><td>36.2                            </td><td>36.1                            </td><td>36.2                            </td><td>35.8                            </td><td>34.7                            </td><td>  NA                            </td><td>NA                              </td><td>NA                              </td><td>21                              </td></tr>\n",
       "\t<tr><th scope=row>100</th><td>Hungary                         </td><td>HUN                             </td><td>GINI index (World Bank estimate)</td><td>SI.POV.GINI                     </td><td>NA                              </td><td>NA                              </td><td>NA                              </td><td>NA                              </td><td>NA                              </td><td>NA                              </td><td>...                             </td><td>30.8                            </td><td>31.5                            </td><td>30.9                            </td><td>30.4                            </td><td>30.3                            </td><td>30.6                            </td><td>  NA                            </td><td>NA                              </td><td>NA                              </td><td>21                              </td></tr>\n",
       "\t<tr><th scope=row>121</th><td>Kyrgyz Republic                 </td><td>KGZ                             </td><td>GINI index (World Bank estimate)</td><td>SI.POV.GINI                     </td><td>NA                              </td><td>NA                              </td><td>NA                              </td><td>NA                              </td><td>NA                              </td><td>NA                              </td><td>...                             </td><td>27.4                            </td><td>28.8                            </td><td>26.8                            </td><td>29.0                            </td><td>26.8                            </td><td>27.3                            </td><td>27.7                            </td><td>NA                              </td><td>NA                              </td><td>21                              </td></tr>\n",
       "\t<tr><th scope=row>143</th><td>Luxembourg                      </td><td>LUX                             </td><td>GINI index (World Bank estimate)</td><td>SI.POV.GINI                     </td><td>NA                              </td><td>NA                              </td><td>NA                              </td><td>NA                              </td><td>NA                              </td><td>NA                              </td><td>...                             </td><td>34.3                            </td><td>32.0                            </td><td>31.2                            </td><td>33.8                            </td><td>33.0                            </td><td>34.9                            </td><td>  NA                            </td><td>NA                              </td><td>NA                              </td><td>21                              </td></tr>\n",
       "\t<tr><th scope=row>222</th><td>Sweden                          </td><td>SWE                             </td><td>GINI index (World Bank estimate)</td><td>SI.POV.GINI                     </td><td>NA                              </td><td>NA                              </td><td>NA                              </td><td>NA                              </td><td>NA                              </td><td>NA                              </td><td>...                             </td><td>27.6                            </td><td>28.8                            </td><td>28.4                            </td><td>29.2                            </td><td>29.6                            </td><td>28.8                            </td><td>  NA                            </td><td>NA                              </td><td>NA                              </td><td>21                              </td></tr>\n",
       "\t<tr><th scope=row>9</th><td>Armenia                         </td><td>ARM                             </td><td>GINI index (World Bank estimate)</td><td>SI.POV.GINI                     </td><td>NA                              </td><td>NA                              </td><td>NA                              </td><td>NA                              </td><td>NA                              </td><td>NA                              </td><td>...                             </td><td>29.6                            </td><td>30.6                            </td><td>31.5                            </td><td>32.4                            </td><td>32.5                            </td><td>33.6                            </td><td>34.4                            </td><td>NA                              </td><td>NA                              </td><td>22                              </td></tr>\n",
       "\t<tr><th scope=row>54</th><td>Germany                         </td><td>DEU                             </td><td>GINI index (World Bank estimate)</td><td>SI.POV.GINI                     </td><td>NA                              </td><td>NA                              </td><td>NA                              </td><td>NA                              </td><td>NA                              </td><td>NA                              </td><td>...                             </td><td>  NA                            </td><td>31.1                            </td><td>  NA                            </td><td>31.7                            </td><td>31.9                            </td><td>  NA                            </td><td>  NA                            </td><td>NA                              </td><td>NA                              </td><td>22                              </td></tr>\n",
       "\t<tr><th scope=row>57</th><td>Denmark                         </td><td>DNK                             </td><td>GINI index (World Bank estimate)</td><td>SI.POV.GINI                     </td><td>NA                              </td><td>NA                              </td><td>NA                              </td><td>NA                              </td><td>NA                              </td><td>NA                              </td><td>...                             </td><td>27.8                            </td><td>28.5                            </td><td>28.4                            </td><td>28.2                            </td><td>28.2                            </td><td>28.7                            </td><td>  NA                            </td><td>NA                              </td><td>NA                              </td><td>22                              </td></tr>\n",
       "\t<tr><th scope=row>65</th><td>Ecuador                         </td><td>ECU                             </td><td>GINI index (World Bank estimate)</td><td>SI.POV.GINI                     </td><td>NA                              </td><td>NA                              </td><td>NA                              </td><td>NA                              </td><td>NA                              </td><td>NA                              </td><td>...                             </td><td>46.1                            </td><td>46.9                            </td><td>45.0                            </td><td>46.0                            </td><td>45.0                            </td><td>44.7                            </td><td>45.4                            </td><td>NA                              </td><td>NA                              </td><td>22                              </td></tr>\n",
       "\t<tr><th scope=row>74</th><td>Finland                         </td><td>FIN                             </td><td>GINI index (World Bank estimate)</td><td>SI.POV.GINI                     </td><td>NA                              </td><td>NA                              </td><td>NA                              </td><td>NA                              </td><td>NA                              </td><td>NA                              </td><td>...                             </td><td>27.1                            </td><td>27.2                            </td><td>26.8                            </td><td>27.1                            </td><td>27.1                            </td><td>27.4                            </td><td>  NA                            </td><td>NA                              </td><td>NA                              </td><td>22                              </td></tr>\n",
       "\t<tr><th scope=row>76</th><td>France                          </td><td>FRA                             </td><td>GINI index (World Bank estimate)</td><td>SI.POV.GINI                     </td><td>NA                              </td><td>NA                              </td><td>NA                              </td><td>NA                              </td><td>NA                              </td><td>NA                              </td><td>...                             </td><td>33.1                            </td><td>32.5                            </td><td>32.3                            </td><td>32.7                            </td><td>31.9                            </td><td>31.6                            </td><td>  NA                            </td><td>NA                              </td><td>NA                              </td><td>22                              </td></tr>\n",
       "\t<tr><th scope=row>110</th><td>Ireland                         </td><td>IRL                             </td><td>GINI index (World Bank estimate)</td><td>SI.POV.GINI                     </td><td>NA                              </td><td>NA                              </td><td>NA                              </td><td>NA                              </td><td>NA                              </td><td>NA                              </td><td>...                             </td><td>33.2                            </td><td>33.5                            </td><td>31.9                            </td><td>31.8                            </td><td>32.8                            </td><td>  NA                            </td><td>  NA                            </td><td>NA                              </td><td>NA                              </td><td>22                              </td></tr>\n",
       "\t<tr><th scope=row>175</th><td>Netherlands                     </td><td>NLD                             </td><td>GINI index (World Bank estimate)</td><td>SI.POV.GINI                     </td><td>NA                              </td><td>NA                              </td><td>NA                              </td><td>NA                              </td><td>NA                              </td><td>NA                              </td><td>...                             </td><td>27.6                            </td><td>28.1                            </td><td>28.6                            </td><td>28.2                            </td><td>28.2                            </td><td>28.5                            </td><td>  NA                            </td><td>NA                              </td><td>NA                              </td><td>22                              </td></tr>\n",
       "\t<tr><th scope=row>176</th><td>Norway                          </td><td>NOR                             </td><td>GINI index (World Bank estimate)</td><td>SI.POV.GINI                     </td><td>NA                              </td><td>NA                              </td><td>NA                              </td><td>NA                              </td><td>NA                              </td><td>NA                              </td><td>...                             </td><td>25.7                            </td><td>26.4                            </td><td>26.8                            </td><td>27.5                            </td><td>28.5                            </td><td>27.0                            </td><td>  NA                            </td><td>NA                              </td><td>NA                              </td><td>22                              </td></tr>\n",
       "\t<tr><th scope=row>243</th><td>Turkey                          </td><td>TUR                             </td><td>GINI index (World Bank estimate)</td><td>SI.POV.GINI                     </td><td>NA                              </td><td>NA                              </td><td>NA                              </td><td>NA                              </td><td>NA                              </td><td>NA                              </td><td>...                             </td><td>40.2                            </td><td>40.2                            </td><td>41.2                            </td><td>42.9                            </td><td>41.9                            </td><td>41.4                            </td><td>41.9                            </td><td>NA                              </td><td>NA                              </td><td>22                              </td></tr>\n",
       "\t<tr><th scope=row>53</th><td>Czech Republic                  </td><td>CZE                             </td><td>GINI index (World Bank estimate)</td><td>SI.POV.GINI                     </td><td>NA                              </td><td>NA                              </td><td>NA                              </td><td>NA                              </td><td>NA                              </td><td>NA                              </td><td>...                             </td><td>26.1                            </td><td>26.5                            </td><td>25.9                            </td><td>25.9                            </td><td>25.4                            </td><td>24.9                            </td><td>  NA                            </td><td>NA                              </td><td>NA                              </td><td>23                              </td></tr>\n",
       "\t<tr><th scope=row>80</th><td>United Kingdom                  </td><td>GBR                             </td><td>GINI index (World Bank estimate)</td><td>SI.POV.GINI                     </td><td>NA                              </td><td>NA                              </td><td>NA                              </td><td>NA                              </td><td>NA                              </td><td>NA                              </td><td>...                             </td><td>32.3                            </td><td>33.2                            </td><td>34.0                            </td><td>33.2                            </td><td>34.8                            </td><td>  NA                            </td><td>  NA                            </td><td>NA                              </td><td>NA                              </td><td>23                              </td></tr>\n",
       "\t<tr><th scope=row>119</th><td>Kazakhstan                      </td><td>KAZ                             </td><td>GINI index (World Bank estimate)</td><td>SI.POV.GINI                     </td><td>NA                              </td><td>NA                              </td><td>NA                              </td><td>NA                              </td><td>NA                              </td><td>NA                              </td><td>...                             </td><td>28.2                            </td><td>27.1                            </td><td>27.0                            </td><td>26.8                            </td><td>27.2                            </td><td>27.5                            </td><td>  NA                            </td><td>NA                              </td><td>NA                              </td><td>23                              </td></tr>\n",
       "\t<tr><th scope=row>221</th><td>Slovenia                        </td><td>SVN                             </td><td>GINI index (World Bank estimate)</td><td>SI.POV.GINI                     </td><td>NA                              </td><td>NA                              </td><td>NA                              </td><td>NA                              </td><td>NA                              </td><td>NA                              </td><td>...                             </td><td>25.6                            </td><td>26.2                            </td><td>25.7                            </td><td>25.4                            </td><td>24.8                            </td><td>24.2                            </td><td>  NA                            </td><td>NA                              </td><td>NA                              </td><td>23                              </td></tr>\n",
       "\t<tr><th scope=row>88</th><td>Greece                          </td><td>GRC                             </td><td>GINI index (World Bank estimate)</td><td>SI.POV.GINI                     </td><td>NA                              </td><td>NA                              </td><td>NA                              </td><td>NA                              </td><td>NA                              </td><td>NA                              </td><td>...                             </td><td>36.3                            </td><td>36.1                            </td><td>35.8                            </td><td>36.0                            </td><td>35.0                            </td><td>34.4                            </td><td>  NA                            </td><td>NA                              </td><td>NA                              </td><td>24                              </td></tr>\n",
       "\t<tr><th scope=row>144</th><td>Latvia                          </td><td>LVA                             </td><td>GINI index (World Bank estimate)</td><td>SI.POV.GINI                     </td><td>NA                              </td><td>NA                              </td><td>NA                              </td><td>NA                              </td><td>NA                              </td><td>NA                              </td><td>...                             </td><td>35.2                            </td><td>35.5                            </td><td>35.1                            </td><td>34.2                            </td><td>34.3                            </td><td>35.6                            </td><td>  NA                            </td><td>NA                              </td><td>NA                              </td><td>24                              </td></tr>\n",
       "\t<tr><th scope=row>200</th><td>Romania                         </td><td>ROU                             </td><td>GINI index (World Bank estimate)</td><td>SI.POV.GINI                     </td><td>NA                              </td><td>NA                              </td><td>NA                              </td><td>NA                              </td><td>NA                              </td><td>NA                              </td><td>...                             </td><td>36.5                            </td><td>36.9                            </td><td>36.0                            </td><td>35.9                            </td><td>34.4                            </td><td>36.0                            </td><td>  NA                            </td><td>NA                              </td><td>NA                              </td><td>24                              </td></tr>\n",
       "\t<tr><th scope=row>36</th><td>Switzerland                     </td><td>CHE                             </td><td>GINI index (World Bank estimate)</td><td>SI.POV.GINI                     </td><td>NA                              </td><td>NA                              </td><td>NA                              </td><td>NA                              </td><td>NA                              </td><td>NA                              </td><td>...                             </td><td>31.6                            </td><td>32.5                            </td><td>32.5                            </td><td>32.3                            </td><td>33.0                            </td><td>32.7                            </td><td>  NA                            </td><td>NA                              </td><td>NA                              </td><td>25                              </td></tr>\n",
       "\t<tr><th scope=row>70</th><td>Estonia                         </td><td>EST                             </td><td>GINI index (World Bank estimate)</td><td>SI.POV.GINI                     </td><td>NA                              </td><td>NA                              </td><td>NA                              </td><td>NA                              </td><td>NA                              </td><td>NA                              </td><td>...                             </td><td>32.9                            </td><td>35.1                            </td><td>34.6                            </td><td>32.7                            </td><td>31.2                            </td><td>30.4                            </td><td>  NA                            </td><td>NA                              </td><td>NA                              </td><td>25                              </td></tr>\n",
       "\t<tr><th scope=row>153</th><td>Mexico                          </td><td>MEX                             </td><td>GINI index (World Bank estimate)</td><td>SI.POV.GINI                     </td><td>NA                              </td><td>NA                              </td><td>NA                              </td><td>NA                              </td><td>NA                              </td><td>NA                              </td><td>...                             </td><td>48.7                            </td><td>  NA                            </td><td>48.7                            </td><td>  NA                            </td><td>46.3                            </td><td>  NA                            </td><td>45.4                            </td><td>NA                              </td><td>NA                              </td><td>25                              </td></tr>\n",
       "\t<tr><th scope=row>142</th><td>Lithuania                       </td><td>LTU                             </td><td>GINI index (World Bank estimate)</td><td>SI.POV.GINI                     </td><td>NA                              </td><td>NA                              </td><td>NA                              </td><td>NA                              </td><td>NA                              </td><td>NA                              </td><td>...                             </td><td>35.1                            </td><td>35.3                            </td><td>37.7                            </td><td>37.4                            </td><td>38.4                            </td><td>37.3                            </td><td>  NA                            </td><td>NA                              </td><td>NA                              </td><td>26                              </td></tr>\n",
       "\t<tr><th scope=row>193</th><td>Portugal                        </td><td>PRT                             </td><td>GINI index (World Bank estimate)</td><td>SI.POV.GINI                     </td><td>NA                              </td><td>NA                              </td><td>NA                              </td><td>NA                              </td><td>NA                              </td><td>NA                              </td><td>...                             </td><td>36.0                            </td><td>36.2                            </td><td>35.6                            </td><td>35.5                            </td><td>35.2                            </td><td>33.8                            </td><td>  NA                            </td><td>NA                              </td><td>NA                              </td><td>26                              </td></tr>\n",
       "</tbody>\n",
       "</table>\n"
      ],
      "text/latex": [
       "\\begin{tabular}{r|llllllllllllllllllllllllllllllllllllllllllllllllllllllllllllllllll}\n",
       "  & Country.Name & country & Indicator.Name & Indicator.Code & X1960 & X1961 & X1962 & X1963 & X1964 & X1965 & ... & X2012 & X2013 & X2014 & X2015 & X2016 & X2017 & X2018 & X2019 & X & nbre\\_na\\\\\n",
       "\\hline\n",
       "\t28 & Brazil                           & BRA                              & GINI index (World Bank estimate) & SI.POV.GINI                      & NA                               & NA                               & NA                               & NA                               & NA                               & NA                               & ...                              & 53.5                             & 52.8                             & 52.1                             & 51.9                             & 53.3                             & 53.3                             & 53.9                             & NA                               & NA                               &  7                              \\\\\n",
       "\t47 & Costa Rica                       & CRI                              & GINI index (World Bank estimate) & SI.POV.GINI                      & NA                               & NA                               & NA                               & NA                               & NA                               & NA                               & ...                              & 48.6                             & 49.3                             & 48.6                             & 48.4                             & 48.7                             & 48.3                             & 48.0                             & NA                               & NA                               &  9                              \\\\\n",
       "\t8 & Argentina                        & ARG                              & GINI index (World Bank estimate) & SI.POV.GINI                      & NA                               & NA                               & NA                               & NA                               & NA                               & NA                               & ...                              & 41.4                             & 41.0                             & 41.7                             &   NA                             & 42.0                             & 41.2                             & 41.4                             & NA                               & NA                               & 11                              \\\\\n",
       "\t96 & Honduras                         & HND                              & GINI index (World Bank estimate) & SI.POV.GINI                      & NA                               & NA                               & NA                               & NA                               & NA                               & NA                               & ...                              & 56.1                             & 52.6                             & 50.4                             & 49.6                             & 51.1                             & 50.5                             & 52.1                             & NA                               & NA                               & 12                              \\\\\n",
       "\t105 & Indonesia                        & IDN                              & GINI index (World Bank estimate) & SI.POV.GINI                      & NA                               & NA                               & NA                               & NA                               & NA                               & NA                               & ...                              & 41.1                             & 41.5                             & 40.8                             & 41.0                             & 39.9                             & 39.4                             & 39.0                             & NA                               & NA                               & 15                              \\\\\n",
       "\t184 & Panama                           & PAN                              & GINI index (World Bank estimate) & SI.POV.GINI                      & NA                               & NA                               & NA                               & NA                               & NA                               & NA                               & ...                              & 51.7                             & 51.5                             & 50.5                             & 50.8                             & 50.4                             & 49.9                             & 49.2                             & NA                               & NA                               & 16                              \\\\\n",
       "\t58 & Dominican Republic               & DOM                              & GINI index (World Bank estimate) & SI.POV.GINI                      & NA                               & NA                               & NA                               & NA                               & NA                               & NA                               & ...                              & 46.1                             & 47.7                             & 44.3                             & 45.2                             & 45.7                             & 42.2                             & 43.7                             & NA                               & NA                               & 17                              \\\\\n",
       "\t201 & Russian Federation               & RUS                              & GINI index (World Bank estimate) & SI.POV.GINI                      & NA                               & NA                               & NA                               & NA                               & NA                               & NA                               & ...                              & 40.7                             & 40.9                             & 39.9                             & 37.7                             & 36.8                             & 37.2                             & 37.5                             & NA                               & NA                               & 17                              \\\\\n",
       "\t210 & El Salvador                      & SLV                              & GINI index (World Bank estimate) & SI.POV.GINI                      & NA                               & NA                               & NA                               & NA                               & NA                               & NA                               & ...                              & 41.8                             & 43.4                             & 41.6                             & 40.6                             & 40.0                             & 38.0                             & 38.6                             & NA                               & NA                               & 17                              \\\\\n",
       "\t232 & Thailand                         & THA                              & GINI index (World Bank estimate) & SI.POV.GINI                      & NA                               & NA                               & NA                               & NA                               & NA                               & NA                               & ...                              & 39.3                             & 37.8                             & 37.0                             & 36.0                             & 36.9                             & 36.5                             & 36.4                             & NA                               & NA                               & 17                              \\\\\n",
       "\t249 & Uruguay                          & URY                              & GINI index (World Bank estimate) & SI.POV.GINI                      & NA                               & NA                               & NA                               & NA                               & NA                               & NA                               & ...                              & 39.9                             & 40.4                             & 40.1                             & 40.1                             & 39.7                             & 39.5                             & 39.7                             & NA                               & NA                               & 17                              \\\\\n",
       "\t81 & Georgia                          & GEO                              & GINI index (World Bank estimate) & SI.POV.GINI                      & NA                               & NA                               & NA                               & NA                               & NA                               & NA                               & ...                              & 39.0                             & 38.6                             & 37.6                             & 36.5                             & 36.6                             & 37.9                             & 36.4                             & NA                               & NA                               & 18                              \\\\\n",
       "\t115 & Italy                            & ITA                              & GINI index (World Bank estimate) & SI.POV.GINI                      & NA                               & NA                               & NA                               & NA                               & NA                               & NA                               & ...                              & 35.2                             & 34.9                             & 34.7                             & 35.4                             & 35.2                             & 35.9                             &   NA                             & NA                               & NA                               & 18                              \\\\\n",
       "\t149 & Moldova                          & MDA                              & GINI index (World Bank estimate) & SI.POV.GINI                      & NA                               & NA                               & NA                               & NA                               & NA                               & NA                               & ...                              & 29.2                             & 28.5                             & 26.8                             & 27.0                             & 26.3                             & 25.9                             & 25.7                             & NA                               & NA                               & 19                              \\\\\n",
       "\t185 & Peru                             & PER                              & GINI index (World Bank estimate) & SI.POV.GINI                      & NA                               & NA                               & NA                               & NA                               & NA                               & NA                               & ...                              & 44.4                             & 43.9                             & 43.2                             & 43.4                             & 43.6                             & 43.3                             & 42.8                             & NA                               & NA                               & 19                              \\\\\n",
       "\t194 & Paraguay                         & PRY                              & GINI index (World Bank estimate) & SI.POV.GINI                      & NA                               & NA                               & NA                               & NA                               & NA                               & NA                               & ...                              & 47.6                             & 47.9                             & 50.7                             & 47.6                             & 47.9                             & 48.8                             & 46.2                             & NA                               & NA                               & 19                              \\\\\n",
       "\t16 & Belgium                          & BEL                              & GINI index (World Bank estimate) & SI.POV.GINI                      & NA                               & NA                               & NA                               & NA                               & NA                               & NA                               & ...                              & 27.5                             & 27.7                             & 28.1                             & 27.7                             & 27.6                             & 27.4                             &   NA                             & NA                               & NA                               & 20                              \\\\\n",
       "\t24 & Belarus                          & BLR                              & GINI index (World Bank estimate) & SI.POV.GINI                      & NA                               & NA                               & NA                               & NA                               & NA                               & NA                               & ...                              & 26.5                             & 26.6                             & 27.2                             & 25.6                             & 25.3                             & 25.4                             & 25.2                             & NA                               & NA                               & 20                              \\\\\n",
       "\t189 & Poland                           & POL                              & GINI index (World Bank estimate) & SI.POV.GINI                      & NA                               & NA                               & NA                               & NA                               & NA                               & NA                               & ...                              & 33.0                             & 33.1                             & 32.8                             & 31.8                             & 31.2                             & 29.7                             &   NA                             & NA                               & NA                               & 20                              \\\\\n",
       "\t247 & Ukraine                          & UKR                              & GINI index (World Bank estimate) & SI.POV.GINI                      & NA                               & NA                               & NA                               & NA                               & NA                               & NA                               & ...                              & 24.7                             & 24.6                             & 24.0                             & 25.5                             & 25.0                             & 26.0                             & 26.1                             & NA                               & NA                               & 20                              \\\\\n",
       "\t13 & Austria                          & AUT                              & GINI index (World Bank estimate) & SI.POV.GINI                      & NA                               & NA                               & NA                               & NA                               & NA                               & NA                               & ...                              & 30.5                             & 30.8                             & 30.5                             & 30.5                             & 30.8                             & 29.7                             &   NA                             & NA                               & NA                               & 21                              \\\\\n",
       "\t27 & Bolivia                          & BOL                              & GINI index (World Bank estimate) & SI.POV.GINI                      & NA                               & NA                               & NA                               & NA                               & NA                               & NA                               & ...                              & 46.6                             & 47.6                             & 47.8                             & 46.7                             & 44.6                             & 44.0                             & 42.2                             & NA                               & NA                               & 21                              \\\\\n",
       "\t44 & Colombia                         & COL                              & GINI index (World Bank estimate) & SI.POV.GINI                      & NA                               & NA                               & NA                               & NA                               & NA                               & NA                               & ...                              & 52.7                             & 52.8                             & 52.7                             & 51.1                             & 50.8                             & 49.7                             & 50.4                             & NA                               & NA                               & 21                              \\\\\n",
       "\t69 & Spain                            & ESP                              & GINI index (World Bank estimate) & SI.POV.GINI                      & NA                               & NA                               & NA                               & NA                               & NA                               & NA                               & ...                              & 35.4                             & 36.2                             & 36.1                             & 36.2                             & 35.8                             & 34.7                             &   NA                             & NA                               & NA                               & 21                              \\\\\n",
       "\t100 & Hungary                          & HUN                              & GINI index (World Bank estimate) & SI.POV.GINI                      & NA                               & NA                               & NA                               & NA                               & NA                               & NA                               & ...                              & 30.8                             & 31.5                             & 30.9                             & 30.4                             & 30.3                             & 30.6                             &   NA                             & NA                               & NA                               & 21                              \\\\\n",
       "\t121 & Kyrgyz Republic                  & KGZ                              & GINI index (World Bank estimate) & SI.POV.GINI                      & NA                               & NA                               & NA                               & NA                               & NA                               & NA                               & ...                              & 27.4                             & 28.8                             & 26.8                             & 29.0                             & 26.8                             & 27.3                             & 27.7                             & NA                               & NA                               & 21                              \\\\\n",
       "\t143 & Luxembourg                       & LUX                              & GINI index (World Bank estimate) & SI.POV.GINI                      & NA                               & NA                               & NA                               & NA                               & NA                               & NA                               & ...                              & 34.3                             & 32.0                             & 31.2                             & 33.8                             & 33.0                             & 34.9                             &   NA                             & NA                               & NA                               & 21                              \\\\\n",
       "\t222 & Sweden                           & SWE                              & GINI index (World Bank estimate) & SI.POV.GINI                      & NA                               & NA                               & NA                               & NA                               & NA                               & NA                               & ...                              & 27.6                             & 28.8                             & 28.4                             & 29.2                             & 29.6                             & 28.8                             &   NA                             & NA                               & NA                               & 21                              \\\\\n",
       "\t9 & Armenia                          & ARM                              & GINI index (World Bank estimate) & SI.POV.GINI                      & NA                               & NA                               & NA                               & NA                               & NA                               & NA                               & ...                              & 29.6                             & 30.6                             & 31.5                             & 32.4                             & 32.5                             & 33.6                             & 34.4                             & NA                               & NA                               & 22                              \\\\\n",
       "\t54 & Germany                          & DEU                              & GINI index (World Bank estimate) & SI.POV.GINI                      & NA                               & NA                               & NA                               & NA                               & NA                               & NA                               & ...                              &   NA                             & 31.1                             &   NA                             & 31.7                             & 31.9                             &   NA                             &   NA                             & NA                               & NA                               & 22                              \\\\\n",
       "\t57 & Denmark                          & DNK                              & GINI index (World Bank estimate) & SI.POV.GINI                      & NA                               & NA                               & NA                               & NA                               & NA                               & NA                               & ...                              & 27.8                             & 28.5                             & 28.4                             & 28.2                             & 28.2                             & 28.7                             &   NA                             & NA                               & NA                               & 22                              \\\\\n",
       "\t65 & Ecuador                          & ECU                              & GINI index (World Bank estimate) & SI.POV.GINI                      & NA                               & NA                               & NA                               & NA                               & NA                               & NA                               & ...                              & 46.1                             & 46.9                             & 45.0                             & 46.0                             & 45.0                             & 44.7                             & 45.4                             & NA                               & NA                               & 22                              \\\\\n",
       "\t74 & Finland                          & FIN                              & GINI index (World Bank estimate) & SI.POV.GINI                      & NA                               & NA                               & NA                               & NA                               & NA                               & NA                               & ...                              & 27.1                             & 27.2                             & 26.8                             & 27.1                             & 27.1                             & 27.4                             &   NA                             & NA                               & NA                               & 22                              \\\\\n",
       "\t76 & France                           & FRA                              & GINI index (World Bank estimate) & SI.POV.GINI                      & NA                               & NA                               & NA                               & NA                               & NA                               & NA                               & ...                              & 33.1                             & 32.5                             & 32.3                             & 32.7                             & 31.9                             & 31.6                             &   NA                             & NA                               & NA                               & 22                              \\\\\n",
       "\t110 & Ireland                          & IRL                              & GINI index (World Bank estimate) & SI.POV.GINI                      & NA                               & NA                               & NA                               & NA                               & NA                               & NA                               & ...                              & 33.2                             & 33.5                             & 31.9                             & 31.8                             & 32.8                             &   NA                             &   NA                             & NA                               & NA                               & 22                              \\\\\n",
       "\t175 & Netherlands                      & NLD                              & GINI index (World Bank estimate) & SI.POV.GINI                      & NA                               & NA                               & NA                               & NA                               & NA                               & NA                               & ...                              & 27.6                             & 28.1                             & 28.6                             & 28.2                             & 28.2                             & 28.5                             &   NA                             & NA                               & NA                               & 22                              \\\\\n",
       "\t176 & Norway                           & NOR                              & GINI index (World Bank estimate) & SI.POV.GINI                      & NA                               & NA                               & NA                               & NA                               & NA                               & NA                               & ...                              & 25.7                             & 26.4                             & 26.8                             & 27.5                             & 28.5                             & 27.0                             &   NA                             & NA                               & NA                               & 22                              \\\\\n",
       "\t243 & Turkey                           & TUR                              & GINI index (World Bank estimate) & SI.POV.GINI                      & NA                               & NA                               & NA                               & NA                               & NA                               & NA                               & ...                              & 40.2                             & 40.2                             & 41.2                             & 42.9                             & 41.9                             & 41.4                             & 41.9                             & NA                               & NA                               & 22                              \\\\\n",
       "\t53 & Czech Republic                   & CZE                              & GINI index (World Bank estimate) & SI.POV.GINI                      & NA                               & NA                               & NA                               & NA                               & NA                               & NA                               & ...                              & 26.1                             & 26.5                             & 25.9                             & 25.9                             & 25.4                             & 24.9                             &   NA                             & NA                               & NA                               & 23                              \\\\\n",
       "\t80 & United Kingdom                   & GBR                              & GINI index (World Bank estimate) & SI.POV.GINI                      & NA                               & NA                               & NA                               & NA                               & NA                               & NA                               & ...                              & 32.3                             & 33.2                             & 34.0                             & 33.2                             & 34.8                             &   NA                             &   NA                             & NA                               & NA                               & 23                              \\\\\n",
       "\t119 & Kazakhstan                       & KAZ                              & GINI index (World Bank estimate) & SI.POV.GINI                      & NA                               & NA                               & NA                               & NA                               & NA                               & NA                               & ...                              & 28.2                             & 27.1                             & 27.0                             & 26.8                             & 27.2                             & 27.5                             &   NA                             & NA                               & NA                               & 23                              \\\\\n",
       "\t221 & Slovenia                         & SVN                              & GINI index (World Bank estimate) & SI.POV.GINI                      & NA                               & NA                               & NA                               & NA                               & NA                               & NA                               & ...                              & 25.6                             & 26.2                             & 25.7                             & 25.4                             & 24.8                             & 24.2                             &   NA                             & NA                               & NA                               & 23                              \\\\\n",
       "\t88 & Greece                           & GRC                              & GINI index (World Bank estimate) & SI.POV.GINI                      & NA                               & NA                               & NA                               & NA                               & NA                               & NA                               & ...                              & 36.3                             & 36.1                             & 35.8                             & 36.0                             & 35.0                             & 34.4                             &   NA                             & NA                               & NA                               & 24                              \\\\\n",
       "\t144 & Latvia                           & LVA                              & GINI index (World Bank estimate) & SI.POV.GINI                      & NA                               & NA                               & NA                               & NA                               & NA                               & NA                               & ...                              & 35.2                             & 35.5                             & 35.1                             & 34.2                             & 34.3                             & 35.6                             &   NA                             & NA                               & NA                               & 24                              \\\\\n",
       "\t200 & Romania                          & ROU                              & GINI index (World Bank estimate) & SI.POV.GINI                      & NA                               & NA                               & NA                               & NA                               & NA                               & NA                               & ...                              & 36.5                             & 36.9                             & 36.0                             & 35.9                             & 34.4                             & 36.0                             &   NA                             & NA                               & NA                               & 24                              \\\\\n",
       "\t36 & Switzerland                      & CHE                              & GINI index (World Bank estimate) & SI.POV.GINI                      & NA                               & NA                               & NA                               & NA                               & NA                               & NA                               & ...                              & 31.6                             & 32.5                             & 32.5                             & 32.3                             & 33.0                             & 32.7                             &   NA                             & NA                               & NA                               & 25                              \\\\\n",
       "\t70 & Estonia                          & EST                              & GINI index (World Bank estimate) & SI.POV.GINI                      & NA                               & NA                               & NA                               & NA                               & NA                               & NA                               & ...                              & 32.9                             & 35.1                             & 34.6                             & 32.7                             & 31.2                             & 30.4                             &   NA                             & NA                               & NA                               & 25                              \\\\\n",
       "\t153 & Mexico                           & MEX                              & GINI index (World Bank estimate) & SI.POV.GINI                      & NA                               & NA                               & NA                               & NA                               & NA                               & NA                               & ...                              & 48.7                             &   NA                             & 48.7                             &   NA                             & 46.3                             &   NA                             & 45.4                             & NA                               & NA                               & 25                              \\\\\n",
       "\t142 & Lithuania                        & LTU                              & GINI index (World Bank estimate) & SI.POV.GINI                      & NA                               & NA                               & NA                               & NA                               & NA                               & NA                               & ...                              & 35.1                             & 35.3                             & 37.7                             & 37.4                             & 38.4                             & 37.3                             &   NA                             & NA                               & NA                               & 26                              \\\\\n",
       "\t193 & Portugal                         & PRT                              & GINI index (World Bank estimate) & SI.POV.GINI                      & NA                               & NA                               & NA                               & NA                               & NA                               & NA                               & ...                              & 36.0                             & 36.2                             & 35.6                             & 35.5                             & 35.2                             & 33.8                             &   NA                             & NA                               & NA                               & 26                              \\\\\n",
       "\\end{tabular}\n"
      ],
      "text/markdown": [
       "\n",
       "| <!--/--> | Country.Name | country | Indicator.Name | Indicator.Code | X1960 | X1961 | X1962 | X1963 | X1964 | X1965 | ... | X2012 | X2013 | X2014 | X2015 | X2016 | X2017 | X2018 | X2019 | X | nbre_na |\n",
       "|---|---|---|---|---|---|---|---|---|---|---|---|---|---|---|---|---|---|---|---|---|---|\n",
       "| 28 | Brazil                           | BRA                              | GINI index (World Bank estimate) | SI.POV.GINI                      | NA                               | NA                               | NA                               | NA                               | NA                               | NA                               | ...                              | 53.5                             | 52.8                             | 52.1                             | 51.9                             | 53.3                             | 53.3                             | 53.9                             | NA                               | NA                               |  7                               |\n",
       "| 47 | Costa Rica                       | CRI                              | GINI index (World Bank estimate) | SI.POV.GINI                      | NA                               | NA                               | NA                               | NA                               | NA                               | NA                               | ...                              | 48.6                             | 49.3                             | 48.6                             | 48.4                             | 48.7                             | 48.3                             | 48.0                             | NA                               | NA                               |  9                               |\n",
       "| 8 | Argentina                        | ARG                              | GINI index (World Bank estimate) | SI.POV.GINI                      | NA                               | NA                               | NA                               | NA                               | NA                               | NA                               | ...                              | 41.4                             | 41.0                             | 41.7                             |   NA                             | 42.0                             | 41.2                             | 41.4                             | NA                               | NA                               | 11                               |\n",
       "| 96 | Honduras                         | HND                              | GINI index (World Bank estimate) | SI.POV.GINI                      | NA                               | NA                               | NA                               | NA                               | NA                               | NA                               | ...                              | 56.1                             | 52.6                             | 50.4                             | 49.6                             | 51.1                             | 50.5                             | 52.1                             | NA                               | NA                               | 12                               |\n",
       "| 105 | Indonesia                        | IDN                              | GINI index (World Bank estimate) | SI.POV.GINI                      | NA                               | NA                               | NA                               | NA                               | NA                               | NA                               | ...                              | 41.1                             | 41.5                             | 40.8                             | 41.0                             | 39.9                             | 39.4                             | 39.0                             | NA                               | NA                               | 15                               |\n",
       "| 184 | Panama                           | PAN                              | GINI index (World Bank estimate) | SI.POV.GINI                      | NA                               | NA                               | NA                               | NA                               | NA                               | NA                               | ...                              | 51.7                             | 51.5                             | 50.5                             | 50.8                             | 50.4                             | 49.9                             | 49.2                             | NA                               | NA                               | 16                               |\n",
       "| 58 | Dominican Republic               | DOM                              | GINI index (World Bank estimate) | SI.POV.GINI                      | NA                               | NA                               | NA                               | NA                               | NA                               | NA                               | ...                              | 46.1                             | 47.7                             | 44.3                             | 45.2                             | 45.7                             | 42.2                             | 43.7                             | NA                               | NA                               | 17                               |\n",
       "| 201 | Russian Federation               | RUS                              | GINI index (World Bank estimate) | SI.POV.GINI                      | NA                               | NA                               | NA                               | NA                               | NA                               | NA                               | ...                              | 40.7                             | 40.9                             | 39.9                             | 37.7                             | 36.8                             | 37.2                             | 37.5                             | NA                               | NA                               | 17                               |\n",
       "| 210 | El Salvador                      | SLV                              | GINI index (World Bank estimate) | SI.POV.GINI                      | NA                               | NA                               | NA                               | NA                               | NA                               | NA                               | ...                              | 41.8                             | 43.4                             | 41.6                             | 40.6                             | 40.0                             | 38.0                             | 38.6                             | NA                               | NA                               | 17                               |\n",
       "| 232 | Thailand                         | THA                              | GINI index (World Bank estimate) | SI.POV.GINI                      | NA                               | NA                               | NA                               | NA                               | NA                               | NA                               | ...                              | 39.3                             | 37.8                             | 37.0                             | 36.0                             | 36.9                             | 36.5                             | 36.4                             | NA                               | NA                               | 17                               |\n",
       "| 249 | Uruguay                          | URY                              | GINI index (World Bank estimate) | SI.POV.GINI                      | NA                               | NA                               | NA                               | NA                               | NA                               | NA                               | ...                              | 39.9                             | 40.4                             | 40.1                             | 40.1                             | 39.7                             | 39.5                             | 39.7                             | NA                               | NA                               | 17                               |\n",
       "| 81 | Georgia                          | GEO                              | GINI index (World Bank estimate) | SI.POV.GINI                      | NA                               | NA                               | NA                               | NA                               | NA                               | NA                               | ...                              | 39.0                             | 38.6                             | 37.6                             | 36.5                             | 36.6                             | 37.9                             | 36.4                             | NA                               | NA                               | 18                               |\n",
       "| 115 | Italy                            | ITA                              | GINI index (World Bank estimate) | SI.POV.GINI                      | NA                               | NA                               | NA                               | NA                               | NA                               | NA                               | ...                              | 35.2                             | 34.9                             | 34.7                             | 35.4                             | 35.2                             | 35.9                             |   NA                             | NA                               | NA                               | 18                               |\n",
       "| 149 | Moldova                          | MDA                              | GINI index (World Bank estimate) | SI.POV.GINI                      | NA                               | NA                               | NA                               | NA                               | NA                               | NA                               | ...                              | 29.2                             | 28.5                             | 26.8                             | 27.0                             | 26.3                             | 25.9                             | 25.7                             | NA                               | NA                               | 19                               |\n",
       "| 185 | Peru                             | PER                              | GINI index (World Bank estimate) | SI.POV.GINI                      | NA                               | NA                               | NA                               | NA                               | NA                               | NA                               | ...                              | 44.4                             | 43.9                             | 43.2                             | 43.4                             | 43.6                             | 43.3                             | 42.8                             | NA                               | NA                               | 19                               |\n",
       "| 194 | Paraguay                         | PRY                              | GINI index (World Bank estimate) | SI.POV.GINI                      | NA                               | NA                               | NA                               | NA                               | NA                               | NA                               | ...                              | 47.6                             | 47.9                             | 50.7                             | 47.6                             | 47.9                             | 48.8                             | 46.2                             | NA                               | NA                               | 19                               |\n",
       "| 16 | Belgium                          | BEL                              | GINI index (World Bank estimate) | SI.POV.GINI                      | NA                               | NA                               | NA                               | NA                               | NA                               | NA                               | ...                              | 27.5                             | 27.7                             | 28.1                             | 27.7                             | 27.6                             | 27.4                             |   NA                             | NA                               | NA                               | 20                               |\n",
       "| 24 | Belarus                          | BLR                              | GINI index (World Bank estimate) | SI.POV.GINI                      | NA                               | NA                               | NA                               | NA                               | NA                               | NA                               | ...                              | 26.5                             | 26.6                             | 27.2                             | 25.6                             | 25.3                             | 25.4                             | 25.2                             | NA                               | NA                               | 20                               |\n",
       "| 189 | Poland                           | POL                              | GINI index (World Bank estimate) | SI.POV.GINI                      | NA                               | NA                               | NA                               | NA                               | NA                               | NA                               | ...                              | 33.0                             | 33.1                             | 32.8                             | 31.8                             | 31.2                             | 29.7                             |   NA                             | NA                               | NA                               | 20                               |\n",
       "| 247 | Ukraine                          | UKR                              | GINI index (World Bank estimate) | SI.POV.GINI                      | NA                               | NA                               | NA                               | NA                               | NA                               | NA                               | ...                              | 24.7                             | 24.6                             | 24.0                             | 25.5                             | 25.0                             | 26.0                             | 26.1                             | NA                               | NA                               | 20                               |\n",
       "| 13 | Austria                          | AUT                              | GINI index (World Bank estimate) | SI.POV.GINI                      | NA                               | NA                               | NA                               | NA                               | NA                               | NA                               | ...                              | 30.5                             | 30.8                             | 30.5                             | 30.5                             | 30.8                             | 29.7                             |   NA                             | NA                               | NA                               | 21                               |\n",
       "| 27 | Bolivia                          | BOL                              | GINI index (World Bank estimate) | SI.POV.GINI                      | NA                               | NA                               | NA                               | NA                               | NA                               | NA                               | ...                              | 46.6                             | 47.6                             | 47.8                             | 46.7                             | 44.6                             | 44.0                             | 42.2                             | NA                               | NA                               | 21                               |\n",
       "| 44 | Colombia                         | COL                              | GINI index (World Bank estimate) | SI.POV.GINI                      | NA                               | NA                               | NA                               | NA                               | NA                               | NA                               | ...                              | 52.7                             | 52.8                             | 52.7                             | 51.1                             | 50.8                             | 49.7                             | 50.4                             | NA                               | NA                               | 21                               |\n",
       "| 69 | Spain                            | ESP                              | GINI index (World Bank estimate) | SI.POV.GINI                      | NA                               | NA                               | NA                               | NA                               | NA                               | NA                               | ...                              | 35.4                             | 36.2                             | 36.1                             | 36.2                             | 35.8                             | 34.7                             |   NA                             | NA                               | NA                               | 21                               |\n",
       "| 100 | Hungary                          | HUN                              | GINI index (World Bank estimate) | SI.POV.GINI                      | NA                               | NA                               | NA                               | NA                               | NA                               | NA                               | ...                              | 30.8                             | 31.5                             | 30.9                             | 30.4                             | 30.3                             | 30.6                             |   NA                             | NA                               | NA                               | 21                               |\n",
       "| 121 | Kyrgyz Republic                  | KGZ                              | GINI index (World Bank estimate) | SI.POV.GINI                      | NA                               | NA                               | NA                               | NA                               | NA                               | NA                               | ...                              | 27.4                             | 28.8                             | 26.8                             | 29.0                             | 26.8                             | 27.3                             | 27.7                             | NA                               | NA                               | 21                               |\n",
       "| 143 | Luxembourg                       | LUX                              | GINI index (World Bank estimate) | SI.POV.GINI                      | NA                               | NA                               | NA                               | NA                               | NA                               | NA                               | ...                              | 34.3                             | 32.0                             | 31.2                             | 33.8                             | 33.0                             | 34.9                             |   NA                             | NA                               | NA                               | 21                               |\n",
       "| 222 | Sweden                           | SWE                              | GINI index (World Bank estimate) | SI.POV.GINI                      | NA                               | NA                               | NA                               | NA                               | NA                               | NA                               | ...                              | 27.6                             | 28.8                             | 28.4                             | 29.2                             | 29.6                             | 28.8                             |   NA                             | NA                               | NA                               | 21                               |\n",
       "| 9 | Armenia                          | ARM                              | GINI index (World Bank estimate) | SI.POV.GINI                      | NA                               | NA                               | NA                               | NA                               | NA                               | NA                               | ...                              | 29.6                             | 30.6                             | 31.5                             | 32.4                             | 32.5                             | 33.6                             | 34.4                             | NA                               | NA                               | 22                               |\n",
       "| 54 | Germany                          | DEU                              | GINI index (World Bank estimate) | SI.POV.GINI                      | NA                               | NA                               | NA                               | NA                               | NA                               | NA                               | ...                              |   NA                             | 31.1                             |   NA                             | 31.7                             | 31.9                             |   NA                             |   NA                             | NA                               | NA                               | 22                               |\n",
       "| 57 | Denmark                          | DNK                              | GINI index (World Bank estimate) | SI.POV.GINI                      | NA                               | NA                               | NA                               | NA                               | NA                               | NA                               | ...                              | 27.8                             | 28.5                             | 28.4                             | 28.2                             | 28.2                             | 28.7                             |   NA                             | NA                               | NA                               | 22                               |\n",
       "| 65 | Ecuador                          | ECU                              | GINI index (World Bank estimate) | SI.POV.GINI                      | NA                               | NA                               | NA                               | NA                               | NA                               | NA                               | ...                              | 46.1                             | 46.9                             | 45.0                             | 46.0                             | 45.0                             | 44.7                             | 45.4                             | NA                               | NA                               | 22                               |\n",
       "| 74 | Finland                          | FIN                              | GINI index (World Bank estimate) | SI.POV.GINI                      | NA                               | NA                               | NA                               | NA                               | NA                               | NA                               | ...                              | 27.1                             | 27.2                             | 26.8                             | 27.1                             | 27.1                             | 27.4                             |   NA                             | NA                               | NA                               | 22                               |\n",
       "| 76 | France                           | FRA                              | GINI index (World Bank estimate) | SI.POV.GINI                      | NA                               | NA                               | NA                               | NA                               | NA                               | NA                               | ...                              | 33.1                             | 32.5                             | 32.3                             | 32.7                             | 31.9                             | 31.6                             |   NA                             | NA                               | NA                               | 22                               |\n",
       "| 110 | Ireland                          | IRL                              | GINI index (World Bank estimate) | SI.POV.GINI                      | NA                               | NA                               | NA                               | NA                               | NA                               | NA                               | ...                              | 33.2                             | 33.5                             | 31.9                             | 31.8                             | 32.8                             |   NA                             |   NA                             | NA                               | NA                               | 22                               |\n",
       "| 175 | Netherlands                      | NLD                              | GINI index (World Bank estimate) | SI.POV.GINI                      | NA                               | NA                               | NA                               | NA                               | NA                               | NA                               | ...                              | 27.6                             | 28.1                             | 28.6                             | 28.2                             | 28.2                             | 28.5                             |   NA                             | NA                               | NA                               | 22                               |\n",
       "| 176 | Norway                           | NOR                              | GINI index (World Bank estimate) | SI.POV.GINI                      | NA                               | NA                               | NA                               | NA                               | NA                               | NA                               | ...                              | 25.7                             | 26.4                             | 26.8                             | 27.5                             | 28.5                             | 27.0                             |   NA                             | NA                               | NA                               | 22                               |\n",
       "| 243 | Turkey                           | TUR                              | GINI index (World Bank estimate) | SI.POV.GINI                      | NA                               | NA                               | NA                               | NA                               | NA                               | NA                               | ...                              | 40.2                             | 40.2                             | 41.2                             | 42.9                             | 41.9                             | 41.4                             | 41.9                             | NA                               | NA                               | 22                               |\n",
       "| 53 | Czech Republic                   | CZE                              | GINI index (World Bank estimate) | SI.POV.GINI                      | NA                               | NA                               | NA                               | NA                               | NA                               | NA                               | ...                              | 26.1                             | 26.5                             | 25.9                             | 25.9                             | 25.4                             | 24.9                             |   NA                             | NA                               | NA                               | 23                               |\n",
       "| 80 | United Kingdom                   | GBR                              | GINI index (World Bank estimate) | SI.POV.GINI                      | NA                               | NA                               | NA                               | NA                               | NA                               | NA                               | ...                              | 32.3                             | 33.2                             | 34.0                             | 33.2                             | 34.8                             |   NA                             |   NA                             | NA                               | NA                               | 23                               |\n",
       "| 119 | Kazakhstan                       | KAZ                              | GINI index (World Bank estimate) | SI.POV.GINI                      | NA                               | NA                               | NA                               | NA                               | NA                               | NA                               | ...                              | 28.2                             | 27.1                             | 27.0                             | 26.8                             | 27.2                             | 27.5                             |   NA                             | NA                               | NA                               | 23                               |\n",
       "| 221 | Slovenia                         | SVN                              | GINI index (World Bank estimate) | SI.POV.GINI                      | NA                               | NA                               | NA                               | NA                               | NA                               | NA                               | ...                              | 25.6                             | 26.2                             | 25.7                             | 25.4                             | 24.8                             | 24.2                             |   NA                             | NA                               | NA                               | 23                               |\n",
       "| 88 | Greece                           | GRC                              | GINI index (World Bank estimate) | SI.POV.GINI                      | NA                               | NA                               | NA                               | NA                               | NA                               | NA                               | ...                              | 36.3                             | 36.1                             | 35.8                             | 36.0                             | 35.0                             | 34.4                             |   NA                             | NA                               | NA                               | 24                               |\n",
       "| 144 | Latvia                           | LVA                              | GINI index (World Bank estimate) | SI.POV.GINI                      | NA                               | NA                               | NA                               | NA                               | NA                               | NA                               | ...                              | 35.2                             | 35.5                             | 35.1                             | 34.2                             | 34.3                             | 35.6                             |   NA                             | NA                               | NA                               | 24                               |\n",
       "| 200 | Romania                          | ROU                              | GINI index (World Bank estimate) | SI.POV.GINI                      | NA                               | NA                               | NA                               | NA                               | NA                               | NA                               | ...                              | 36.5                             | 36.9                             | 36.0                             | 35.9                             | 34.4                             | 36.0                             |   NA                             | NA                               | NA                               | 24                               |\n",
       "| 36 | Switzerland                      | CHE                              | GINI index (World Bank estimate) | SI.POV.GINI                      | NA                               | NA                               | NA                               | NA                               | NA                               | NA                               | ...                              | 31.6                             | 32.5                             | 32.5                             | 32.3                             | 33.0                             | 32.7                             |   NA                             | NA                               | NA                               | 25                               |\n",
       "| 70 | Estonia                          | EST                              | GINI index (World Bank estimate) | SI.POV.GINI                      | NA                               | NA                               | NA                               | NA                               | NA                               | NA                               | ...                              | 32.9                             | 35.1                             | 34.6                             | 32.7                             | 31.2                             | 30.4                             |   NA                             | NA                               | NA                               | 25                               |\n",
       "| 153 | Mexico                           | MEX                              | GINI index (World Bank estimate) | SI.POV.GINI                      | NA                               | NA                               | NA                               | NA                               | NA                               | NA                               | ...                              | 48.7                             |   NA                             | 48.7                             |   NA                             | 46.3                             |   NA                             | 45.4                             | NA                               | NA                               | 25                               |\n",
       "| 142 | Lithuania                        | LTU                              | GINI index (World Bank estimate) | SI.POV.GINI                      | NA                               | NA                               | NA                               | NA                               | NA                               | NA                               | ...                              | 35.1                             | 35.3                             | 37.7                             | 37.4                             | 38.4                             | 37.3                             |   NA                             | NA                               | NA                               | 26                               |\n",
       "| 193 | Portugal                         | PRT                              | GINI index (World Bank estimate) | SI.POV.GINI                      | NA                               | NA                               | NA                               | NA                               | NA                               | NA                               | ...                              | 36.0                             | 36.2                             | 35.6                             | 35.5                             | 35.2                             | 33.8                             |   NA                             | NA                               | NA                               | 26                               |\n",
       "\n"
      ],
      "text/plain": [
       "    Country.Name       country Indicator.Name                   Indicator.Code\n",
       "28  Brazil             BRA     GINI index (World Bank estimate) SI.POV.GINI   \n",
       "47  Costa Rica         CRI     GINI index (World Bank estimate) SI.POV.GINI   \n",
       "8   Argentina          ARG     GINI index (World Bank estimate) SI.POV.GINI   \n",
       "96  Honduras           HND     GINI index (World Bank estimate) SI.POV.GINI   \n",
       "105 Indonesia          IDN     GINI index (World Bank estimate) SI.POV.GINI   \n",
       "184 Panama             PAN     GINI index (World Bank estimate) SI.POV.GINI   \n",
       "58  Dominican Republic DOM     GINI index (World Bank estimate) SI.POV.GINI   \n",
       "201 Russian Federation RUS     GINI index (World Bank estimate) SI.POV.GINI   \n",
       "210 El Salvador        SLV     GINI index (World Bank estimate) SI.POV.GINI   \n",
       "232 Thailand           THA     GINI index (World Bank estimate) SI.POV.GINI   \n",
       "249 Uruguay            URY     GINI index (World Bank estimate) SI.POV.GINI   \n",
       "81  Georgia            GEO     GINI index (World Bank estimate) SI.POV.GINI   \n",
       "115 Italy              ITA     GINI index (World Bank estimate) SI.POV.GINI   \n",
       "149 Moldova            MDA     GINI index (World Bank estimate) SI.POV.GINI   \n",
       "185 Peru               PER     GINI index (World Bank estimate) SI.POV.GINI   \n",
       "194 Paraguay           PRY     GINI index (World Bank estimate) SI.POV.GINI   \n",
       "16  Belgium            BEL     GINI index (World Bank estimate) SI.POV.GINI   \n",
       "24  Belarus            BLR     GINI index (World Bank estimate) SI.POV.GINI   \n",
       "189 Poland             POL     GINI index (World Bank estimate) SI.POV.GINI   \n",
       "247 Ukraine            UKR     GINI index (World Bank estimate) SI.POV.GINI   \n",
       "13  Austria            AUT     GINI index (World Bank estimate) SI.POV.GINI   \n",
       "27  Bolivia            BOL     GINI index (World Bank estimate) SI.POV.GINI   \n",
       "44  Colombia           COL     GINI index (World Bank estimate) SI.POV.GINI   \n",
       "69  Spain              ESP     GINI index (World Bank estimate) SI.POV.GINI   \n",
       "100 Hungary            HUN     GINI index (World Bank estimate) SI.POV.GINI   \n",
       "121 Kyrgyz Republic    KGZ     GINI index (World Bank estimate) SI.POV.GINI   \n",
       "143 Luxembourg         LUX     GINI index (World Bank estimate) SI.POV.GINI   \n",
       "222 Sweden             SWE     GINI index (World Bank estimate) SI.POV.GINI   \n",
       "9   Armenia            ARM     GINI index (World Bank estimate) SI.POV.GINI   \n",
       "54  Germany            DEU     GINI index (World Bank estimate) SI.POV.GINI   \n",
       "57  Denmark            DNK     GINI index (World Bank estimate) SI.POV.GINI   \n",
       "65  Ecuador            ECU     GINI index (World Bank estimate) SI.POV.GINI   \n",
       "74  Finland            FIN     GINI index (World Bank estimate) SI.POV.GINI   \n",
       "76  France             FRA     GINI index (World Bank estimate) SI.POV.GINI   \n",
       "110 Ireland            IRL     GINI index (World Bank estimate) SI.POV.GINI   \n",
       "175 Netherlands        NLD     GINI index (World Bank estimate) SI.POV.GINI   \n",
       "176 Norway             NOR     GINI index (World Bank estimate) SI.POV.GINI   \n",
       "243 Turkey             TUR     GINI index (World Bank estimate) SI.POV.GINI   \n",
       "53  Czech Republic     CZE     GINI index (World Bank estimate) SI.POV.GINI   \n",
       "80  United Kingdom     GBR     GINI index (World Bank estimate) SI.POV.GINI   \n",
       "119 Kazakhstan         KAZ     GINI index (World Bank estimate) SI.POV.GINI   \n",
       "221 Slovenia           SVN     GINI index (World Bank estimate) SI.POV.GINI   \n",
       "88  Greece             GRC     GINI index (World Bank estimate) SI.POV.GINI   \n",
       "144 Latvia             LVA     GINI index (World Bank estimate) SI.POV.GINI   \n",
       "200 Romania            ROU     GINI index (World Bank estimate) SI.POV.GINI   \n",
       "36  Switzerland        CHE     GINI index (World Bank estimate) SI.POV.GINI   \n",
       "70  Estonia            EST     GINI index (World Bank estimate) SI.POV.GINI   \n",
       "153 Mexico             MEX     GINI index (World Bank estimate) SI.POV.GINI   \n",
       "142 Lithuania          LTU     GINI index (World Bank estimate) SI.POV.GINI   \n",
       "193 Portugal           PRT     GINI index (World Bank estimate) SI.POV.GINI   \n",
       "    X1960 X1961 X1962 X1963 X1964 X1965 ... X2012 X2013 X2014 X2015 X2016 X2017\n",
       "28  NA    NA    NA    NA    NA    NA    ... 53.5  52.8  52.1  51.9  53.3  53.3 \n",
       "47  NA    NA    NA    NA    NA    NA    ... 48.6  49.3  48.6  48.4  48.7  48.3 \n",
       "8   NA    NA    NA    NA    NA    NA    ... 41.4  41.0  41.7    NA  42.0  41.2 \n",
       "96  NA    NA    NA    NA    NA    NA    ... 56.1  52.6  50.4  49.6  51.1  50.5 \n",
       "105 NA    NA    NA    NA    NA    NA    ... 41.1  41.5  40.8  41.0  39.9  39.4 \n",
       "184 NA    NA    NA    NA    NA    NA    ... 51.7  51.5  50.5  50.8  50.4  49.9 \n",
       "58  NA    NA    NA    NA    NA    NA    ... 46.1  47.7  44.3  45.2  45.7  42.2 \n",
       "201 NA    NA    NA    NA    NA    NA    ... 40.7  40.9  39.9  37.7  36.8  37.2 \n",
       "210 NA    NA    NA    NA    NA    NA    ... 41.8  43.4  41.6  40.6  40.0  38.0 \n",
       "232 NA    NA    NA    NA    NA    NA    ... 39.3  37.8  37.0  36.0  36.9  36.5 \n",
       "249 NA    NA    NA    NA    NA    NA    ... 39.9  40.4  40.1  40.1  39.7  39.5 \n",
       "81  NA    NA    NA    NA    NA    NA    ... 39.0  38.6  37.6  36.5  36.6  37.9 \n",
       "115 NA    NA    NA    NA    NA    NA    ... 35.2  34.9  34.7  35.4  35.2  35.9 \n",
       "149 NA    NA    NA    NA    NA    NA    ... 29.2  28.5  26.8  27.0  26.3  25.9 \n",
       "185 NA    NA    NA    NA    NA    NA    ... 44.4  43.9  43.2  43.4  43.6  43.3 \n",
       "194 NA    NA    NA    NA    NA    NA    ... 47.6  47.9  50.7  47.6  47.9  48.8 \n",
       "16  NA    NA    NA    NA    NA    NA    ... 27.5  27.7  28.1  27.7  27.6  27.4 \n",
       "24  NA    NA    NA    NA    NA    NA    ... 26.5  26.6  27.2  25.6  25.3  25.4 \n",
       "189 NA    NA    NA    NA    NA    NA    ... 33.0  33.1  32.8  31.8  31.2  29.7 \n",
       "247 NA    NA    NA    NA    NA    NA    ... 24.7  24.6  24.0  25.5  25.0  26.0 \n",
       "13  NA    NA    NA    NA    NA    NA    ... 30.5  30.8  30.5  30.5  30.8  29.7 \n",
       "27  NA    NA    NA    NA    NA    NA    ... 46.6  47.6  47.8  46.7  44.6  44.0 \n",
       "44  NA    NA    NA    NA    NA    NA    ... 52.7  52.8  52.7  51.1  50.8  49.7 \n",
       "69  NA    NA    NA    NA    NA    NA    ... 35.4  36.2  36.1  36.2  35.8  34.7 \n",
       "100 NA    NA    NA    NA    NA    NA    ... 30.8  31.5  30.9  30.4  30.3  30.6 \n",
       "121 NA    NA    NA    NA    NA    NA    ... 27.4  28.8  26.8  29.0  26.8  27.3 \n",
       "143 NA    NA    NA    NA    NA    NA    ... 34.3  32.0  31.2  33.8  33.0  34.9 \n",
       "222 NA    NA    NA    NA    NA    NA    ... 27.6  28.8  28.4  29.2  29.6  28.8 \n",
       "9   NA    NA    NA    NA    NA    NA    ... 29.6  30.6  31.5  32.4  32.5  33.6 \n",
       "54  NA    NA    NA    NA    NA    NA    ...   NA  31.1    NA  31.7  31.9    NA \n",
       "57  NA    NA    NA    NA    NA    NA    ... 27.8  28.5  28.4  28.2  28.2  28.7 \n",
       "65  NA    NA    NA    NA    NA    NA    ... 46.1  46.9  45.0  46.0  45.0  44.7 \n",
       "74  NA    NA    NA    NA    NA    NA    ... 27.1  27.2  26.8  27.1  27.1  27.4 \n",
       "76  NA    NA    NA    NA    NA    NA    ... 33.1  32.5  32.3  32.7  31.9  31.6 \n",
       "110 NA    NA    NA    NA    NA    NA    ... 33.2  33.5  31.9  31.8  32.8    NA \n",
       "175 NA    NA    NA    NA    NA    NA    ... 27.6  28.1  28.6  28.2  28.2  28.5 \n",
       "176 NA    NA    NA    NA    NA    NA    ... 25.7  26.4  26.8  27.5  28.5  27.0 \n",
       "243 NA    NA    NA    NA    NA    NA    ... 40.2  40.2  41.2  42.9  41.9  41.4 \n",
       "53  NA    NA    NA    NA    NA    NA    ... 26.1  26.5  25.9  25.9  25.4  24.9 \n",
       "80  NA    NA    NA    NA    NA    NA    ... 32.3  33.2  34.0  33.2  34.8    NA \n",
       "119 NA    NA    NA    NA    NA    NA    ... 28.2  27.1  27.0  26.8  27.2  27.5 \n",
       "221 NA    NA    NA    NA    NA    NA    ... 25.6  26.2  25.7  25.4  24.8  24.2 \n",
       "88  NA    NA    NA    NA    NA    NA    ... 36.3  36.1  35.8  36.0  35.0  34.4 \n",
       "144 NA    NA    NA    NA    NA    NA    ... 35.2  35.5  35.1  34.2  34.3  35.6 \n",
       "200 NA    NA    NA    NA    NA    NA    ... 36.5  36.9  36.0  35.9  34.4  36.0 \n",
       "36  NA    NA    NA    NA    NA    NA    ... 31.6  32.5  32.5  32.3  33.0  32.7 \n",
       "70  NA    NA    NA    NA    NA    NA    ... 32.9  35.1  34.6  32.7  31.2  30.4 \n",
       "153 NA    NA    NA    NA    NA    NA    ... 48.7    NA  48.7    NA  46.3    NA \n",
       "142 NA    NA    NA    NA    NA    NA    ... 35.1  35.3  37.7  37.4  38.4  37.3 \n",
       "193 NA    NA    NA    NA    NA    NA    ... 36.0  36.2  35.6  35.5  35.2  33.8 \n",
       "    X2018 X2019 X  nbre_na\n",
       "28  53.9  NA    NA  7     \n",
       "47  48.0  NA    NA  9     \n",
       "8   41.4  NA    NA 11     \n",
       "96  52.1  NA    NA 12     \n",
       "105 39.0  NA    NA 15     \n",
       "184 49.2  NA    NA 16     \n",
       "58  43.7  NA    NA 17     \n",
       "201 37.5  NA    NA 17     \n",
       "210 38.6  NA    NA 17     \n",
       "232 36.4  NA    NA 17     \n",
       "249 39.7  NA    NA 17     \n",
       "81  36.4  NA    NA 18     \n",
       "115   NA  NA    NA 18     \n",
       "149 25.7  NA    NA 19     \n",
       "185 42.8  NA    NA 19     \n",
       "194 46.2  NA    NA 19     \n",
       "16    NA  NA    NA 20     \n",
       "24  25.2  NA    NA 20     \n",
       "189   NA  NA    NA 20     \n",
       "247 26.1  NA    NA 20     \n",
       "13    NA  NA    NA 21     \n",
       "27  42.2  NA    NA 21     \n",
       "44  50.4  NA    NA 21     \n",
       "69    NA  NA    NA 21     \n",
       "100   NA  NA    NA 21     \n",
       "121 27.7  NA    NA 21     \n",
       "143   NA  NA    NA 21     \n",
       "222   NA  NA    NA 21     \n",
       "9   34.4  NA    NA 22     \n",
       "54    NA  NA    NA 22     \n",
       "57    NA  NA    NA 22     \n",
       "65  45.4  NA    NA 22     \n",
       "74    NA  NA    NA 22     \n",
       "76    NA  NA    NA 22     \n",
       "110   NA  NA    NA 22     \n",
       "175   NA  NA    NA 22     \n",
       "176   NA  NA    NA 22     \n",
       "243 41.9  NA    NA 22     \n",
       "53    NA  NA    NA 23     \n",
       "80    NA  NA    NA 23     \n",
       "119   NA  NA    NA 23     \n",
       "221   NA  NA    NA 23     \n",
       "88    NA  NA    NA 24     \n",
       "144   NA  NA    NA 24     \n",
       "200   NA  NA    NA 24     \n",
       "36    NA  NA    NA 25     \n",
       "70    NA  NA    NA 25     \n",
       "153 45.4  NA    NA 25     \n",
       "142   NA  NA    NA 26     \n",
       "193   NA  NA    NA 26     "
      ]
     },
     "metadata": {},
     "output_type": "display_data"
    }
   ],
   "source": [
    "#Selection des pays à comparer. On affiche les pays qui disposent d'assez de données pour l'indice de Gini à partir de 1980\n",
    "\n",
    "#on ajoute une colonne comptant le nombre de NA dans le df indices_gini (depuis 1980)\n",
    "indices_gini$nbre_na <- apply(indices_gini[tail(seq_along(indices_gini),41)], 1, function(x) sum(is.na(x)))\n",
    "                              \n",
    "head(indices_gini[order(indices_gini$nbre_na),], 50)"
   ]
  },
  {
   "cell_type": "markdown",
   "metadata": {},
   "source": [
    "#### Pays sélectionnés : \n",
    "\n",
    "- Brésil (BRA)\n",
    "\n",
    "- Allemagne (DEU)\n",
    "\n",
    "- Norvège (NOR)\n",
    "\n",
    "- France (FRA)\n",
    "\n",
    "- Slovénie (SVN)\n",
    "\n",
    "- Thailande (THA)"
   ]
  },
  {
   "cell_type": "markdown",
   "metadata": {},
   "source": [
    "### Distribution de revenus :"
   ]
  },
  {
   "cell_type": "markdown",
   "metadata": {},
   "source": [
    "- graphique de distribution des centiles en échelle logarithmique pour les pays sélectionnés:"
   ]
  },
  {
   "cell_type": "code",
   "execution_count": 23,
   "metadata": {},
   "outputs": [],
   "source": [
    "#on crée un df data_pays contenant les quantiles\n",
    "liste_pays <- c('BRA', 'FRA', 'SVN', 'DEU', 'NOR', 'THA') #liste des pays à comparer\n",
    "data_pays <- data %>% filter(country %in% liste_pays) #filtre des pays sélectionnés\n",
    "rownames(data_pays) <- data_pays$country #reset index\n",
    "data_pays <- subset(data_pays, select = -c(country, year_survey, nb_quantiles, gdpppp, pop_2008, last_gini) ) # on ne conserve que les quantiles\n",
    "data_pays <- t(data_pays) #on transpose pour avoir les pays en colonne\n",
    "data_pays <- data.frame(data_pays[,'BRA'], data_pays[,'DEU'],\n",
    "                        data_pays[,'FRA'], data_pays[,'SVN'],\n",
    "                        data_pays[,'NOR'], data_pays[,'THA'],stringsAsFactors=FALSE)\n",
    "colnames(data_pays) <- liste_pays\n",
    "data_pays$quantile = seq(1:100) #ajout colonne quantile"
   ]
  },
  {
   "cell_type": "code",
   "execution_count": 24,
   "metadata": {},
   "outputs": [
    {
     "data": {
      "image/png": "[encoded data removed]",
      "text/plain": [
       "plot without title"
      ]
     },
     "metadata": {},
     "output_type": "display_data"
    }
   ],
   "source": [
    "#graphique de distribution\n",
    "plot_distrib_centiles <- ggplot(data_pays, aes(quantile, colour = Pays)) + \n",
    "  geom_line(aes(y = BRA, colour = \"Brésil\")) + \n",
    "  geom_line(aes(y = FRA, colour = \"France\")) +\n",
    "  geom_line(aes(y = SVN, colour = \"Slovénie\")) + \n",
    "  geom_line(aes(y = DEU, colour = \"Allemagne\")) +\n",
    "  geom_line(aes(y = NOR, colour = \"Norvège\")) + \n",
    "  geom_line(aes(y = THA, colour = \"Thailande\")) +\n",
    "  scale_y_continuous(trans='log2') +\n",
    "  ylab(\"Revenu ($PPP)\") +\n",
    "  ggtitle(\"Distribution des revenus par centiles et par pays\") +\n",
    "  theme(plot.title = element_text(hjust = 0.5))\n",
    "\n",
    "plot_distrib_centiles"
   ]
  },
  {
   "cell_type": "markdown",
   "metadata": {},
   "source": [
    "### Courbe de Lorenz :"
   ]
  },
  {
   "cell_type": "code",
   "execution_count": 25,
   "metadata": {},
   "outputs": [
    {
     "data": {
      "image/png": "[encoded data removed]",
      "text/plain": [
       "Plot with title \"Courbes de Lorenz\""
      ]
     },
     "metadata": {},
     "output_type": "display_data"
    }
   ],
   "source": [
    "#création des valeurs pour les courbes\n",
    "Lc_BRA <- Lc(data_pays$BRA)\n",
    "Lc_FRA <- Lc(data_pays$FRA)\n",
    "Lc_SVN <- Lc(data_pays$SVN)\n",
    "Lc_DEU <- Lc(data_pays$DEU)\n",
    "Lc_NOR <- Lc(data_pays$NOR)\n",
    "Lc_THA <- Lc(data_pays$THA)\n",
    "\n",
    "# affichage des courbes\n",
    "plot(Lc_BRA, main= 'Courbes de Lorenz', xlab=\"Part cumulée des centiles\", ylab=\"Part cumulée du revenu\")\n",
    "lines(Lc_FRA, col = 2)\n",
    "lines(Lc_SVN, col = 3)\n",
    "lines(Lc_DEU, col = 4)\n",
    "lines(Lc_NOR, col = 5)\n",
    "lines(Lc_THA, col = 6)\n",
    "legend(0.02, 0.98, legend=liste_pays, fill = (1:6), horiz=TRUE, cex = 0.8)"
   ]
  },
  {
   "cell_type": "markdown",
   "metadata": {},
   "source": [
    "### Evolution de l'indice de Gini au fil du temps :"
   ]
  },
  {
   "cell_type": "code",
   "execution_count": 26,
   "metadata": {},
   "outputs": [],
   "source": [
    "gini_pays <- indices_gini %>% filter(country %in% liste_pays) #filtre des pays sélectionnés\n",
    "\n",
    "#on filtre les colonnes pour obtenir des années avec assez de données\n",
    "cols <- c(2, 30:61)\n",
    "gini_pays <- gini_pays[,cols]\n",
    "\n",
    "#on reset l'index\n",
    "rownames(gini_pays) <- gini_pays$country \n",
    "gini_pays <- gini_pays[,-1]\n",
    "\n",
    "#on transpose pour avoir les pays en colonne\n",
    "gini_pays <- t(gini_pays)\n",
    "\n",
    "#on recrée un dataframe pour avoir les données au bon format\n",
    "gini_pays <- data.frame(gini_pays[,'BRA'], gini_pays[,'DEU'],\n",
    "                        gini_pays[,'FRA'], gini_pays[,'SVN'],\n",
    "                        gini_pays[,'NOR'], gini_pays[,'THA'],stringsAsFactors=FALSE)\n",
    "colnames(gini_pays) <- liste_pays\n",
    "\n",
    "#ajout colonne annee\n",
    "gini_pays$annee <- rownames(gini_pays)\n",
    "gini_pays$annee <- substr(gini_pays$annee, 2, 5)\n",
    "gini_pays$annee <- as.numeric(gini_pays$annee)"
   ]
  },
  {
   "cell_type": "code",
   "execution_count": 27,
   "metadata": {},
   "outputs": [
    {
     "data": {
      "image/png": "[encoded data removed]",
      "text/plain": [
       "plot without title"
      ]
     },
     "metadata": {},
     "output_type": "display_data"
    }
   ],
   "source": [
    "#affichage de l'évolution des indices\n",
    "\n",
    "#on crée un df au format long pour faciliter l'affichage et on omet les valeurs manquantes\n",
    "gini_pays_long <- melt(gini_pays, id.var='annee')\n",
    "gini_pays_long <- na.omit(gini_pays_long)\n",
    "\n",
    "#graph\n",
    "plot_evol_gini <- ggplot(gini_pays_long, aes(x=annee, y=value, color=variable)) + \n",
    "  geom_line() + geom_point() +\n",
    "  xlab(\"Année\") + ylab(\"Indice de Gini\") +\n",
    "  ggtitle(\"Evolution de l'indice de Gini par pays en fonction du temps\") +\n",
    "  theme(plot.title = element_text(hjust = 0.5)) +\n",
    "  labs(color = \"Pays\")\n",
    "plot_evol_gini"
   ]
  },
  {
   "cell_type": "markdown",
   "metadata": {},
   "source": [
    "### Classement des pays par indice de Gini  :"
   ]
  },
  {
   "cell_type": "markdown",
   "metadata": {},
   "source": [
    "#### Indice moyen de l'échantillon"
   ]
  },
  {
   "cell_type": "code",
   "execution_count": 28,
   "metadata": {},
   "outputs": [
    {
     "name": "stdout",
     "output_type": "stream",
     "text": [
      "[1] \"Indice de Gini moyen:\"\n"
     ]
    },
    {
     "data": {
      "text/html": [
       "37.1"
      ],
      "text/latex": [
       "37.1"
      ],
      "text/markdown": [
       "37.1"
      ],
      "text/plain": [
       "[1] 37.1"
      ]
     },
     "metadata": {},
     "output_type": "display_data"
    }
   ],
   "source": [
    "gini_moyen <- mean(data$last_gini)\n",
    "print('Indice de Gini moyen:')\n",
    "round(gini_moyen,2)"
   ]
  },
  {
   "cell_type": "markdown",
   "metadata": {},
   "source": [
    "#### 5 pays ayant l'indice de Gini le plus élevé"
   ]
  },
  {
   "cell_type": "code",
   "execution_count": 29,
   "metadata": {},
   "outputs": [
    {
     "data": {
      "text/html": [
       "<table>\n",
       "<thead><tr><th></th><th scope=col>country</th><th scope=col>last_gini</th></tr></thead>\n",
       "<tbody>\n",
       "\t<tr><th scope=row>116</th><td>ZAF </td><td>63.0</td></tr>\n",
       "\t<tr><th scope=row>58</th><td>KHM </td><td>56.8</td></tr>\n",
       "\t<tr><th scope=row>15</th><td>CAF </td><td>56.2</td></tr>\n",
       "\t<tr><th scope=row>100</th><td>SWZ </td><td>54.6</td></tr>\n",
       "\t<tr><th scope=row>74</th><td>MOZ </td><td>54.0</td></tr>\n",
       "</tbody>\n",
       "</table>\n"
      ],
      "text/latex": [
       "\\begin{tabular}{r|ll}\n",
       "  & country & last\\_gini\\\\\n",
       "\\hline\n",
       "\t116 & ZAF  & 63.0\\\\\n",
       "\t58 & KHM  & 56.8\\\\\n",
       "\t15 & CAF  & 56.2\\\\\n",
       "\t100 & SWZ  & 54.6\\\\\n",
       "\t74 & MOZ  & 54.0\\\\\n",
       "\\end{tabular}\n"
      ],
      "text/markdown": [
       "\n",
       "| <!--/--> | country | last_gini |\n",
       "|---|---|---|\n",
       "| 116 | ZAF  | 63.0 |\n",
       "| 58 | KHM  | 56.8 |\n",
       "| 15 | CAF  | 56.2 |\n",
       "| 100 | SWZ  | 54.6 |\n",
       "| 74 | MOZ  | 54.0 |\n",
       "\n"
      ],
      "text/plain": [
       "    country last_gini\n",
       "116 ZAF     63.0     \n",
       "58  KHM     56.8     \n",
       "15  CAF     56.2     \n",
       "100 SWZ     54.6     \n",
       "74  MOZ     54.0     "
      ]
     },
     "metadata": {},
     "output_type": "display_data"
    }
   ],
   "source": [
    "head(data[order(-data$last_gini),] %>% select(country, last_gini),5)"
   ]
  },
  {
   "cell_type": "markdown",
   "metadata": {},
   "source": [
    "Pays avec l'indice de Gini le plus élevé:\n",
    "\n",
    "- Afrique du Sud\n",
    "\n",
    "- Cambodge\n",
    "\n",
    "- République Centre Africaine\n",
    "\n",
    "- Eswatini\n",
    "\n",
    "- Mozambique"
   ]
  },
  {
   "cell_type": "markdown",
   "metadata": {},
   "source": [
    "#### 5 pays ayant l'indice de Gini le plus faible"
   ]
  },
  {
   "cell_type": "code",
   "execution_count": 30,
   "metadata": {},
   "outputs": [
    {
     "data": {
      "text/html": [
       "<table>\n",
       "<thead><tr><th></th><th scope=col>country</th><th scope=col>last_gini</th></tr></thead>\n",
       "<tbody>\n",
       "\t<tr><th scope=row>98</th><td>SVN </td><td>24.2</td></tr>\n",
       "\t<tr><th scope=row>25</th><td>CZE </td><td>24.9</td></tr>\n",
       "\t<tr><th scope=row>11</th><td>BLR </td><td>25.2</td></tr>\n",
       "\t<tr><th scope=row>97</th><td>SVK </td><td>25.2</td></tr>\n",
       "\t<tr><th scope=row>67</th><td>MDA </td><td>25.7</td></tr>\n",
       "</tbody>\n",
       "</table>\n"
      ],
      "text/latex": [
       "\\begin{tabular}{r|ll}\n",
       "  & country & last\\_gini\\\\\n",
       "\\hline\n",
       "\t98 & SVN  & 24.2\\\\\n",
       "\t25 & CZE  & 24.9\\\\\n",
       "\t11 & BLR  & 25.2\\\\\n",
       "\t97 & SVK  & 25.2\\\\\n",
       "\t67 & MDA  & 25.7\\\\\n",
       "\\end{tabular}\n"
      ],
      "text/markdown": [
       "\n",
       "| <!--/--> | country | last_gini |\n",
       "|---|---|---|\n",
       "| 98 | SVN  | 24.2 |\n",
       "| 25 | CZE  | 24.9 |\n",
       "| 11 | BLR  | 25.2 |\n",
       "| 97 | SVK  | 25.2 |\n",
       "| 67 | MDA  | 25.7 |\n",
       "\n"
      ],
      "text/plain": [
       "   country last_gini\n",
       "98 SVN     24.2     \n",
       "25 CZE     24.9     \n",
       "11 BLR     25.2     \n",
       "97 SVK     25.2     \n",
       "67 MDA     25.7     "
      ]
     },
     "metadata": {},
     "output_type": "display_data"
    }
   ],
   "source": [
    "head(data[order(data$last_gini),] %>% select(country, last_gini),5)"
   ]
  },
  {
   "cell_type": "markdown",
   "metadata": {},
   "source": [
    "Pays avec l'indice de Gini le plus faible:\n",
    "\n",
    "- Slovénie\n",
    "\n",
    "- République Tchèque\n",
    "\n",
    "- Biélorussie\n",
    "\n",
    "- Slovaquie\n",
    "\n",
    "- Moldavie"
   ]
  },
  {
   "cell_type": "markdown",
   "metadata": {},
   "source": [
    " #### Indice de Gini de la France :"
   ]
  },
  {
   "cell_type": "code",
   "execution_count": 31,
   "metadata": {},
   "outputs": [
    {
     "data": {
      "text/html": [
       "<table>\n",
       "<thead><tr><th></th><th scope=col>country</th><th scope=col>last_gini</th></tr></thead>\n",
       "<tbody>\n",
       "\t<tr><th scope=row>35</th><td>FRA </td><td>31.6</td></tr>\n",
       "</tbody>\n",
       "</table>\n"
      ],
      "text/latex": [
       "\\begin{tabular}{r|ll}\n",
       "  & country & last\\_gini\\\\\n",
       "\\hline\n",
       "\t35 & FRA  & 31.6\\\\\n",
       "\\end{tabular}\n"
      ],
      "text/markdown": [
       "\n",
       "| <!--/--> | country | last_gini |\n",
       "|---|---|---|\n",
       "| 35 | FRA  | 31.6 |\n",
       "\n"
      ],
      "text/plain": [
       "   country last_gini\n",
       "35 FRA     31.6     "
      ]
     },
     "metadata": {},
     "output_type": "display_data"
    }
   ],
   "source": [
    "data[data$country == 'FRA',] %>% select(country, last_gini)"
   ]
  },
  {
   "cell_type": "markdown",
   "metadata": {},
   "source": [
    "##  MISSION 3"
   ]
  },
  {
   "cell_type": "markdown",
   "metadata": {},
   "source": [
    "## A - Obtention des coefficients d'élasticité"
   ]
  },
  {
   "cell_type": "code",
   "execution_count": 32,
   "metadata": {},
   "outputs": [],
   "source": [
    "#import data GDIM pour avoir les coefficients d'élasticité\n",
    "gdim <- read.table(\"GDIM.csv\", sep=\",\", header=TRUE, dec = '.')"
   ]
  },
  {
   "cell_type": "code",
   "execution_count": 33,
   "metadata": {},
   "outputs": [],
   "source": [
    "#on filtre les pays n'ayant pas de données pour le coefficient\n",
    "gdim <- gdim[!is.na(gdim['IGEincome']),]\n",
    "\n",
    "#on supprime les duplicates pour avoir une ligne par pays\n",
    "gdim <- gdim[!duplicated(gdim$iso3), ]\n",
    "gdim <- gdim %>% select(iso3, IGEincome)\n",
    "colnames(gdim) <- c('country', 'coeff_mobilite')"
   ]
  },
  {
   "cell_type": "code",
   "execution_count": 34,
   "metadata": {},
   "outputs": [],
   "source": [
    "#on merge le df data avec le df gdim\n",
    "data <- merge(x = data, y = gdim, by = \"country\", all.x = TRUE)"
   ]
  },
  {
   "cell_type": "code",
   "execution_count": 35,
   "metadata": {},
   "outputs": [
    {
     "data": {
      "text/html": [
       "<table>\n",
       "<thead><tr><th scope=col>n</th></tr></thead>\n",
       "<tbody>\n",
       "\t<tr><td>50</td></tr>\n",
       "</tbody>\n",
       "</table>\n"
      ],
      "text/latex": [
       "\\begin{tabular}{r|l}\n",
       " n\\\\\n",
       "\\hline\n",
       "\t 50\\\\\n",
       "\\end{tabular}\n"
      ],
      "text/markdown": [
       "\n",
       "| n |\n",
       "|---|\n",
       "| 50 |\n",
       "\n"
      ],
      "text/plain": [
       "  n \n",
       "1 50"
      ]
     },
     "metadata": {},
     "output_type": "display_data"
    }
   ],
   "source": [
    "#on count les pays pour lesquels il n'y a pas de coeff d'élasticité\n",
    "count(data[rowSums(is.na(data)) > 0,][,c('country','coeff_mobilite')])"
   ]
  },
  {
   "cell_type": "markdown",
   "metadata": {},
   "source": [
    "- On utilise les coefficients extrapolés par région du monde pour ces 50 pays."
   ]
  },
  {
   "cell_type": "code",
   "execution_count": 36,
   "metadata": {},
   "outputs": [],
   "source": [
    "#import d'un fichier contenant les iso pays et leurs régions associés\n",
    "continents <- read.csv(\"continents.csv\", sep=\",\", header=TRUE )\n",
    "continents <- continents[,c('alpha.3', 'sub.region')]\n",
    "\n",
    "#on crée un df contenant les régions, et on ajoute une colonne contenant les coeff. de chaque region respective\n",
    "regions <- unique(as.character(continents$sub.region))\n",
    "regions <- data.frame(regions,stringsAsFactors=FALSE)\n",
    "colnames(regions) <- 'region'\n",
    "regions$coeff_mobilite <- 0 #on crée la colonne coeff_mobilite"
   ]
  },
  {
   "cell_type": "code",
   "execution_count": 37,
   "metadata": {},
   "outputs": [],
   "source": [
    "#ajout manuel des coefficients par région, à partir des données du fichier elasticity.txt\n",
    "regions[regions$region == 'Southern Asia', 'coeff_mobilite'] = 0.5\n",
    "regions[regions$region == 'Northern Europe', 'coeff_mobilite'] = 0.2\n",
    "regions[regions$region == 'Southern Europe', 'coeff_mobilite'] = 0.4\n",
    "regions[regions$region == 'Northern Africa', 'coeff_mobilite'] = 0.66\n",
    "regions[regions$region == 'Polynesia', 'coeff_mobilite'] = 0.5\n",
    "regions[regions$region == 'Sub-Saharan Africa', 'coeff_mobilite'] = 0.66\n",
    "regions[regions$region == 'Latin America and the Caribbean', 'coeff_mobilite'] = 0.66\n",
    "regions[regions$region == 'Western Asia', 'coeff_mobilite'] = 0.5\n",
    "regions[regions$region == 'Australia and New Zealand', 'coeff_mobilite'] = 0.4\n",
    "regions[regions$region == 'Western Europe', 'coeff_mobilite'] = 0.4\n",
    "regions[regions$region == 'Eastern Europe', 'coeff_mobilite'] = 0.4\n",
    "regions[regions$region == 'Northern America', 'coeff_mobilite'] = 0.4\n",
    "regions[regions$region == 'South-eastern Asia', 'coeff_mobilite'] = 0.5\n",
    "regions[regions$region == 'Eastern Asia', 'coeff_mobilite'] = 0.5\n",
    "regions[regions$region == 'Melanesia', 'coeff_mobilite'] = 0.5\n",
    "regions[regions$region == 'Micronesia', 'coeff_mobilite'] = 0.5\n",
    "regions[regions$region == 'Central Asia', 'coeff_mobilite'] = 0.5"
   ]
  },
  {
   "cell_type": "code",
   "execution_count": 38,
   "metadata": {},
   "outputs": [],
   "source": [
    "#on merge les df contenant les infos pays et les coeff\n",
    "colnames(continents) <- c('country', 'region')\n",
    "continents <- merge(x = continents, y = regions, by = \"region\", all.x = TRUE)\n",
    "colnames(continents) <- c('region', 'country', 'coeff_mobilite_extrap')\n",
    "\n",
    "#on merge le df principal au df continents contenant les coeff\n",
    "data <- merge(x = data, y = continents[,c('country','coeff_mobilite_extrap')], by = \"country\", all.x = TRUE)"
   ]
  },
  {
   "cell_type": "code",
   "execution_count": 39,
   "metadata": {},
   "outputs": [
    {
     "data": {
      "text/html": [
       "<table>\n",
       "<thead><tr><th></th><th scope=col>country</th><th scope=col>coeff_mobilite</th></tr></thead>\n",
       "<tbody>\n",
       "\t<tr><th scope=row>114</th><td>XKX</td><td>NA </td></tr>\n",
       "</tbody>\n",
       "</table>\n"
      ],
      "text/latex": [
       "\\begin{tabular}{r|ll}\n",
       "  & country & coeff\\_mobilite\\\\\n",
       "\\hline\n",
       "\t114 & XKX & NA \\\\\n",
       "\\end{tabular}\n"
      ],
      "text/markdown": [
       "\n",
       "| <!--/--> | country | coeff_mobilite |\n",
       "|---|---|---|\n",
       "| 114 | XKX | NA  |\n",
       "\n"
      ],
      "text/plain": [
       "    country coeff_mobilite\n",
       "114 XKX     NA            "
      ]
     },
     "metadata": {},
     "output_type": "display_data"
    }
   ],
   "source": [
    "#on remplace les na de la colonne 'coeff_mobilite' par les coeff extrapolés\n",
    "data$coeff_mobilite <- ifelse(is.na(data$coeff_mobilite), data$coeff_mobilite_extrap, data$coeff_mobilite)\n",
    "data$coeff_mobilite_extrap <- NULL\n",
    "\n",
    "#on verifie si il reste des pays avec valeurs nulles\n",
    "data[rowSums(is.na(data)) > 0,][,c('country','coeff_mobilite')]"
   ]
  },
  {
   "cell_type": "code",
   "execution_count": 40,
   "metadata": {},
   "outputs": [],
   "source": [
    "#on remplace manuellement la valeur du coefficient pour le Kosovo\n",
    "data[data$country == 'XKX','coeff_mobilite'] <- 0.4"
   ]
  },
  {
   "cell_type": "markdown",
   "metadata": {},
   "source": [
    "## B - Géneration aléatoire de la classe de revenu des parents"
   ]
  },
  {
   "cell_type": "markdown",
   "metadata": {},
   "source": [
    "### a) Pas à pas pour un seul pays, avec 10 classes de revenus"
   ]
  },
  {
   "cell_type": "code",
   "execution_count": 41,
   "metadata": {},
   "outputs": [
    {
     "name": "stdout",
     "output_type": "stream",
     "text": [
      "[1] 0.8158745\n"
     ]
    }
   ],
   "source": [
    "#donnees tests\n",
    "data_test <- data[1,] # un seul pays\n",
    "pj <- data_test$coeff_mobilite\n",
    "print(pj)"
   ]
  },
  {
   "cell_type": "code",
   "execution_count": 42,
   "metadata": {},
   "outputs": [],
   "source": [
    "#definition du nombre de quantiles\n",
    "nb_quantiles <- 10\n",
    "#taille de l'échantillon\n",
    "n <- nb_quantiles * 1000 #A CHANGER PAR 1000"
   ]
  },
  {
   "cell_type": "markdown",
   "metadata": {},
   "source": [
    "#### Q1, Q2, Q3"
   ]
  },
  {
   "cell_type": "code",
   "execution_count": 43,
   "metadata": {},
   "outputs": [],
   "source": [
    "#generation des n revenus selon la loi normale\n",
    "\n",
    "generate_incomes <- function(n, pj) \n",
    "{\n",
    "    #generation aleatoire des revenus selon une loi normale (mean et std non pertinents)\n",
    "    \n",
    "    ln_y_parents <- rnorm(n)\n",
    "    #generation aleatoire des residus selon une loi normale centree reduite\n",
    "    residus <- rnorm(n, 0, 1)\n",
    "    result <- list('y_child' = exp((pj * ln_y_parents) + residus), 'y_parent' = exp(ln_y_parents))\n",
    "    return(result)\n",
    "}\n",
    "\n",
    "#calcul de y_child et y_parent\n",
    "y <- generate_incomes(n, pj)\n",
    "y_child <- unlist(y['y_child'], use.names=FALSE)\n",
    "y_parents <- unlist(y['y_parent'], use.names=FALSE)"
   ]
  },
  {
   "cell_type": "markdown",
   "metadata": {},
   "source": [
    "#### Q4"
   ]
  },
  {
   "cell_type": "code",
   "execution_count": 44,
   "metadata": {},
   "outputs": [],
   "source": [
    "#calcul des classes de revenus\n",
    "\n",
    "quantiles <- function(l, nb_quantiles)\n",
    "{\n",
    "    #renvoie un dataframe contenant les n valeurs de l et leur classe (quantile) associé\n",
    "    size <- length(l)\n",
    "    l_sorted <- cbind(l)\n",
    "    l_sorted <- sort(l)\n",
    "    quantiles = round(seq(1, nb_quantiles + 1 , nb_quantiles /size) - 0.5 + (1/size))\n",
    "    quantiles <- quantiles[1:(length(quantiles)-1)]\n",
    "    q_list <- quantiles\n",
    "    names(q_list) <- l_sorted\n",
    "    df_l <-data.frame(l)\n",
    "    colnames(df_l) <- 'l'\n",
    "    df_q <-data.frame(q_list)\n",
    "    df_q <- tibble::rownames_to_column(df_q, 'l')\n",
    "    df <- merge(x = df_l, y = df_q, by = \"l\", all.x = TRUE, sort = FALSE)\n",
    "    colnames(df) <- c('l','c_i')\n",
    "    return(df)\n",
    "}\n",
    "\n",
    "compute_quantiles <- function(y_child, y_parents, nb_quantiles)\n",
    "{\n",
    "    #renvoie un dataframe contenant y_child, y_parent, c_i_child, c_i_parent\n",
    "    df_child <- quantiles(y_child, nb_quantiles)\n",
    "    colnames(df_child) <- c('y_child', 'c_i_child')\n",
    "    df_parents <- quantiles(y_parents, nb_quantiles)\n",
    "    colnames(df_parents) <- c('y_parents', 'c_i_parents')\n",
    "    sample <- data.frame(df_child, df_parents, stringsAsFactors=FALSE)\n",
    "    return(sample)\n",
    "}\n",
    "\n",
    "sample <- compute_quantiles(y_child, y_parents, nb_quantiles)"
   ]
  },
  {
   "cell_type": "markdown",
   "metadata": {},
   "source": [
    "#### Q5"
   ]
  },
  {
   "cell_type": "code",
   "execution_count": 45,
   "metadata": {},
   "outputs": [
    {
     "data": {
      "text/html": [
       "<table>\n",
       "<thead><tr><th scope=col>1</th><th scope=col>2</th><th scope=col>3</th><th scope=col>4</th><th scope=col>5</th><th scope=col>6</th><th scope=col>7</th><th scope=col>8</th><th scope=col>9</th><th scope=col>10</th></tr></thead>\n",
       "<tbody>\n",
       "\t<tr><td>0.437</td><td>0.210</td><td>0.129</td><td>0.088</td><td>0.055</td><td>0.044</td><td>0.020</td><td>0.012</td><td>0.003</td><td>0.002</td></tr>\n",
       "\t<tr><td>0.210</td><td>0.185</td><td>0.157</td><td>0.121</td><td>0.133</td><td>0.076</td><td>0.047</td><td>0.039</td><td>0.024</td><td>0.008</td></tr>\n",
       "\t<tr><td>0.122</td><td>0.161</td><td>0.163</td><td>0.156</td><td>0.114</td><td>0.102</td><td>0.088</td><td>0.048</td><td>0.035</td><td>0.011</td></tr>\n",
       "\t<tr><td>0.084</td><td>0.146</td><td>0.149</td><td>0.107</td><td>0.126</td><td>0.127</td><td>0.095</td><td>0.084</td><td>0.060</td><td>0.022</td></tr>\n",
       "\t<tr><td>0.060</td><td>0.090</td><td>0.129</td><td>0.145</td><td>0.127</td><td>0.114</td><td>0.118</td><td>0.113</td><td>0.075</td><td>0.029</td></tr>\n",
       "\t<tr><td>0.041</td><td>0.092</td><td>0.091</td><td>0.122</td><td>0.134</td><td>0.116</td><td>0.122</td><td>0.125</td><td>0.093</td><td>0.064</td></tr>\n",
       "\t<tr><td>0.027</td><td>0.059</td><td>0.081</td><td>0.093</td><td>0.103</td><td>0.129</td><td>0.150</td><td>0.137</td><td>0.120</td><td>0.101</td></tr>\n",
       "\t<tr><td>0.013</td><td>0.037</td><td>0.050</td><td>0.095</td><td>0.096</td><td>0.115</td><td>0.143</td><td>0.147</td><td>0.160</td><td>0.144</td></tr>\n",
       "\t<tr><td>0.005</td><td>0.015</td><td>0.039</td><td>0.054</td><td>0.074</td><td>0.113</td><td>0.126</td><td>0.173</td><td>0.197</td><td>0.204</td></tr>\n",
       "\t<tr><td>0.001</td><td>0.005</td><td>0.012</td><td>0.019</td><td>0.038</td><td>0.064</td><td>0.091</td><td>0.122</td><td>0.233</td><td>0.415</td></tr>\n",
       "</tbody>\n",
       "</table>\n"
      ],
      "text/latex": [
       "\\begin{tabular}{r|llllllllll}\n",
       " 1 & 2 & 3 & 4 & 5 & 6 & 7 & 8 & 9 & 10\\\\\n",
       "\\hline\n",
       "\t 0.437 & 0.210 & 0.129 & 0.088 & 0.055 & 0.044 & 0.020 & 0.012 & 0.003 & 0.002\\\\\n",
       "\t 0.210 & 0.185 & 0.157 & 0.121 & 0.133 & 0.076 & 0.047 & 0.039 & 0.024 & 0.008\\\\\n",
       "\t 0.122 & 0.161 & 0.163 & 0.156 & 0.114 & 0.102 & 0.088 & 0.048 & 0.035 & 0.011\\\\\n",
       "\t 0.084 & 0.146 & 0.149 & 0.107 & 0.126 & 0.127 & 0.095 & 0.084 & 0.060 & 0.022\\\\\n",
       "\t 0.060 & 0.090 & 0.129 & 0.145 & 0.127 & 0.114 & 0.118 & 0.113 & 0.075 & 0.029\\\\\n",
       "\t 0.041 & 0.092 & 0.091 & 0.122 & 0.134 & 0.116 & 0.122 & 0.125 & 0.093 & 0.064\\\\\n",
       "\t 0.027 & 0.059 & 0.081 & 0.093 & 0.103 & 0.129 & 0.150 & 0.137 & 0.120 & 0.101\\\\\n",
       "\t 0.013 & 0.037 & 0.050 & 0.095 & 0.096 & 0.115 & 0.143 & 0.147 & 0.160 & 0.144\\\\\n",
       "\t 0.005 & 0.015 & 0.039 & 0.054 & 0.074 & 0.113 & 0.126 & 0.173 & 0.197 & 0.204\\\\\n",
       "\t 0.001 & 0.005 & 0.012 & 0.019 & 0.038 & 0.064 & 0.091 & 0.122 & 0.233 & 0.415\\\\\n",
       "\\end{tabular}\n"
      ],
      "text/markdown": [
       "\n",
       "| 1 | 2 | 3 | 4 | 5 | 6 | 7 | 8 | 9 | 10 |\n",
       "|---|---|---|---|---|---|---|---|---|---|\n",
       "| 0.437 | 0.210 | 0.129 | 0.088 | 0.055 | 0.044 | 0.020 | 0.012 | 0.003 | 0.002 |\n",
       "| 0.210 | 0.185 | 0.157 | 0.121 | 0.133 | 0.076 | 0.047 | 0.039 | 0.024 | 0.008 |\n",
       "| 0.122 | 0.161 | 0.163 | 0.156 | 0.114 | 0.102 | 0.088 | 0.048 | 0.035 | 0.011 |\n",
       "| 0.084 | 0.146 | 0.149 | 0.107 | 0.126 | 0.127 | 0.095 | 0.084 | 0.060 | 0.022 |\n",
       "| 0.060 | 0.090 | 0.129 | 0.145 | 0.127 | 0.114 | 0.118 | 0.113 | 0.075 | 0.029 |\n",
       "| 0.041 | 0.092 | 0.091 | 0.122 | 0.134 | 0.116 | 0.122 | 0.125 | 0.093 | 0.064 |\n",
       "| 0.027 | 0.059 | 0.081 | 0.093 | 0.103 | 0.129 | 0.150 | 0.137 | 0.120 | 0.101 |\n",
       "| 0.013 | 0.037 | 0.050 | 0.095 | 0.096 | 0.115 | 0.143 | 0.147 | 0.160 | 0.144 |\n",
       "| 0.005 | 0.015 | 0.039 | 0.054 | 0.074 | 0.113 | 0.126 | 0.173 | 0.197 | 0.204 |\n",
       "| 0.001 | 0.005 | 0.012 | 0.019 | 0.038 | 0.064 | 0.091 | 0.122 | 0.233 | 0.415 |\n",
       "\n"
      ],
      "text/plain": [
       "   1     2     3     4     5     6     7     8     9     10   \n",
       "1  0.437 0.210 0.129 0.088 0.055 0.044 0.020 0.012 0.003 0.002\n",
       "2  0.210 0.185 0.157 0.121 0.133 0.076 0.047 0.039 0.024 0.008\n",
       "3  0.122 0.161 0.163 0.156 0.114 0.102 0.088 0.048 0.035 0.011\n",
       "4  0.084 0.146 0.149 0.107 0.126 0.127 0.095 0.084 0.060 0.022\n",
       "5  0.060 0.090 0.129 0.145 0.127 0.114 0.118 0.113 0.075 0.029\n",
       "6  0.041 0.092 0.091 0.122 0.134 0.116 0.122 0.125 0.093 0.064\n",
       "7  0.027 0.059 0.081 0.093 0.103 0.129 0.150 0.137 0.120 0.101\n",
       "8  0.013 0.037 0.050 0.095 0.096 0.115 0.143 0.147 0.160 0.144\n",
       "9  0.005 0.015 0.039 0.054 0.074 0.113 0.126 0.173 0.197 0.204\n",
       "10 0.001 0.005 0.012 0.019 0.038 0.064 0.091 0.122 0.233 0.415"
      ]
     },
     "metadata": {},
     "output_type": "display_data"
    }
   ],
   "source": [
    "#distribution conditionnelle\n",
    "\n",
    "distribution <- function(counts, nb_quantiles)\n",
    "{\n",
    "    distrib <- list()\n",
    "    total <- sum(counts$counts)\n",
    "    \n",
    "    if (total == 0){\n",
    "        return(rep(0, nb_quantiles))\n",
    "    }\n",
    "    \n",
    "    for (q_p in seq(1, nb_quantiles)){\n",
    "        subset <- filter(counts, c_i_parents == q_p)\n",
    "        if (count(subset) > 0){\n",
    "            nb <- subset$counts\n",
    "        distrib <- append(distrib, nb/total)\n",
    "        }else{\n",
    "            distrib <- append(distrib, 0)\n",
    "        }\n",
    "    }\n",
    "    return(distrib)\n",
    "}\n",
    "\n",
    "\n",
    "conditional_distributions <- function(sample, nb_quantiles)\n",
    "{\n",
    "    #renvoie une matrice contenant les probabilités conditionnelles\n",
    "    counts <- count(sample, c_i_child, c_i_parents)\n",
    "    colnames(counts) <- c('c_i_child', 'c_i_parents', 'counts')\n",
    "    \n",
    "    mat <- list()\n",
    "    for(child_quantile in seq(nb_quantiles)){\n",
    "        subset <- filter(counts, c_i_child == child_quantile)\n",
    "        mat <- cbind(mat, distribution(subset,nb_quantiles))\n",
    "    }\n",
    "    return(mat)\n",
    "}\n",
    "\n",
    "cd <-data.frame(conditional_distributions(sample, nb_quantiles))\n",
    "cd <-data.frame(lapply(cd, function(x) unlist(x)))\n",
    "colnames(cd) <- seq(nb_quantiles)\n",
    "                        \n",
    "proba_cond <- function(c_i_parents, c_i_child, mat)\n",
    "{\n",
    "    return(mat[c_i_child,c_i_parent])\n",
    "}\n",
    "                       \n",
    "cd"
   ]
  },
  {
   "cell_type": "markdown",
   "metadata": {},
   "source": [
    "#### Q6"
   ]
  },
  {
   "cell_type": "code",
   "execution_count": 53,
   "metadata": {},
   "outputs": [
    {
     "data": {
      "image/png": "[encoded data removed]",
      "text/plain": [
       "plot without title"
      ]
     },
     "metadata": {},
     "output_type": "display_data"
    }
   ],
   "source": [
    "#affichage plot distributions conditionnelles\n",
    "\n",
    "#options(repr.plot.width=7, repr.plot.height=4)\n",
    "\n",
    "cd$row <- seq_len(nrow(cd))\n",
    "cd_long <- melt(cd, id.vars = \"row\") #on applique la fonction melt sur la matrice pour afficher le plot\n",
    "\n",
    "#fill=forcats::fct_rev(factor(row))\n",
    "#width = 1, color = 'black', size = 0.1\n",
    "ggplot(cd_long, aes(x = factor(variable), y = value, fill=forcats::fct_rev(factor(row)))) + \n",
    "  geom_bar(stat = \"identity\", alpha = 0.95, width = 0.97) +\n",
    "  ggtitle(\"pj = 0.9\") +\n",
    "  xlab(\"\\nQuantile des parents\") + ylab(\"Probabilité du quantile enfant\\n\") +\n",
    "  theme(plot.title = element_text(hjust = 0.5)) +\n",
    "  labs(fill = \"Quantile\", color = NULL) +\n",
    "  #scale_x_discrete(breaks=seq(1,100,10) -1, labels = waiver()) +\n",
    "  scale_fill_viridis_d(alpha = 0.95, begin = 0.1, end = 0.9,option = 'magma') +\n",
    "  theme(axis.line = element_line(colour = \"white\"),\n",
    "    panel.grid.major = element_blank(),\n",
    "    panel.grid.minor = element_blank(),\n",
    "    panel.border = element_blank(),\n",
    "    panel.background = element_blank()) "
   ]
  },
  {
   "cell_type": "markdown",
   "metadata": {},
   "source": [
    "#### Q7 - Q8"
   ]
  },
  {
   "cell_type": "code",
   "execution_count": 47,
   "metadata": {},
   "outputs": [],
   "source": [
    "#nouvel échantillon à partir de WID\n",
    "#pour chaque pays j et son p_j associé, 500 individus répartis en 10 quantiles, avec distribution selon matrice précedente\n",
    "\n",
    "#probleme d'arrondi : methode d'hamilton ? "
   ]
  },
  {
   "cell_type": "code",
   "execution_count": 48,
   "metadata": {},
   "outputs": [],
   "source": [
    "#on créé 499 clones (500 individus) du pays dans un dataframe\n",
    "sample_pays = select(data[1,], c('gdpppp', 'last_gini'))\n",
    "colnames(sample_pays) <- c('m_j', 'G_j')\n",
    "sample_pays <- sample_pays[rep(seq_len(nrow(sample_pays)), 500), ]\n",
    "\n",
    "#on crée les colonnes c_i_child (10 classes)\n",
    "for (i in (1:nb_quantiles)){\n",
    "    sample_pays[as.character(i)] <- NA\n",
    "}"
   ]
  },
  {
   "cell_type": "code",
   "execution_count": 49,
   "metadata": {},
   "outputs": [],
   "source": [
    "#allocation des c_i_parents\n",
    "\n",
    "#on efface la colonne contenant les numero de quantiles\n",
    "cd$row <- NULL\n",
    "\n",
    "\n",
    "#fonction d'allocation\n",
    "allocation <- function(ratios, k)\n",
    "{\n",
    "    #repartit les k elements selon les ratios passsés en argument\n",
    "    results <- trunc(k*ratios)\n",
    "    fractions <- k*ratios - trunc(k*ratios)\n",
    "    reste <- trunc(k - sum(results))\n",
    "    \n",
    "    indices <- order(fractions)\n",
    "    results[indices[0:reste]] = results[indices[0:reste]] + 1\n",
    "    \n",
    "    return(as.numeric(results))\n",
    "}\n",
    "\n",
    "#remplissage des c_i_parents\n",
    "for (q_child in seq(nb_quantiles)){\n",
    "    \n",
    "    j<- 0\n",
    "    q_parents <- 1\n",
    "    \n",
    "    for (nb_ind in allocation(cd[q_child,],500)){\n",
    "        if (nb_ind != 0){\n",
    "            sample_pays[j + seq(nb_ind),2 + q_child] <- q_parents\n",
    "        }\n",
    "        q_parents <- q_parents + 1\n",
    "        j <- j + nb_ind\n",
    "    }\n",
    "\n",
    "}"
   ]
  },
  {
   "cell_type": "code",
   "execution_count": 50,
   "metadata": {},
   "outputs": [],
   "source": [
    "#melt colonnes c_i_parents pour avoir une ligne par individu et par c_i_child\n",
    "sample_pays$ind <- seq(1:500) \n",
    "\n",
    "sample_pays <-  melt(data = sample_pays, id.vars = c('ind', \"m_j\", \"G_j\"), measure.vars = colnames(sample_pays)[3:12])\n",
    "colnames(sample_pays) <- c('ind', \"m_j\", \"G_j\", 'ci_child', 'c_i_parents')\n",
    "sample_pays <- sample_pays[order(sample_pays[,'ind'], sample_pays[,'ci_child'], sample_pays[,'c_i_parents'] ),]\n",
    "\n",
    "sample_pays$ind <- NULL\n",
    "rownames(sample_pays) <- NULL"
   ]
  },
  {
   "cell_type": "code",
   "execution_count": 51,
   "metadata": {},
   "outputs": [
    {
     "data": {
      "text/html": [
       "<table>\n",
       "<thead><tr><th scope=col>m_j</th><th scope=col>G_j</th><th scope=col>ci_child</th><th scope=col>c_i_parents</th></tr></thead>\n",
       "<tbody>\n",
       "\t<tr><td>7297</td><td>33.2</td><td>1   </td><td>1   </td></tr>\n",
       "\t<tr><td>7297</td><td>33.2</td><td>2   </td><td>1   </td></tr>\n",
       "\t<tr><td>7297</td><td>33.2</td><td>3   </td><td>1   </td></tr>\n",
       "\t<tr><td>7297</td><td>33.2</td><td>4   </td><td>1   </td></tr>\n",
       "\t<tr><td>7297</td><td>33.2</td><td>5   </td><td>1   </td></tr>\n",
       "\t<tr><td>7297</td><td>33.2</td><td>6   </td><td>1   </td></tr>\n",
       "\t<tr><td>7297</td><td>33.2</td><td>7   </td><td>1   </td></tr>\n",
       "\t<tr><td>7297</td><td>33.2</td><td>8   </td><td>1   </td></tr>\n",
       "\t<tr><td>7297</td><td>33.2</td><td>9   </td><td>1   </td></tr>\n",
       "\t<tr><td>7297</td><td>33.2</td><td>10  </td><td>2   </td></tr>\n",
       "\t<tr><td>7297</td><td>33.2</td><td>1   </td><td>1   </td></tr>\n",
       "\t<tr><td>7297</td><td>33.2</td><td>2   </td><td>1   </td></tr>\n",
       "\t<tr><td>7297</td><td>33.2</td><td>3   </td><td>1   </td></tr>\n",
       "\t<tr><td>7297</td><td>33.2</td><td>4   </td><td>1   </td></tr>\n",
       "\t<tr><td>7297</td><td>33.2</td><td>5   </td><td>1   </td></tr>\n",
       "</tbody>\n",
       "</table>\n"
      ],
      "text/latex": [
       "\\begin{tabular}{r|llll}\n",
       " m\\_j & G\\_j & ci\\_child & c\\_i\\_parents\\\\\n",
       "\\hline\n",
       "\t 7297 & 33.2 & 1    & 1   \\\\\n",
       "\t 7297 & 33.2 & 2    & 1   \\\\\n",
       "\t 7297 & 33.2 & 3    & 1   \\\\\n",
       "\t 7297 & 33.2 & 4    & 1   \\\\\n",
       "\t 7297 & 33.2 & 5    & 1   \\\\\n",
       "\t 7297 & 33.2 & 6    & 1   \\\\\n",
       "\t 7297 & 33.2 & 7    & 1   \\\\\n",
       "\t 7297 & 33.2 & 8    & 1   \\\\\n",
       "\t 7297 & 33.2 & 9    & 1   \\\\\n",
       "\t 7297 & 33.2 & 10   & 2   \\\\\n",
       "\t 7297 & 33.2 & 1    & 1   \\\\\n",
       "\t 7297 & 33.2 & 2    & 1   \\\\\n",
       "\t 7297 & 33.2 & 3    & 1   \\\\\n",
       "\t 7297 & 33.2 & 4    & 1   \\\\\n",
       "\t 7297 & 33.2 & 5    & 1   \\\\\n",
       "\\end{tabular}\n"
      ],
      "text/markdown": [
       "\n",
       "| m_j | G_j | ci_child | c_i_parents |\n",
       "|---|---|---|---|\n",
       "| 7297 | 33.2 | 1    | 1    |\n",
       "| 7297 | 33.2 | 2    | 1    |\n",
       "| 7297 | 33.2 | 3    | 1    |\n",
       "| 7297 | 33.2 | 4    | 1    |\n",
       "| 7297 | 33.2 | 5    | 1    |\n",
       "| 7297 | 33.2 | 6    | 1    |\n",
       "| 7297 | 33.2 | 7    | 1    |\n",
       "| 7297 | 33.2 | 8    | 1    |\n",
       "| 7297 | 33.2 | 9    | 1    |\n",
       "| 7297 | 33.2 | 10   | 2    |\n",
       "| 7297 | 33.2 | 1    | 1    |\n",
       "| 7297 | 33.2 | 2    | 1    |\n",
       "| 7297 | 33.2 | 3    | 1    |\n",
       "| 7297 | 33.2 | 4    | 1    |\n",
       "| 7297 | 33.2 | 5    | 1    |\n",
       "\n"
      ],
      "text/plain": [
       "   m_j  G_j  ci_child c_i_parents\n",
       "1  7297 33.2 1        1          \n",
       "2  7297 33.2 2        1          \n",
       "3  7297 33.2 3        1          \n",
       "4  7297 33.2 4        1          \n",
       "5  7297 33.2 5        1          \n",
       "6  7297 33.2 6        1          \n",
       "7  7297 33.2 7        1          \n",
       "8  7297 33.2 8        1          \n",
       "9  7297 33.2 9        1          \n",
       "10 7297 33.2 10       2          \n",
       "11 7297 33.2 1        1          \n",
       "12 7297 33.2 2        1          \n",
       "13 7297 33.2 3        1          \n",
       "14 7297 33.2 4        1          \n",
       "15 7297 33.2 5        1          "
      ]
     },
     "metadata": {},
     "output_type": "display_data"
    }
   ],
   "source": [
    "head(sample_pays,15)"
   ]
  },
  {
   "cell_type": "markdown",
   "metadata": {},
   "source": [
    "### b) Algorithme pour generer l'échantillon complet (100 classes de revenus)"
   ]
  },
  {
   "cell_type": "code",
   "execution_count": 81,
   "metadata": {},
   "outputs": [
    {
     "name": "stdout",
     "output_type": "stream",
     "text": [
      "t1 8.08 0.09 8.17 NA NAt2 0 0 0 NA NAt3 0.01 0 0.02 NA NAt4 3.05 0 3.05 NA NAt5 0.02 0 0.01 NA NAt6 0.31 0 0.31 NA NA"
     ]
    }
   ],
   "source": [
    "#definition du nombre de quantiles\n",
    "nb_quantiles <- 100\n",
    "#taille de l'échantillon\n",
    "n <- nb_quantiles * 1000\n",
    "\n",
    "#initialisation du df final\n",
    "final_sample <- data.frame(m_j=double(),\n",
    "                 G_j=double(),\n",
    "                 c_i_child=double(),\n",
    "                 c_i_parents=double(),\n",
    "                 country=character(),\n",
    "                 income_child=double(),\n",
    "                 income_parents=double(),\n",
    "                 stringsAsFactors=FALSE)\n",
    "\n",
    "\n",
    "#ALGORITHME POUR TOUS LES PAYS\n",
    "#length(data$country)\n",
    "for (pays_j in seq(1)){\n",
    "    pays <- pays_j\n",
    "    pj <- data[pays,'coeff_mobilite']\n",
    "    \n",
    "    t0 <- proc.time() #TEST\n",
    "    \n",
    "    #calcul de y_child et y_parent\n",
    "    y <- generate_incomes(n, pj)\n",
    "    y_child <- unlist(y['y_child'], use.names=FALSE)\n",
    "    y_parents <- unlist(y['y_parent'], use.names=FALSE)\n",
    "\n",
    "    sample <- compute_quantiles(y_child, y_parents, nb_quantiles)\n",
    "\n",
    "    cd <-data.frame(conditional_distributions(sample, nb_quantiles))\n",
    "    cd <-data.frame(lapply(cd, function(x) unlist(x)))\n",
    "    colnames(cd) <- seq(nb_quantiles)                      \n",
    "    \n",
    "    t1 <- proc.time() #TEST\n",
    "    cat('t1',t1 - t0)                       \n",
    "                           \n",
    "    #on créé 499 clones (500 individus) du pays dans un dataframe\n",
    "    sample_pays = select(data[1,], c('gdpppp', 'last_gini'))\n",
    "    colnames(sample_pays) <- c('m_j', 'G_j')\n",
    "    sample_pays <- sample_pays[rep(seq_len(nrow(sample_pays)), 500), ]                    \n",
    "\n",
    "    t2 <- proc.time() #TEST\n",
    "    cat('t2', t2 - t1)                            \n",
    "                           \n",
    "    #on crée les colonnes c_i_child (100 classes)\n",
    "    for (i in (1:nb_quantiles)){\n",
    "        sample_pays[as.character(i)] <- NA\n",
    "    }\n",
    "                           \n",
    "    t3 <- proc.time() #TEST\n",
    "    cat('t3',t3 - t2) \n",
    "                           \n",
    "    #remplissage des c_i_parents\n",
    "    for (q_child in seq(nb_quantiles)){\n",
    "\n",
    "        alloc <- allocation(cd[q_child,],500)\n",
    "        sample_pays[,2 + q_child] <- rep(seq(nb_quantiles),alloc)\n",
    "    } \n",
    "    \n",
    "    t4 <- proc.time() #TEST\n",
    "    cat('t4',t4 - t3)                        \n",
    "                           \n",
    "    #melt colonnes c_i_parents pour avoir une ligne par individu et par c_i_child\n",
    "    sample_pays$ind <- seq(1:500) \n",
    "    sample_pays <-  melt(data = sample_pays, id.vars = c('ind', \"m_j\", \"G_j\"), measure.vars = colnames(sample_pays)[3:102])\n",
    "    colnames(sample_pays) <- c('ind', \"m_j\", \"G_j\", 'c_i_child', 'c_i_parents')\n",
    "    sample_pays <- sample_pays[order(sample_pays[,'ind'], sample_pays[,'c_i_child'], sample_pays[,'c_i_parents'] ),]\n",
    "\n",
    "    sample_pays$ind <- NULL\n",
    "    rownames(sample_pays) <- NULL\n",
    "\n",
    "    #ajout de la colonne pays                     \n",
    "    sample_pays$country <- data[pays, 'country']\n",
    "    \n",
    "    t5 <- proc.time() #TEST\n",
    "    cat('t5', t5 - t4)                        \n",
    "                           \n",
    "                           \n",
    "    #ajout des colonnes de revenus enfant et parents\n",
    "    sample_pays$income_child <- NA\n",
    "    for (i in seq(nb_quantiles)){\n",
    "        sample_pays[sample_pays$c_i_child == i, 'income_child'] <- data[pays,4+i]\n",
    "        }\n",
    "\n",
    "    sample_pays$income_parents <- NA\n",
    "    for (i in seq(nb_quantiles)){\n",
    "        sample_pays[sample_pays$c_i_parents == i, 'income_parents'] <- data[pays,4+i]\n",
    "        }\n",
    "    \n",
    "    t6 <- proc.time() #TEST\n",
    "    cat('t6',t6 - t5)                        \n",
    "                           \n",
    "    #ajout des données pour le pays j à l'échantillon final                       \n",
    "    final_sample <- rbind(final_sample, sample_pays)\n",
    "                           \n",
    "}\n",
    "\n",
    "write.csv(final_sample,\"final_sample.csv\", row.names = FALSE)"
   ]
  },
  {
   "cell_type": "code",
   "execution_count": 67,
   "metadata": {},
   "outputs": [
    {
     "name": "stdout",
     "output_type": "stream",
     "text": [
      "a 2"
     ]
    }
   ],
   "source": [
    "a <- 2\n",
    "cat('a',a)"
   ]
  },
  {
   "cell_type": "code",
   "execution_count": 70,
   "metadata": {},
   "outputs": [
    {
     "data": {
      "text/html": [
       "<ol class=list-inline>\n",
       "\t<li>5</li>\n",
       "\t<li>5</li>\n",
       "\t<li>5</li>\n",
       "\t<li>5</li>\n",
       "\t<li>5</li>\n",
       "\t<li>5</li>\n",
       "\t<li>5</li>\n",
       "\t<li>5</li>\n",
       "\t<li>5</li>\n",
       "\t<li>5</li>\n",
       "</ol>\n"
      ],
      "text/latex": [
       "\\begin{enumerate*}\n",
       "\\item 5\n",
       "\\item 5\n",
       "\\item 5\n",
       "\\item 5\n",
       "\\item 5\n",
       "\\item 5\n",
       "\\item 5\n",
       "\\item 5\n",
       "\\item 5\n",
       "\\item 5\n",
       "\\end{enumerate*}\n"
      ],
      "text/markdown": [
       "1. 5\n",
       "2. 5\n",
       "3. 5\n",
       "4. 5\n",
       "5. 5\n",
       "6. 5\n",
       "7. 5\n",
       "8. 5\n",
       "9. 5\n",
       "10. 5\n",
       "\n",
       "\n"
      ],
      "text/plain": [
       " [1] 5 5 5 5 5 5 5 5 5 5"
      ]
     },
     "metadata": {},
     "output_type": "display_data"
    }
   ],
   "source": [
    "rep(5,10)"
   ]
  },
  {
   "cell_type": "code",
   "execution_count": 80,
   "metadata": {},
   "outputs": [
    {
     "data": {
      "text/html": [
       "<table>\n",
       "<thead><tr><th></th><th scope=col>m_j</th><th scope=col>G_j</th><th scope=col>1</th><th scope=col>2</th><th scope=col>3</th><th scope=col>4</th><th scope=col>5</th><th scope=col>6</th><th scope=col>7</th><th scope=col>8</th><th scope=col>...</th><th scope=col>91</th><th scope=col>92</th><th scope=col>93</th><th scope=col>94</th><th scope=col>95</th><th scope=col>96</th><th scope=col>97</th><th scope=col>98</th><th scope=col>99</th><th scope=col>100</th></tr></thead>\n",
       "<tbody>\n",
       "\t<tr><th scope=row>1</th><td>7297</td><td>33.2</td><td>1   </td><td>1   </td><td>1   </td><td>1   </td><td>1   </td><td>1   </td><td>1   </td><td>1   </td><td>... </td><td> 1  </td><td> 1  </td><td> 1  </td><td> 1  </td><td> 1  </td><td> 1  </td><td> 1  </td><td> 1  </td><td> 1  </td><td> 1  </td></tr>\n",
       "\t<tr><th scope=row>1.1</th><td>7297</td><td>33.2</td><td>1   </td><td>1   </td><td>1   </td><td>1   </td><td>1   </td><td>1   </td><td>1   </td><td>1   </td><td>... </td><td> 2  </td><td> 2  </td><td> 2  </td><td> 2  </td><td> 2  </td><td> 2  </td><td> 2  </td><td> 2  </td><td> 2  </td><td> 2  </td></tr>\n",
       "\t<tr><th scope=row>1.2</th><td>7297</td><td>33.2</td><td>1   </td><td>1   </td><td>1   </td><td>1   </td><td>1   </td><td>1   </td><td>1   </td><td>1   </td><td>... </td><td> 3  </td><td> 3  </td><td> 3  </td><td> 3  </td><td> 3  </td><td> 3  </td><td> 3  </td><td> 3  </td><td> 3  </td><td> 3  </td></tr>\n",
       "\t<tr><th scope=row>1.3</th><td>7297</td><td>33.2</td><td>1   </td><td>1   </td><td>1   </td><td>1   </td><td>1   </td><td>1   </td><td>1   </td><td>1   </td><td>... </td><td> 4  </td><td> 4  </td><td> 4  </td><td> 5  </td><td> 5  </td><td> 4  </td><td> 4  </td><td> 4  </td><td> 4  </td><td> 4  </td></tr>\n",
       "\t<tr><th scope=row>1.4</th><td>7297</td><td>33.2</td><td>1   </td><td>1   </td><td>1   </td><td>1   </td><td>1   </td><td>1   </td><td>1   </td><td>1   </td><td>... </td><td> 5  </td><td> 6  </td><td> 5  </td><td> 7  </td><td> 6  </td><td> 5  </td><td> 5  </td><td> 5  </td><td> 5  </td><td> 5  </td></tr>\n",
       "\t<tr><th scope=row>1.5</th><td>7297</td><td>33.2</td><td>1   </td><td>1   </td><td>1   </td><td>1   </td><td>1   </td><td>1   </td><td>1   </td><td>1   </td><td>... </td><td> 6  </td><td> 7  </td><td> 6  </td><td> 8  </td><td> 7  </td><td> 6  </td><td> 6  </td><td> 6  </td><td> 6  </td><td> 6  </td></tr>\n",
       "\t<tr><th scope=row>1.6</th><td>7297</td><td>33.2</td><td>1   </td><td>1   </td><td>1   </td><td>1   </td><td>1   </td><td>1   </td><td>1   </td><td>1   </td><td>... </td><td> 7  </td><td> 9  </td><td> 7  </td><td> 9  </td><td> 8  </td><td> 7  </td><td> 7  </td><td> 8  </td><td> 7  </td><td> 7  </td></tr>\n",
       "\t<tr><th scope=row>1.7</th><td>7297</td><td>33.2</td><td>1   </td><td>1   </td><td>1   </td><td>1   </td><td>1   </td><td>1   </td><td>1   </td><td>1   </td><td>... </td><td> 9  </td><td>11  </td><td> 8  </td><td>15  </td><td> 9  </td><td> 8  </td><td> 8  </td><td> 9  </td><td> 8  </td><td> 8  </td></tr>\n",
       "\t<tr><th scope=row>1.8</th><td>7297</td><td>33.2</td><td>1   </td><td>1   </td><td>1   </td><td>1   </td><td>1   </td><td>1   </td><td>1   </td><td>1   </td><td>... </td><td>10  </td><td>12  </td><td> 9  </td><td>16  </td><td>11  </td><td> 9  </td><td> 9  </td><td>10  </td><td> 9  </td><td> 9  </td></tr>\n",
       "\t<tr><th scope=row>1.9</th><td>7297</td><td>33.2</td><td>1   </td><td>1   </td><td>1   </td><td>1   </td><td>1   </td><td>1   </td><td>1   </td><td>1   </td><td>... </td><td>11  </td><td>13  </td><td>11  </td><td>16  </td><td>12  </td><td>10  </td><td>10  </td><td>11  </td><td>10  </td><td>10  </td></tr>\n",
       "\t<tr><th scope=row>1.10</th><td>7297</td><td>33.2</td><td>1   </td><td>1   </td><td>1   </td><td>1   </td><td>1   </td><td>1   </td><td>1   </td><td>1   </td><td>... </td><td>12  </td><td>14  </td><td>13  </td><td>17  </td><td>12  </td><td>13  </td><td>11  </td><td>12  </td><td>11  </td><td>11  </td></tr>\n",
       "\t<tr><th scope=row>1.11</th><td>7297</td><td>33.2</td><td>1   </td><td>1   </td><td>1   </td><td>1   </td><td>1   </td><td>1   </td><td>1   </td><td>1   </td><td>... </td><td>12  </td><td>14  </td><td>13  </td><td>18  </td><td>13  </td><td>14  </td><td>12  </td><td>13  </td><td>12  </td><td>12  </td></tr>\n",
       "\t<tr><th scope=row>1.12</th><td>7297</td><td>33.2</td><td>1   </td><td>1   </td><td>1   </td><td>1   </td><td>1   </td><td>1   </td><td>1   </td><td>1   </td><td>... </td><td>13  </td><td>16  </td><td>14  </td><td>20  </td><td>14  </td><td>16  </td><td>13  </td><td>14  </td><td>13  </td><td>13  </td></tr>\n",
       "\t<tr><th scope=row>1.13</th><td>7297</td><td>33.2</td><td>1   </td><td>1   </td><td>1   </td><td>1   </td><td>1   </td><td>1   </td><td>1   </td><td>1   </td><td>... </td><td>16  </td><td>16  </td><td>15  </td><td>21  </td><td>15  </td><td>17  </td><td>14  </td><td>15  </td><td>14  </td><td>14  </td></tr>\n",
       "\t<tr><th scope=row>1.14</th><td>7297</td><td>33.2</td><td>1   </td><td>1   </td><td>1   </td><td>1   </td><td>1   </td><td>1   </td><td>1   </td><td>1   </td><td>... </td><td>17  </td><td>24  </td><td>16  </td><td>21  </td><td>18  </td><td>18  </td><td>15  </td><td>16  </td><td>15  </td><td>16  </td></tr>\n",
       "\t<tr><th scope=row>1.15</th><td>7297</td><td>33.2</td><td>1   </td><td>1   </td><td>1   </td><td>1   </td><td>1   </td><td>1   </td><td>1   </td><td>1   </td><td>... </td><td>17  </td><td>24  </td><td>18  </td><td>22  </td><td>19  </td><td>19  </td><td>16  </td><td>17  </td><td>15  </td><td>17  </td></tr>\n",
       "\t<tr><th scope=row>1.16</th><td>7297</td><td>33.2</td><td>1   </td><td>1   </td><td>1   </td><td>1   </td><td>1   </td><td>1   </td><td>1   </td><td>1   </td><td>... </td><td>19  </td><td>24  </td><td>20  </td><td>26  </td><td>19  </td><td>20  </td><td>17  </td><td>19  </td><td>16  </td><td>18  </td></tr>\n",
       "\t<tr><th scope=row>1.17</th><td>7297</td><td>33.2</td><td>1   </td><td>1   </td><td>1   </td><td>1   </td><td>1   </td><td>1   </td><td>1   </td><td>1   </td><td>... </td><td>21  </td><td>25  </td><td>20  </td><td>26  </td><td>21  </td><td>22  </td><td>20  </td><td>20  </td><td>17  </td><td>47  </td></tr>\n",
       "\t<tr><th scope=row>1.18</th><td>7297</td><td>33.2</td><td>1   </td><td>1   </td><td>1   </td><td>1   </td><td>1   </td><td>2   </td><td>1   </td><td>1   </td><td>... </td><td>21  </td><td>25  </td><td>22  </td><td>27  </td><td>22  </td><td>23  </td><td>20  </td><td>21  </td><td>29  </td><td>48  </td></tr>\n",
       "\t<tr><th scope=row>1.19</th><td>7297</td><td>33.2</td><td>1   </td><td>1   </td><td>1   </td><td>1   </td><td>1   </td><td>2   </td><td>1   </td><td>1   </td><td>... </td><td>22  </td><td>26  </td><td>23  </td><td>27  </td><td>22  </td><td>25  </td><td>21  </td><td>22  </td><td>34  </td><td>49  </td></tr>\n",
       "\t<tr><th scope=row>1.20</th><td>7297</td><td>33.2</td><td>1   </td><td>1   </td><td>1   </td><td>1   </td><td>1   </td><td>2   </td><td>2   </td><td>2   </td><td>... </td><td>23  </td><td>26  </td><td>24  </td><td>28  </td><td>23  </td><td>27  </td><td>22  </td><td>23  </td><td>39  </td><td>50  </td></tr>\n",
       "\t<tr><th scope=row>1.21</th><td>7297</td><td>33.2</td><td>1   </td><td>1   </td><td>1   </td><td>1   </td><td>1   </td><td>2   </td><td>2   </td><td>2   </td><td>... </td><td>23  </td><td>27  </td><td>25  </td><td>28  </td><td>24  </td><td>27  </td><td>23  </td><td>25  </td><td>40  </td><td>52  </td></tr>\n",
       "\t<tr><th scope=row>1.22</th><td>7297</td><td>33.2</td><td>1   </td><td>1   </td><td>1   </td><td>1   </td><td>1   </td><td>2   </td><td>2   </td><td>2   </td><td>... </td><td>24  </td><td>27  </td><td>25  </td><td>28  </td><td>24  </td><td>29  </td><td>31  </td><td>26  </td><td>41  </td><td>54  </td></tr>\n",
       "\t<tr><th scope=row>1.23</th><td>7297</td><td>33.2</td><td>1   </td><td>1   </td><td>1   </td><td>1   </td><td>1   </td><td>2   </td><td>2   </td><td>2   </td><td>... </td><td>24  </td><td>28  </td><td>26  </td><td>29  </td><td>25  </td><td>32  </td><td>31  </td><td>26  </td><td>42  </td><td>57  </td></tr>\n",
       "\t<tr><th scope=row>1.24</th><td>7297</td><td>33.2</td><td>1   </td><td>1   </td><td>1   </td><td>1   </td><td>2   </td><td>2   </td><td>2   </td><td>2   </td><td>... </td><td>25  </td><td>29  </td><td>26  </td><td>29  </td><td>25  </td><td>32  </td><td>32  </td><td>27  </td><td>43  </td><td>58  </td></tr>\n",
       "\t<tr><th scope=row>1.25</th><td>7297</td><td>33.2</td><td>1   </td><td>1   </td><td>1   </td><td>2   </td><td>2   </td><td>2   </td><td>2   </td><td>2   </td><td>... </td><td>27  </td><td>30  </td><td>27  </td><td>29  </td><td>25  </td><td>33  </td><td>33  </td><td>32  </td><td>48  </td><td>60  </td></tr>\n",
       "\t<tr><th scope=row>1.26</th><td>7297</td><td>33.2</td><td>1   </td><td>1   </td><td>1   </td><td>2   </td><td>2   </td><td>2   </td><td>2   </td><td>2   </td><td>... </td><td>27  </td><td>30  </td><td>29  </td><td>29  </td><td>27  </td><td>33  </td><td>37  </td><td>33  </td><td>51  </td><td>61  </td></tr>\n",
       "\t<tr><th scope=row>1.27</th><td>7297</td><td>33.2</td><td>1   </td><td>1   </td><td>1   </td><td>2   </td><td>2   </td><td>2   </td><td>2   </td><td>2   </td><td>... </td><td>28  </td><td>32  </td><td>29  </td><td>31  </td><td>29  </td><td>34  </td><td>38  </td><td>36  </td><td>52  </td><td>62  </td></tr>\n",
       "\t<tr><th scope=row>1.28</th><td>7297</td><td>33.2</td><td>1   </td><td>1   </td><td>1   </td><td>2   </td><td>2   </td><td>2   </td><td>2   </td><td>2   </td><td>... </td><td>28  </td><td>32  </td><td>30  </td><td>31  </td><td>34  </td><td>35  </td><td>39  </td><td>37  </td><td>52  </td><td>62  </td></tr>\n",
       "\t<tr><th scope=row>1.29</th><td>7297</td><td>33.2</td><td>1   </td><td>1   </td><td>1   </td><td>2   </td><td>2   </td><td>2   </td><td>2   </td><td>2   </td><td>... </td><td>29  </td><td>32  </td><td>31  </td><td>31  </td><td>34  </td><td>36  </td><td>39  </td><td>37  </td><td>53  </td><td>63  </td></tr>\n",
       "\t<tr><th scope=row>...</th><td>...</td><td>...</td><td>...</td><td>...</td><td>...</td><td>...</td><td>...</td><td>...</td><td>...</td><td>...</td><td>   </td><td>...</td><td>...</td><td>...</td><td>...</td><td>...</td><td>...</td><td>...</td><td>...</td><td>...</td><td>...</td></tr>\n",
       "\t<tr><th scope=row>1.470</th><td>7297</td><td>33.2</td><td>30  </td><td>41  </td><td>44  </td><td>55  </td><td>51  </td><td>54  </td><td>56  </td><td>60  </td><td>... </td><td> 99 </td><td> 99 </td><td> 99 </td><td> 99 </td><td> 99 </td><td> 99 </td><td>100 </td><td>100 </td><td>100 </td><td>100 </td></tr>\n",
       "\t<tr><th scope=row>1.471</th><td>7297</td><td>33.2</td><td>30  </td><td>42  </td><td>45  </td><td>55  </td><td>51  </td><td>55  </td><td>57  </td><td>61  </td><td>... </td><td> 99 </td><td> 99 </td><td> 99 </td><td> 99 </td><td> 99 </td><td> 99 </td><td>100 </td><td>100 </td><td>100 </td><td>100 </td></tr>\n",
       "\t<tr><th scope=row>1.472</th><td>7297</td><td>33.2</td><td>31  </td><td>42  </td><td>45  </td><td>55  </td><td>51  </td><td>56  </td><td>58  </td><td>62  </td><td>... </td><td> 99 </td><td> 99 </td><td> 99 </td><td> 99 </td><td> 99 </td><td> 99 </td><td>100 </td><td>100 </td><td>100 </td><td>100 </td></tr>\n",
       "\t<tr><th scope=row>1.473</th><td>7297</td><td>33.2</td><td>31  </td><td>42  </td><td>45  </td><td>55  </td><td>52  </td><td>56  </td><td>58  </td><td>62  </td><td>... </td><td> 99 </td><td> 99 </td><td> 99 </td><td> 99 </td><td> 99 </td><td> 99 </td><td>100 </td><td>100 </td><td>100 </td><td>100 </td></tr>\n",
       "\t<tr><th scope=row>1.474</th><td>7297</td><td>33.2</td><td>32  </td><td>43  </td><td>46  </td><td>56  </td><td>52  </td><td>57  </td><td>59  </td><td>62  </td><td>... </td><td> 99 </td><td> 99 </td><td> 99 </td><td> 99 </td><td> 99 </td><td> 99 </td><td>100 </td><td>100 </td><td>100 </td><td>100 </td></tr>\n",
       "\t<tr><th scope=row>1.475</th><td>7297</td><td>33.2</td><td>32  </td><td>43  </td><td>47  </td><td>57  </td><td>52  </td><td>58  </td><td>60  </td><td>63  </td><td>... </td><td> 99 </td><td> 99 </td><td> 99 </td><td> 99 </td><td> 99 </td><td>100 </td><td>100 </td><td>100 </td><td>100 </td><td>100 </td></tr>\n",
       "\t<tr><th scope=row>1.476</th><td>7297</td><td>33.2</td><td>34  </td><td>44  </td><td>47  </td><td>57  </td><td>53  </td><td>58  </td><td>60  </td><td>63  </td><td>... </td><td> 99 </td><td> 99 </td><td> 99 </td><td> 99 </td><td> 99 </td><td>100 </td><td>100 </td><td>100 </td><td>100 </td><td>100 </td></tr>\n",
       "\t<tr><th scope=row>1.477</th><td>7297</td><td>33.2</td><td>35  </td><td>44  </td><td>48  </td><td>57  </td><td>53  </td><td>58  </td><td>61  </td><td>64  </td><td>... </td><td> 99 </td><td> 99 </td><td> 99 </td><td> 99 </td><td> 99 </td><td>100 </td><td>100 </td><td>100 </td><td>100 </td><td>100 </td></tr>\n",
       "\t<tr><th scope=row>1.478</th><td>7297</td><td>33.2</td><td>35  </td><td>45  </td><td>48  </td><td>58  </td><td>54  </td><td>59  </td><td>61  </td><td>65  </td><td>... </td><td> 99 </td><td> 99 </td><td> 99 </td><td> 99 </td><td>100 </td><td>100 </td><td>100 </td><td>100 </td><td>100 </td><td>100 </td></tr>\n",
       "\t<tr><th scope=row>1.479</th><td>7297</td><td>33.2</td><td>36  </td><td>45  </td><td>49  </td><td>59  </td><td>54  </td><td>59  </td><td>62  </td><td>65  </td><td>... </td><td> 99 </td><td> 99 </td><td> 99 </td><td> 99 </td><td>100 </td><td>100 </td><td>100 </td><td>100 </td><td>100 </td><td>100 </td></tr>\n",
       "\t<tr><th scope=row>1.480</th><td>7297</td><td>33.2</td><td>36  </td><td>46  </td><td>49  </td><td>59  </td><td>55  </td><td>60  </td><td>62  </td><td>66  </td><td>... </td><td> 99 </td><td> 99 </td><td> 99 </td><td> 99 </td><td>100 </td><td>100 </td><td>100 </td><td>100 </td><td>100 </td><td>100 </td></tr>\n",
       "\t<tr><th scope=row>1.481</th><td>7297</td><td>33.2</td><td>36  </td><td>47  </td><td>50  </td><td>61  </td><td>55  </td><td>60  </td><td>63  </td><td>66  </td><td>... </td><td> 99 </td><td> 99 </td><td> 99 </td><td> 99 </td><td>100 </td><td>100 </td><td>100 </td><td>100 </td><td>100 </td><td>100 </td></tr>\n",
       "\t<tr><th scope=row>1.482</th><td>7297</td><td>33.2</td><td>37  </td><td>47  </td><td>50  </td><td>62  </td><td>55  </td><td>60  </td><td>64  </td><td>67  </td><td>... </td><td> 99 </td><td> 99 </td><td> 99 </td><td> 99 </td><td>100 </td><td>100 </td><td>100 </td><td>100 </td><td>100 </td><td>100 </td></tr>\n",
       "\t<tr><th scope=row>1.483</th><td>7297</td><td>33.2</td><td>38  </td><td>48  </td><td>53  </td><td>62  </td><td>56  </td><td>61  </td><td>64  </td><td>67  </td><td>... </td><td> 99 </td><td> 99 </td><td> 99 </td><td> 99 </td><td>100 </td><td>100 </td><td>100 </td><td>100 </td><td>100 </td><td>100 </td></tr>\n",
       "\t<tr><th scope=row>1.484</th><td>7297</td><td>33.2</td><td>38  </td><td>49  </td><td>54  </td><td>63  </td><td>56  </td><td>61  </td><td>67  </td><td>68  </td><td>... </td><td> 99 </td><td> 99 </td><td> 99 </td><td> 99 </td><td>100 </td><td>100 </td><td>100 </td><td>100 </td><td>100 </td><td>100 </td></tr>\n",
       "\t<tr><th scope=row>1.485</th><td>7297</td><td>33.2</td><td>39  </td><td>50  </td><td>55  </td><td>64  </td><td>56  </td><td>62  </td><td>68  </td><td>69  </td><td>... </td><td> 99 </td><td> 99 </td><td>100 </td><td>100 </td><td>100 </td><td>100 </td><td>100 </td><td>100 </td><td>100 </td><td>100 </td></tr>\n",
       "\t<tr><th scope=row>1.486</th><td>7297</td><td>33.2</td><td>40  </td><td>50  </td><td>56  </td><td>65  </td><td>57  </td><td>62  </td><td>69  </td><td>71  </td><td>... </td><td> 99 </td><td>100 </td><td>100 </td><td>100 </td><td>100 </td><td>100 </td><td>100 </td><td>100 </td><td>100 </td><td>100 </td></tr>\n",
       "\t<tr><th scope=row>1.487</th><td>7297</td><td>33.2</td><td>41  </td><td>51  </td><td>57  </td><td>68  </td><td>57  </td><td>62  </td><td>69  </td><td>71  </td><td>... </td><td> 99 </td><td>100 </td><td>100 </td><td>100 </td><td>100 </td><td>100 </td><td>100 </td><td>100 </td><td>100 </td><td>100 </td></tr>\n",
       "\t<tr><th scope=row>1.488</th><td>7297</td><td>33.2</td><td>41  </td><td>52  </td><td>58  </td><td>69  </td><td>58  </td><td>63  </td><td>70  </td><td>74  </td><td>... </td><td>100 </td><td>100 </td><td>100 </td><td>100 </td><td>100 </td><td>100 </td><td>100 </td><td>100 </td><td>100 </td><td>100 </td></tr>\n",
       "\t<tr><th scope=row>1.489</th><td>7297</td><td>33.2</td><td>42  </td><td>53  </td><td>61  </td><td>69  </td><td>59  </td><td>64  </td><td>71  </td><td>74  </td><td>... </td><td>100 </td><td>100 </td><td>100 </td><td>100 </td><td>100 </td><td>100 </td><td>100 </td><td>100 </td><td>100 </td><td>100 </td></tr>\n",
       "\t<tr><th scope=row>1.490</th><td>7297</td><td>33.2</td><td>42  </td><td>53  </td><td>62  </td><td>70  </td><td>59  </td><td>66  </td><td>72  </td><td>74  </td><td>... </td><td>100 </td><td>100 </td><td>100 </td><td>100 </td><td>100 </td><td>100 </td><td>100 </td><td>100 </td><td>100 </td><td>100 </td></tr>\n",
       "\t<tr><th scope=row>1.491</th><td>7297</td><td>33.2</td><td>43  </td><td>55  </td><td>62  </td><td>71  </td><td>61  </td><td>67  </td><td>72  </td><td>75  </td><td>... </td><td>100 </td><td>100 </td><td>100 </td><td>100 </td><td>100 </td><td>100 </td><td>100 </td><td>100 </td><td>100 </td><td>100 </td></tr>\n",
       "\t<tr><th scope=row>1.492</th><td>7297</td><td>33.2</td><td>43  </td><td>55  </td><td>64  </td><td>73  </td><td>61  </td><td>69  </td><td>74  </td><td>77  </td><td>... </td><td>100 </td><td>100 </td><td>100 </td><td>100 </td><td>100 </td><td>100 </td><td>100 </td><td>100 </td><td>100 </td><td>100 </td></tr>\n",
       "\t<tr><th scope=row>1.493</th><td>7297</td><td>33.2</td><td>44  </td><td>59  </td><td>66  </td><td>73  </td><td>62  </td><td>70  </td><td>74  </td><td>78  </td><td>... </td><td>100 </td><td>100 </td><td>100 </td><td>100 </td><td>100 </td><td>100 </td><td>100 </td><td>100 </td><td>100 </td><td>100 </td></tr>\n",
       "\t<tr><th scope=row>1.494</th><td>7297</td><td>33.2</td><td>45  </td><td>62  </td><td>67  </td><td>75  </td><td>63  </td><td>70  </td><td>75  </td><td>79  </td><td>... </td><td>100 </td><td>100 </td><td>100 </td><td>100 </td><td>100 </td><td>100 </td><td>100 </td><td>100 </td><td>100 </td><td>100 </td></tr>\n",
       "\t<tr><th scope=row>1.495</th><td>7297</td><td>33.2</td><td>46  </td><td>63  </td><td>67  </td><td>76  </td><td>65  </td><td>72  </td><td>76  </td><td>82  </td><td>... </td><td>100 </td><td>100 </td><td>100 </td><td>100 </td><td>100 </td><td>100 </td><td>100 </td><td>100 </td><td>100 </td><td>100 </td></tr>\n",
       "\t<tr><th scope=row>1.496</th><td>7297</td><td>33.2</td><td>47  </td><td>63  </td><td>68  </td><td>78  </td><td>66  </td><td>73  </td><td>78  </td><td>84  </td><td>... </td><td>100 </td><td>100 </td><td>100 </td><td>100 </td><td>100 </td><td>100 </td><td>100 </td><td>100 </td><td>100 </td><td>100 </td></tr>\n",
       "\t<tr><th scope=row>1.497</th><td>7297</td><td>33.2</td><td>51  </td><td>65  </td><td>69  </td><td>81  </td><td>66  </td><td>74  </td><td>79  </td><td>85  </td><td>... </td><td>100 </td><td>100 </td><td>100 </td><td>100 </td><td>100 </td><td>100 </td><td>100 </td><td>100 </td><td>100 </td><td>100 </td></tr>\n",
       "\t<tr><th scope=row>1.498</th><td>7297</td><td>33.2</td><td>52  </td><td>67  </td><td>69  </td><td>86  </td><td>68  </td><td>81  </td><td>80  </td><td>86  </td><td>... </td><td>100 </td><td>100 </td><td>100 </td><td>100 </td><td>100 </td><td>100 </td><td>100 </td><td>100 </td><td>100 </td><td>100 </td></tr>\n",
       "\t<tr><th scope=row>1.499</th><td>7297</td><td>33.2</td><td>53  </td><td>69  </td><td>79  </td><td>90  </td><td>69  </td><td>88  </td><td>90  </td><td>90  </td><td>... </td><td>100 </td><td>100 </td><td>100 </td><td>100 </td><td>100 </td><td>100 </td><td>100 </td><td>100 </td><td>100 </td><td>100 </td></tr>\n",
       "</tbody>\n",
       "</table>\n"
      ],
      "text/latex": [
       "\\begin{tabular}{r|llllllllllllllllllllllllllllllllllllllllllllllllllllllllllllllllllllllllllllllllllllllllllllllllllllll}\n",
       "  & m\\_j & G\\_j & 1 & 2 & 3 & 4 & 5 & 6 & 7 & 8 & ... & 91 & 92 & 93 & 94 & 95 & 96 & 97 & 98 & 99 & 100\\\\\n",
       "\\hline\n",
       "\t1 & 7297 & 33.2 & 1    & 1    & 1    & 1    & 1    & 1    & 1    & 1    & ...  &  1   &  1   &  1   &  1   &  1   &  1   &  1   &  1   &  1   &  1  \\\\\n",
       "\t1.1 & 7297 & 33.2 & 1    & 1    & 1    & 1    & 1    & 1    & 1    & 1    & ...  &  2   &  2   &  2   &  2   &  2   &  2   &  2   &  2   &  2   &  2  \\\\\n",
       "\t1.2 & 7297 & 33.2 & 1    & 1    & 1    & 1    & 1    & 1    & 1    & 1    & ...  &  3   &  3   &  3   &  3   &  3   &  3   &  3   &  3   &  3   &  3  \\\\\n",
       "\t1.3 & 7297 & 33.2 & 1    & 1    & 1    & 1    & 1    & 1    & 1    & 1    & ...  &  4   &  4   &  4   &  5   &  5   &  4   &  4   &  4   &  4   &  4  \\\\\n",
       "\t1.4 & 7297 & 33.2 & 1    & 1    & 1    & 1    & 1    & 1    & 1    & 1    & ...  &  5   &  6   &  5   &  7   &  6   &  5   &  5   &  5   &  5   &  5  \\\\\n",
       "\t1.5 & 7297 & 33.2 & 1    & 1    & 1    & 1    & 1    & 1    & 1    & 1    & ...  &  6   &  7   &  6   &  8   &  7   &  6   &  6   &  6   &  6   &  6  \\\\\n",
       "\t1.6 & 7297 & 33.2 & 1    & 1    & 1    & 1    & 1    & 1    & 1    & 1    & ...  &  7   &  9   &  7   &  9   &  8   &  7   &  7   &  8   &  7   &  7  \\\\\n",
       "\t1.7 & 7297 & 33.2 & 1    & 1    & 1    & 1    & 1    & 1    & 1    & 1    & ...  &  9   & 11   &  8   & 15   &  9   &  8   &  8   &  9   &  8   &  8  \\\\\n",
       "\t1.8 & 7297 & 33.2 & 1    & 1    & 1    & 1    & 1    & 1    & 1    & 1    & ...  & 10   & 12   &  9   & 16   & 11   &  9   &  9   & 10   &  9   &  9  \\\\\n",
       "\t1.9 & 7297 & 33.2 & 1    & 1    & 1    & 1    & 1    & 1    & 1    & 1    & ...  & 11   & 13   & 11   & 16   & 12   & 10   & 10   & 11   & 10   & 10  \\\\\n",
       "\t1.10 & 7297 & 33.2 & 1    & 1    & 1    & 1    & 1    & 1    & 1    & 1    & ...  & 12   & 14   & 13   & 17   & 12   & 13   & 11   & 12   & 11   & 11  \\\\\n",
       "\t1.11 & 7297 & 33.2 & 1    & 1    & 1    & 1    & 1    & 1    & 1    & 1    & ...  & 12   & 14   & 13   & 18   & 13   & 14   & 12   & 13   & 12   & 12  \\\\\n",
       "\t1.12 & 7297 & 33.2 & 1    & 1    & 1    & 1    & 1    & 1    & 1    & 1    & ...  & 13   & 16   & 14   & 20   & 14   & 16   & 13   & 14   & 13   & 13  \\\\\n",
       "\t1.13 & 7297 & 33.2 & 1    & 1    & 1    & 1    & 1    & 1    & 1    & 1    & ...  & 16   & 16   & 15   & 21   & 15   & 17   & 14   & 15   & 14   & 14  \\\\\n",
       "\t1.14 & 7297 & 33.2 & 1    & 1    & 1    & 1    & 1    & 1    & 1    & 1    & ...  & 17   & 24   & 16   & 21   & 18   & 18   & 15   & 16   & 15   & 16  \\\\\n",
       "\t1.15 & 7297 & 33.2 & 1    & 1    & 1    & 1    & 1    & 1    & 1    & 1    & ...  & 17   & 24   & 18   & 22   & 19   & 19   & 16   & 17   & 15   & 17  \\\\\n",
       "\t1.16 & 7297 & 33.2 & 1    & 1    & 1    & 1    & 1    & 1    & 1    & 1    & ...  & 19   & 24   & 20   & 26   & 19   & 20   & 17   & 19   & 16   & 18  \\\\\n",
       "\t1.17 & 7297 & 33.2 & 1    & 1    & 1    & 1    & 1    & 1    & 1    & 1    & ...  & 21   & 25   & 20   & 26   & 21   & 22   & 20   & 20   & 17   & 47  \\\\\n",
       "\t1.18 & 7297 & 33.2 & 1    & 1    & 1    & 1    & 1    & 2    & 1    & 1    & ...  & 21   & 25   & 22   & 27   & 22   & 23   & 20   & 21   & 29   & 48  \\\\\n",
       "\t1.19 & 7297 & 33.2 & 1    & 1    & 1    & 1    & 1    & 2    & 1    & 1    & ...  & 22   & 26   & 23   & 27   & 22   & 25   & 21   & 22   & 34   & 49  \\\\\n",
       "\t1.20 & 7297 & 33.2 & 1    & 1    & 1    & 1    & 1    & 2    & 2    & 2    & ...  & 23   & 26   & 24   & 28   & 23   & 27   & 22   & 23   & 39   & 50  \\\\\n",
       "\t1.21 & 7297 & 33.2 & 1    & 1    & 1    & 1    & 1    & 2    & 2    & 2    & ...  & 23   & 27   & 25   & 28   & 24   & 27   & 23   & 25   & 40   & 52  \\\\\n",
       "\t1.22 & 7297 & 33.2 & 1    & 1    & 1    & 1    & 1    & 2    & 2    & 2    & ...  & 24   & 27   & 25   & 28   & 24   & 29   & 31   & 26   & 41   & 54  \\\\\n",
       "\t1.23 & 7297 & 33.2 & 1    & 1    & 1    & 1    & 1    & 2    & 2    & 2    & ...  & 24   & 28   & 26   & 29   & 25   & 32   & 31   & 26   & 42   & 57  \\\\\n",
       "\t1.24 & 7297 & 33.2 & 1    & 1    & 1    & 1    & 2    & 2    & 2    & 2    & ...  & 25   & 29   & 26   & 29   & 25   & 32   & 32   & 27   & 43   & 58  \\\\\n",
       "\t1.25 & 7297 & 33.2 & 1    & 1    & 1    & 2    & 2    & 2    & 2    & 2    & ...  & 27   & 30   & 27   & 29   & 25   & 33   & 33   & 32   & 48   & 60  \\\\\n",
       "\t1.26 & 7297 & 33.2 & 1    & 1    & 1    & 2    & 2    & 2    & 2    & 2    & ...  & 27   & 30   & 29   & 29   & 27   & 33   & 37   & 33   & 51   & 61  \\\\\n",
       "\t1.27 & 7297 & 33.2 & 1    & 1    & 1    & 2    & 2    & 2    & 2    & 2    & ...  & 28   & 32   & 29   & 31   & 29   & 34   & 38   & 36   & 52   & 62  \\\\\n",
       "\t1.28 & 7297 & 33.2 & 1    & 1    & 1    & 2    & 2    & 2    & 2    & 2    & ...  & 28   & 32   & 30   & 31   & 34   & 35   & 39   & 37   & 52   & 62  \\\\\n",
       "\t1.29 & 7297 & 33.2 & 1    & 1    & 1    & 2    & 2    & 2    & 2    & 2    & ...  & 29   & 32   & 31   & 31   & 34   & 36   & 39   & 37   & 53   & 63  \\\\\n",
       "\t... & ... & ... & ... & ... & ... & ... & ... & ... & ... & ... &     & ... & ... & ... & ... & ... & ... & ... & ... & ... & ...\\\\\n",
       "\t1.470 & 7297 & 33.2 & 30   & 41   & 44   & 55   & 51   & 54   & 56   & 60   & ...  &  99  &  99  &  99  &  99  &  99  &  99  & 100  & 100  & 100  & 100 \\\\\n",
       "\t1.471 & 7297 & 33.2 & 30   & 42   & 45   & 55   & 51   & 55   & 57   & 61   & ...  &  99  &  99  &  99  &  99  &  99  &  99  & 100  & 100  & 100  & 100 \\\\\n",
       "\t1.472 & 7297 & 33.2 & 31   & 42   & 45   & 55   & 51   & 56   & 58   & 62   & ...  &  99  &  99  &  99  &  99  &  99  &  99  & 100  & 100  & 100  & 100 \\\\\n",
       "\t1.473 & 7297 & 33.2 & 31   & 42   & 45   & 55   & 52   & 56   & 58   & 62   & ...  &  99  &  99  &  99  &  99  &  99  &  99  & 100  & 100  & 100  & 100 \\\\\n",
       "\t1.474 & 7297 & 33.2 & 32   & 43   & 46   & 56   & 52   & 57   & 59   & 62   & ...  &  99  &  99  &  99  &  99  &  99  &  99  & 100  & 100  & 100  & 100 \\\\\n",
       "\t1.475 & 7297 & 33.2 & 32   & 43   & 47   & 57   & 52   & 58   & 60   & 63   & ...  &  99  &  99  &  99  &  99  &  99  & 100  & 100  & 100  & 100  & 100 \\\\\n",
       "\t1.476 & 7297 & 33.2 & 34   & 44   & 47   & 57   & 53   & 58   & 60   & 63   & ...  &  99  &  99  &  99  &  99  &  99  & 100  & 100  & 100  & 100  & 100 \\\\\n",
       "\t1.477 & 7297 & 33.2 & 35   & 44   & 48   & 57   & 53   & 58   & 61   & 64   & ...  &  99  &  99  &  99  &  99  &  99  & 100  & 100  & 100  & 100  & 100 \\\\\n",
       "\t1.478 & 7297 & 33.2 & 35   & 45   & 48   & 58   & 54   & 59   & 61   & 65   & ...  &  99  &  99  &  99  &  99  & 100  & 100  & 100  & 100  & 100  & 100 \\\\\n",
       "\t1.479 & 7297 & 33.2 & 36   & 45   & 49   & 59   & 54   & 59   & 62   & 65   & ...  &  99  &  99  &  99  &  99  & 100  & 100  & 100  & 100  & 100  & 100 \\\\\n",
       "\t1.480 & 7297 & 33.2 & 36   & 46   & 49   & 59   & 55   & 60   & 62   & 66   & ...  &  99  &  99  &  99  &  99  & 100  & 100  & 100  & 100  & 100  & 100 \\\\\n",
       "\t1.481 & 7297 & 33.2 & 36   & 47   & 50   & 61   & 55   & 60   & 63   & 66   & ...  &  99  &  99  &  99  &  99  & 100  & 100  & 100  & 100  & 100  & 100 \\\\\n",
       "\t1.482 & 7297 & 33.2 & 37   & 47   & 50   & 62   & 55   & 60   & 64   & 67   & ...  &  99  &  99  &  99  &  99  & 100  & 100  & 100  & 100  & 100  & 100 \\\\\n",
       "\t1.483 & 7297 & 33.2 & 38   & 48   & 53   & 62   & 56   & 61   & 64   & 67   & ...  &  99  &  99  &  99  &  99  & 100  & 100  & 100  & 100  & 100  & 100 \\\\\n",
       "\t1.484 & 7297 & 33.2 & 38   & 49   & 54   & 63   & 56   & 61   & 67   & 68   & ...  &  99  &  99  &  99  &  99  & 100  & 100  & 100  & 100  & 100  & 100 \\\\\n",
       "\t1.485 & 7297 & 33.2 & 39   & 50   & 55   & 64   & 56   & 62   & 68   & 69   & ...  &  99  &  99  & 100  & 100  & 100  & 100  & 100  & 100  & 100  & 100 \\\\\n",
       "\t1.486 & 7297 & 33.2 & 40   & 50   & 56   & 65   & 57   & 62   & 69   & 71   & ...  &  99  & 100  & 100  & 100  & 100  & 100  & 100  & 100  & 100  & 100 \\\\\n",
       "\t1.487 & 7297 & 33.2 & 41   & 51   & 57   & 68   & 57   & 62   & 69   & 71   & ...  &  99  & 100  & 100  & 100  & 100  & 100  & 100  & 100  & 100  & 100 \\\\\n",
       "\t1.488 & 7297 & 33.2 & 41   & 52   & 58   & 69   & 58   & 63   & 70   & 74   & ...  & 100  & 100  & 100  & 100  & 100  & 100  & 100  & 100  & 100  & 100 \\\\\n",
       "\t1.489 & 7297 & 33.2 & 42   & 53   & 61   & 69   & 59   & 64   & 71   & 74   & ...  & 100  & 100  & 100  & 100  & 100  & 100  & 100  & 100  & 100  & 100 \\\\\n",
       "\t1.490 & 7297 & 33.2 & 42   & 53   & 62   & 70   & 59   & 66   & 72   & 74   & ...  & 100  & 100  & 100  & 100  & 100  & 100  & 100  & 100  & 100  & 100 \\\\\n",
       "\t1.491 & 7297 & 33.2 & 43   & 55   & 62   & 71   & 61   & 67   & 72   & 75   & ...  & 100  & 100  & 100  & 100  & 100  & 100  & 100  & 100  & 100  & 100 \\\\\n",
       "\t1.492 & 7297 & 33.2 & 43   & 55   & 64   & 73   & 61   & 69   & 74   & 77   & ...  & 100  & 100  & 100  & 100  & 100  & 100  & 100  & 100  & 100  & 100 \\\\\n",
       "\t1.493 & 7297 & 33.2 & 44   & 59   & 66   & 73   & 62   & 70   & 74   & 78   & ...  & 100  & 100  & 100  & 100  & 100  & 100  & 100  & 100  & 100  & 100 \\\\\n",
       "\t1.494 & 7297 & 33.2 & 45   & 62   & 67   & 75   & 63   & 70   & 75   & 79   & ...  & 100  & 100  & 100  & 100  & 100  & 100  & 100  & 100  & 100  & 100 \\\\\n",
       "\t1.495 & 7297 & 33.2 & 46   & 63   & 67   & 76   & 65   & 72   & 76   & 82   & ...  & 100  & 100  & 100  & 100  & 100  & 100  & 100  & 100  & 100  & 100 \\\\\n",
       "\t1.496 & 7297 & 33.2 & 47   & 63   & 68   & 78   & 66   & 73   & 78   & 84   & ...  & 100  & 100  & 100  & 100  & 100  & 100  & 100  & 100  & 100  & 100 \\\\\n",
       "\t1.497 & 7297 & 33.2 & 51   & 65   & 69   & 81   & 66   & 74   & 79   & 85   & ...  & 100  & 100  & 100  & 100  & 100  & 100  & 100  & 100  & 100  & 100 \\\\\n",
       "\t1.498 & 7297 & 33.2 & 52   & 67   & 69   & 86   & 68   & 81   & 80   & 86   & ...  & 100  & 100  & 100  & 100  & 100  & 100  & 100  & 100  & 100  & 100 \\\\\n",
       "\t1.499 & 7297 & 33.2 & 53   & 69   & 79   & 90   & 69   & 88   & 90   & 90   & ...  & 100  & 100  & 100  & 100  & 100  & 100  & 100  & 100  & 100  & 100 \\\\\n",
       "\\end{tabular}\n"
      ],
      "text/markdown": [
       "\n",
       "| <!--/--> | m_j | G_j | 1 | 2 | 3 | 4 | 5 | 6 | 7 | 8 | ... | 91 | 92 | 93 | 94 | 95 | 96 | 97 | 98 | 99 | 100 |\n",
       "|---|---|---|---|---|---|---|---|---|---|---|---|---|---|---|---|---|---|---|---|---|---|\n",
       "| 1 | 7297 | 33.2 | 1    | 1    | 1    | 1    | 1    | 1    | 1    | 1    | ...  |  1   |  1   |  1   |  1   |  1   |  1   |  1   |  1   |  1   |  1   |\n",
       "| 1.1 | 7297 | 33.2 | 1    | 1    | 1    | 1    | 1    | 1    | 1    | 1    | ...  |  2   |  2   |  2   |  2   |  2   |  2   |  2   |  2   |  2   |  2   |\n",
       "| 1.2 | 7297 | 33.2 | 1    | 1    | 1    | 1    | 1    | 1    | 1    | 1    | ...  |  3   |  3   |  3   |  3   |  3   |  3   |  3   |  3   |  3   |  3   |\n",
       "| 1.3 | 7297 | 33.2 | 1    | 1    | 1    | 1    | 1    | 1    | 1    | 1    | ...  |  4   |  4   |  4   |  5   |  5   |  4   |  4   |  4   |  4   |  4   |\n",
       "| 1.4 | 7297 | 33.2 | 1    | 1    | 1    | 1    | 1    | 1    | 1    | 1    | ...  |  5   |  6   |  5   |  7   |  6   |  5   |  5   |  5   |  5   |  5   |\n",
       "| 1.5 | 7297 | 33.2 | 1    | 1    | 1    | 1    | 1    | 1    | 1    | 1    | ...  |  6   |  7   |  6   |  8   |  7   |  6   |  6   |  6   |  6   |  6   |\n",
       "| 1.6 | 7297 | 33.2 | 1    | 1    | 1    | 1    | 1    | 1    | 1    | 1    | ...  |  7   |  9   |  7   |  9   |  8   |  7   |  7   |  8   |  7   |  7   |\n",
       "| 1.7 | 7297 | 33.2 | 1    | 1    | 1    | 1    | 1    | 1    | 1    | 1    | ...  |  9   | 11   |  8   | 15   |  9   |  8   |  8   |  9   |  8   |  8   |\n",
       "| 1.8 | 7297 | 33.2 | 1    | 1    | 1    | 1    | 1    | 1    | 1    | 1    | ...  | 10   | 12   |  9   | 16   | 11   |  9   |  9   | 10   |  9   |  9   |\n",
       "| 1.9 | 7297 | 33.2 | 1    | 1    | 1    | 1    | 1    | 1    | 1    | 1    | ...  | 11   | 13   | 11   | 16   | 12   | 10   | 10   | 11   | 10   | 10   |\n",
       "| 1.10 | 7297 | 33.2 | 1    | 1    | 1    | 1    | 1    | 1    | 1    | 1    | ...  | 12   | 14   | 13   | 17   | 12   | 13   | 11   | 12   | 11   | 11   |\n",
       "| 1.11 | 7297 | 33.2 | 1    | 1    | 1    | 1    | 1    | 1    | 1    | 1    | ...  | 12   | 14   | 13   | 18   | 13   | 14   | 12   | 13   | 12   | 12   |\n",
       "| 1.12 | 7297 | 33.2 | 1    | 1    | 1    | 1    | 1    | 1    | 1    | 1    | ...  | 13   | 16   | 14   | 20   | 14   | 16   | 13   | 14   | 13   | 13   |\n",
       "| 1.13 | 7297 | 33.2 | 1    | 1    | 1    | 1    | 1    | 1    | 1    | 1    | ...  | 16   | 16   | 15   | 21   | 15   | 17   | 14   | 15   | 14   | 14   |\n",
       "| 1.14 | 7297 | 33.2 | 1    | 1    | 1    | 1    | 1    | 1    | 1    | 1    | ...  | 17   | 24   | 16   | 21   | 18   | 18   | 15   | 16   | 15   | 16   |\n",
       "| 1.15 | 7297 | 33.2 | 1    | 1    | 1    | 1    | 1    | 1    | 1    | 1    | ...  | 17   | 24   | 18   | 22   | 19   | 19   | 16   | 17   | 15   | 17   |\n",
       "| 1.16 | 7297 | 33.2 | 1    | 1    | 1    | 1    | 1    | 1    | 1    | 1    | ...  | 19   | 24   | 20   | 26   | 19   | 20   | 17   | 19   | 16   | 18   |\n",
       "| 1.17 | 7297 | 33.2 | 1    | 1    | 1    | 1    | 1    | 1    | 1    | 1    | ...  | 21   | 25   | 20   | 26   | 21   | 22   | 20   | 20   | 17   | 47   |\n",
       "| 1.18 | 7297 | 33.2 | 1    | 1    | 1    | 1    | 1    | 2    | 1    | 1    | ...  | 21   | 25   | 22   | 27   | 22   | 23   | 20   | 21   | 29   | 48   |\n",
       "| 1.19 | 7297 | 33.2 | 1    | 1    | 1    | 1    | 1    | 2    | 1    | 1    | ...  | 22   | 26   | 23   | 27   | 22   | 25   | 21   | 22   | 34   | 49   |\n",
       "| 1.20 | 7297 | 33.2 | 1    | 1    | 1    | 1    | 1    | 2    | 2    | 2    | ...  | 23   | 26   | 24   | 28   | 23   | 27   | 22   | 23   | 39   | 50   |\n",
       "| 1.21 | 7297 | 33.2 | 1    | 1    | 1    | 1    | 1    | 2    | 2    | 2    | ...  | 23   | 27   | 25   | 28   | 24   | 27   | 23   | 25   | 40   | 52   |\n",
       "| 1.22 | 7297 | 33.2 | 1    | 1    | 1    | 1    | 1    | 2    | 2    | 2    | ...  | 24   | 27   | 25   | 28   | 24   | 29   | 31   | 26   | 41   | 54   |\n",
       "| 1.23 | 7297 | 33.2 | 1    | 1    | 1    | 1    | 1    | 2    | 2    | 2    | ...  | 24   | 28   | 26   | 29   | 25   | 32   | 31   | 26   | 42   | 57   |\n",
       "| 1.24 | 7297 | 33.2 | 1    | 1    | 1    | 1    | 2    | 2    | 2    | 2    | ...  | 25   | 29   | 26   | 29   | 25   | 32   | 32   | 27   | 43   | 58   |\n",
       "| 1.25 | 7297 | 33.2 | 1    | 1    | 1    | 2    | 2    | 2    | 2    | 2    | ...  | 27   | 30   | 27   | 29   | 25   | 33   | 33   | 32   | 48   | 60   |\n",
       "| 1.26 | 7297 | 33.2 | 1    | 1    | 1    | 2    | 2    | 2    | 2    | 2    | ...  | 27   | 30   | 29   | 29   | 27   | 33   | 37   | 33   | 51   | 61   |\n",
       "| 1.27 | 7297 | 33.2 | 1    | 1    | 1    | 2    | 2    | 2    | 2    | 2    | ...  | 28   | 32   | 29   | 31   | 29   | 34   | 38   | 36   | 52   | 62   |\n",
       "| 1.28 | 7297 | 33.2 | 1    | 1    | 1    | 2    | 2    | 2    | 2    | 2    | ...  | 28   | 32   | 30   | 31   | 34   | 35   | 39   | 37   | 52   | 62   |\n",
       "| 1.29 | 7297 | 33.2 | 1    | 1    | 1    | 2    | 2    | 2    | 2    | 2    | ...  | 29   | 32   | 31   | 31   | 34   | 36   | 39   | 37   | 53   | 63   |\n",
       "| ... | ... | ... | ... | ... | ... | ... | ... | ... | ... | ... |     | ... | ... | ... | ... | ... | ... | ... | ... | ... | ... |\n",
       "| 1.470 | 7297 | 33.2 | 30   | 41   | 44   | 55   | 51   | 54   | 56   | 60   | ...  |  99  |  99  |  99  |  99  |  99  |  99  | 100  | 100  | 100  | 100  |\n",
       "| 1.471 | 7297 | 33.2 | 30   | 42   | 45   | 55   | 51   | 55   | 57   | 61   | ...  |  99  |  99  |  99  |  99  |  99  |  99  | 100  | 100  | 100  | 100  |\n",
       "| 1.472 | 7297 | 33.2 | 31   | 42   | 45   | 55   | 51   | 56   | 58   | 62   | ...  |  99  |  99  |  99  |  99  |  99  |  99  | 100  | 100  | 100  | 100  |\n",
       "| 1.473 | 7297 | 33.2 | 31   | 42   | 45   | 55   | 52   | 56   | 58   | 62   | ...  |  99  |  99  |  99  |  99  |  99  |  99  | 100  | 100  | 100  | 100  |\n",
       "| 1.474 | 7297 | 33.2 | 32   | 43   | 46   | 56   | 52   | 57   | 59   | 62   | ...  |  99  |  99  |  99  |  99  |  99  |  99  | 100  | 100  | 100  | 100  |\n",
       "| 1.475 | 7297 | 33.2 | 32   | 43   | 47   | 57   | 52   | 58   | 60   | 63   | ...  |  99  |  99  |  99  |  99  |  99  | 100  | 100  | 100  | 100  | 100  |\n",
       "| 1.476 | 7297 | 33.2 | 34   | 44   | 47   | 57   | 53   | 58   | 60   | 63   | ...  |  99  |  99  |  99  |  99  |  99  | 100  | 100  | 100  | 100  | 100  |\n",
       "| 1.477 | 7297 | 33.2 | 35   | 44   | 48   | 57   | 53   | 58   | 61   | 64   | ...  |  99  |  99  |  99  |  99  |  99  | 100  | 100  | 100  | 100  | 100  |\n",
       "| 1.478 | 7297 | 33.2 | 35   | 45   | 48   | 58   | 54   | 59   | 61   | 65   | ...  |  99  |  99  |  99  |  99  | 100  | 100  | 100  | 100  | 100  | 100  |\n",
       "| 1.479 | 7297 | 33.2 | 36   | 45   | 49   | 59   | 54   | 59   | 62   | 65   | ...  |  99  |  99  |  99  |  99  | 100  | 100  | 100  | 100  | 100  | 100  |\n",
       "| 1.480 | 7297 | 33.2 | 36   | 46   | 49   | 59   | 55   | 60   | 62   | 66   | ...  |  99  |  99  |  99  |  99  | 100  | 100  | 100  | 100  | 100  | 100  |\n",
       "| 1.481 | 7297 | 33.2 | 36   | 47   | 50   | 61   | 55   | 60   | 63   | 66   | ...  |  99  |  99  |  99  |  99  | 100  | 100  | 100  | 100  | 100  | 100  |\n",
       "| 1.482 | 7297 | 33.2 | 37   | 47   | 50   | 62   | 55   | 60   | 64   | 67   | ...  |  99  |  99  |  99  |  99  | 100  | 100  | 100  | 100  | 100  | 100  |\n",
       "| 1.483 | 7297 | 33.2 | 38   | 48   | 53   | 62   | 56   | 61   | 64   | 67   | ...  |  99  |  99  |  99  |  99  | 100  | 100  | 100  | 100  | 100  | 100  |\n",
       "| 1.484 | 7297 | 33.2 | 38   | 49   | 54   | 63   | 56   | 61   | 67   | 68   | ...  |  99  |  99  |  99  |  99  | 100  | 100  | 100  | 100  | 100  | 100  |\n",
       "| 1.485 | 7297 | 33.2 | 39   | 50   | 55   | 64   | 56   | 62   | 68   | 69   | ...  |  99  |  99  | 100  | 100  | 100  | 100  | 100  | 100  | 100  | 100  |\n",
       "| 1.486 | 7297 | 33.2 | 40   | 50   | 56   | 65   | 57   | 62   | 69   | 71   | ...  |  99  | 100  | 100  | 100  | 100  | 100  | 100  | 100  | 100  | 100  |\n",
       "| 1.487 | 7297 | 33.2 | 41   | 51   | 57   | 68   | 57   | 62   | 69   | 71   | ...  |  99  | 100  | 100  | 100  | 100  | 100  | 100  | 100  | 100  | 100  |\n",
       "| 1.488 | 7297 | 33.2 | 41   | 52   | 58   | 69   | 58   | 63   | 70   | 74   | ...  | 100  | 100  | 100  | 100  | 100  | 100  | 100  | 100  | 100  | 100  |\n",
       "| 1.489 | 7297 | 33.2 | 42   | 53   | 61   | 69   | 59   | 64   | 71   | 74   | ...  | 100  | 100  | 100  | 100  | 100  | 100  | 100  | 100  | 100  | 100  |\n",
       "| 1.490 | 7297 | 33.2 | 42   | 53   | 62   | 70   | 59   | 66   | 72   | 74   | ...  | 100  | 100  | 100  | 100  | 100  | 100  | 100  | 100  | 100  | 100  |\n",
       "| 1.491 | 7297 | 33.2 | 43   | 55   | 62   | 71   | 61   | 67   | 72   | 75   | ...  | 100  | 100  | 100  | 100  | 100  | 100  | 100  | 100  | 100  | 100  |\n",
       "| 1.492 | 7297 | 33.2 | 43   | 55   | 64   | 73   | 61   | 69   | 74   | 77   | ...  | 100  | 100  | 100  | 100  | 100  | 100  | 100  | 100  | 100  | 100  |\n",
       "| 1.493 | 7297 | 33.2 | 44   | 59   | 66   | 73   | 62   | 70   | 74   | 78   | ...  | 100  | 100  | 100  | 100  | 100  | 100  | 100  | 100  | 100  | 100  |\n",
       "| 1.494 | 7297 | 33.2 | 45   | 62   | 67   | 75   | 63   | 70   | 75   | 79   | ...  | 100  | 100  | 100  | 100  | 100  | 100  | 100  | 100  | 100  | 100  |\n",
       "| 1.495 | 7297 | 33.2 | 46   | 63   | 67   | 76   | 65   | 72   | 76   | 82   | ...  | 100  | 100  | 100  | 100  | 100  | 100  | 100  | 100  | 100  | 100  |\n",
       "| 1.496 | 7297 | 33.2 | 47   | 63   | 68   | 78   | 66   | 73   | 78   | 84   | ...  | 100  | 100  | 100  | 100  | 100  | 100  | 100  | 100  | 100  | 100  |\n",
       "| 1.497 | 7297 | 33.2 | 51   | 65   | 69   | 81   | 66   | 74   | 79   | 85   | ...  | 100  | 100  | 100  | 100  | 100  | 100  | 100  | 100  | 100  | 100  |\n",
       "| 1.498 | 7297 | 33.2 | 52   | 67   | 69   | 86   | 68   | 81   | 80   | 86   | ...  | 100  | 100  | 100  | 100  | 100  | 100  | 100  | 100  | 100  | 100  |\n",
       "| 1.499 | 7297 | 33.2 | 53   | 69   | 79   | 90   | 69   | 88   | 90   | 90   | ...  | 100  | 100  | 100  | 100  | 100  | 100  | 100  | 100  | 100  | 100  |\n",
       "\n"
      ],
      "text/plain": [
       "      m_j  G_j  1   2   3   4   5   6   7   8   ... 91  92  93  94  95  96  97 \n",
       "1     7297 33.2 1   1   1   1   1   1   1   1   ...  1   1   1   1   1   1   1 \n",
       "1.1   7297 33.2 1   1   1   1   1   1   1   1   ...  2   2   2   2   2   2   2 \n",
       "1.2   7297 33.2 1   1   1   1   1   1   1   1   ...  3   3   3   3   3   3   3 \n",
       "1.3   7297 33.2 1   1   1   1   1   1   1   1   ...  4   4   4   5   5   4   4 \n",
       "1.4   7297 33.2 1   1   1   1   1   1   1   1   ...  5   6   5   7   6   5   5 \n",
       "1.5   7297 33.2 1   1   1   1   1   1   1   1   ...  6   7   6   8   7   6   6 \n",
       "1.6   7297 33.2 1   1   1   1   1   1   1   1   ...  7   9   7   9   8   7   7 \n",
       "1.7   7297 33.2 1   1   1   1   1   1   1   1   ...  9  11   8  15   9   8   8 \n",
       "1.8   7297 33.2 1   1   1   1   1   1   1   1   ... 10  12   9  16  11   9   9 \n",
       "1.9   7297 33.2 1   1   1   1   1   1   1   1   ... 11  13  11  16  12  10  10 \n",
       "1.10  7297 33.2 1   1   1   1   1   1   1   1   ... 12  14  13  17  12  13  11 \n",
       "1.11  7297 33.2 1   1   1   1   1   1   1   1   ... 12  14  13  18  13  14  12 \n",
       "1.12  7297 33.2 1   1   1   1   1   1   1   1   ... 13  16  14  20  14  16  13 \n",
       "1.13  7297 33.2 1   1   1   1   1   1   1   1   ... 16  16  15  21  15  17  14 \n",
       "1.14  7297 33.2 1   1   1   1   1   1   1   1   ... 17  24  16  21  18  18  15 \n",
       "1.15  7297 33.2 1   1   1   1   1   1   1   1   ... 17  24  18  22  19  19  16 \n",
       "1.16  7297 33.2 1   1   1   1   1   1   1   1   ... 19  24  20  26  19  20  17 \n",
       "1.17  7297 33.2 1   1   1   1   1   1   1   1   ... 21  25  20  26  21  22  20 \n",
       "1.18  7297 33.2 1   1   1   1   1   2   1   1   ... 21  25  22  27  22  23  20 \n",
       "1.19  7297 33.2 1   1   1   1   1   2   1   1   ... 22  26  23  27  22  25  21 \n",
       "1.20  7297 33.2 1   1   1   1   1   2   2   2   ... 23  26  24  28  23  27  22 \n",
       "1.21  7297 33.2 1   1   1   1   1   2   2   2   ... 23  27  25  28  24  27  23 \n",
       "1.22  7297 33.2 1   1   1   1   1   2   2   2   ... 24  27  25  28  24  29  31 \n",
       "1.23  7297 33.2 1   1   1   1   1   2   2   2   ... 24  28  26  29  25  32  31 \n",
       "1.24  7297 33.2 1   1   1   1   2   2   2   2   ... 25  29  26  29  25  32  32 \n",
       "1.25  7297 33.2 1   1   1   2   2   2   2   2   ... 27  30  27  29  25  33  33 \n",
       "1.26  7297 33.2 1   1   1   2   2   2   2   2   ... 27  30  29  29  27  33  37 \n",
       "1.27  7297 33.2 1   1   1   2   2   2   2   2   ... 28  32  29  31  29  34  38 \n",
       "1.28  7297 33.2 1   1   1   2   2   2   2   2   ... 28  32  30  31  34  35  39 \n",
       "1.29  7297 33.2 1   1   1   2   2   2   2   2   ... 29  32  31  31  34  36  39 \n",
       "...   ...  ...  ... ... ... ... ... ... ... ...     ... ... ... ... ... ... ...\n",
       "1.470 7297 33.2 30  41  44  55  51  54  56  60  ...  99  99  99  99  99  99 100\n",
       "1.471 7297 33.2 30  42  45  55  51  55  57  61  ...  99  99  99  99  99  99 100\n",
       "1.472 7297 33.2 31  42  45  55  51  56  58  62  ...  99  99  99  99  99  99 100\n",
       "1.473 7297 33.2 31  42  45  55  52  56  58  62  ...  99  99  99  99  99  99 100\n",
       "1.474 7297 33.2 32  43  46  56  52  57  59  62  ...  99  99  99  99  99  99 100\n",
       "1.475 7297 33.2 32  43  47  57  52  58  60  63  ...  99  99  99  99  99 100 100\n",
       "1.476 7297 33.2 34  44  47  57  53  58  60  63  ...  99  99  99  99  99 100 100\n",
       "1.477 7297 33.2 35  44  48  57  53  58  61  64  ...  99  99  99  99  99 100 100\n",
       "1.478 7297 33.2 35  45  48  58  54  59  61  65  ...  99  99  99  99 100 100 100\n",
       "1.479 7297 33.2 36  45  49  59  54  59  62  65  ...  99  99  99  99 100 100 100\n",
       "1.480 7297 33.2 36  46  49  59  55  60  62  66  ...  99  99  99  99 100 100 100\n",
       "1.481 7297 33.2 36  47  50  61  55  60  63  66  ...  99  99  99  99 100 100 100\n",
       "1.482 7297 33.2 37  47  50  62  55  60  64  67  ...  99  99  99  99 100 100 100\n",
       "1.483 7297 33.2 38  48  53  62  56  61  64  67  ...  99  99  99  99 100 100 100\n",
       "1.484 7297 33.2 38  49  54  63  56  61  67  68  ...  99  99  99  99 100 100 100\n",
       "1.485 7297 33.2 39  50  55  64  56  62  68  69  ...  99  99 100 100 100 100 100\n",
       "1.486 7297 33.2 40  50  56  65  57  62  69  71  ...  99 100 100 100 100 100 100\n",
       "1.487 7297 33.2 41  51  57  68  57  62  69  71  ...  99 100 100 100 100 100 100\n",
       "1.488 7297 33.2 41  52  58  69  58  63  70  74  ... 100 100 100 100 100 100 100\n",
       "1.489 7297 33.2 42  53  61  69  59  64  71  74  ... 100 100 100 100 100 100 100\n",
       "1.490 7297 33.2 42  53  62  70  59  66  72  74  ... 100 100 100 100 100 100 100\n",
       "1.491 7297 33.2 43  55  62  71  61  67  72  75  ... 100 100 100 100 100 100 100\n",
       "1.492 7297 33.2 43  55  64  73  61  69  74  77  ... 100 100 100 100 100 100 100\n",
       "1.493 7297 33.2 44  59  66  73  62  70  74  78  ... 100 100 100 100 100 100 100\n",
       "1.494 7297 33.2 45  62  67  75  63  70  75  79  ... 100 100 100 100 100 100 100\n",
       "1.495 7297 33.2 46  63  67  76  65  72  76  82  ... 100 100 100 100 100 100 100\n",
       "1.496 7297 33.2 47  63  68  78  66  73  78  84  ... 100 100 100 100 100 100 100\n",
       "1.497 7297 33.2 51  65  69  81  66  74  79  85  ... 100 100 100 100 100 100 100\n",
       "1.498 7297 33.2 52  67  69  86  68  81  80  86  ... 100 100 100 100 100 100 100\n",
       "1.499 7297 33.2 53  69  79  90  69  88  90  90  ... 100 100 100 100 100 100 100\n",
       "      98  99  100\n",
       "1      1   1   1 \n",
       "1.1    2   2   2 \n",
       "1.2    3   3   3 \n",
       "1.3    4   4   4 \n",
       "1.4    5   5   5 \n",
       "1.5    6   6   6 \n",
       "1.6    8   7   7 \n",
       "1.7    9   8   8 \n",
       "1.8   10   9   9 \n",
       "1.9   11  10  10 \n",
       "1.10  12  11  11 \n",
       "1.11  13  12  12 \n",
       "1.12  14  13  13 \n",
       "1.13  15  14  14 \n",
       "1.14  16  15  16 \n",
       "1.15  17  15  17 \n",
       "1.16  19  16  18 \n",
       "1.17  20  17  47 \n",
       "1.18  21  29  48 \n",
       "1.19  22  34  49 \n",
       "1.20  23  39  50 \n",
       "1.21  25  40  52 \n",
       "1.22  26  41  54 \n",
       "1.23  26  42  57 \n",
       "1.24  27  43  58 \n",
       "1.25  32  48  60 \n",
       "1.26  33  51  61 \n",
       "1.27  36  52  62 \n",
       "1.28  37  52  62 \n",
       "1.29  37  53  63 \n",
       "...   ... ... ...\n",
       "1.470 100 100 100\n",
       "1.471 100 100 100\n",
       "1.472 100 100 100\n",
       "1.473 100 100 100\n",
       "1.474 100 100 100\n",
       "1.475 100 100 100\n",
       "1.476 100 100 100\n",
       "1.477 100 100 100\n",
       "1.478 100 100 100\n",
       "1.479 100 100 100\n",
       "1.480 100 100 100\n",
       "1.481 100 100 100\n",
       "1.482 100 100 100\n",
       "1.483 100 100 100\n",
       "1.484 100 100 100\n",
       "1.485 100 100 100\n",
       "1.486 100 100 100\n",
       "1.487 100 100 100\n",
       "1.488 100 100 100\n",
       "1.489 100 100 100\n",
       "1.490 100 100 100\n",
       "1.491 100 100 100\n",
       "1.492 100 100 100\n",
       "1.493 100 100 100\n",
       "1.494 100 100 100\n",
       "1.495 100 100 100\n",
       "1.496 100 100 100\n",
       "1.497 100 100 100\n",
       "1.498 100 100 100\n",
       "1.499 100 100 100"
      ]
     },
     "metadata": {},
     "output_type": "display_data"
    }
   ],
   "source": [
    "for (pays_j in seq(1)){\n",
    "    pays <- pays_j\n",
    "    pj <- data[pays,'coeff_mobilite']\n",
    "    \n",
    "    \n",
    "    #calcul de y_child et y_parent\n",
    "    y <- generate_incomes(n, pj)\n",
    "    y_child <- unlist(y['y_child'], use.names=FALSE)\n",
    "    y_parents <- unlist(y['y_parent'], use.names=FALSE)\n",
    "\n",
    "    sample <- compute_quantiles(y_child, y_parents, nb_quantiles)\n",
    "\n",
    "    cd <-data.frame(conditional_distributions(sample, nb_quantiles))\n",
    "    cd <-data.frame(lapply(cd, function(x) unlist(x)))\n",
    "    colnames(cd) <- seq(nb_quantiles)                      \n",
    "                    \n",
    "                           \n",
    "    #on créé 499 clones (500 individus) du pays dans un dataframe\n",
    "    sample_pays = select(data[1,], c('gdpppp', 'last_gini'))\n",
    "    colnames(sample_pays) <- c('m_j', 'G_j')\n",
    "    sample_pays <- sample_pays[rep(seq_len(nrow(sample_pays)), 500), ]                    \n",
    "                       \n",
    "                           \n",
    "    #on crée les colonnes c_i_child (100 classes)\n",
    "    for (i in (1:nb_quantiles)){\n",
    "        sample_pays[as.character(i)] <- NA\n",
    "    }\n",
    "                           \n",
    "    #remplissage des c_i_parents\n",
    "    for (q_child in seq(nb_quantiles)){\n",
    "\n",
    "        alloc <- allocation(cd[q_child,],500)\n",
    "        sample_pays[,2 + q_child] <- rep(seq(nb_quantiles),alloc)\n",
    "    } \n",
    "}\n",
    "sample_pays"
   ]
  },
  {
   "cell_type": "code",
   "execution_count": 73,
   "metadata": {},
   "outputs": [
    {
     "data": {
      "text/html": [
       "<ol class=list-inline>\n",
       "\t<li>10</li>\n",
       "\t<li>10</li>\n",
       "\t<li>4</li>\n",
       "\t<li>4</li>\n",
       "\t<li>4</li>\n",
       "</ol>\n"
      ],
      "text/latex": [
       "\\begin{enumerate*}\n",
       "\\item 10\n",
       "\\item 10\n",
       "\\item 4\n",
       "\\item 4\n",
       "\\item 4\n",
       "\\end{enumerate*}\n"
      ],
      "text/markdown": [
       "1. 10\n",
       "2. 10\n",
       "3. 4\n",
       "4. 4\n",
       "5. 4\n",
       "\n",
       "\n"
      ],
      "text/plain": [
       "[1] 10 10  4  4  4"
      ]
     },
     "metadata": {},
     "output_type": "display_data"
    }
   ],
   "source": [
    "c(rep(10,2),rep(4,3))"
   ]
  },
  {
   "cell_type": "code",
   "execution_count": 77,
   "metadata": {},
   "outputs": [
    {
     "data": {
      "text/html": [
       "500"
      ],
      "text/latex": [
       "500"
      ],
      "text/markdown": [
       "500"
      ],
      "text/plain": [
       "[1] 500"
      ]
     },
     "metadata": {},
     "output_type": "display_data"
    }
   ],
   "source": [
    "rep(seq(nb_quantiles),alloc)"
   ]
  },
  {
   "cell_type": "code",
   "execution_count": null,
   "metadata": {},
   "outputs": [],
   "source": []
  }
 ],
 "metadata": {
  "kernelspec": {
   "display_name": "R",
   "language": "R",
   "name": "ir"
  },
  "language_info": {
   "codemirror_mode": "r",
   "file_extension": ".r",
   "mimetype": "text/x-r-source",
   "name": "R",
   "pygments_lexer": "r",
   "version": "3.6.1"
  }
 },
 "nbformat": 4,
 "nbformat_minor": 4
}
