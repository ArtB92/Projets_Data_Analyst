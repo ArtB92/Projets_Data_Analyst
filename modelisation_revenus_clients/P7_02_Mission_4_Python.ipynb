{
 "cells": [
  {
   "cell_type": "code",
   "execution_count": 4,
   "metadata": {},
   "outputs": [],
   "source": [
    "#import modules\n",
    "import numpy as np\n",
    "import pandas as pd\n",
    "import scipy.stats as st\n",
    "import matplotlib.pyplot as plt\n",
    "%matplotlib inline\n",
    "import statsmodels.api as sm\n",
    "import statsmodels.formula.api as smf\n",
    "import seaborn as sns\n",
    "import math\n",
    "from sklearn import decomposition\n",
    "from sklearn import preprocessing\n",
    "import re\n",
    "from scipy.stats import t, shapiro\n",
    "from statsmodels.stats.outliers_influence import variance_inflation_factor\n",
    "import statsmodels\n",
    "\n",
    "pd.set_option('display.max_rows', 170)"
   ]
  },
  {
   "cell_type": "code",
   "execution_count": 5,
   "metadata": {},
   "outputs": [
    {
     "data": {
      "text/html": [
       "<div>\n",
       "<style scoped>\n",
       "    .dataframe tbody tr th:only-of-type {\n",
       "        vertical-align: middle;\n",
       "    }\n",
       "\n",
       "    .dataframe tbody tr th {\n",
       "        vertical-align: top;\n",
       "    }\n",
       "\n",
       "    .dataframe thead th {\n",
       "        text-align: right;\n",
       "    }\n",
       "</style>\n",
       "<table border=\"1\" class=\"dataframe\">\n",
       "  <thead>\n",
       "    <tr style=\"text-align: right;\">\n",
       "      <th></th>\n",
       "      <th>m_j</th>\n",
       "      <th>G_j</th>\n",
       "      <th>c_i_child</th>\n",
       "      <th>c_i_parents</th>\n",
       "      <th>country</th>\n",
       "      <th>income_child</th>\n",
       "      <th>income_parents</th>\n",
       "    </tr>\n",
       "  </thead>\n",
       "  <tbody>\n",
       "    <tr>\n",
       "      <th>0</th>\n",
       "      <td>7297</td>\n",
       "      <td>33.2</td>\n",
       "      <td>1</td>\n",
       "      <td>1</td>\n",
       "      <td>ALB</td>\n",
       "      <td>728.89795</td>\n",
       "      <td>728.89795</td>\n",
       "    </tr>\n",
       "    <tr>\n",
       "      <th>1</th>\n",
       "      <td>7297</td>\n",
       "      <td>33.2</td>\n",
       "      <td>2</td>\n",
       "      <td>1</td>\n",
       "      <td>ALB</td>\n",
       "      <td>916.66235</td>\n",
       "      <td>728.89795</td>\n",
       "    </tr>\n",
       "    <tr>\n",
       "      <th>2</th>\n",
       "      <td>7297</td>\n",
       "      <td>33.2</td>\n",
       "      <td>3</td>\n",
       "      <td>1</td>\n",
       "      <td>ALB</td>\n",
       "      <td>1010.91600</td>\n",
       "      <td>728.89795</td>\n",
       "    </tr>\n",
       "    <tr>\n",
       "      <th>3</th>\n",
       "      <td>7297</td>\n",
       "      <td>33.2</td>\n",
       "      <td>4</td>\n",
       "      <td>1</td>\n",
       "      <td>ALB</td>\n",
       "      <td>1086.90780</td>\n",
       "      <td>728.89795</td>\n",
       "    </tr>\n",
       "    <tr>\n",
       "      <th>4</th>\n",
       "      <td>7297</td>\n",
       "      <td>33.2</td>\n",
       "      <td>5</td>\n",
       "      <td>1</td>\n",
       "      <td>ALB</td>\n",
       "      <td>1132.69970</td>\n",
       "      <td>728.89795</td>\n",
       "    </tr>\n",
       "  </tbody>\n",
       "</table>\n",
       "</div>"
      ],
      "text/plain": [
       "    m_j   G_j  c_i_child  c_i_parents country  income_child  income_parents\n",
       "0  7297  33.2          1            1     ALB     728.89795       728.89795\n",
       "1  7297  33.2          2            1     ALB     916.66235       728.89795\n",
       "2  7297  33.2          3            1     ALB    1010.91600       728.89795\n",
       "3  7297  33.2          4            1     ALB    1086.90780       728.89795\n",
       "4  7297  33.2          5            1     ALB    1132.69970       728.89795"
      ]
     },
     "execution_count": 5,
     "metadata": {},
     "output_type": "execute_result"
    }
   ],
   "source": [
    "data = pd.read_csv('final_sample.csv', sep = ',')\n",
    "data.head()"
   ]
  },
  {
   "cell_type": "code",
   "execution_count": null,
   "metadata": {},
   "outputs": [],
   "source": [
    "anova_pays = smf.ols('income_child~country', data=data).fit()\n",
    "print(anova_pays.summary())"
   ]
  },
  {
   "cell_type": "code",
   "execution_count": null,
   "metadata": {},
   "outputs": [],
   "source": [
    "#TABLEAU ANOVA\n",
    "sm.stats.anova_lm(anova_pays, typ=2)"
   ]
  }
 ],
 "metadata": {
  "kernelspec": {
   "display_name": "Python 3",
   "language": "python",
   "name": "python3"
  },
  "language_info": {
   "codemirror_mode": {
    "name": "ipython",
    "version": 3
   },
   "file_extension": ".py",
   "mimetype": "text/x-python",
   "name": "python",
   "nbconvert_exporter": "python",
   "pygments_lexer": "ipython3",
   "version": "3.7.7"
  }
 },
 "nbformat": 4,
 "nbformat_minor": 4
}
