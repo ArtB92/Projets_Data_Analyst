{
 "cells": [
  {
   "cell_type": "markdown",
   "metadata": {},
   "source": [
    "# PROJET 7 - Mission 4"
   ]
  },
  {
   "cell_type": "code",
   "execution_count": 1,
   "metadata": {},
   "outputs": [
    {
     "name": "stderr",
     "output_type": "stream",
     "text": [
      "Registered S3 methods overwritten by 'ggplot2':\n",
      "  method         from \n",
      "  [.quosures     rlang\n",
      "  c.quosures     rlang\n",
      "  print.quosures rlang\n",
      "Registered S3 method overwritten by 'rvest':\n",
      "  method            from\n",
      "  read_xml.response xml2\n",
      "-- Attaching packages --------------------------------------- tidyverse 1.2.1 --\n",
      "v tibble  2.1.1       v dplyr   0.8.0.1\n",
      "v readr   1.3.1       v stringr 1.4.0  \n",
      "v purrr   0.3.2       v forcats 0.4.0  \n",
      "-- Conflicts ------------------------------------------ tidyverse_conflicts() --\n",
      "x dplyr::filter() masks stats::filter()\n",
      "x dplyr::lag()    masks stats::lag()\n",
      "Loading required package: carData\n",
      "\n",
      "Attaching package: 'car'\n",
      "\n",
      "The following object is masked from 'package:dplyr':\n",
      "\n",
      "    recode\n",
      "\n",
      "The following object is masked from 'package:purrr':\n",
      "\n",
      "    some\n",
      "\n",
      "Loading required package: zoo\n",
      "\n",
      "Attaching package: 'zoo'\n",
      "\n",
      "The following objects are masked from 'package:base':\n",
      "\n",
      "    as.Date, as.Date.numeric\n",
      "\n"
     ]
    }
   ],
   "source": [
    "#import librairies\n",
    "\n",
    "library(ggplot2)\n",
    "options(repr.plot.width=6, repr.plot.height=4)\n",
    "\n",
    "library(tidyr)\n",
    "library(tidyverse)\n",
    "library(dplyr)\n",
    "library(car)\n",
    "library(lmtest)"
   ]
  },
  {
   "cell_type": "markdown",
   "metadata": {},
   "source": [
    "### On importe l'échantillon crée lors de la mission 3 "
   ]
  },
  {
   "cell_type": "code",
   "execution_count": 2,
   "metadata": {},
   "outputs": [
    {
     "data": {
      "text/html": [
       "<table>\n",
       "<thead><tr><th></th><th scope=col>m_j</th><th scope=col>G_j</th><th scope=col>c_i_parents</th><th scope=col>country</th><th scope=col>income_child</th><th scope=col>income_parents</th></tr></thead>\n",
       "<tbody>\n",
       "\t<tr><th scope=row>5799995</th><td>9602    </td><td>63      </td><td>100     </td><td>ZAF     </td><td>21714.89</td><td>82408.55</td></tr>\n",
       "\t<tr><th scope=row>5799996</th><td>9602    </td><td>63      </td><td>100     </td><td>ZAF     </td><td>24553.57</td><td>82408.55</td></tr>\n",
       "\t<tr><th scope=row>5799997</th><td>9602    </td><td>63      </td><td>100     </td><td>ZAF     </td><td>28858.03</td><td>82408.55</td></tr>\n",
       "\t<tr><th scope=row>5799998</th><td>9602    </td><td>63      </td><td>100     </td><td>ZAF     </td><td>35750.29</td><td>82408.55</td></tr>\n",
       "\t<tr><th scope=row>5799999</th><td>9602    </td><td>63      </td><td>100     </td><td>ZAF     </td><td>46297.32</td><td>82408.55</td></tr>\n",
       "\t<tr><th scope=row>5800000</th><td>9602    </td><td>63      </td><td>100     </td><td>ZAF     </td><td>82408.55</td><td>82408.55</td></tr>\n",
       "</tbody>\n",
       "</table>\n"
      ],
      "text/latex": [
       "\\begin{tabular}{r|llllll}\n",
       "  & m\\_j & G\\_j & c\\_i\\_parents & country & income\\_child & income\\_parents\\\\\n",
       "\\hline\n",
       "\t5799995 & 9602     & 63       & 100      & ZAF      & 21714.89 & 82408.55\\\\\n",
       "\t5799996 & 9602     & 63       & 100      & ZAF      & 24553.57 & 82408.55\\\\\n",
       "\t5799997 & 9602     & 63       & 100      & ZAF      & 28858.03 & 82408.55\\\\\n",
       "\t5799998 & 9602     & 63       & 100      & ZAF      & 35750.29 & 82408.55\\\\\n",
       "\t5799999 & 9602     & 63       & 100      & ZAF      & 46297.32 & 82408.55\\\\\n",
       "\t5800000 & 9602     & 63       & 100      & ZAF      & 82408.55 & 82408.55\\\\\n",
       "\\end{tabular}\n"
      ],
      "text/markdown": [
       "\n",
       "| <!--/--> | m_j | G_j | c_i_parents | country | income_child | income_parents |\n",
       "|---|---|---|---|---|---|---|\n",
       "| 5799995 | 9602     | 63       | 100      | ZAF      | 21714.89 | 82408.55 |\n",
       "| 5799996 | 9602     | 63       | 100      | ZAF      | 24553.57 | 82408.55 |\n",
       "| 5799997 | 9602     | 63       | 100      | ZAF      | 28858.03 | 82408.55 |\n",
       "| 5799998 | 9602     | 63       | 100      | ZAF      | 35750.29 | 82408.55 |\n",
       "| 5799999 | 9602     | 63       | 100      | ZAF      | 46297.32 | 82408.55 |\n",
       "| 5800000 | 9602     | 63       | 100      | ZAF      | 82408.55 | 82408.55 |\n",
       "\n"
      ],
      "text/plain": [
       "        m_j  G_j c_i_parents country income_child income_parents\n",
       "5799995 9602 63  100         ZAF     21714.89     82408.55      \n",
       "5799996 9602 63  100         ZAF     24553.57     82408.55      \n",
       "5799997 9602 63  100         ZAF     28858.03     82408.55      \n",
       "5799998 9602 63  100         ZAF     35750.29     82408.55      \n",
       "5799999 9602 63  100         ZAF     46297.32     82408.55      \n",
       "5800000 9602 63  100         ZAF     82408.55     82408.55      "
      ]
     },
     "metadata": {},
     "output_type": "display_data"
    }
   ],
   "source": [
    "#import data (fichier final_sample.csv)\n",
    "data <- read.csv(\"donnees/final_sample.csv\", sep=\",\", header=TRUE, stringsAsFactors = FALSE)\n",
    "\n",
    "#ajout index\n",
    "rownames(data) <- seq(nrow(data))\n",
    "\n",
    "#supression colonne c_i_child\n",
    "data$c_i_child <- NULL\n",
    "\n",
    "tail(data)"
   ]
  },
  {
   "cell_type": "markdown",
   "metadata": {},
   "source": [
    "## MODELE 1  : revenu ~ pays"
   ]
  },
  {
   "cell_type": "code",
   "execution_count": 3,
   "metadata": {},
   "outputs": [
    {
     "name": "stderr",
     "output_type": "stream",
     "text": [
      "Warning message:\n",
      "\"Removed 18500 rows containing non-finite values (stat_boxplot).\"Warning message:\n",
      "\"Removed 18500 rows containing non-finite values (stat_boxplot).\""
     ]
    },
    {
     "data": {
      "image/png": "[encoded data removed]",
      "text/plain": [
       "plot without title"
      ]
     },
     "metadata": {},
     "output_type": "display_data"
    }
   ],
   "source": [
    "#affichage boxplot du revenu vs pays\n",
    "\n",
    "ggplot(data,aes(x=country,y=income_child, fill = country))+\n",
    "  geom_boxplot(outlier.size = 0.1)+\n",
    "  ggtitle(\"Revenu en fonction du pays\")+\n",
    "  xlab(\"Pays\")+ ylab(\"Revenu\") +\n",
    "  theme(plot.title = element_text(hjust = 0.5), legend.position = \"none\", axis.text.x = element_blank()) +\n",
    "  ylim(0,60000)\n",
    "ggsave(\"graphiques/boxplot_revenus_par_pays.png\", width = 11, height = 8)"
   ]
  },
  {
   "cell_type": "code",
   "execution_count": 3,
   "metadata": {},
   "outputs": [],
   "source": [
    "#création df sans les 499 clones - 11600 lignes\n",
    "data1 <- data[, c('income_child','country', 'G_j','m_j')]\n",
    "data1 <- data1[!duplicated(data1), ]"
   ]
  },
  {
   "cell_type": "markdown",
   "metadata": {},
   "source": [
    "### 1) Régression linéaire"
   ]
  },
  {
   "cell_type": "code",
   "execution_count": 4,
   "metadata": {},
   "outputs": [
    {
     "data": {
      "text/plain": [
       "\n",
       "Call:\n",
       "lm(formula = income_child ~ country, data = data1)\n",
       "\n",
       "Residuals:\n",
       "   Min     1Q Median     3Q    Max \n",
       "-24840  -1787   -385    469 151425 \n",
       "\n",
       "Coefficients:\n",
       "            Estimate Std. Error t value Pr(>|t|)    \n",
       "(Intercept)  2994.83     671.39   4.461 8.25e-06 ***\n",
       "countryARG   2853.05     949.49   3.005 0.002663 ** \n",
       "countryARM  -1366.45     949.49  -1.439 0.150138    \n",
       "countryAUT  13642.77     949.49  14.369  < 2e-16 ***\n",
       "countryAZE   -637.40     949.49  -0.671 0.502037    \n",
       "countryBEL  12029.78     949.49  12.670  < 2e-16 ***\n",
       "countryBFA  -2076.88     949.49  -2.187 0.028736 *  \n",
       "countryBGD  -1996.14     949.49  -2.102 0.035546 *  \n",
       "countryBGR   1990.15     949.49   2.096 0.036102 *  \n",
       "countryBIH   3339.86     949.49   3.518 0.000437 ***\n",
       "countryBLR    926.33     949.49   0.976 0.329277    \n",
       "countryBOL     21.43     949.49   0.023 0.981990    \n",
       "countryBRA   1812.65     949.49   1.909 0.056276 .  \n",
       "countryBTN  -1478.90     949.49  -1.558 0.119362    \n",
       "countryCAF  -2183.53     949.49  -2.300 0.021484 *  \n",
       "countryCAN  20744.81     949.49  21.848  < 2e-16 ***\n",
       "countryCHL   4056.78     949.49   4.273 1.95e-05 ***\n",
       "countryCHN   -472.07     949.49  -0.497 0.619069    \n",
       "countryCIV  -2594.99     949.49  -2.733 0.006285 ** \n",
       "countryCMR  -1200.34     949.49  -1.264 0.206187    \n",
       "countryCOD  -2718.81     949.49  -2.863 0.004198 ** \n",
       "countryCOL    552.18     949.49   0.582 0.560881    \n",
       "countryCRI   2585.56     949.49   2.723 0.006477 ** \n",
       "countryCYP  14350.56     949.49  15.114  < 2e-16 ***\n",
       "countryCZE   5240.46     949.49   5.519 3.48e-08 ***\n",
       "countryDEU  15066.89     949.49  15.868  < 2e-16 ***\n",
       "countryDNK  14048.32     949.49  14.796  < 2e-16 ***\n",
       "countryDOM    563.57     949.49   0.594 0.552823    \n",
       "countryECU    388.91     949.49   0.410 0.682107    \n",
       "countryEGY  -1025.25     949.49  -1.080 0.280257    \n",
       "countryESP  10122.16     949.49  10.661  < 2e-16 ***\n",
       "countryEST   4707.23     949.49   4.958 7.24e-07 ***\n",
       "countryFIN  13311.50     949.49  14.020  < 2e-16 ***\n",
       "countryFJI   -896.10     949.49  -0.944 0.345307    \n",
       "countryFRA  15314.58     949.49  16.129  < 2e-16 ***\n",
       "countryGBR  18714.77     949.49  19.710  < 2e-16 ***\n",
       "countryGEO  -1631.07     949.49  -1.718 0.085853 .  \n",
       "countryGHA  -2258.23     949.49  -2.378 0.017406 *  \n",
       "countryGIN  -2298.82     949.49  -2.421 0.015489 *  \n",
       "countryGRC   8732.44     949.49   9.197  < 2e-16 ***\n",
       "countryGTM   -852.36     949.49  -0.898 0.369365    \n",
       "countryHND    301.44     949.49   0.317 0.750889    \n",
       "countryHRV   4721.64     949.49   4.973 6.69e-07 ***\n",
       "countryHUN   3106.51     949.49   3.272 0.001072 ** \n",
       "countryIDN  -1660.21     949.49  -1.749 0.080399 .  \n",
       "countryIND  -2070.56     949.49  -2.181 0.029225 *  \n",
       "countryIRL  14715.91     949.49  15.499  < 2e-16 ***\n",
       "countryIRN   2837.83     949.49   2.989 0.002807 ** \n",
       "countryIRQ  -1289.32     949.49  -1.358 0.174520    \n",
       "countryISL  23893.68     949.49  25.165  < 2e-16 ***\n",
       "countryISR   8105.49     949.49   8.537  < 2e-16 ***\n",
       "countryITA  11930.39     949.49  12.565  < 2e-16 ***\n",
       "countryJOR     53.80     949.49   0.057 0.954815    \n",
       "countryJPN  14438.13     949.49  15.206  < 2e-16 ***\n",
       "countryKAZ   -755.68     949.49  -0.796 0.426118    \n",
       "countryKEN  -2475.51     949.49  -2.607 0.009140 ** \n",
       "countryKGZ  -1221.61     949.49  -1.287 0.198261    \n",
       "countryKHM  -1508.49     949.49  -1.589 0.112147    \n",
       "countryKOR  12232.74     949.49  12.883  < 2e-16 ***\n",
       "countryLAO  -1991.42     949.49  -2.097 0.035983 *  \n",
       "countryLBR  -2379.82     949.49  -2.506 0.012210 *  \n",
       "countryLKA  -1116.89     949.49  -1.176 0.239497    \n",
       "countryLTU   3628.82     949.49   3.822 0.000133 ***\n",
       "countryLUX  22222.73     949.49  23.405  < 2e-16 ***\n",
       "countryLVA   3769.64     949.49   3.970 7.23e-05 ***\n",
       "countryMAR   -657.23     949.49  -0.692 0.488831    \n",
       "countryMDA   -845.66     949.49  -0.891 0.373138    \n",
       "countryMDG  -2649.59     949.49  -2.791 0.005271 ** \n",
       "countryMEX    891.00     949.49   0.938 0.348059    \n",
       "countryMKD   1604.57     949.49   1.690 0.091069 .  \n",
       "countryMLI  -2313.75     949.49  -2.437 0.014831 *  \n",
       "countryMNE   3553.07     949.49   3.742 0.000183 ***\n",
       "countryMNG   -656.74     949.49  -0.692 0.489153    \n",
       "countryMOZ  -2302.35     949.49  -2.425 0.015331 *  \n",
       "countryMRT  -1196.22     949.49  -1.260 0.207747    \n",
       "countryMWI  -2080.56     949.49  -2.191 0.028454 *  \n",
       "countryMYS   3011.51     949.49   3.172 0.001519 ** \n",
       "countryNER  -2344.70     949.49  -2.469 0.013547 *  \n",
       "countryNGA  -2302.97     949.49  -2.425 0.015303 *  \n",
       "countryNIC   -475.50     949.49  -0.501 0.616527    \n",
       "countryNLD  14733.81     949.49  15.518  < 2e-16 ***\n",
       "countryNOR  19488.55     949.49  20.525  < 2e-16 ***\n",
       "countryNPL  -2080.44     949.49  -2.191 0.028464 *  \n",
       "countryPAK  -2106.99     949.49  -2.219 0.026501 *  \n",
       "countryPAN   2140.31     949.49   2.254 0.024204 *  \n",
       "countryPER    335.70     949.49   0.354 0.723674    \n",
       "countryPHL  -1520.77     949.49  -1.602 0.109257    \n",
       "countryPOL   2746.89     949.49   2.893 0.003823 ** \n",
       "countryPRT   7103.85     949.49   7.482 7.87e-14 ***\n",
       "countryPRY    283.25     949.49   0.298 0.765465    \n",
       "countryPSE  -1880.73     949.49  -1.981 0.047640 *  \n",
       "countryROU    323.51     949.49   0.341 0.733323    \n",
       "countryRUS   4161.94     949.49   4.383 1.18e-05 ***\n",
       "countrySDN  -1909.48     949.49  -2.011 0.044342 *  \n",
       "countrySLV   -139.61     949.49  -0.147 0.883110    \n",
       "countrySRB   1884.92     949.49   1.985 0.047147 *  \n",
       "countrySVK   3101.75     949.49   3.267 0.001091 ** \n",
       "countrySVN   9111.18     949.49   9.596  < 2e-16 ***\n",
       "countrySWE  13189.39     949.49  13.891  < 2e-16 ***\n",
       "countrySWZ  -2464.55     949.49  -2.596 0.009453 ** \n",
       "countrySYR  -2309.01     949.49  -2.432 0.015037 *  \n",
       "countryTHA   -251.12     949.49  -0.264 0.791418    \n",
       "countryTJK   -924.98     949.49  -0.974 0.329986    \n",
       "countryTLS  -2267.22     949.49  -2.388 0.016964 *  \n",
       "countryTUR   3055.64     949.49   3.218 0.001294 ** \n",
       "countryTWN  13505.39     949.49  14.224  < 2e-16 ***\n",
       "countryTZA  -2406.06     949.49  -2.534 0.011288 *  \n",
       "countryUGA  -2007.62     949.49  -2.114 0.034501 *  \n",
       "countryUKR    354.56     949.49   0.373 0.708843    \n",
       "countryURY   2295.96     949.49   2.418 0.015617 *  \n",
       "countryUSA  22508.75     949.49  23.706  < 2e-16 ***\n",
       "countryVEN    172.32     949.49   0.181 0.855990    \n",
       "countryVNM  -1617.06     949.49  -1.703 0.088580 .  \n",
       "countryXKX   -818.56     949.49  -0.862 0.388647    \n",
       "countryYEM  -1952.19     949.49  -2.056 0.039801 *  \n",
       "countryZAF   2623.07     949.49   2.763 0.005743 ** \n",
       "---\n",
       "Signif. codes:  0 '***' 0.001 '**' 0.01 '*' 0.05 '.' 0.1 ' ' 1\n",
       "\n",
       "Residual standard error: 6714 on 11484 degrees of freedom\n",
       "Multiple R-squared:  0.4964,\tAdjusted R-squared:  0.4913 \n",
       "F-statistic: 98.43 on 115 and 11484 DF,  p-value: < 2.2e-16\n"
      ]
     },
     "metadata": {},
     "output_type": "display_data"
    }
   ],
   "source": [
    "#ANOVA avec une seule variable, income_child ~ country\n",
    "\n",
    "#modelisation\n",
    "anova_pays <- lm(income_child~country,data=data1)\n",
    "summary(anova_pays)"
   ]
  },
  {
   "cell_type": "markdown",
   "metadata": {},
   "source": [
    "### Analyse :"
   ]
  },
  {
   "cell_type": "markdown",
   "metadata": {},
   "source": [
    "- R2 ajusté égal à 0.49\n",
    "\n",
    "- Test de Fisher : pvalue nettement inférieure au seuil de 5%\n",
    "\n",
    "- Il y a une relation significative entre le revenu de l'individu et le pays de l'individu, mais le coefficient de détermination du modèle n'est pas très élevé : modèle peu performant"
   ]
  },
  {
   "cell_type": "code",
   "execution_count": 6,
   "metadata": {},
   "outputs": [
    {
     "data": {
      "text/html": [
       "<table>\n",
       "<thead><tr><th></th><th scope=col>Df</th><th scope=col>Sum Sq</th><th scope=col>Mean Sq</th><th scope=col>F value</th><th scope=col>Pr(&gt;F)</th></tr></thead>\n",
       "<tbody>\n",
       "\t<tr><th scope=row>country</th><td>  115       </td><td>510237523813</td><td>4436848033  </td><td>98.42927    </td><td> 0          </td></tr>\n",
       "\t<tr><th scope=row>Residuals</th><td>11484       </td><td>517658643606</td><td>  45076510  </td><td>      NA    </td><td>NA          </td></tr>\n",
       "</tbody>\n",
       "</table>\n"
      ],
      "text/latex": [
       "\\begin{tabular}{r|lllll}\n",
       "  & Df & Sum Sq & Mean Sq & F value & Pr(>F)\\\\\n",
       "\\hline\n",
       "\tcountry &   115        & 510237523813 & 4436848033   & 98.42927     &  0          \\\\\n",
       "\tResiduals & 11484        & 517658643606 &   45076510   &       NA     & NA          \\\\\n",
       "\\end{tabular}\n"
      ],
      "text/markdown": [
       "\n",
       "| <!--/--> | Df | Sum Sq | Mean Sq | F value | Pr(>F) |\n",
       "|---|---|---|---|---|---|\n",
       "| country |   115        | 510237523813 | 4436848033   | 98.42927     |  0           |\n",
       "| Residuals | 11484        | 517658643606 |   45076510   |       NA     | NA           |\n",
       "\n"
      ],
      "text/plain": [
       "          Df    Sum Sq       Mean Sq    F value  Pr(>F)\n",
       "country     115 510237523813 4436848033 98.42927  0    \n",
       "Residuals 11484 517658643606   45076510       NA NA    "
      ]
     },
     "metadata": {},
     "output_type": "display_data"
    }
   ],
   "source": [
    "#affichage ANOVA\n",
    "anova(anova_pays)"
   ]
  },
  {
   "cell_type": "markdown",
   "metadata": {},
   "source": [
    "### 2) Analyse de la performance du modèle"
   ]
  },
  {
   "cell_type": "code",
   "execution_count": 6,
   "metadata": {},
   "outputs": [],
   "source": [
    "n <- dim(data1)[1] #nombre d'individus\n",
    "p <- 1 #nombre de variables explicatives\n",
    "\n",
    "#création d'un df regroupant pour chaque individus les leviers, les résidus studentisés et les distances de Cook\n",
    "analyses1 <- data.frame(obs=1:n)"
   ]
  },
  {
   "cell_type": "markdown",
   "metadata": {},
   "source": [
    "### Atypicité et influence"
   ]
  },
  {
   "cell_type": "code",
   "execution_count": 53,
   "metadata": {},
   "outputs": [],
   "source": [
    "#Calcul des leviers\n",
    "#Pas de leviers ici puisque le modèle n'a qu'une variable explicative qui est qualitative"
   ]
  },
  {
   "cell_type": "code",
   "execution_count": 14,
   "metadata": {},
   "outputs": [],
   "source": [
    "#calcul des residus studentisés\n",
    "alpha = 0.05 #seuil alpha\n",
    "analyses1$rstudent <- rstudent(anova_pays)\n",
    "seuil_rstudent <- qt(1-alpha/2,n-p-1)"
   ]
  },
  {
   "cell_type": "code",
   "execution_count": 15,
   "metadata": {},
   "outputs": [
    {
     "data": {
      "image/png": "[encoded data removed]",
      "text/plain": [
       "plot without title"
      ]
     },
     "metadata": {},
     "output_type": "display_data"
    }
   ],
   "source": [
    "#plot residus studentisés\n",
    "\n",
    "ggplot(data=analyses1,aes(x=obs,y=rstudent))+\n",
    "  geom_bar(stat=\"identity\",fill=\"darkgreen\", width = 0.5)+\n",
    "  geom_hline(yintercept=-seuil_rstudent,col=\"red\")+\n",
    "  geom_hline(yintercept=seuil_rstudent,col=\"red\")+\n",
    "  ggtitle('Résidus studentisés pour chaque observation (income~country)') +\n",
    "  xlab(\"observations\")+\n",
    "  ylab(\"Résidus studentisés\")+\n",
    "  scale_x_continuous(breaks=seq(0,n,by=1000)) +\n",
    "  theme(plot.title = element_text(hjust = 0.5), legend.position = \"none\")"
   ]
  },
  {
   "cell_type": "code",
   "execution_count": 16,
   "metadata": {},
   "outputs": [
    {
     "data": {
      "text/html": [
       "<ol class=list-inline>\n",
       "\t<li>'infmat'</li>\n",
       "\t<li>'is.inf'</li>\n",
       "\t<li>'call'</li>\n",
       "</ol>\n"
      ],
      "text/latex": [
       "\\begin{enumerate*}\n",
       "\\item 'infmat'\n",
       "\\item 'is.inf'\n",
       "\\item 'call'\n",
       "\\end{enumerate*}\n"
      ],
      "text/markdown": [
       "1. 'infmat'\n",
       "2. 'is.inf'\n",
       "3. 'call'\n",
       "\n",
       "\n"
      ],
      "text/plain": [
       "[1] \"infmat\" \"is.inf\" \"call\"  "
      ]
     },
     "metadata": {},
     "output_type": "display_data"
    },
    {
     "data": {
      "text/html": [
       "<ol class=list-inline>\n",
       "\t<li>'dfb.1_'</li>\n",
       "\t<li>'dfb.cARG'</li>\n",
       "\t<li>'dfb.cARM'</li>\n",
       "\t<li>'dfb.cAUT'</li>\n",
       "\t<li>'dfb.cAZE'</li>\n",
       "\t<li>'dfb.cBEL'</li>\n",
       "\t<li>'dfb.cBFA'</li>\n",
       "\t<li>'dfb.cBGD'</li>\n",
       "\t<li>'dfb.cBGR'</li>\n",
       "\t<li>'dfb.cBIH'</li>\n",
       "\t<li>'dfb.cBLR'</li>\n",
       "\t<li>'dfb.cBOL'</li>\n",
       "\t<li>'dfb.cBRA'</li>\n",
       "\t<li>'dfb.cBTN'</li>\n",
       "\t<li>'dfb.cCAF'</li>\n",
       "\t<li>'dfb.cCAN'</li>\n",
       "\t<li>'dfb.cCHL'</li>\n",
       "\t<li>'dfb.cCHN'</li>\n",
       "\t<li>'dfb.cCIV'</li>\n",
       "\t<li>'dfb.cCMR'</li>\n",
       "\t<li>'dfb.cCOD'</li>\n",
       "\t<li>'dfb.cCOL'</li>\n",
       "\t<li>'dfb.cCRI'</li>\n",
       "\t<li>'dfb.cCYP'</li>\n",
       "\t<li>'dfb.cCZE'</li>\n",
       "\t<li>'dfb.cDEU'</li>\n",
       "\t<li>'dfb.cDNK'</li>\n",
       "\t<li>'dfb.cDOM'</li>\n",
       "\t<li>'dfb.cECU'</li>\n",
       "\t<li>'dfb.cEGY'</li>\n",
       "\t<li>'dfb.cESP'</li>\n",
       "\t<li>'dfb.cEST'</li>\n",
       "\t<li>'dfb.cFIN'</li>\n",
       "\t<li>'dfb.cFJI'</li>\n",
       "\t<li>'dfb.cFRA'</li>\n",
       "\t<li>'dfb.cGBR'</li>\n",
       "\t<li>'dfb.cGEO'</li>\n",
       "\t<li>'dfb.cGHA'</li>\n",
       "\t<li>'dfb.cGIN'</li>\n",
       "\t<li>'dfb.cGRC'</li>\n",
       "\t<li>'dfb.cGTM'</li>\n",
       "\t<li>'dfb.cHND'</li>\n",
       "\t<li>'dfb.cHRV'</li>\n",
       "\t<li>'dfb.cHUN'</li>\n",
       "\t<li>'dfb.cIDN'</li>\n",
       "\t<li>'dfb.cIND'</li>\n",
       "\t<li>'dfb.cIRL'</li>\n",
       "\t<li>'dfb.cIRN'</li>\n",
       "\t<li>'dfb.cIRQ'</li>\n",
       "\t<li>'dfb.cISL'</li>\n",
       "\t<li>'dfb.cISR'</li>\n",
       "\t<li>'dfb.cITA'</li>\n",
       "\t<li>'dfb.cJOR'</li>\n",
       "\t<li>'dfb.cJPN'</li>\n",
       "\t<li>'dfb.cKAZ'</li>\n",
       "\t<li>'dfb.cKEN'</li>\n",
       "\t<li>'dfb.cKGZ'</li>\n",
       "\t<li>'dfb.cKHM'</li>\n",
       "\t<li>'dfb.cKOR'</li>\n",
       "\t<li>'dfb.cLAO'</li>\n",
       "\t<li>'dfb.cLBR'</li>\n",
       "\t<li>'dfb.cLKA'</li>\n",
       "\t<li>'dfb.cLTU'</li>\n",
       "\t<li>'dfb.cLUX'</li>\n",
       "\t<li>'dfb.cLVA'</li>\n",
       "\t<li>'dfb.cMAR'</li>\n",
       "\t<li>'dfb.cMDA'</li>\n",
       "\t<li>'dfb.cMDG'</li>\n",
       "\t<li>'dfb.cMEX'</li>\n",
       "\t<li>'dfb.cMKD'</li>\n",
       "\t<li>'dfb.cMLI'</li>\n",
       "\t<li>'dfb.cMNE'</li>\n",
       "\t<li>'dfb.cMNG'</li>\n",
       "\t<li>'dfb.cMOZ'</li>\n",
       "\t<li>'dfb.cMRT'</li>\n",
       "\t<li>'dfb.cMWI'</li>\n",
       "\t<li>'dfb.cMYS'</li>\n",
       "\t<li>'dfb.cNER'</li>\n",
       "\t<li>'dfb.cNGA'</li>\n",
       "\t<li>'dfb.cNIC'</li>\n",
       "\t<li>'dfb.cNLD'</li>\n",
       "\t<li>'dfb.cNOR'</li>\n",
       "\t<li>'dfb.cNPL'</li>\n",
       "\t<li>'dfb.cPAK'</li>\n",
       "\t<li>'dfb.cPAN'</li>\n",
       "\t<li>'dfb.cPER'</li>\n",
       "\t<li>'dfb.cPHL'</li>\n",
       "\t<li>'dfb.cPOL'</li>\n",
       "\t<li>'dfb.cPRT'</li>\n",
       "\t<li>'dfb.cPRY'</li>\n",
       "\t<li>'dfb.cPSE'</li>\n",
       "\t<li>'dfb.cROU'</li>\n",
       "\t<li>'dfb.cRUS'</li>\n",
       "\t<li>'dfb.cSDN'</li>\n",
       "\t<li>'dfb.cSLV'</li>\n",
       "\t<li>'dfb.cSRB'</li>\n",
       "\t<li>'dfb.cSVK'</li>\n",
       "\t<li>'dfb.cSVN'</li>\n",
       "\t<li>'dfb.cSWE'</li>\n",
       "\t<li>'dfb.cSWZ'</li>\n",
       "\t<li>'dfb.cSYR'</li>\n",
       "\t<li>'dfb.cTHA'</li>\n",
       "\t<li>'dfb.cTJK'</li>\n",
       "\t<li>'dfb.cTLS'</li>\n",
       "\t<li>'dfb.cTUR'</li>\n",
       "\t<li>'dfb.cTWN'</li>\n",
       "\t<li>'dfb.cTZA'</li>\n",
       "\t<li>'dfb.cUGA'</li>\n",
       "\t<li>'dfb.cUKR'</li>\n",
       "\t<li>'dfb.cURY'</li>\n",
       "\t<li>'dfb.cUSA'</li>\n",
       "\t<li>'dfb.cVEN'</li>\n",
       "\t<li>'dfb.cVNM'</li>\n",
       "\t<li>'dfb.cXKX'</li>\n",
       "\t<li>'dfb.cYEM'</li>\n",
       "\t<li>'dfb.cZAF'</li>\n",
       "\t<li>'dffit'</li>\n",
       "\t<li>'cov.r'</li>\n",
       "\t<li>'cook.d'</li>\n",
       "\t<li>'hat'</li>\n",
       "</ol>\n"
      ],
      "text/latex": [
       "\\begin{enumerate*}\n",
       "\\item 'dfb.1\\_'\n",
       "\\item 'dfb.cARG'\n",
       "\\item 'dfb.cARM'\n",
       "\\item 'dfb.cAUT'\n",
       "\\item 'dfb.cAZE'\n",
       "\\item 'dfb.cBEL'\n",
       "\\item 'dfb.cBFA'\n",
       "\\item 'dfb.cBGD'\n",
       "\\item 'dfb.cBGR'\n",
       "\\item 'dfb.cBIH'\n",
       "\\item 'dfb.cBLR'\n",
       "\\item 'dfb.cBOL'\n",
       "\\item 'dfb.cBRA'\n",
       "\\item 'dfb.cBTN'\n",
       "\\item 'dfb.cCAF'\n",
       "\\item 'dfb.cCAN'\n",
       "\\item 'dfb.cCHL'\n",
       "\\item 'dfb.cCHN'\n",
       "\\item 'dfb.cCIV'\n",
       "\\item 'dfb.cCMR'\n",
       "\\item 'dfb.cCOD'\n",
       "\\item 'dfb.cCOL'\n",
       "\\item 'dfb.cCRI'\n",
       "\\item 'dfb.cCYP'\n",
       "\\item 'dfb.cCZE'\n",
       "\\item 'dfb.cDEU'\n",
       "\\item 'dfb.cDNK'\n",
       "\\item 'dfb.cDOM'\n",
       "\\item 'dfb.cECU'\n",
       "\\item 'dfb.cEGY'\n",
       "\\item 'dfb.cESP'\n",
       "\\item 'dfb.cEST'\n",
       "\\item 'dfb.cFIN'\n",
       "\\item 'dfb.cFJI'\n",
       "\\item 'dfb.cFRA'\n",
       "\\item 'dfb.cGBR'\n",
       "\\item 'dfb.cGEO'\n",
       "\\item 'dfb.cGHA'\n",
       "\\item 'dfb.cGIN'\n",
       "\\item 'dfb.cGRC'\n",
       "\\item 'dfb.cGTM'\n",
       "\\item 'dfb.cHND'\n",
       "\\item 'dfb.cHRV'\n",
       "\\item 'dfb.cHUN'\n",
       "\\item 'dfb.cIDN'\n",
       "\\item 'dfb.cIND'\n",
       "\\item 'dfb.cIRL'\n",
       "\\item 'dfb.cIRN'\n",
       "\\item 'dfb.cIRQ'\n",
       "\\item 'dfb.cISL'\n",
       "\\item 'dfb.cISR'\n",
       "\\item 'dfb.cITA'\n",
       "\\item 'dfb.cJOR'\n",
       "\\item 'dfb.cJPN'\n",
       "\\item 'dfb.cKAZ'\n",
       "\\item 'dfb.cKEN'\n",
       "\\item 'dfb.cKGZ'\n",
       "\\item 'dfb.cKHM'\n",
       "\\item 'dfb.cKOR'\n",
       "\\item 'dfb.cLAO'\n",
       "\\item 'dfb.cLBR'\n",
       "\\item 'dfb.cLKA'\n",
       "\\item 'dfb.cLTU'\n",
       "\\item 'dfb.cLUX'\n",
       "\\item 'dfb.cLVA'\n",
       "\\item 'dfb.cMAR'\n",
       "\\item 'dfb.cMDA'\n",
       "\\item 'dfb.cMDG'\n",
       "\\item 'dfb.cMEX'\n",
       "\\item 'dfb.cMKD'\n",
       "\\item 'dfb.cMLI'\n",
       "\\item 'dfb.cMNE'\n",
       "\\item 'dfb.cMNG'\n",
       "\\item 'dfb.cMOZ'\n",
       "\\item 'dfb.cMRT'\n",
       "\\item 'dfb.cMWI'\n",
       "\\item 'dfb.cMYS'\n",
       "\\item 'dfb.cNER'\n",
       "\\item 'dfb.cNGA'\n",
       "\\item 'dfb.cNIC'\n",
       "\\item 'dfb.cNLD'\n",
       "\\item 'dfb.cNOR'\n",
       "\\item 'dfb.cNPL'\n",
       "\\item 'dfb.cPAK'\n",
       "\\item 'dfb.cPAN'\n",
       "\\item 'dfb.cPER'\n",
       "\\item 'dfb.cPHL'\n",
       "\\item 'dfb.cPOL'\n",
       "\\item 'dfb.cPRT'\n",
       "\\item 'dfb.cPRY'\n",
       "\\item 'dfb.cPSE'\n",
       "\\item 'dfb.cROU'\n",
       "\\item 'dfb.cRUS'\n",
       "\\item 'dfb.cSDN'\n",
       "\\item 'dfb.cSLV'\n",
       "\\item 'dfb.cSRB'\n",
       "\\item 'dfb.cSVK'\n",
       "\\item 'dfb.cSVN'\n",
       "\\item 'dfb.cSWE'\n",
       "\\item 'dfb.cSWZ'\n",
       "\\item 'dfb.cSYR'\n",
       "\\item 'dfb.cTHA'\n",
       "\\item 'dfb.cTJK'\n",
       "\\item 'dfb.cTLS'\n",
       "\\item 'dfb.cTUR'\n",
       "\\item 'dfb.cTWN'\n",
       "\\item 'dfb.cTZA'\n",
       "\\item 'dfb.cUGA'\n",
       "\\item 'dfb.cUKR'\n",
       "\\item 'dfb.cURY'\n",
       "\\item 'dfb.cUSA'\n",
       "\\item 'dfb.cVEN'\n",
       "\\item 'dfb.cVNM'\n",
       "\\item 'dfb.cXKX'\n",
       "\\item 'dfb.cYEM'\n",
       "\\item 'dfb.cZAF'\n",
       "\\item 'dffit'\n",
       "\\item 'cov.r'\n",
       "\\item 'cook.d'\n",
       "\\item 'hat'\n",
       "\\end{enumerate*}\n"
      ],
      "text/markdown": [
       "1. 'dfb.1_'\n",
       "2. 'dfb.cARG'\n",
       "3. 'dfb.cARM'\n",
       "4. 'dfb.cAUT'\n",
       "5. 'dfb.cAZE'\n",
       "6. 'dfb.cBEL'\n",
       "7. 'dfb.cBFA'\n",
       "8. 'dfb.cBGD'\n",
       "9. 'dfb.cBGR'\n",
       "10. 'dfb.cBIH'\n",
       "11. 'dfb.cBLR'\n",
       "12. 'dfb.cBOL'\n",
       "13. 'dfb.cBRA'\n",
       "14. 'dfb.cBTN'\n",
       "15. 'dfb.cCAF'\n",
       "16. 'dfb.cCAN'\n",
       "17. 'dfb.cCHL'\n",
       "18. 'dfb.cCHN'\n",
       "19. 'dfb.cCIV'\n",
       "20. 'dfb.cCMR'\n",
       "21. 'dfb.cCOD'\n",
       "22. 'dfb.cCOL'\n",
       "23. 'dfb.cCRI'\n",
       "24. 'dfb.cCYP'\n",
       "25. 'dfb.cCZE'\n",
       "26. 'dfb.cDEU'\n",
       "27. 'dfb.cDNK'\n",
       "28. 'dfb.cDOM'\n",
       "29. 'dfb.cECU'\n",
       "30. 'dfb.cEGY'\n",
       "31. 'dfb.cESP'\n",
       "32. 'dfb.cEST'\n",
       "33. 'dfb.cFIN'\n",
       "34. 'dfb.cFJI'\n",
       "35. 'dfb.cFRA'\n",
       "36. 'dfb.cGBR'\n",
       "37. 'dfb.cGEO'\n",
       "38. 'dfb.cGHA'\n",
       "39. 'dfb.cGIN'\n",
       "40. 'dfb.cGRC'\n",
       "41. 'dfb.cGTM'\n",
       "42. 'dfb.cHND'\n",
       "43. 'dfb.cHRV'\n",
       "44. 'dfb.cHUN'\n",
       "45. 'dfb.cIDN'\n",
       "46. 'dfb.cIND'\n",
       "47. 'dfb.cIRL'\n",
       "48. 'dfb.cIRN'\n",
       "49. 'dfb.cIRQ'\n",
       "50. 'dfb.cISL'\n",
       "51. 'dfb.cISR'\n",
       "52. 'dfb.cITA'\n",
       "53. 'dfb.cJOR'\n",
       "54. 'dfb.cJPN'\n",
       "55. 'dfb.cKAZ'\n",
       "56. 'dfb.cKEN'\n",
       "57. 'dfb.cKGZ'\n",
       "58. 'dfb.cKHM'\n",
       "59. 'dfb.cKOR'\n",
       "60. 'dfb.cLAO'\n",
       "61. 'dfb.cLBR'\n",
       "62. 'dfb.cLKA'\n",
       "63. 'dfb.cLTU'\n",
       "64. 'dfb.cLUX'\n",
       "65. 'dfb.cLVA'\n",
       "66. 'dfb.cMAR'\n",
       "67. 'dfb.cMDA'\n",
       "68. 'dfb.cMDG'\n",
       "69. 'dfb.cMEX'\n",
       "70. 'dfb.cMKD'\n",
       "71. 'dfb.cMLI'\n",
       "72. 'dfb.cMNE'\n",
       "73. 'dfb.cMNG'\n",
       "74. 'dfb.cMOZ'\n",
       "75. 'dfb.cMRT'\n",
       "76. 'dfb.cMWI'\n",
       "77. 'dfb.cMYS'\n",
       "78. 'dfb.cNER'\n",
       "79. 'dfb.cNGA'\n",
       "80. 'dfb.cNIC'\n",
       "81. 'dfb.cNLD'\n",
       "82. 'dfb.cNOR'\n",
       "83. 'dfb.cNPL'\n",
       "84. 'dfb.cPAK'\n",
       "85. 'dfb.cPAN'\n",
       "86. 'dfb.cPER'\n",
       "87. 'dfb.cPHL'\n",
       "88. 'dfb.cPOL'\n",
       "89. 'dfb.cPRT'\n",
       "90. 'dfb.cPRY'\n",
       "91. 'dfb.cPSE'\n",
       "92. 'dfb.cROU'\n",
       "93. 'dfb.cRUS'\n",
       "94. 'dfb.cSDN'\n",
       "95. 'dfb.cSLV'\n",
       "96. 'dfb.cSRB'\n",
       "97. 'dfb.cSVK'\n",
       "98. 'dfb.cSVN'\n",
       "99. 'dfb.cSWE'\n",
       "100. 'dfb.cSWZ'\n",
       "101. 'dfb.cSYR'\n",
       "102. 'dfb.cTHA'\n",
       "103. 'dfb.cTJK'\n",
       "104. 'dfb.cTLS'\n",
       "105. 'dfb.cTUR'\n",
       "106. 'dfb.cTWN'\n",
       "107. 'dfb.cTZA'\n",
       "108. 'dfb.cUGA'\n",
       "109. 'dfb.cUKR'\n",
       "110. 'dfb.cURY'\n",
       "111. 'dfb.cUSA'\n",
       "112. 'dfb.cVEN'\n",
       "113. 'dfb.cVNM'\n",
       "114. 'dfb.cXKX'\n",
       "115. 'dfb.cYEM'\n",
       "116. 'dfb.cZAF'\n",
       "117. 'dffit'\n",
       "118. 'cov.r'\n",
       "119. 'cook.d'\n",
       "120. 'hat'\n",
       "\n",
       "\n"
      ],
      "text/plain": [
       "  [1] \"dfb.1_\"   \"dfb.cARG\" \"dfb.cARM\" \"dfb.cAUT\" \"dfb.cAZE\" \"dfb.cBEL\"\n",
       "  [7] \"dfb.cBFA\" \"dfb.cBGD\" \"dfb.cBGR\" \"dfb.cBIH\" \"dfb.cBLR\" \"dfb.cBOL\"\n",
       " [13] \"dfb.cBRA\" \"dfb.cBTN\" \"dfb.cCAF\" \"dfb.cCAN\" \"dfb.cCHL\" \"dfb.cCHN\"\n",
       " [19] \"dfb.cCIV\" \"dfb.cCMR\" \"dfb.cCOD\" \"dfb.cCOL\" \"dfb.cCRI\" \"dfb.cCYP\"\n",
       " [25] \"dfb.cCZE\" \"dfb.cDEU\" \"dfb.cDNK\" \"dfb.cDOM\" \"dfb.cECU\" \"dfb.cEGY\"\n",
       " [31] \"dfb.cESP\" \"dfb.cEST\" \"dfb.cFIN\" \"dfb.cFJI\" \"dfb.cFRA\" \"dfb.cGBR\"\n",
       " [37] \"dfb.cGEO\" \"dfb.cGHA\" \"dfb.cGIN\" \"dfb.cGRC\" \"dfb.cGTM\" \"dfb.cHND\"\n",
       " [43] \"dfb.cHRV\" \"dfb.cHUN\" \"dfb.cIDN\" \"dfb.cIND\" \"dfb.cIRL\" \"dfb.cIRN\"\n",
       " [49] \"dfb.cIRQ\" \"dfb.cISL\" \"dfb.cISR\" \"dfb.cITA\" \"dfb.cJOR\" \"dfb.cJPN\"\n",
       " [55] \"dfb.cKAZ\" \"dfb.cKEN\" \"dfb.cKGZ\" \"dfb.cKHM\" \"dfb.cKOR\" \"dfb.cLAO\"\n",
       " [61] \"dfb.cLBR\" \"dfb.cLKA\" \"dfb.cLTU\" \"dfb.cLUX\" \"dfb.cLVA\" \"dfb.cMAR\"\n",
       " [67] \"dfb.cMDA\" \"dfb.cMDG\" \"dfb.cMEX\" \"dfb.cMKD\" \"dfb.cMLI\" \"dfb.cMNE\"\n",
       " [73] \"dfb.cMNG\" \"dfb.cMOZ\" \"dfb.cMRT\" \"dfb.cMWI\" \"dfb.cMYS\" \"dfb.cNER\"\n",
       " [79] \"dfb.cNGA\" \"dfb.cNIC\" \"dfb.cNLD\" \"dfb.cNOR\" \"dfb.cNPL\" \"dfb.cPAK\"\n",
       " [85] \"dfb.cPAN\" \"dfb.cPER\" \"dfb.cPHL\" \"dfb.cPOL\" \"dfb.cPRT\" \"dfb.cPRY\"\n",
       " [91] \"dfb.cPSE\" \"dfb.cROU\" \"dfb.cRUS\" \"dfb.cSDN\" \"dfb.cSLV\" \"dfb.cSRB\"\n",
       " [97] \"dfb.cSVK\" \"dfb.cSVN\" \"dfb.cSWE\" \"dfb.cSWZ\" \"dfb.cSYR\" \"dfb.cTHA\"\n",
       "[103] \"dfb.cTJK\" \"dfb.cTLS\" \"dfb.cTUR\" \"dfb.cTWN\" \"dfb.cTZA\" \"dfb.cUGA\"\n",
       "[109] \"dfb.cUKR\" \"dfb.cURY\" \"dfb.cUSA\" \"dfb.cVEN\" \"dfb.cVNM\" \"dfb.cXKX\"\n",
       "[115] \"dfb.cYEM\" \"dfb.cZAF\" \"dffit\"    \"cov.r\"    \"cook.d\"   \"hat\"     "
      ]
     },
     "metadata": {},
     "output_type": "display_data"
    }
   ],
   "source": [
    "# calcul des distances de Cook\n",
    "influence <- influence.measures(anova_pays)\n",
    "names(influence)\n",
    "colnames(influence$infmat)\n",
    "\n",
    "analyses1$dcook <- influence$infmat[,\"cook.d\"]\n",
    "seuil_dcook <- 4/(n-p)"
   ]
  },
  {
   "cell_type": "code",
   "execution_count": 18,
   "metadata": {},
   "outputs": [
    {
     "name": "stderr",
     "output_type": "stream",
     "text": [
      "Warning message:\n",
      "\"Removed 15 rows containing missing values (position_stack).\""
     ]
    },
    {
     "data": {
      "image/png": "[encoded data removed]",
      "text/plain": [
       "plot without title"
      ]
     },
     "metadata": {},
     "output_type": "display_data"
    }
   ],
   "source": [
    "#plot distances de cook\n",
    "\n",
    "ggplot(data=analyses1,aes(x=obs,y=dcook))+\n",
    "  geom_bar(stat=\"identity\",fill=\"darkgreen\", width = 0.5)+\n",
    "  geom_hline(yintercept=seuil_dcook,col=\"red\")+\n",
    "  ggtitle('Distances de Cook pour chaque observation (income~country)') +\n",
    "  xlab(\"Observations\")+\n",
    "  ylab(\"Distance de cook\")+\n",
    "  scale_x_continuous(breaks=seq(0,n,by=1000)) +\n",
    "  ylim(0,0.01) +\n",
    "  theme(plot.title = element_text(hjust = 0.5), legend.position = \"none\")"
   ]
  },
  {
   "cell_type": "code",
   "execution_count": 19,
   "metadata": {},
   "outputs": [
    {
     "data": {
      "text/html": [
       "<table>\n",
       "<thead><tr><th></th><th scope=col>income_child</th><th scope=col>country</th><th scope=col>G_j</th><th scope=col>m_j</th></tr></thead>\n",
       "<tbody>\n",
       "\t<tr><th scope=row>100</th><td>17754.3240</td><td>ALB       </td><td>33.2      </td><td> 7297     </td></tr>\n",
       "\t<tr><th scope=row>50098</th><td>20528.3050</td><td>ARG       </td><td>41.4      </td><td>13220     </td></tr>\n",
       "\t<tr><th scope=row>50099</th><td>24444.9500</td><td>ARG       </td><td>41.4      </td><td>13220     </td></tr>\n",
       "\t<tr><th scope=row>50100</th><td>43669.2420</td><td>ARG       </td><td>41.4      </td><td>13220     </td></tr>\n",
       "\t<tr><th scope=row>150001</th><td> 2958.0764</td><td>AUT       </td><td>29.7      </td><td>36193     </td></tr>\n",
       "\t<tr><th scope=row>150094</th><td>30725.9300</td><td>AUT       </td><td>29.7      </td><td>36193     </td></tr>\n",
       "\t<tr><th scope=row>150095</th><td>32304.8070</td><td>AUT       </td><td>29.7      </td><td>36193     </td></tr>\n",
       "\t<tr><th scope=row>150096</th><td>33914.1050</td><td>AUT       </td><td>29.7      </td><td>36193     </td></tr>\n",
       "\t<tr><th scope=row>150097</th><td>36080.9020</td><td>AUT       </td><td>29.7      </td><td>36193     </td></tr>\n",
       "\t<tr><th scope=row>150098</th><td>39450.5550</td><td>AUT       </td><td>29.7      </td><td>36193     </td></tr>\n",
       "\t<tr><th scope=row>150099</th><td>44950.3120</td><td>AUT       </td><td>29.7      </td><td>36193     </td></tr>\n",
       "\t<tr><th scope=row>150100</th><td>72216.6800</td><td>AUT       </td><td>29.7      </td><td>36193     </td></tr>\n",
       "\t<tr><th scope=row>250096</th><td>29376.9280</td><td>BEL       </td><td>27.4      </td><td>33561     </td></tr>\n",
       "\t<tr><th scope=row>250097</th><td>31054.9260</td><td>BEL       </td><td>27.4      </td><td>33561     </td></tr>\n",
       "\t<tr><th scope=row>250098</th><td>34044.5600</td><td>BEL       </td><td>27.4      </td><td>33561     </td></tr>\n",
       "\t<tr><th scope=row>250099</th><td>39844.7580</td><td>BEL       </td><td>27.4      </td><td>33561     </td></tr>\n",
       "\t<tr><th scope=row>250100</th><td>83104.4700</td><td>BEL       </td><td>27.4      </td><td>33561     </td></tr>\n",
       "\t<tr><th scope=row>400099</th><td>18330.7070</td><td>BGR       </td><td>40.4      </td><td>11993     </td></tr>\n",
       "\t<tr><th scope=row>400100</th><td>28613.7810</td><td>BGR       </td><td>40.4      </td><td>11993     </td></tr>\n",
       "\t<tr><th scope=row>450099</th><td>21695.1540</td><td>BIH       </td><td>33.0      </td><td> 7472     </td></tr>\n",
       "\t<tr><th scope=row>450100</th><td>31251.5860</td><td>BIH       </td><td>33.0      </td><td> 7472     </td></tr>\n",
       "\t<tr><th scope=row>550099</th><td>17933.9180</td><td>BOL       </td><td>42.2      </td><td> 3950     </td></tr>\n",
       "\t<tr><th scope=row>550100</th><td>43786.9200</td><td>BOL       </td><td>42.2      </td><td> 3950     </td></tr>\n",
       "\t<tr><th scope=row>600097</th><td>18917.6910</td><td>BRA       </td><td>53.9      </td><td> 9559     </td></tr>\n",
       "\t<tr><th scope=row>600098</th><td>22820.6680</td><td>BRA       </td><td>53.9      </td><td> 9559     </td></tr>\n",
       "\t<tr><th scope=row>600099</th><td>29642.6200</td><td>BRA       </td><td>53.9      </td><td> 9559     </td></tr>\n",
       "\t<tr><th scope=row>600100</th><td>59115.9800</td><td>BRA       </td><td>53.9      </td><td> 9559     </td></tr>\n",
       "\t<tr><th scope=row>700100</th><td>14472.9480</td><td>CAF       </td><td>56.2      </td><td>  685     </td></tr>\n",
       "\t<tr><th scope=row>750001</th><td>  122.4248</td><td>CAN       </td><td>33.8      </td><td>35895     </td></tr>\n",
       "\t<tr><th scope=row>750002</th><td> 1692.5142</td><td>CAN       </td><td>33.8      </td><td>35895     </td></tr>\n",
       "\t<tr><th scope=row>...</th><td>...</td><td>...</td><td>...</td><td>...</td></tr>\n",
       "\t<tr><th scope=row>5500025</th><td> 10720.46</td><td>USA      </td><td>41.4     </td><td>43261    </td></tr>\n",
       "\t<tr><th scope=row>5500026</th><td> 11054.29</td><td>USA      </td><td>41.4     </td><td>43261    </td></tr>\n",
       "\t<tr><th scope=row>5500027</th><td> 11373.00</td><td>USA      </td><td>41.4     </td><td>43261    </td></tr>\n",
       "\t<tr><th scope=row>5500028</th><td> 11691.00</td><td>USA      </td><td>41.4     </td><td>43261    </td></tr>\n",
       "\t<tr><th scope=row>5500029</th><td> 12000.02</td><td>USA      </td><td>41.4     </td><td>43261    </td></tr>\n",
       "\t<tr><th scope=row>5500084</th><td> 39663.39</td><td>USA      </td><td>41.4     </td><td>43261    </td></tr>\n",
       "\t<tr><th scope=row>5500085</th><td> 40858.26</td><td>USA      </td><td>41.4     </td><td>43261    </td></tr>\n",
       "\t<tr><th scope=row>5500086</th><td> 42185.94</td><td>USA      </td><td>41.4     </td><td>43261    </td></tr>\n",
       "\t<tr><th scope=row>5500087</th><td> 43575.18</td><td>USA      </td><td>41.4     </td><td>43261    </td></tr>\n",
       "\t<tr><th scope=row>5500088</th><td> 45142.73</td><td>USA      </td><td>41.4     </td><td>43261    </td></tr>\n",
       "\t<tr><th scope=row>5500089</th><td> 46878.70</td><td>USA      </td><td>41.4     </td><td>43261    </td></tr>\n",
       "\t<tr><th scope=row>5500090</th><td> 48861.68</td><td>USA      </td><td>41.4     </td><td>43261    </td></tr>\n",
       "\t<tr><th scope=row>5500091</th><td> 50866.36</td><td>USA      </td><td>41.4     </td><td>43261    </td></tr>\n",
       "\t<tr><th scope=row>5500092</th><td> 53313.96</td><td>USA      </td><td>41.4     </td><td>43261    </td></tr>\n",
       "\t<tr><th scope=row>5500093</th><td> 56233.74</td><td>USA      </td><td>41.4     </td><td>43261    </td></tr>\n",
       "\t<tr><th scope=row>5500094</th><td> 59764.70</td><td>USA      </td><td>41.4     </td><td>43261    </td></tr>\n",
       "\t<tr><th scope=row>5500095</th><td> 64053.35</td><td>USA      </td><td>41.4     </td><td>43261    </td></tr>\n",
       "\t<tr><th scope=row>5500096</th><td> 69926.37</td><td>USA      </td><td>41.4     </td><td>43261    </td></tr>\n",
       "\t<tr><th scope=row>5500097</th><td> 77634.82</td><td>USA      </td><td>41.4     </td><td>43261    </td></tr>\n",
       "\t<tr><th scope=row>5500098</th><td> 88482.84</td><td>USA      </td><td>41.4     </td><td>43261    </td></tr>\n",
       "\t<tr><th scope=row>5500099</th><td>106765.26</td><td>USA      </td><td>41.4     </td><td>43261    </td></tr>\n",
       "\t<tr><th scope=row>5500100</th><td>176928.55</td><td>USA      </td><td>41.4     </td><td>43261    </td></tr>\n",
       "\t<tr><th scope=row>5550100</th><td> 24857.97</td><td>VEN      </td><td>46.9     </td><td>11756    </td></tr>\n",
       "\t<tr><th scope=row>5750094</th><td> 19444.71</td><td>ZAF      </td><td>63.0     </td><td> 9602    </td></tr>\n",
       "\t<tr><th scope=row>5750095</th><td> 21714.89</td><td>ZAF      </td><td>63.0     </td><td> 9602    </td></tr>\n",
       "\t<tr><th scope=row>5750096</th><td> 24553.57</td><td>ZAF      </td><td>63.0     </td><td> 9602    </td></tr>\n",
       "\t<tr><th scope=row>5750097</th><td> 28858.03</td><td>ZAF      </td><td>63.0     </td><td> 9602    </td></tr>\n",
       "\t<tr><th scope=row>5750098</th><td> 35750.29</td><td>ZAF      </td><td>63.0     </td><td> 9602    </td></tr>\n",
       "\t<tr><th scope=row>5750099</th><td> 46297.32</td><td>ZAF      </td><td>63.0     </td><td> 9602    </td></tr>\n",
       "\t<tr><th scope=row>5750100</th><td> 82408.55</td><td>ZAF      </td><td>63.0     </td><td> 9602    </td></tr>\n",
       "</tbody>\n",
       "</table>\n"
      ],
      "text/latex": [
       "\\begin{tabular}{r|llll}\n",
       "  & income\\_child & country & G\\_j & m\\_j\\\\\n",
       "\\hline\n",
       "\t100 & 17754.3240 & ALB        & 33.2       &  7297     \\\\\n",
       "\t50098 & 20528.3050 & ARG        & 41.4       & 13220     \\\\\n",
       "\t50099 & 24444.9500 & ARG        & 41.4       & 13220     \\\\\n",
       "\t50100 & 43669.2420 & ARG        & 41.4       & 13220     \\\\\n",
       "\t150001 &  2958.0764 & AUT        & 29.7       & 36193     \\\\\n",
       "\t150094 & 30725.9300 & AUT        & 29.7       & 36193     \\\\\n",
       "\t150095 & 32304.8070 & AUT        & 29.7       & 36193     \\\\\n",
       "\t150096 & 33914.1050 & AUT        & 29.7       & 36193     \\\\\n",
       "\t150097 & 36080.9020 & AUT        & 29.7       & 36193     \\\\\n",
       "\t150098 & 39450.5550 & AUT        & 29.7       & 36193     \\\\\n",
       "\t150099 & 44950.3120 & AUT        & 29.7       & 36193     \\\\\n",
       "\t150100 & 72216.6800 & AUT        & 29.7       & 36193     \\\\\n",
       "\t250096 & 29376.9280 & BEL        & 27.4       & 33561     \\\\\n",
       "\t250097 & 31054.9260 & BEL        & 27.4       & 33561     \\\\\n",
       "\t250098 & 34044.5600 & BEL        & 27.4       & 33561     \\\\\n",
       "\t250099 & 39844.7580 & BEL        & 27.4       & 33561     \\\\\n",
       "\t250100 & 83104.4700 & BEL        & 27.4       & 33561     \\\\\n",
       "\t400099 & 18330.7070 & BGR        & 40.4       & 11993     \\\\\n",
       "\t400100 & 28613.7810 & BGR        & 40.4       & 11993     \\\\\n",
       "\t450099 & 21695.1540 & BIH        & 33.0       &  7472     \\\\\n",
       "\t450100 & 31251.5860 & BIH        & 33.0       &  7472     \\\\\n",
       "\t550099 & 17933.9180 & BOL        & 42.2       &  3950     \\\\\n",
       "\t550100 & 43786.9200 & BOL        & 42.2       &  3950     \\\\\n",
       "\t600097 & 18917.6910 & BRA        & 53.9       &  9559     \\\\\n",
       "\t600098 & 22820.6680 & BRA        & 53.9       &  9559     \\\\\n",
       "\t600099 & 29642.6200 & BRA        & 53.9       &  9559     \\\\\n",
       "\t600100 & 59115.9800 & BRA        & 53.9       &  9559     \\\\\n",
       "\t700100 & 14472.9480 & CAF        & 56.2       &   685     \\\\\n",
       "\t750001 &   122.4248 & CAN        & 33.8       & 35895     \\\\\n",
       "\t750002 &  1692.5142 & CAN        & 33.8       & 35895     \\\\\n",
       "\t... & ... & ... & ... & ...\\\\\n",
       "\t5500025 &  10720.46 & USA       & 41.4      & 43261    \\\\\n",
       "\t5500026 &  11054.29 & USA       & 41.4      & 43261    \\\\\n",
       "\t5500027 &  11373.00 & USA       & 41.4      & 43261    \\\\\n",
       "\t5500028 &  11691.00 & USA       & 41.4      & 43261    \\\\\n",
       "\t5500029 &  12000.02 & USA       & 41.4      & 43261    \\\\\n",
       "\t5500084 &  39663.39 & USA       & 41.4      & 43261    \\\\\n",
       "\t5500085 &  40858.26 & USA       & 41.4      & 43261    \\\\\n",
       "\t5500086 &  42185.94 & USA       & 41.4      & 43261    \\\\\n",
       "\t5500087 &  43575.18 & USA       & 41.4      & 43261    \\\\\n",
       "\t5500088 &  45142.73 & USA       & 41.4      & 43261    \\\\\n",
       "\t5500089 &  46878.70 & USA       & 41.4      & 43261    \\\\\n",
       "\t5500090 &  48861.68 & USA       & 41.4      & 43261    \\\\\n",
       "\t5500091 &  50866.36 & USA       & 41.4      & 43261    \\\\\n",
       "\t5500092 &  53313.96 & USA       & 41.4      & 43261    \\\\\n",
       "\t5500093 &  56233.74 & USA       & 41.4      & 43261    \\\\\n",
       "\t5500094 &  59764.70 & USA       & 41.4      & 43261    \\\\\n",
       "\t5500095 &  64053.35 & USA       & 41.4      & 43261    \\\\\n",
       "\t5500096 &  69926.37 & USA       & 41.4      & 43261    \\\\\n",
       "\t5500097 &  77634.82 & USA       & 41.4      & 43261    \\\\\n",
       "\t5500098 &  88482.84 & USA       & 41.4      & 43261    \\\\\n",
       "\t5500099 & 106765.26 & USA       & 41.4      & 43261    \\\\\n",
       "\t5500100 & 176928.55 & USA       & 41.4      & 43261    \\\\\n",
       "\t5550100 &  24857.97 & VEN       & 46.9      & 11756    \\\\\n",
       "\t5750094 &  19444.71 & ZAF       & 63.0      &  9602    \\\\\n",
       "\t5750095 &  21714.89 & ZAF       & 63.0      &  9602    \\\\\n",
       "\t5750096 &  24553.57 & ZAF       & 63.0      &  9602    \\\\\n",
       "\t5750097 &  28858.03 & ZAF       & 63.0      &  9602    \\\\\n",
       "\t5750098 &  35750.29 & ZAF       & 63.0      &  9602    \\\\\n",
       "\t5750099 &  46297.32 & ZAF       & 63.0      &  9602    \\\\\n",
       "\t5750100 &  82408.55 & ZAF       & 63.0      &  9602    \\\\\n",
       "\\end{tabular}\n"
      ],
      "text/markdown": [
       "\n",
       "| <!--/--> | income_child | country | G_j | m_j |\n",
       "|---|---|---|---|---|\n",
       "| 100 | 17754.3240 | ALB        | 33.2       |  7297      |\n",
       "| 50098 | 20528.3050 | ARG        | 41.4       | 13220      |\n",
       "| 50099 | 24444.9500 | ARG        | 41.4       | 13220      |\n",
       "| 50100 | 43669.2420 | ARG        | 41.4       | 13220      |\n",
       "| 150001 |  2958.0764 | AUT        | 29.7       | 36193      |\n",
       "| 150094 | 30725.9300 | AUT        | 29.7       | 36193      |\n",
       "| 150095 | 32304.8070 | AUT        | 29.7       | 36193      |\n",
       "| 150096 | 33914.1050 | AUT        | 29.7       | 36193      |\n",
       "| 150097 | 36080.9020 | AUT        | 29.7       | 36193      |\n",
       "| 150098 | 39450.5550 | AUT        | 29.7       | 36193      |\n",
       "| 150099 | 44950.3120 | AUT        | 29.7       | 36193      |\n",
       "| 150100 | 72216.6800 | AUT        | 29.7       | 36193      |\n",
       "| 250096 | 29376.9280 | BEL        | 27.4       | 33561      |\n",
       "| 250097 | 31054.9260 | BEL        | 27.4       | 33561      |\n",
       "| 250098 | 34044.5600 | BEL        | 27.4       | 33561      |\n",
       "| 250099 | 39844.7580 | BEL        | 27.4       | 33561      |\n",
       "| 250100 | 83104.4700 | BEL        | 27.4       | 33561      |\n",
       "| 400099 | 18330.7070 | BGR        | 40.4       | 11993      |\n",
       "| 400100 | 28613.7810 | BGR        | 40.4       | 11993      |\n",
       "| 450099 | 21695.1540 | BIH        | 33.0       |  7472      |\n",
       "| 450100 | 31251.5860 | BIH        | 33.0       |  7472      |\n",
       "| 550099 | 17933.9180 | BOL        | 42.2       |  3950      |\n",
       "| 550100 | 43786.9200 | BOL        | 42.2       |  3950      |\n",
       "| 600097 | 18917.6910 | BRA        | 53.9       |  9559      |\n",
       "| 600098 | 22820.6680 | BRA        | 53.9       |  9559      |\n",
       "| 600099 | 29642.6200 | BRA        | 53.9       |  9559      |\n",
       "| 600100 | 59115.9800 | BRA        | 53.9       |  9559      |\n",
       "| 700100 | 14472.9480 | CAF        | 56.2       |   685      |\n",
       "| 750001 |   122.4248 | CAN        | 33.8       | 35895      |\n",
       "| 750002 |  1692.5142 | CAN        | 33.8       | 35895      |\n",
       "| ... | ... | ... | ... | ... |\n",
       "| 5500025 |  10720.46 | USA       | 41.4      | 43261     |\n",
       "| 5500026 |  11054.29 | USA       | 41.4      | 43261     |\n",
       "| 5500027 |  11373.00 | USA       | 41.4      | 43261     |\n",
       "| 5500028 |  11691.00 | USA       | 41.4      | 43261     |\n",
       "| 5500029 |  12000.02 | USA       | 41.4      | 43261     |\n",
       "| 5500084 |  39663.39 | USA       | 41.4      | 43261     |\n",
       "| 5500085 |  40858.26 | USA       | 41.4      | 43261     |\n",
       "| 5500086 |  42185.94 | USA       | 41.4      | 43261     |\n",
       "| 5500087 |  43575.18 | USA       | 41.4      | 43261     |\n",
       "| 5500088 |  45142.73 | USA       | 41.4      | 43261     |\n",
       "| 5500089 |  46878.70 | USA       | 41.4      | 43261     |\n",
       "| 5500090 |  48861.68 | USA       | 41.4      | 43261     |\n",
       "| 5500091 |  50866.36 | USA       | 41.4      | 43261     |\n",
       "| 5500092 |  53313.96 | USA       | 41.4      | 43261     |\n",
       "| 5500093 |  56233.74 | USA       | 41.4      | 43261     |\n",
       "| 5500094 |  59764.70 | USA       | 41.4      | 43261     |\n",
       "| 5500095 |  64053.35 | USA       | 41.4      | 43261     |\n",
       "| 5500096 |  69926.37 | USA       | 41.4      | 43261     |\n",
       "| 5500097 |  77634.82 | USA       | 41.4      | 43261     |\n",
       "| 5500098 |  88482.84 | USA       | 41.4      | 43261     |\n",
       "| 5500099 | 106765.26 | USA       | 41.4      | 43261     |\n",
       "| 5500100 | 176928.55 | USA       | 41.4      | 43261     |\n",
       "| 5550100 |  24857.97 | VEN       | 46.9      | 11756     |\n",
       "| 5750094 |  19444.71 | ZAF       | 63.0      |  9602     |\n",
       "| 5750095 |  21714.89 | ZAF       | 63.0      |  9602     |\n",
       "| 5750096 |  24553.57 | ZAF       | 63.0      |  9602     |\n",
       "| 5750097 |  28858.03 | ZAF       | 63.0      |  9602     |\n",
       "| 5750098 |  35750.29 | ZAF       | 63.0      |  9602     |\n",
       "| 5750099 |  46297.32 | ZAF       | 63.0      |  9602     |\n",
       "| 5750100 |  82408.55 | ZAF       | 63.0      |  9602     |\n",
       "\n"
      ],
      "text/plain": [
       "        income_child country G_j  m_j  \n",
       "100     17754.3240   ALB     33.2  7297\n",
       "50098   20528.3050   ARG     41.4 13220\n",
       "50099   24444.9500   ARG     41.4 13220\n",
       "50100   43669.2420   ARG     41.4 13220\n",
       "150001   2958.0764   AUT     29.7 36193\n",
       "150094  30725.9300   AUT     29.7 36193\n",
       "150095  32304.8070   AUT     29.7 36193\n",
       "150096  33914.1050   AUT     29.7 36193\n",
       "150097  36080.9020   AUT     29.7 36193\n",
       "150098  39450.5550   AUT     29.7 36193\n",
       "150099  44950.3120   AUT     29.7 36193\n",
       "150100  72216.6800   AUT     29.7 36193\n",
       "250096  29376.9280   BEL     27.4 33561\n",
       "250097  31054.9260   BEL     27.4 33561\n",
       "250098  34044.5600   BEL     27.4 33561\n",
       "250099  39844.7580   BEL     27.4 33561\n",
       "250100  83104.4700   BEL     27.4 33561\n",
       "400099  18330.7070   BGR     40.4 11993\n",
       "400100  28613.7810   BGR     40.4 11993\n",
       "450099  21695.1540   BIH     33.0  7472\n",
       "450100  31251.5860   BIH     33.0  7472\n",
       "550099  17933.9180   BOL     42.2  3950\n",
       "550100  43786.9200   BOL     42.2  3950\n",
       "600097  18917.6910   BRA     53.9  9559\n",
       "600098  22820.6680   BRA     53.9  9559\n",
       "600099  29642.6200   BRA     53.9  9559\n",
       "600100  59115.9800   BRA     53.9  9559\n",
       "700100  14472.9480   CAF     56.2   685\n",
       "750001    122.4248   CAN     33.8 35895\n",
       "750002   1692.5142   CAN     33.8 35895\n",
       "...     ...          ...     ...  ...  \n",
       "5500025  10720.46    USA     41.4 43261\n",
       "5500026  11054.29    USA     41.4 43261\n",
       "5500027  11373.00    USA     41.4 43261\n",
       "5500028  11691.00    USA     41.4 43261\n",
       "5500029  12000.02    USA     41.4 43261\n",
       "5500084  39663.39    USA     41.4 43261\n",
       "5500085  40858.26    USA     41.4 43261\n",
       "5500086  42185.94    USA     41.4 43261\n",
       "5500087  43575.18    USA     41.4 43261\n",
       "5500088  45142.73    USA     41.4 43261\n",
       "5500089  46878.70    USA     41.4 43261\n",
       "5500090  48861.68    USA     41.4 43261\n",
       "5500091  50866.36    USA     41.4 43261\n",
       "5500092  53313.96    USA     41.4 43261\n",
       "5500093  56233.74    USA     41.4 43261\n",
       "5500094  59764.70    USA     41.4 43261\n",
       "5500095  64053.35    USA     41.4 43261\n",
       "5500096  69926.37    USA     41.4 43261\n",
       "5500097  77634.82    USA     41.4 43261\n",
       "5500098  88482.84    USA     41.4 43261\n",
       "5500099 106765.26    USA     41.4 43261\n",
       "5500100 176928.55    USA     41.4 43261\n",
       "5550100  24857.97    VEN     46.9 11756\n",
       "5750094  19444.71    ZAF     63.0  9602\n",
       "5750095  21714.89    ZAF     63.0  9602\n",
       "5750096  24553.57    ZAF     63.0  9602\n",
       "5750097  28858.03    ZAF     63.0  9602\n",
       "5750098  35750.29    ZAF     63.0  9602\n",
       "5750099  46297.32    ZAF     63.0  9602\n",
       "5750100  82408.55    ZAF     63.0  9602"
      ]
     },
     "metadata": {},
     "output_type": "display_data"
    }
   ],
   "source": [
    "#on selectionne les observations qui dépassent les 3 seuils : observations atypiques ET influentes\n",
    "obs_influentes_pays <- analyses1[(analyses1$leviers > seuil_levier) &\n",
    "               (abs(analyses1$rstudent) > seuil_rstudent) &\n",
    "               (abs(analyses1$dcook) > seuil_dcook),]\n",
    "\n",
    "#affichage des individus atypiques et influents\n",
    "head(data1[as.numeric(rownames(obs_influentes_pays)),])"
   ]
  },
  {
   "cell_type": "markdown",
   "metadata": {},
   "source": [
    "###  Colinéarité"
   ]
  },
  {
   "cell_type": "code",
   "execution_count": 20,
   "metadata": {},
   "outputs": [],
   "source": [
    "#colinéarité des variables\n",
    "#une seule variable pour ce modèle"
   ]
  },
  {
   "cell_type": "markdown",
   "metadata": {},
   "source": [
    "### Homoscédasticité des résidus"
   ]
  },
  {
   "cell_type": "code",
   "execution_count": 21,
   "metadata": {},
   "outputs": [
    {
     "data": {
      "text/plain": [
       "\n",
       "\tstudentized Breusch-Pagan test\n",
       "\n",
       "data:  anova_pays\n",
       "BP = 424.61, df = 115, p-value < 2.2e-16\n"
      ]
     },
     "metadata": {},
     "output_type": "display_data"
    }
   ],
   "source": [
    "#homoscédasticité des résidus (h0 : il y A homoscedasticité)\n",
    "bptest(anova_pays)"
   ]
  },
  {
   "cell_type": "code",
   "execution_count": 14,
   "metadata": {},
   "outputs": [
    {
     "data": {
      "image/png": "[encoded data removed]",
      "text/plain": [
       "plot without title"
      ]
     },
     "metadata": {},
     "output_type": "display_data"
    }
   ],
   "source": [
    "#affichage des résidus\n",
    "df <- data.frame(y = anova_pays$residuals)\n",
    "ggplot(df, aes(x = seq(length(anova_pays$residuals)), y)) +\n",
    "  geom_point(color=\"darkgreen\", alpha = 0.5, shape = 1) +\n",
    "  ggtitle('Résidus issus du modèle 1') +\n",
    "  xlab(\"Résidus\")+\n",
    "  ylab(\"Valeur\")+\n",
    "  theme(plot.title = element_text(hjust = 0.5), legend.position = \"none\")\n",
    "ggsave(\"graphiques/dispersion_residus.png\", width = 11, height = 8)"
   ]
  },
  {
   "cell_type": "markdown",
   "metadata": {},
   "source": [
    "### Normalité des résidus"
   ]
  },
  {
   "cell_type": "code",
   "execution_count": 5,
   "metadata": {},
   "outputs": [
    {
     "data": {
      "text/plain": [
       "\n",
       "\tOne-sample Kolmogorov-Smirnov test\n",
       "\n",
       "data:  anova_pays$residuals\n",
       "D = 0.24661, p-value < 2.2e-16\n",
       "alternative hypothesis: two-sided\n"
      ]
     },
     "metadata": {},
     "output_type": "display_data"
    }
   ],
   "source": [
    "#test de normalité des résidus\n",
    "ks.test(anova_pays$residuals,\"pnorm\",mean(anova_pays$residuals),sd(anova_pays$residuals))"
   ]
  },
  {
   "cell_type": "code",
   "execution_count": 13,
   "metadata": {},
   "outputs": [
    {
     "name": "stderr",
     "output_type": "stream",
     "text": [
      "Warning message:\n",
      "\"Removed 106 rows containing non-finite values (stat_bin).\"Warning message:\n",
      "\"Removed 1 rows containing missing values (geom_bar).\"Warning message:\n",
      "\"Removed 106 rows containing non-finite values (stat_bin).\"Warning message:\n",
      "\"Removed 1 rows containing missing values (geom_bar).\""
     ]
    },
    {
     "data": {
      "image/png": "[encoded data removed]",
      "text/plain": [
       "plot without title"
      ]
     },
     "metadata": {},
     "output_type": "display_data"
    }
   ],
   "source": [
    "#Affichage de la distribution des résidus\n",
    "df <- data.frame(x = anova_pays$residuals)\n",
    "\n",
    "ggplot(df, aes(x)) +\n",
    "  geom_histogram(aes(y = stat(density)), , bins = 50, colour=\"black\", fill=\"darkgreen\", alpha = 0.7) +\n",
    "  stat_function(\n",
    "    fun = dnorm, \n",
    "    args = list(mean = mean(df$x), sd = sd(df$x)), \n",
    "    lwd = 1, alpha = 0.7, \n",
    "    col = 'red'\n",
    "  ) +\n",
    "  ggtitle('Distribution des résidus du modèle 1') +\n",
    "  xlab(\"Résidus\")+\n",
    "  ylab(\"Fréquence\")+\n",
    "  xlim(-25000, 25000) +\n",
    "  theme(plot.title = element_text(hjust = 0.5), legend.position = \"none\")\n",
    "\n",
    "ggsave(\"graphiques/distrib_residus.png\", width = 11, height = 8)"
   ]
  },
  {
   "cell_type": "markdown",
   "metadata": {},
   "source": [
    "## MODELE 2 : revenu ~ Gini + revenu moyen"
   ]
  },
  {
   "cell_type": "markdown",
   "metadata": {},
   "source": [
    "### 1) Régression sans logarithme"
   ]
  },
  {
   "cell_type": "code",
   "execution_count": 7,
   "metadata": {},
   "outputs": [
    {
     "data": {
      "text/plain": [
       "\n",
       "Call:\n",
       "lm(formula = income_child ~ G_j * m_j, data = data1)\n",
       "\n",
       "Residuals:\n",
       "   Min     1Q Median     3Q    Max \n",
       "-29309  -2227   -499    524 156347 \n",
       "\n",
       "Coefficients:\n",
       "              Estimate Std. Error t value Pr(>|t|)    \n",
       "(Intercept) -2.795e+02  4.832e+02  -0.578    0.563    \n",
       "G_j          1.155e+01  1.253e+01   0.922    0.357    \n",
       "m_j          5.158e-01  3.307e-02  15.596   <2e-16 ***\n",
       "G_j:m_j     -1.077e-03  9.811e-04  -1.098    0.272    \n",
       "---\n",
       "Signif. codes:  0 '***' 0.001 '**' 0.01 '*' 0.05 '.' 0.1 ' ' 1\n",
       "\n",
       "Residual standard error: 6995 on 11596 degrees of freedom\n",
       "Multiple R-squared:  0.448,\tAdjusted R-squared:  0.4479 \n",
       "F-statistic:  3137 on 3 and 11596 DF,  p-value: < 2.2e-16\n"
      ]
     },
     "metadata": {},
     "output_type": "display_data"
    }
   ],
   "source": [
    "#Régression linéaire : income_child ~ G_j*m_j\n",
    "\n",
    "#regression\n",
    "anova_gini_mj <- lm(income_child~G_j*m_j,data=data1)\n",
    "summary(anova_gini_mj)"
   ]
  },
  {
   "cell_type": "markdown",
   "metadata": {},
   "source": [
    "### Analyse :"
   ]
  },
  {
   "cell_type": "markdown",
   "metadata": {},
   "source": [
    "- G_j et interaction G_j:m_j non significatifs\n",
    "- En revanche, la variable m_j est significative (pvalue <<< 5%)\n",
    "- Test de Fisher : pvalue <<< 5%\n",
    "- Coefficient de détermination : 0.4479"
   ]
  },
  {
   "cell_type": "markdown",
   "metadata": {},
   "source": [
    "### 2) Régression avec logarithme"
   ]
  },
  {
   "cell_type": "code",
   "execution_count": 24,
   "metadata": {},
   "outputs": [
    {
     "data": {
      "text/plain": [
       "\n",
       "Call:\n",
       "lm(formula = income_child_ln ~ G_j * m_j_ln, data = data1)\n",
       "\n",
       "Residuals:\n",
       "    Min      1Q  Median      3Q     Max \n",
       "-6.0360 -0.4848  0.0046  0.4951  3.8308 \n",
       "\n",
       "Coefficients:\n",
       "              Estimate Std. Error t value Pr(>|t|)    \n",
       "(Intercept) -1.8307647  0.2818860  -6.495 8.66e-11 ***\n",
       "G_j          0.0585040  0.0075156   7.784 7.60e-15 ***\n",
       "m_j_ln       1.1784119  0.0316305  37.256  < 2e-16 ***\n",
       "G_j:m_j_ln  -0.0088260  0.0008587 -10.279  < 2e-16 ***\n",
       "---\n",
       "Signif. codes:  0 '***' 0.001 '**' 0.01 '*' 0.05 '.' 0.1 ' ' 1\n",
       "\n",
       "Residual standard error: 0.8067 on 11596 degrees of freedom\n",
       "Multiple R-squared:  0.6589,\tAdjusted R-squared:  0.6589 \n",
       "F-statistic:  7468 on 3 and 11596 DF,  p-value: < 2.2e-16\n"
      ]
     },
     "metadata": {},
     "output_type": "display_data"
    }
   ],
   "source": [
    "#regression en utilisant le logarithme du revenu\n",
    "\n",
    "data1$income_child_ln <- log(data1$income_child)\n",
    "data1$m_j_ln <- log(data1$m_j)\n",
    "\n",
    "anova_gini_mj_ln <- lm(income_child_ln~G_j*m_j_ln,data=data1)\n",
    "summary(anova_gini_mj_ln)"
   ]
  },
  {
   "cell_type": "markdown",
   "metadata": {},
   "source": [
    "### Analyse : "
   ]
  },
  {
   "cell_type": "markdown",
   "metadata": {},
   "source": [
    "- La regression en utilisant le logarithme du revenu est plus performante : R² = 0.659 contre 0.448 précedemment\n",
    "\n",
    "- Les paramètres des 2 variables, ainsi que l'interaction G_j:m_j sont significatifs\n",
    "\n",
    "- On utilisera ce modèle pour répondre aux questions suivantes"
   ]
  },
  {
   "cell_type": "code",
   "execution_count": 39,
   "metadata": {},
   "outputs": [
    {
     "data": {
      "text/html": [
       "<table>\n",
       "<thead><tr><th></th><th scope=col>Df</th><th scope=col>Sum Sq</th><th scope=col>Mean Sq</th><th scope=col>F value</th><th scope=col>Pr(&gt;F)</th></tr></thead>\n",
       "<tbody>\n",
       "\t<tr><th scope=row>G_j</th><td>    1       </td><td> 2591.60776 </td><td>2.591608e+03</td><td> 3982.6194  </td><td>0.000000e+00</td></tr>\n",
       "\t<tr><th scope=row>m_j_ln</th><td>    1       </td><td>11918.81880 </td><td>1.191882e+04</td><td>18316.0894  </td><td>0.000000e+00</td></tr>\n",
       "\t<tr><th scope=row>G_j:m_j_ln</th><td>    1       </td><td>   68.74837 </td><td>6.874837e+01</td><td>  105.6482  </td><td>1.123625e-24</td></tr>\n",
       "\t<tr><th scope=row>Residuals</th><td>11596       </td><td> 7545.85873 </td><td>6.507295e-01</td><td>        NA  </td><td>          NA</td></tr>\n",
       "</tbody>\n",
       "</table>\n"
      ],
      "text/latex": [
       "\\begin{tabular}{r|lllll}\n",
       "  & Df & Sum Sq & Mean Sq & F value & Pr(>F)\\\\\n",
       "\\hline\n",
       "\tG\\_j &     1        &  2591.60776  & 2.591608e+03 &  3982.6194   & 0.000000e+00\\\\\n",
       "\tm\\_j\\_ln &     1        & 11918.81880  & 1.191882e+04 & 18316.0894   & 0.000000e+00\\\\\n",
       "\tG\\_j:m\\_j\\_ln &     1        &    68.74837  & 6.874837e+01 &   105.6482   & 1.123625e-24\\\\\n",
       "\tResiduals & 11596        &  7545.85873  & 6.507295e-01 &         NA   &           NA\\\\\n",
       "\\end{tabular}\n"
      ],
      "text/markdown": [
       "\n",
       "| <!--/--> | Df | Sum Sq | Mean Sq | F value | Pr(>F) |\n",
       "|---|---|---|---|---|---|\n",
       "| G_j |     1        |  2591.60776  | 2.591608e+03 |  3982.6194   | 0.000000e+00 |\n",
       "| m_j_ln |     1        | 11918.81880  | 1.191882e+04 | 18316.0894   | 0.000000e+00 |\n",
       "| G_j:m_j_ln |     1        |    68.74837  | 6.874837e+01 |   105.6482   | 1.123625e-24 |\n",
       "| Residuals | 11596        |  7545.85873  | 6.507295e-01 |         NA   |           NA |\n",
       "\n"
      ],
      "text/plain": [
       "           Df    Sum Sq      Mean Sq      F value    Pr(>F)      \n",
       "G_j            1  2591.60776 2.591608e+03  3982.6194 0.000000e+00\n",
       "m_j_ln         1 11918.81880 1.191882e+04 18316.0894 0.000000e+00\n",
       "G_j:m_j_ln     1    68.74837 6.874837e+01   105.6482 1.123625e-24\n",
       "Residuals  11596  7545.85873 6.507295e-01         NA           NA"
      ]
     },
     "metadata": {},
     "output_type": "display_data"
    }
   ],
   "source": [
    "#ANOVA 2 facteurs\n",
    "anova_gini_mj <- anova_gini_mj_ln\n",
    "anova(anova_gini_mj)"
   ]
  },
  {
   "cell_type": "markdown",
   "metadata": {},
   "source": [
    "## MODELE 3 : revenu ~ Gini + revenu moyen + classe parents"
   ]
  },
  {
   "cell_type": "markdown",
   "metadata": {},
   "source": [
    "### 1) Régression sans logarithme"
   ]
  },
  {
   "cell_type": "code",
   "execution_count": 3,
   "metadata": {},
   "outputs": [
    {
     "data": {
      "text/plain": [
       "\n",
       "Call:\n",
       "lm(formula = income_child ~ G_j * m_j * c_i_parents, data = data)\n",
       "\n",
       "Residuals:\n",
       "   Min     1Q Median     3Q    Max \n",
       "-40244  -2010   -397    545 167958 \n",
       "\n",
       "Coefficients:\n",
       "                      Estimate Std. Error t value Pr(>|t|)    \n",
       "(Intercept)         -1.142e+03  4.117e+01  -27.75   <2e-16 ***\n",
       "G_j                  2.119e+01  1.067e+00   19.86   <2e-16 ***\n",
       "m_j                  8.489e-01  2.818e-03  301.24   <2e-16 ***\n",
       "c_i_parents          1.747e+01  7.205e-01   24.24   <2e-16 ***\n",
       "G_j:m_j             -1.548e-02  8.359e-05 -185.21   <2e-16 ***\n",
       "G_j:c_i_parents     -1.943e-01  1.868e-02  -10.40   <2e-16 ***\n",
       "m_j:c_i_parents     -6.758e-03  4.933e-05 -136.98   <2e-16 ***\n",
       "G_j:m_j:c_i_parents  2.922e-04  1.463e-06  199.66   <2e-16 ***\n",
       "---\n",
       "Signif. codes:  0 '***' 0.001 '**' 0.01 '*' 0.05 '.' 0.1 ' ' 1\n",
       "\n",
       "Residual standard error: 6737 on 5799992 degrees of freedom\n",
       "Multiple R-squared:  0.4878,\tAdjusted R-squared:  0.4878 \n",
       "F-statistic: 7.891e+05 on 7 and 5799992 DF,  p-value: < 2.2e-16\n"
      ]
     },
     "metadata": {},
     "output_type": "display_data"
    }
   ],
   "source": [
    "#REGRESSION LINEAIRE : income_child ~ G_j*m_j*c_i_parents\n",
    "\n",
    "#regression\n",
    "anova_final <- lm(income_child~G_j*m_j*c_i_parents,data=data)\n",
    "summary(anova_final)"
   ]
  },
  {
   "cell_type": "markdown",
   "metadata": {},
   "source": [
    "### 2) Régression avec logarithme"
   ]
  },
  {
   "cell_type": "code",
   "execution_count": 5,
   "metadata": {},
   "outputs": [
    {
     "name": "stderr",
     "output_type": "stream",
     "text": [
      "Warning message in rm(anova_final):\n",
      "\"objet 'anova_final' introuvable\""
     ]
    },
    {
     "data": {
      "text/plain": [
       "\n",
       "Call:\n",
       "lm(formula = income_child_ln ~ G_j * m_j_ln * c_i_parents, data = data)\n",
       "\n",
       "Residuals:\n",
       "    Min      1Q  Median      3Q     Max \n",
       "-6.3169 -0.4497  0.0045  0.4597  5.0086 \n",
       "\n",
       "Coefficients:\n",
       "                         Estimate Std. Error t value Pr(>|t|)    \n",
       "(Intercept)            -3.806e+00  2.268e-02 -167.78   <2e-16 ***\n",
       "G_j                     9.271e-02  6.047e-04  153.32   <2e-16 ***\n",
       "m_j_ln                  1.449e+00  2.545e-03  569.39   <2e-16 ***\n",
       "c_i_parents             4.003e-02  3.971e-04  100.82   <2e-16 ***\n",
       "G_j:m_j_ln             -1.565e-02  6.909e-05 -226.50   <2e-16 ***\n",
       "G_j:c_i_parents        -6.925e-04  1.058e-05  -65.42   <2e-16 ***\n",
       "m_j_ln:c_i_parents     -5.493e-03  4.456e-05 -123.28   <2e-16 ***\n",
       "G_j:m_j_ln:c_i_parents  1.383e-04  1.209e-06  114.33   <2e-16 ***\n",
       "---\n",
       "Signif. codes:  0 '***' 0.001 '**' 0.01 '*' 0.05 '.' 0.1 ' ' 1\n",
       "\n",
       "Residual standard error: 0.7339 on 5799992 degrees of freedom\n",
       "Multiple R-squared:  0.7176,\tAdjusted R-squared:  0.7176 \n",
       "F-statistic: 2.106e+06 on 7 and 5799992 DF,  p-value: < 2.2e-16\n"
      ]
     },
     "metadata": {},
     "output_type": "display_data"
    }
   ],
   "source": [
    "#regression en utilisant le logarithme du revenu\n",
    "\n",
    "rm(anova_final) #on efface le modele precedent\n",
    "\n",
    "#ajout colonnes logarithme revenu\n",
    "data$income_child_ln <- log(data$income_child)\n",
    "data$m_j_ln <- log(data$m_j)\n",
    "\n",
    "#regression\n",
    "anova_final <- lm(income_child_ln~G_j*m_j_ln*c_i_parents,data=data)\n",
    "summary(anova_final)"
   ]
  },
  {
   "cell_type": "markdown",
   "metadata": {},
   "source": [
    "### Analyse :"
   ]
  },
  {
   "cell_type": "markdown",
   "metadata": {},
   "source": [
    "- La regression utilisant le logarithme des variables de revenu est encore une fois plus performante \n",
    "\n",
    "- L'ajout de la variable 'classe de revenu des parents' améliore le pouvoir explicatif du modèle : R² = 0.718 contre 0.659 pour le modèle précedent\n",
    "\n",
    "- Les paramètres de toutes les variables, ainsi que ceux de leurs interactions sont tous significatifs \n",
    "\n",
    "- La p-value du test de Fisher est bien inférieure au seuil de 5%\n",
    "\n",
    "\n",
    "\n",
    "- Selon ce modèle, 72% de la variance totale du revenu des enfants est expliquée par le pays de naissance et la classe de revenu des parents"
   ]
  },
  {
   "cell_type": "code",
   "execution_count": 4,
   "metadata": {},
   "outputs": [
    {
     "data": {
      "text/html": [
       "<table>\n",
       "<thead><tr><th></th><th scope=col>Df</th><th scope=col>Sum Sq</th><th scope=col>Mean Sq</th><th scope=col>F value</th><th scope=col>Pr(&gt;F)</th></tr></thead>\n",
       "<tbody>\n",
       "\t<tr><th scope=row>G_j</th><td>      1     </td><td>1295803.879 </td><td>1.295804e+06</td><td> 2405800.464</td><td> 0          </td></tr>\n",
       "\t<tr><th scope=row>m_j_ln</th><td>      1     </td><td>5959409.399 </td><td>5.959409e+06</td><td>11064289.998</td><td> 0          </td></tr>\n",
       "\t<tr><th scope=row>c_i_parents</th><td>      1     </td><td> 558997.464 </td><td>5.589975e+05</td><td> 1037839.429</td><td> 0          </td></tr>\n",
       "\t<tr><th scope=row>G_j:m_j_ln</th><td>      1     </td><td>  34420.557 </td><td>3.442056e+04</td><td>   63905.499</td><td> 0          </td></tr>\n",
       "\t<tr><th scope=row>G_j:c_i_parents</th><td>      1     </td><td>  81176.378 </td><td>8.117638e+04</td><td>  150712.751</td><td> 0          </td></tr>\n",
       "\t<tr><th scope=row>m_j_ln:c_i_parents</th><td>      1     </td><td>   1696.539 </td><td>1.696539e+03</td><td>    3149.809</td><td> 0          </td></tr>\n",
       "\t<tr><th scope=row>G_j:m_j_ln:c_i_parents</th><td>      1     </td><td>   7041.092 </td><td>7.041092e+03</td><td>   13072.551</td><td> 0          </td></tr>\n",
       "\t<tr><th scope=row>Residuals</th><td>5799992     </td><td>3123971.520 </td><td>5.386165e-01</td><td>          NA</td><td>NA          </td></tr>\n",
       "</tbody>\n",
       "</table>\n"
      ],
      "text/latex": [
       "\\begin{tabular}{r|lllll}\n",
       "  & Df & Sum Sq & Mean Sq & F value & Pr(>F)\\\\\n",
       "\\hline\n",
       "\tG\\_j &       1      & 1295803.879  & 1.295804e+06 &  2405800.464 &  0          \\\\\n",
       "\tm\\_j\\_ln &       1      & 5959409.399  & 5.959409e+06 & 11064289.998 &  0          \\\\\n",
       "\tc\\_i\\_parents &       1      &  558997.464  & 5.589975e+05 &  1037839.429 &  0          \\\\\n",
       "\tG\\_j:m\\_j\\_ln &       1      &   34420.557  & 3.442056e+04 &    63905.499 &  0          \\\\\n",
       "\tG\\_j:c\\_i\\_parents &       1      &   81176.378  & 8.117638e+04 &   150712.751 &  0          \\\\\n",
       "\tm\\_j\\_ln:c\\_i\\_parents &       1      &    1696.539  & 1.696539e+03 &     3149.809 &  0          \\\\\n",
       "\tG\\_j:m\\_j\\_ln:c\\_i\\_parents &       1      &    7041.092  & 7.041092e+03 &    13072.551 &  0          \\\\\n",
       "\tResiduals & 5799992      & 3123971.520  & 5.386165e-01 &           NA & NA          \\\\\n",
       "\\end{tabular}\n"
      ],
      "text/markdown": [
       "\n",
       "| <!--/--> | Df | Sum Sq | Mean Sq | F value | Pr(>F) |\n",
       "|---|---|---|---|---|---|\n",
       "| G_j |       1      | 1295803.879  | 1.295804e+06 |  2405800.464 |  0           |\n",
       "| m_j_ln |       1      | 5959409.399  | 5.959409e+06 | 11064289.998 |  0           |\n",
       "| c_i_parents |       1      |  558997.464  | 5.589975e+05 |  1037839.429 |  0           |\n",
       "| G_j:m_j_ln |       1      |   34420.557  | 3.442056e+04 |    63905.499 |  0           |\n",
       "| G_j:c_i_parents |       1      |   81176.378  | 8.117638e+04 |   150712.751 |  0           |\n",
       "| m_j_ln:c_i_parents |       1      |    1696.539  | 1.696539e+03 |     3149.809 |  0           |\n",
       "| G_j:m_j_ln:c_i_parents |       1      |    7041.092  | 7.041092e+03 |    13072.551 |  0           |\n",
       "| Residuals | 5799992      | 3123971.520  | 5.386165e-01 |           NA | NA           |\n",
       "\n"
      ],
      "text/plain": [
       "                       Df      Sum Sq      Mean Sq      F value      Pr(>F)\n",
       "G_j                          1 1295803.879 1.295804e+06  2405800.464  0    \n",
       "m_j_ln                       1 5959409.399 5.959409e+06 11064289.998  0    \n",
       "c_i_parents                  1  558997.464 5.589975e+05  1037839.429  0    \n",
       "G_j:m_j_ln                   1   34420.557 3.442056e+04    63905.499  0    \n",
       "G_j:c_i_parents              1   81176.378 8.117638e+04   150712.751  0    \n",
       "m_j_ln:c_i_parents           1    1696.539 1.696539e+03     3149.809  0    \n",
       "G_j:m_j_ln:c_i_parents       1    7041.092 7.041092e+03    13072.551  0    \n",
       "Residuals              5799992 3123971.520 5.386165e-01           NA NA    "
      ]
     },
     "metadata": {},
     "output_type": "display_data"
    }
   ],
   "source": [
    "#ANOVA 3 facteurs\n",
    "anova(anova_final)"
   ]
  },
  {
   "cell_type": "markdown",
   "metadata": {},
   "source": [
    "## 3) Analyse de la performance du modèle"
   ]
  },
  {
   "cell_type": "code",
   "execution_count": 5,
   "metadata": {},
   "outputs": [],
   "source": [
    "n <- dim(data)[1] #nombre d'individus\n",
    "p <- 3 #nombre de variables explicatives\n",
    "\n",
    "#création d'un df regroupant pour chaque individus les leviers, les résidus studentisés et les distances de Cook\n",
    "analyses <- data.frame(obs=1:n)"
   ]
  },
  {
   "cell_type": "markdown",
   "metadata": {},
   "source": [
    "### Atypicité et influence"
   ]
  },
  {
   "cell_type": "markdown",
   "metadata": {},
   "source": [
    "#### Leviers :"
   ]
  },
  {
   "cell_type": "code",
   "execution_count": 6,
   "metadata": {},
   "outputs": [],
   "source": [
    "#Calcul des leviers - on calcule les leviers en 2 fois pour parer aux problèmes de memoire saturée\n",
    "leviers1 <- hat(model.matrix(anova_final)[1:2600000,])\n",
    "leviers2 <- hat(model.matrix(anova_final)[2600001:5800000,])\n",
    "analyses$leviers <- c(leviers1,leviers2)\n",
    "seuil_levier <- 2*p/n\n",
    "\n",
    "rm(leviers1)\n",
    "rm(leviers2)"
   ]
  },
  {
   "cell_type": "code",
   "execution_count": 13,
   "metadata": {},
   "outputs": [
    {
     "name": "stderr",
     "output_type": "stream",
     "text": [
      "Warning message:\n",
      "\"Removed 6033 rows containing missing values (position_stack).\"Warning message:\n",
      "\"Removed 6033 rows containing missing values (position_stack).\""
     ]
    },
    {
     "data": {
      "image/png": "[encoded data removed]",
      "text/plain": [
       "plot without title"
      ]
     },
     "metadata": {},
     "output_type": "display_data"
    }
   ],
   "source": [
    "#plot leviers (seulement un echantillon)\n",
    "\n",
    "ggplot(data=analyses[sample(rownames(analyses),50000),], aes(x=seq(50000),y=leviers)) + #on selectionne 50000 lignes de l'échantillon à afficher\n",
    "   geom_bar(stat=\"identity\",fill=\"darkgreen\", width = 0.5)+\n",
    "   geom_hline(yintercept=seuil_levier,col=\"red\")+\n",
    "   ggtitle('Leviers des observations (log(income)~log(m_j) * G_j * c_i_parents)') +\n",
    "   xlab(\"Observation\")+\n",
    "   ylab(\"Leviers\")+\n",
    "   ylim(0, 0.000005) +\n",
    "   scale_x_continuous(breaks=seq(0,n,by=10000)) +\n",
    "   theme(plot.title = element_text(hjust = 0.5), legend.position = \"none\")\n",
    "ggsave(\"graphiques/leviers_residus.png\", width = 11, height = 8)"
   ]
  },
  {
   "cell_type": "markdown",
   "metadata": {},
   "source": [
    "#### Résidus studentisés :"
   ]
  },
  {
   "cell_type": "code",
   "execution_count": 14,
   "metadata": {},
   "outputs": [],
   "source": [
    "#calcul des residus studentisés\n",
    "alpha = 0.05 #seuil alpha\n",
    "analyses$rstudent <- rstudent(anova_final)\n",
    "seuil_rstudent <- qt(1-alpha/2,n-p-1)"
   ]
  },
  {
   "cell_type": "code",
   "execution_count": 15,
   "metadata": {},
   "outputs": [
    {
     "data": {
      "image/png": "[encoded data removed]",
      "text/plain": [
       "plot without title"
      ]
     },
     "metadata": {},
     "output_type": "display_data"
    }
   ],
   "source": [
    "#plot residus studentisés\n",
    "\n",
    "ggplot(data=analyses[sample(rownames(analyses),50000),],aes(x=seq(50000),y=rstudent))+\n",
    "  geom_bar(stat=\"identity\",fill=\"darkgreen\", width = 0.5)+\n",
    "  geom_hline(yintercept=-seuil_rstudent,col=\"red\")+\n",
    "  geom_hline(yintercept=seuil_rstudent,col=\"red\")+\n",
    "  ggtitle('Résidus studentisés (log(income)~log(m_j) * G_j * c_i_parents)') +\n",
    "  xlab(\"observations\")+\n",
    "  ylab(\"Résidus studentisés\")+\n",
    "  scale_x_continuous(breaks=seq(0,n,by=10000)) +\n",
    "  theme(plot.title = element_text(hjust = 0.5), legend.position = \"none\")\n",
    "ggsave(\"graphiques/residus_studentisés.png\", width = 11, height = 8)"
   ]
  },
  {
   "cell_type": "markdown",
   "metadata": {},
   "source": [
    "#### Distances de Cook"
   ]
  },
  {
   "cell_type": "code",
   "execution_count": 16,
   "metadata": {},
   "outputs": [],
   "source": [
    "# calcul des distances de Cook\n",
    "seuil_dcook <- 4/(n-p)\n",
    "\n",
    "#pour ce modèle on a calculé les distances de Cook séparemment sur un notebook python \n",
    "#(problème de mémoire saturée saturée sur R) \n",
    "#On importe le fichier csv des distances de Cook du modèle\n",
    "dcook <- read.csv(\"donnees/dcook.csv\", skip = 1, sep=\",\", header=FALSE, stringsAsFactors = FALSE)\n",
    "\n",
    "analyses$dcook <- dcook[,1]\n",
    "rm(dcook) # on efface l'objet dcook"
   ]
  },
  {
   "cell_type": "code",
   "execution_count": 18,
   "metadata": {},
   "outputs": [
    {
     "name": "stderr",
     "output_type": "stream",
     "text": [
      "Warning message:\n",
      "\"Removed 145 rows containing missing values (position_stack).\""
     ]
    },
    {
     "ename": "ERROR",
     "evalue": "Error: Cannot add ggproto objects together. Did you forget to add this object to a ggplot object?\n",
     "output_type": "error",
     "traceback": [
      "Error: Cannot add ggproto objects together. Did you forget to add this object to a ggplot object?\nTraceback:\n",
      "1. `+.gg`(scale_x_continuous(breaks = seq(0, n, by = 10000)), theme(plot.title = element_text(hjust = 0.5), \n .     legend.position = \"none\"))",
      "2. stop(\"Cannot add ggproto objects together.\", \" Did you forget to add this object to a ggplot object?\", \n .     call. = FALSE)"
     ]
    },
    {
     "data": {
      "image/png": "[encoded data removed]",
      "text/plain": [
       "plot without title"
      ]
     },
     "metadata": {},
     "output_type": "display_data"
    }
   ],
   "source": [
    "#plot distances de cook\n",
    "\n",
    "ggplot(data=analyses[sample(rownames(analyses),50000),],aes(x=seq(50000),y=dcook))+\n",
    "  geom_bar(stat=\"identity\",fill=\"darkgreen\", width = 0.5)+\n",
    "  geom_hline(yintercept=seuil_dcook,col=\"red\")+\n",
    "  ggtitle('Distances de Cook (log(income)~log(m_j) * G_j * c_i_parents)') +\n",
    "  xlab(\"Observations\")+\n",
    "  ylab(\"Distance de cook\")+\n",
    "  ylim(0, 0.000005)\n",
    "  scale_x_continuous(breaks=seq(0,n,by=10000)) +\n",
    "  theme(plot.title = element_text(hjust = 0.5), legend.position = \"none\")\n",
    "ggsave(\"graphiques/distances_cook.png\", width = 11, height = 8)"
   ]
  },
  {
   "cell_type": "code",
   "execution_count": 23,
   "metadata": {},
   "outputs": [
    {
     "data": {
      "text/html": [
       "<table>\n",
       "<thead><tr><th></th><th scope=col>m_j</th><th scope=col>G_j</th><th scope=col>c_i_parents</th><th scope=col>country</th><th scope=col>income_child</th><th scope=col>income_parents</th><th scope=col>income_child_ln</th><th scope=col>m_j_ln</th></tr></thead>\n",
       "<tbody>\n",
       "\t<tr><th scope=row>700100</th><td>685      </td><td>56.2     </td><td>1        </td><td>CAF      </td><td>14472.95 </td><td> 40.92813</td><td>9.580037 </td><td>6.529419 </td></tr>\n",
       "\t<tr><th scope=row>700200</th><td>685      </td><td>56.2     </td><td>2        </td><td>CAF      </td><td>14472.95 </td><td> 62.71471</td><td>9.580037 </td><td>6.529419 </td></tr>\n",
       "\t<tr><th scope=row>700300</th><td>685      </td><td>56.2     </td><td>3        </td><td>CAF      </td><td>14472.95 </td><td> 79.51492</td><td>9.580037 </td><td>6.529419 </td></tr>\n",
       "\t<tr><th scope=row>700400</th><td>685      </td><td>56.2     </td><td>4        </td><td>CAF      </td><td>14472.95 </td><td> 91.46294</td><td>9.580037 </td><td>6.529419 </td></tr>\n",
       "\t<tr><th scope=row>700500</th><td>685      </td><td>56.2     </td><td>5        </td><td>CAF      </td><td>14472.95 </td><td>100.00194</td><td>9.580037 </td><td>6.529419 </td></tr>\n",
       "\t<tr><th scope=row>700600</th><td>685      </td><td>56.2     </td><td>6        </td><td>CAF      </td><td>14472.95 </td><td>106.96217</td><td>9.580037 </td><td>6.529419 </td></tr>\n",
       "</tbody>\n",
       "</table>\n"
      ],
      "text/latex": [
       "\\begin{tabular}{r|llllllll}\n",
       "  & m\\_j & G\\_j & c\\_i\\_parents & country & income\\_child & income\\_parents & income\\_child\\_ln & m\\_j\\_ln\\\\\n",
       "\\hline\n",
       "\t700100 & 685       & 56.2      & 1         & CAF       & 14472.95  &  40.92813 & 9.580037  & 6.529419 \\\\\n",
       "\t700200 & 685       & 56.2      & 2         & CAF       & 14472.95  &  62.71471 & 9.580037  & 6.529419 \\\\\n",
       "\t700300 & 685       & 56.2      & 3         & CAF       & 14472.95  &  79.51492 & 9.580037  & 6.529419 \\\\\n",
       "\t700400 & 685       & 56.2      & 4         & CAF       & 14472.95  &  91.46294 & 9.580037  & 6.529419 \\\\\n",
       "\t700500 & 685       & 56.2      & 5         & CAF       & 14472.95  & 100.00194 & 9.580037  & 6.529419 \\\\\n",
       "\t700600 & 685       & 56.2      & 6         & CAF       & 14472.95  & 106.96217 & 9.580037  & 6.529419 \\\\\n",
       "\\end{tabular}\n"
      ],
      "text/markdown": [
       "\n",
       "| <!--/--> | m_j | G_j | c_i_parents | country | income_child | income_parents | income_child_ln | m_j_ln |\n",
       "|---|---|---|---|---|---|---|---|---|\n",
       "| 700100 | 685       | 56.2      | 1         | CAF       | 14472.95  |  40.92813 | 9.580037  | 6.529419  |\n",
       "| 700200 | 685       | 56.2      | 2         | CAF       | 14472.95  |  62.71471 | 9.580037  | 6.529419  |\n",
       "| 700300 | 685       | 56.2      | 3         | CAF       | 14472.95  |  79.51492 | 9.580037  | 6.529419  |\n",
       "| 700400 | 685       | 56.2      | 4         | CAF       | 14472.95  |  91.46294 | 9.580037  | 6.529419  |\n",
       "| 700500 | 685       | 56.2      | 5         | CAF       | 14472.95  | 100.00194 | 9.580037  | 6.529419  |\n",
       "| 700600 | 685       | 56.2      | 6         | CAF       | 14472.95  | 106.96217 | 9.580037  | 6.529419  |\n",
       "\n"
      ],
      "text/plain": [
       "       m_j G_j  c_i_parents country income_child income_parents income_child_ln\n",
       "700100 685 56.2 1           CAF     14472.95      40.92813      9.580037       \n",
       "700200 685 56.2 2           CAF     14472.95      62.71471      9.580037       \n",
       "700300 685 56.2 3           CAF     14472.95      79.51492      9.580037       \n",
       "700400 685 56.2 4           CAF     14472.95      91.46294      9.580037       \n",
       "700500 685 56.2 5           CAF     14472.95     100.00194      9.580037       \n",
       "700600 685 56.2 6           CAF     14472.95     106.96217      9.580037       \n",
       "       m_j_ln  \n",
       "700100 6.529419\n",
       "700200 6.529419\n",
       "700300 6.529419\n",
       "700400 6.529419\n",
       "700500 6.529419\n",
       "700600 6.529419"
      ]
     },
     "metadata": {},
     "output_type": "display_data"
    }
   ],
   "source": [
    "#5 individus avec la distance de Cook la plus élevée\n",
    "top_dcook <-head(analyses[order(analyses$dcook, decreasing = TRUE),])\n",
    "\n",
    "data[rownames(top_dcook),]"
   ]
  },
  {
   "cell_type": "markdown",
   "metadata": {},
   "source": [
    "### Modélisation sans les outliers"
   ]
  },
  {
   "cell_type": "code",
   "execution_count": 8,
   "metadata": {},
   "outputs": [
    {
     "data": {
      "text/html": [
       "<table>\n",
       "<thead><tr><th scope=col>n</th></tr></thead>\n",
       "<tbody>\n",
       "\t<tr><td>171271</td></tr>\n",
       "</tbody>\n",
       "</table>\n"
      ],
      "text/latex": [
       "\\begin{tabular}{r|l}\n",
       " n\\\\\n",
       "\\hline\n",
       "\t 171271\\\\\n",
       "\\end{tabular}\n"
      ],
      "text/markdown": [
       "\n",
       "| n |\n",
       "|---|\n",
       "| 171271 |\n",
       "\n"
      ],
      "text/plain": [
       "  n     \n",
       "1 171271"
      ]
     },
     "metadata": {},
     "output_type": "display_data"
    }
   ],
   "source": [
    "#on selectionne les observations qui dépassent les 3 seuils : observations atypiques ET influentes\n",
    "obs_influentes_pays <- analyses[(analyses$leviers > seuil_levier) &\n",
    "               (abs(analyses$rstudent) > seuil_rstudent) &\n",
    "               (analyses$dcook > seuil_dcook),]\n",
    "\n",
    "#nombre d'observations atypiques et influentes\n",
    "count(data[as.numeric(rownames(obs_influentes_pays)),])"
   ]
  },
  {
   "cell_type": "code",
   "execution_count": 35,
   "metadata": {},
   "outputs": [
    {
     "data": {
      "text/html": [
       "<table>\n",
       "<thead><tr><th></th><th scope=col>m_j</th><th scope=col>G_j</th><th scope=col>c_i_parents</th><th scope=col>country</th><th scope=col>income_child</th><th scope=col>income_parents</th></tr></thead>\n",
       "<tbody>\n",
       "\t<tr><th scope=row>100</th><td>7297     </td><td>33.2     </td><td>1        </td><td>ALB      </td><td>17754.32 </td><td> 728.8980</td></tr>\n",
       "\t<tr><th scope=row>200</th><td>7297     </td><td>33.2     </td><td>2        </td><td>ALB      </td><td>17754.32 </td><td> 916.6623</td></tr>\n",
       "\t<tr><th scope=row>300</th><td>7297     </td><td>33.2     </td><td>3        </td><td>ALB      </td><td>17754.32 </td><td>1010.9160</td></tr>\n",
       "\t<tr><th scope=row>400</th><td>7297     </td><td>33.2     </td><td>4        </td><td>ALB      </td><td>17754.32 </td><td>1086.9078</td></tr>\n",
       "\t<tr><th scope=row>500</th><td>7297     </td><td>33.2     </td><td>5        </td><td>ALB      </td><td>17754.32 </td><td>1132.6997</td></tr>\n",
       "\t<tr><th scope=row>600</th><td>7297     </td><td>33.2     </td><td>6        </td><td>ALB      </td><td>17754.32 </td><td>1171.1412</td></tr>\n",
       "</tbody>\n",
       "</table>\n"
      ],
      "text/latex": [
       "\\begin{tabular}{r|llllll}\n",
       "  & m\\_j & G\\_j & c\\_i\\_parents & country & income\\_child & income\\_parents\\\\\n",
       "\\hline\n",
       "\t100 & 7297      & 33.2      & 1         & ALB       & 17754.32  &  728.8980\\\\\n",
       "\t200 & 7297      & 33.2      & 2         & ALB       & 17754.32  &  916.6623\\\\\n",
       "\t300 & 7297      & 33.2      & 3         & ALB       & 17754.32  & 1010.9160\\\\\n",
       "\t400 & 7297      & 33.2      & 4         & ALB       & 17754.32  & 1086.9078\\\\\n",
       "\t500 & 7297      & 33.2      & 5         & ALB       & 17754.32  & 1132.6997\\\\\n",
       "\t600 & 7297      & 33.2      & 6         & ALB       & 17754.32  & 1171.1412\\\\\n",
       "\\end{tabular}\n"
      ],
      "text/markdown": [
       "\n",
       "| <!--/--> | m_j | G_j | c_i_parents | country | income_child | income_parents |\n",
       "|---|---|---|---|---|---|---|\n",
       "| 100 | 7297      | 33.2      | 1         | ALB       | 17754.32  |  728.8980 |\n",
       "| 200 | 7297      | 33.2      | 2         | ALB       | 17754.32  |  916.6623 |\n",
       "| 300 | 7297      | 33.2      | 3         | ALB       | 17754.32  | 1010.9160 |\n",
       "| 400 | 7297      | 33.2      | 4         | ALB       | 17754.32  | 1086.9078 |\n",
       "| 500 | 7297      | 33.2      | 5         | ALB       | 17754.32  | 1132.6997 |\n",
       "| 600 | 7297      | 33.2      | 6         | ALB       | 17754.32  | 1171.1412 |\n",
       "\n"
      ],
      "text/plain": [
       "    m_j  G_j  c_i_parents country income_child income_parents\n",
       "100 7297 33.2 1           ALB     17754.32      728.8980     \n",
       "200 7297 33.2 2           ALB     17754.32      916.6623     \n",
       "300 7297 33.2 3           ALB     17754.32     1010.9160     \n",
       "400 7297 33.2 4           ALB     17754.32     1086.9078     \n",
       "500 7297 33.2 5           ALB     17754.32     1132.6997     \n",
       "600 7297 33.2 6           ALB     17754.32     1171.1412     "
      ]
     },
     "metadata": {},
     "output_type": "display_data"
    }
   ],
   "source": [
    "#affichage des observations atypiques et influentes\n",
    "head(data[as.numeric(rownames(obs_influentes_pays)),])"
   ]
  },
  {
   "cell_type": "code",
   "execution_count": 9,
   "metadata": {},
   "outputs": [
    {
     "data": {
      "text/plain": [
       "\n",
       "Call:\n",
       "lm(formula = income_child_ln ~ G_j * m_j_ln * c_i_parents, data = data[-as.numeric(rownames(obs_influentes_pays)), \n",
       "    ])\n",
       "\n",
       "Residuals:\n",
       "    Min      1Q  Median      3Q     Max \n",
       "-6.1411 -0.4319  0.0062  0.4441  3.6121 \n",
       "\n",
       "Coefficients:\n",
       "                         Estimate Std. Error t value Pr(>|t|)    \n",
       "(Intercept)            -3.929e+00  2.089e-02 -188.07   <2e-16 ***\n",
       "G_j                     9.349e-02  5.592e-04  167.18   <2e-16 ***\n",
       "m_j_ln                  1.454e+00  2.345e-03  620.34   <2e-16 ***\n",
       "c_i_parents             4.057e-02  3.662e-04  110.77   <2e-16 ***\n",
       "G_j:m_j_ln             -1.542e-02  6.393e-05 -241.20   <2e-16 ***\n",
       "G_j:c_i_parents        -7.107e-04  9.805e-06  -72.49   <2e-16 ***\n",
       "m_j_ln:c_i_parents     -5.497e-03  4.110e-05 -133.74   <2e-16 ***\n",
       "G_j:m_j_ln:c_i_parents  1.371e-04  1.121e-06  122.30   <2e-16 ***\n",
       "---\n",
       "Signif. codes:  0 '***' 0.001 '**' 0.01 '*' 0.05 '.' 0.1 ' ' 1\n",
       "\n",
       "Residual standard error: 0.6568 on 5628721 degrees of freedom\n",
       "Multiple R-squared:  0.7608,\tAdjusted R-squared:  0.7608 \n",
       "F-statistic: 2.558e+06 on 7 and 5628721 DF,  p-value: < 2.2e-16\n"
      ]
     },
     "metadata": {},
     "output_type": "display_data"
    }
   ],
   "source": [
    "#modélisation en excluant les valeurs atypiques et influentes\n",
    "anova_final_sans_outliers <- lm(income_child_ln~G_j*m_j_ln*c_i_parents,data=data[-as.numeric(rownames(obs_influentes_pays)),])\n",
    "summary(anova_final_sans_outliers)"
   ]
  },
  {
   "cell_type": "markdown",
   "metadata": {},
   "source": [
    "- En supprimant les observations atypiques et influentes de l'échantillon , le nouveau modèle a un R² ajusté de 0.76 (0.718 avec les outliers)"
   ]
  },
  {
   "cell_type": "markdown",
   "metadata": {},
   "source": [
    "###  Colinéarité des variables"
   ]
  },
  {
   "cell_type": "code",
   "execution_count": 11,
   "metadata": {},
   "outputs": [
    {
     "data": {
      "text/html": [
       "<dl class=dl-horizontal>\n",
       "\t<dt>G_j</dt>\n",
       "\t\t<dd>233.366017050311</dd>\n",
       "\t<dt>m_j_ln</dt>\n",
       "\t\t<dd>107.462653034731</dd>\n",
       "\t<dt>c_i_parents</dt>\n",
       "\t\t<dd>1416.80959116084</dd>\n",
       "\t<dt>G_j:m_j_ln</dt>\n",
       "\t\t<dd>239.869003222917</dd>\n",
       "\t<dt>G_j:c_i_parents</dt>\n",
       "\t\t<dd>1619.43157307282</dd>\n",
       "\t<dt>m_j_ln:c_i_parents</dt>\n",
       "\t\t<dd>1483.59563794824</dd>\n",
       "\t<dt>G_j:m_j_ln:c_i_parents</dt>\n",
       "\t\t<dd>1610.14214855849</dd>\n",
       "</dl>\n"
      ],
      "text/latex": [
       "\\begin{description*}\n",
       "\\item[G\\textbackslash{}\\_j] 233.366017050311\n",
       "\\item[m\\textbackslash{}\\_j\\textbackslash{}\\_ln] 107.462653034731\n",
       "\\item[c\\textbackslash{}\\_i\\textbackslash{}\\_parents] 1416.80959116084\n",
       "\\item[G\\textbackslash{}\\_j:m\\textbackslash{}\\_j\\textbackslash{}\\_ln] 239.869003222917\n",
       "\\item[G\\textbackslash{}\\_j:c\\textbackslash{}\\_i\\textbackslash{}\\_parents] 1619.43157307282\n",
       "\\item[m\\textbackslash{}\\_j\\textbackslash{}\\_ln:c\\textbackslash{}\\_i\\textbackslash{}\\_parents] 1483.59563794824\n",
       "\\item[G\\textbackslash{}\\_j:m\\textbackslash{}\\_j\\textbackslash{}\\_ln:c\\textbackslash{}\\_i\\textbackslash{}\\_parents] 1610.14214855849\n",
       "\\end{description*}\n"
      ],
      "text/markdown": [
       "G_j\n",
       ":   233.366017050311m_j_ln\n",
       ":   107.462653034731c_i_parents\n",
       ":   1416.80959116084G_j:m_j_ln\n",
       ":   239.869003222917G_j:c_i_parents\n",
       ":   1619.43157307282m_j_ln:c_i_parents\n",
       ":   1483.59563794824G_j:m_j_ln:c_i_parents\n",
       ":   1610.14214855849\n",
       "\n"
      ],
      "text/plain": [
       "                   G_j                 m_j_ln            c_i_parents \n",
       "              233.3660               107.4627              1416.8096 \n",
       "            G_j:m_j_ln        G_j:c_i_parents     m_j_ln:c_i_parents \n",
       "              239.8690              1619.4316              1483.5956 \n",
       "G_j:m_j_ln:c_i_parents \n",
       "             1610.1421 "
      ]
     },
     "metadata": {},
     "output_type": "display_data"
    }
   ],
   "source": [
    "#colinéarité des variables\n",
    "vif(anova_final)"
   ]
  },
  {
   "cell_type": "code",
   "execution_count": 12,
   "metadata": {},
   "outputs": [
    {
     "data": {
      "text/html": [
       "<dl class=dl-horizontal>\n",
       "\t<dt>G_j</dt>\n",
       "\t\t<dd>1.10850900100728</dd>\n",
       "\t<dt>m_j_ln</dt>\n",
       "\t\t<dd>1.10850894396453</dd>\n",
       "\t<dt>c_i_parents</dt>\n",
       "\t\t<dd>1.00000028417149</dd>\n",
       "</dl>\n"
      ],
      "text/latex": [
       "\\begin{description*}\n",
       "\\item[G\\textbackslash{}\\_j] 1.10850900100728\n",
       "\\item[m\\textbackslash{}\\_j\\textbackslash{}\\_ln] 1.10850894396453\n",
       "\\item[c\\textbackslash{}\\_i\\textbackslash{}\\_parents] 1.00000028417149\n",
       "\\end{description*}\n"
      ],
      "text/markdown": [
       "G_j\n",
       ":   1.10850900100728m_j_ln\n",
       ":   1.10850894396453c_i_parents\n",
       ":   1.00000028417149\n",
       "\n"
      ],
      "text/plain": [
       "        G_j      m_j_ln c_i_parents \n",
       "   1.108509    1.108509    1.000000 "
      ]
     },
     "metadata": {},
     "output_type": "display_data"
    }
   ],
   "source": [
    "#colinéarité des variables sans interaction\n",
    "anova_final_sans_interaction <- lm(income_child_ln~G_j+m_j_ln+c_i_parents,data=data)\n",
    "vif(anova_final_sans_interaction)"
   ]
  },
  {
   "cell_type": "markdown",
   "metadata": {},
   "source": [
    "- Il n'y a pas de problèmes de colinéarité entre les variables, puisque les variance inflation factors sont très proches de 1"
   ]
  },
  {
   "cell_type": "markdown",
   "metadata": {},
   "source": [
    "### Homoscédasticité des résidus"
   ]
  },
  {
   "cell_type": "code",
   "execution_count": 4,
   "metadata": {},
   "outputs": [
    {
     "data": {
      "text/plain": [
       "\n",
       "\tstudentized Breusch-Pagan test\n",
       "\n",
       "data:  anova_final\n",
       "BP = 169305, df = 7, p-value < 2.2e-16\n"
      ]
     },
     "metadata": {},
     "output_type": "display_data"
    }
   ],
   "source": [
    "#homoscédasticité des résidus (h0 : il y A homoscedasticité)\n",
    "bptest(anova_final)"
   ]
  },
  {
   "cell_type": "markdown",
   "metadata": {},
   "source": [
    "- La p-value du test d'homoscédasticité est inférieur au seuil de 5%, on rejette donc l'hypothèse nulle d'homoscédasticité des résidus à ce seuil. On peut donc considérer que les résidus du modèle n'ont pas une variance constante."
   ]
  },
  {
   "cell_type": "code",
   "execution_count": 10,
   "metadata": {},
   "outputs": [
    {
     "data": {
      "image/png": "[encoded data removed]",
      "text/plain": [
       "plot without title"
      ]
     },
     "metadata": {},
     "output_type": "display_data"
    }
   ],
   "source": [
    "#affichage des résidus\n",
    "#df <- data.frame(y = sample(anova_final$residuals,50000))\n",
    "df <- data.frame(y = anova_final$residuals[1:100000]) # 100 000 premières lignes, soit 2 pays différents\n",
    "ggplot(df, aes(x = seq(100000), y)) +\n",
    "  geom_point(color=\"darkgreen\", alpha = 0.5, shape = 1) +\n",
    "  ggtitle('Résidus issus du modèle final') +\n",
    "  xlab(\"Résidus\")+\n",
    "  ylab(\"Valeur\")+\n",
    "  theme(plot.title = element_text(hjust = 0.5), legend.position = \"none\")\n",
    "ggsave(\"graphiques/dispersion_residus.png\", width = 11, height = 8)"
   ]
  },
  {
   "cell_type": "markdown",
   "metadata": {},
   "source": [
    "- On observe bien que la variance des résidus n'est pas la même d'un pays à l'autre ( et varie pour les individus d'un même pays)"
   ]
  },
  {
   "cell_type": "markdown",
   "metadata": {},
   "source": [
    "### Normalité des résidus"
   ]
  },
  {
   "cell_type": "code",
   "execution_count": 20,
   "metadata": {},
   "outputs": [
    {
     "data": {
      "text/plain": [
       "\n",
       "\tOne-sample Kolmogorov-Smirnov test\n",
       "\n",
       "data:  unique(anova_final$residuals)\n",
       "D = 0.016325, p-value < 2.2e-16\n",
       "alternative hypothesis: two-sided\n"
      ]
     },
     "metadata": {},
     "output_type": "display_data"
    }
   ],
   "source": [
    "#test de normalité des résidus\n",
    "ks.test(anova_final$residuals,\"pnorm\",mean(anova_final$residuals),sd(anova_final$residuals))"
   ]
  },
  {
   "cell_type": "markdown",
   "metadata": {},
   "source": [
    "- On rejette l'hypothèse de normalité des résidus au seuil 5% selon le test de Kolmogorov-Smirnov"
   ]
  },
  {
   "cell_type": "code",
   "execution_count": 11,
   "metadata": {},
   "outputs": [
    {
     "data": {
      "image/png": "[encoded data removed]",
      "text/plain": [
       "plot without title"
      ]
     },
     "metadata": {},
     "output_type": "display_data"
    }
   ],
   "source": [
    "#Affichage de la distribution des résidus\n",
    "df <- data.frame(x = anova_final$residuals)\n",
    "\n",
    "ggplot(df, aes(x)) +\n",
    "  geom_histogram(aes(y = stat(density)), , bins = 50, colour=\"black\", fill=\"darkgreen\", alpha = 0.7) +\n",
    "  stat_function(\n",
    "    fun = dnorm, \n",
    "    args = list(mean = mean(df$x), sd = sd(df$x)), \n",
    "    lwd = 1, alpha = 0.7, \n",
    "    col = 'red'\n",
    "  ) +\n",
    "  ggtitle('Distribution des résidus du modèle final') +\n",
    "  xlab(\"Résidus\")+\n",
    "  ylab(\"Fréquence\")+\n",
    "  theme(plot.title = element_text(hjust = 0.5), legend.position = \"none\")\n",
    "\n",
    "ggsave(\"graphiques/distrib_residus.png\", width = 11, height = 8)"
   ]
  },
  {
   "cell_type": "markdown",
   "metadata": {},
   "source": [
    "- On constate néanmoins que la distribution des résidus est cohérente avec une distribution normale, ce qui nous permet de valider le modèle"
   ]
  },
  {
   "cell_type": "code",
   "execution_count": null,
   "metadata": {},
   "outputs": [],
   "source": []
  }
 ],
 "metadata": {
  "kernelspec": {
   "display_name": "R",
   "language": "R",
   "name": "ir"
  },
  "language_info": {
   "codemirror_mode": "r",
   "file_extension": ".r",
   "mimetype": "text/x-r-source",
   "name": "R",
   "pygments_lexer": "r",
   "version": "3.6.1"
  }
 },
 "nbformat": 4,
 "nbformat_minor": 4
}
